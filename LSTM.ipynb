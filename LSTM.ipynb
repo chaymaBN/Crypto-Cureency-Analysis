{
  "nbformat": 4,
  "nbformat_minor": 0,
  "metadata": {
    "colab": {
      "name": "LSTM.ipynb",
      "provenance": []
    },
    "kernelspec": {
      "name": "python3",
      "display_name": "Python 3"
    }
  },
  "cells": [
    {
      "cell_type": "code",
      "metadata": {
        "id": "atf_kBnJQPwh",
        "outputId": "c39c1665-c768-416d-d7ab-077053f1cb52",
        "colab": {
          "base_uri": "https://localhost:8080/",
          "height": 71
        }
      },
      "source": [
        "import pandas as pd\n",
        "import time\n",
        "import matplotlib.pyplot as plt\n",
        "import datetime\n",
        "import numpy as np\n",
        "import gc\n",
        "!pip install -q keras\n",
        "import keras\n",
        "from keras.models import Sequential\n",
        "from keras.layers import Activation, Dense\n",
        "from keras.layers import LSTM\n",
        "from keras.layers import Dropout\n",
        "% matplotlib inline\n",
        "# import regular libraries \n",
        "import pandas as pd\n",
        "import numpy as np\n",
        "import matplotlib.pyplot as plt\n",
        "import matplotlib.pyplot as plt\n",
        "from datetime import datetime\n",
        "import time\n",
        "import pymongo\n",
        "import requests\n",
        "from pandas.io.json import json_normalize\n",
        "from statistics import stdev \n",
        "import json\n",
        "import math\n",
        "\n",
        "# from SciPy packages\n",
        "from statsmodels.tsa.stattools import adfuller # adfuller test\n",
        "from statsmodels.graphics.tsaplots import plot_acf # autocorellation plot\n",
        "from statsmodels.graphics.tsaplots import plot_pacf # partial autocorellation plot\n",
        "\n",
        "# math function\n",
        "from math import sqrt\n",
        "\n",
        "# evaluation metrics\n",
        "from sklearn.metrics import mean_squared_error\n",
        "\n",
        "# statistics models\n",
        "import statsmodels.api as sm\n",
        "from statsmodels.tsa.arima_model import ARIMA\n",
        "from statsmodels.tsa.statespace.sarimax import SARIMAX\n",
        "\n",
        "# libraries to filter warnings in some algorithms\n",
        "import warnings\n",
        "warnings.filterwarnings(\"ignore\")\n",
        "\n",
        "%tensorflow_version 2.x\n",
        "import json\n",
        "import requests\n",
        "from keras.models import Sequential\n",
        "from keras.layers import Activation, Dense, Dropout, LSTM\n",
        "import matplotlib.pyplot as plt\n",
        "import numpy as np\n",
        "import pandas as pd\n",
        "import seaborn as sns\n",
        "from sklearn.metrics import mean_absolute_error\n",
        "%matplotlib inline\n",
        "# import regular libraries \n",
        "from datetime import datetime\n",
        "import time\n",
        "import pymongo\n",
        "import requests\n",
        "from pandas.io.json import json_normalize\n",
        "from statistics import stdev \n",
        "import json\n",
        "\n",
        "# from SciPy packages\n",
        "from statsmodels.tsa.stattools import adfuller # adfuller test\n",
        "from statsmodels.graphics.tsaplots import plot_acf # autocorellation plot\n",
        "from statsmodels.graphics.tsaplots import plot_pacf # partial autocorellation plot\n",
        "\n",
        "# math function\n",
        "from math import sqrt\n",
        "\n",
        "# evaluation metrics\n",
        "from sklearn.metrics import mean_squared_error\n",
        "\n",
        "# statistics models\n",
        "import statsmodels.api as sm\n",
        "from statsmodels.tsa.arima_model import ARIMA\n",
        "from statsmodels.tsa.statespace.sarimax import SARIMAX\n",
        "\n",
        "# libraries to filter warnings in some algorithms\n",
        "import warnings\n",
        "warnings.filterwarnings(\"ignore\")\n",
        "from scipy import stats"
      ],
      "execution_count": null,
      "outputs": [
        {
          "output_type": "stream",
          "text": [
            "/usr/local/lib/python3.6/dist-packages/statsmodels/tools/_testing.py:19: FutureWarning: pandas.util.testing is deprecated. Use the functions in the public API at pandas.testing instead.\n",
            "  import pandas.util.testing as tm\n"
          ],
          "name": "stderr"
        }
      ]
    },
    {
      "cell_type": "code",
      "metadata": {
        "id": "M83yqRRqQbFv"
      },
      "source": [
        "myclient = pymongo.MongoClient(host = '139.162.167.213:27017',username=\"mongo-naascap\",password=\"n44$c4p\")\n",
        "cw = \"?api_key=XRSFO6KHEQC87X8UOYZJ\"\n",
        "\n",
        "ts='6h'\n",
        "market='coinbase-pro'\n",
        "quote='btc'\n",
        "\n",
        "\n",
        "\n",
        "def boxAsset(t,c):\n",
        "    cbp=myclient[\"Spot\"]\n",
        "    bn=cbp.collection_names()\n",
        "    l=[word.split(\"_\")[2] for word in bn if(word.startswith(t+\"_\"+c))]\n",
        "    l.sort()\n",
        "    return l\n",
        "\n",
        "def getAssetClose(t,c,a):\n",
        "    cbp=myclient[\"Spot\"]\n",
        "    db=cbp[t+\"_\"+c+\"_\"+a]\n",
        "    db=pd.DataFrame(list(db.find({},{\"_id\":1,\"close\":1}).sort(\"_id\",-1)))\n",
        "    db.rename(columns={'close':a},inplace=True)\n",
        "    db.index=[(datetime.fromtimestamp(i)) for i in db._id]\n",
        "    return db[a]\n",
        "\n",
        "\n",
        "def getMarketCloses(ts):\n",
        "    assets=boxAsset(ts,market)\n",
        "    closes=[getAssetClose(ts,market,asset) for asset in assets]\n",
        "    data = pd.concat(closes,join='outer',axis=1,sort=False)\n",
        "    date_format = \"%d/%m/%Y\"\n",
        "    date = datetime.strptime('01/01/2020', date_format)\n",
        "    data=data[[date<=dates for dates in data.index]]\n",
        "    return data\n",
        "\n",
        "\n",
        "def getColumns(TT):\n",
        "    df=pd.DataFrame([TT.columns,TT.columns]).T.set_axis(['id', 'name'], axis=1, inplace=False)\n",
        "    L=[0]*(len(df))\n",
        "    for i in (range(len(df))):\n",
        "        L[i]={'id':df[\"id\"][i],'name':df[\"name\"][i]}\n",
        "    return L\n",
        " \n",
        "def listToDropDown(l):\n",
        "    df=pd.DataFrame([l,l]).T.set_axis(['Value', 'Label'], axis=1, inplace=False)\n",
        "    df=df.sort_values(\"Value\").reset_index()\n",
        "    L=[0]*len(df)\n",
        "    for i in range(len(df)):\n",
        "        L[i]={'label':df[\"Label\"][i],'value':df[\"Value\"][i]}\n",
        "    return L\n",
        "\n",
        "\n",
        "\n",
        "\n",
        "def TableBaseFromSymbol():\n",
        "    URL=\"https://api.cryptowat.ch/pairs\"\n",
        "    res = requests.get(URL + cw)\n",
        "    T=json_normalize(json.loads(res.content.decode('utf-8'))[\"result\"])\n",
        "    T=T.loc[:,[\"symbol\",\"base.symbol\",\"quote.symbol\"]]\n",
        "    return T\n",
        "T = TableBaseFromSymbol()\n",
        "def BaseFromSymbol(T,sym):\n",
        "    if(sym in list(T.symbol)):\n",
        "        return T[\"base.symbol\"][T.symbol==sym].iloc[0]\n",
        "\n",
        "def QuoteFromSymbol(T,sym):\n",
        "    if(sym in list(T.symbol)):\n",
        "        return T[\"quote.symbol\"][T.symbol==sym].iloc[0]\n",
        "\n",
        "def getAllAssetCloseByTime(t):\n",
        "    cbp=myclient[\"Spot\"]\n",
        "    bn=cbp.collection_names()\n",
        "    bn=[word for word in bn if(word.split(\"_\")[1]== market and word.split(\"_\")[0]==t)]\n",
        "    df=pd.DataFrame()\n",
        "    l2=[]\n",
        "    l=list(set([word.split(\"_\")[2] for word in bn]))\n",
        "    TT=list(set([BaseFromSymbol(T,i) for i in l if(QuoteFromSymbol(T,i)) == quote]))\n",
        "    for asset in TT:\n",
        "        l1=[word for word in bn if(BaseFromSymbol(T,word.split(\"_\")[2])==asset and QuoteFromSymbol(T,word.split(\"_\")[2]) == quote)]\n",
        "        rr=[pd.DataFrame(list(cbp[i].find({},{ \"_id\": 1, \"close\": 1})),index=pd.DataFrame(list(cbp[i].find({},{ \"_id\": 1})))._id) for i in l1]\n",
        "        data = pd.concat([i[\"close\"] for i in rr],join='outer',axis=1,sort=False)\n",
        "        l2.append(data.mean(axis=1))\n",
        "\n",
        "    df=pd.concat(l2,axis=1)\n",
        "    df.columns=(TT)\n",
        "    df.index=[(datetime.fromtimestamp(i)) for i in df.index]\n",
        "    df = df.fillna(method = \"ffill\")\n",
        "    \n",
        "    return df\n",
        "\n",
        "def getAllAssetVolumeByTime(t):\n",
        "    cbp=myclient[\"Spot\"]\n",
        "    bn=cbp.collection_names()\n",
        "    bn=[word for word in bn if(word.split(\"_\")[1]== market and word.split(\"_\")[0]==t)]\n",
        "    df=pd.DataFrame()\n",
        "    l2=[]\n",
        "    l=list(set([word.split(\"_\")[2] for word in bn]))\n",
        "    TT=list(set([BaseFromSymbol(T,i) for i in l if(QuoteFromSymbol(T,i)) == quote]))\n",
        "    for asset in TT:\n",
        "        l1=[word for word in bn if(BaseFromSymbol(T,word.split(\"_\")[2])==asset and QuoteFromSymbol(T,word.split(\"_\")[2]) == quote)]\n",
        "        rr=[pd.DataFrame(list(cbp[i].find({},{ \"_id\": 1, \"volume_quote\": 1})),index=pd.DataFrame(list(cbp[i].find({},{ \"_id\": 1})))._id) for i in l1]\n",
        "        data = pd.concat([i[\"volume_quote\"] for i in rr],join='outer',axis=1,sort=False)\n",
        "        l2.append(data.mean(axis=1))\n",
        "\n",
        "    df=pd.concat(l2,axis=1)\n",
        "    df.columns=(TT)\n",
        "    df.index=[(datetime.fromtimestamp(i)) for i in df.index]\n",
        "    df = df.fillna(0)\n",
        "    \n",
        "    return df\n"
      ],
      "execution_count": null,
      "outputs": []
    },
    {
      "cell_type": "code",
      "metadata": {
        "id": "Wv3pBJLUQdZ0"
      },
      "source": [
        "market='coinbase-pro' #'kraken'\n",
        "quote='usd' #'btc'\n",
        "ts='1d' # '5m' '2h' '6h' '12h' '1d'\n",
        "df=getAllAssetCloseByTime(ts)\n",
        "df1=getAllAssetVolumeByTime('1d') "
      ],
      "execution_count": null,
      "outputs": []
    },
    {
      "cell_type": "code",
      "metadata": {
        "id": "l5QOwgx8QfV4"
      },
      "source": [
        "def get_Close_data(df1,ch):\n",
        "    df=df1[[ch]]\n",
        "    x=len(df)%7 \n",
        "    df=df.drop(df.index[0:x])\n",
        "    return df"
      ],
      "execution_count": null,
      "outputs": []
    },
    {
      "cell_type": "code",
      "metadata": {
        "id": "jAW5aTH6Qikd"
      },
      "source": [
        "da= get_Close_data(df1,'btc')"
      ],
      "execution_count": null,
      "outputs": []
    },
    {
      "cell_type": "code",
      "metadata": {
        "id": "nSqe9urzUewi"
      },
      "source": [
        "data=da[da.btc!=0]"
      ],
      "execution_count": null,
      "outputs": []
    },
    {
      "cell_type": "code",
      "metadata": {
        "id": "s-ZV33FvpPp-"
      },
      "source": [
        "#data.btc=data.btc/255"
      ],
      "execution_count": null,
      "outputs": []
    },
    {
      "cell_type": "code",
      "metadata": {
        "id": "2LirQqs8ca0s"
      },
      "source": [
        "# data=data.fillna(data.mean())"
      ],
      "execution_count": null,
      "outputs": []
    },
    {
      "cell_type": "code",
      "metadata": {
        "id": "IngZ5S19x07W",
        "outputId": "8fc933c1-b157-4526-bfa9-4b4e53ec18fe",
        "colab": {
          "base_uri": "https://localhost:8080/",
          "height": 204
        }
      },
      "source": [
        "data.head()"
      ],
      "execution_count": null,
      "outputs": [
        {
          "output_type": "execute_result",
          "data": {
            "text/html": [
              "<div>\n",
              "<style scoped>\n",
              "    .dataframe tbody tr th:only-of-type {\n",
              "        vertical-align: middle;\n",
              "    }\n",
              "\n",
              "    .dataframe tbody tr th {\n",
              "        vertical-align: top;\n",
              "    }\n",
              "\n",
              "    .dataframe thead th {\n",
              "        text-align: right;\n",
              "    }\n",
              "</style>\n",
              "<table border=\"1\" class=\"dataframe\">\n",
              "  <thead>\n",
              "    <tr style=\"text-align: right;\">\n",
              "      <th></th>\n",
              "      <th>btc</th>\n",
              "    </tr>\n",
              "  </thead>\n",
              "  <tbody>\n",
              "    <tr>\n",
              "      <th>2017-04-28</th>\n",
              "      <td>1359.98</td>\n",
              "    </tr>\n",
              "    <tr>\n",
              "      <th>2017-04-29</th>\n",
              "      <td>1380.42</td>\n",
              "    </tr>\n",
              "    <tr>\n",
              "      <th>2017-04-30</th>\n",
              "      <td>1369.49</td>\n",
              "    </tr>\n",
              "    <tr>\n",
              "      <th>2017-05-01</th>\n",
              "      <td>1391.11</td>\n",
              "    </tr>\n",
              "    <tr>\n",
              "      <th>2017-05-02</th>\n",
              "      <td>1465.09</td>\n",
              "    </tr>\n",
              "  </tbody>\n",
              "</table>\n",
              "</div>"
            ],
            "text/plain": [
              "                btc\n",
              "2017-04-28  1359.98\n",
              "2017-04-29  1380.42\n",
              "2017-04-30  1369.49\n",
              "2017-05-01  1391.11\n",
              "2017-05-02  1465.09"
            ]
          },
          "metadata": {
            "tags": []
          },
          "execution_count": 54
        }
      ]
    },
    {
      "cell_type": "code",
      "metadata": {
        "id": "Z5RP4dFOQkU4"
      },
      "source": [
        "def create_model_data(data):\n",
        "  \"\"\"\n",
        "  data: pandas data frame\n",
        "  drop unnecessary columns and revrse in descending order\n",
        "  return the pandas dataframe\n",
        "  \"\"\"\n",
        "  data = data[['Date'] + [coin + metric for coin in ['BTC_', 'ETH_'] for metric in ['Close', 'Volume']]]\n",
        "  data = data.sort_values(by='Date')\n",
        "  return data"
      ],
      "execution_count": null,
      "outputs": []
    },
    {
      "cell_type": "code",
      "metadata": {
        "id": "6UfstNrIQ-zf"
      },
      "source": [
        "def split_data(data, training_size = 0.8):\n",
        "  # Returns train and test data set\n",
        "  return data[:int(training_size * len(data))], data[int(training_size * len(data)):]"
      ],
      "execution_count": null,
      "outputs": []
    },
    {
      "cell_type": "code",
      "metadata": {
        "id": "fAAdYZ0yRDDw"
      },
      "source": [
        "window_len = 30\n",
        "def create_inputs(data, coins=['btc'], window_length=window_len):\n",
        "  norm_cols = [coin for coin in coins ]\n",
        "  inputs = []\n",
        "  for i in range(len(data) - window_length):\n",
        "    temp_set = data[i:(i + window_len)].copy()\n",
        "    inputs.append(temp_set)\n",
        "    for col in norm_cols:\n",
        "      inputs[i].loc[:, col] = inputs[i].loc[:, col] / inputs[i].loc[:, col].iloc[0] - 1  \n",
        "  return inputs"
      ],
      "execution_count": null,
      "outputs": []
    },
    {
      "cell_type": "code",
      "metadata": {
        "id": "aS-w1jDgRLdF"
      },
      "source": [
        "def create_outputs(data, coin, window_length=window_len):\n",
        "  return (data[coin][window_len:].values / data[coin][:-window_len].values) - 1"
      ],
      "execution_count": null,
      "outputs": []
    },
    {
      "cell_type": "code",
      "metadata": {
        "id": "TDLmu3a2RO4K"
      },
      "source": [
        "def to_array(data):\n",
        "  x = [np.array(data[i]) for i in range(len(data))]\n",
        "  return np.array(x)"
      ],
      "execution_count": null,
      "outputs": []
    },
    {
      "cell_type": "code",
      "metadata": {
        "id": "dl9yWpxGRQ1p"
      },
      "source": [
        "neurons = 512\n",
        "activation_function = 'tanh'\n",
        "loss = 'mse'\n",
        "optimizer='adam'\n",
        "dropout = 0.25\n",
        "batch_size = 128\n",
        "epochs =53\n",
        "def build_model(inputs, output_size, neurons, activ_fun=activation_function, dropout=dropout, loss=loss, optimizer=optimizer):\n",
        "  model = Sequential()\n",
        "  model.add(LSTM(neurons, return_sequences = True, input_shape=(inputs.shape[1], inputs.shape[2]), activation=activ_fun))\n",
        "  model.add(Dropout(dropout))\n",
        "  model.add(LSTM(neurons, return_sequences=True, activation=activ_fun))\n",
        "  model.add(Dropout(dropout))\n",
        "  model.add(LSTM(neurons, return_sequences=True, activation=activ_fun))\n",
        "  model.add(Dropout(dropout))\n",
        "  model.add(LSTM(neurons, activation=activ_fun))\n",
        "  model.add(Dropout(dropout))\n",
        "  model.add(Dense(units=output_size))\n",
        "  model.add(Activation(activ_fun))\n",
        "  model.compile(loss=loss, optimizer=optimizer, metrics=['mae'])\n",
        "  model.summary()\n",
        "  return model"
      ],
      "execution_count": null,
      "outputs": []
    },
    {
      "cell_type": "code",
      "metadata": {
        "id": "4QLtxA6fRVT4"
      },
      "source": [
        "def show_plot(data, tag):\n",
        "  fig, (ax1, ax2) = plt.subplots(2,1, gridspec_kw = {'height_ratios':[3, 1]})\n",
        "  ax1.set_ylabel('Closing Price ($)',fontsize=12)\n",
        "  ax2.set_ylabel('Volume ($ bn)',fontsize=12)\n",
        "  ax2.set_yticks([int('%d000000000'%i) for i in range(10)])\n",
        "  ax2.set_yticklabels(range(10))\n",
        "  ax1.set_xticks([datetime.date(i,j,1) for i in range(2013,2019) for j in [1,7]])\n",
        "  ax1.set_xticklabels('')\n",
        "  ax2.set_xticks([datetime.date(i,j,1) for i in range(2013,2019) for j in [1,7]])\n",
        "  ax2.set_xticklabels([datetime.date(i,j,1).strftime('%b %Y')  for i in range(2013,2019) for j in [1,7]])\n",
        "  ax1.plot(data['Date'].astype(datetime.datetime),data[tag +'_Open'])\n",
        "  ax2.bar(data['Date'].astype(datetime.datetime).values, data[tag +'_Volume'].values)\n",
        "  fig.tight_layout()\n",
        "  plt.show()\n",
        "  \n",
        "\n",
        "def date_labels():\n",
        "  last_date = market_data.iloc[0, 0]\n",
        "  date_list = [last_date - datetime.timedelta(days=x) for x in range(len(x_test))]\n",
        "  return[date.strftime('%m/%d/%Y') for date in date_list][::-1]\n",
        "\n",
        "\n",
        "def plot_results(history, model, Y_target, coin):\n",
        "  plt.figure(figsize=(25, 20))\n",
        "  plt.subplot(311)\n",
        "  plt.plot(history.epoch, history.history['loss'], )\n",
        "  plt.plot(history.epoch, history.history['val_loss'])\n",
        "  plt.xlabel('Number of Epochs')\n",
        "  plt.ylabel('Loss')\n",
        "  plt.title(coin + ' Model Loss')\n",
        "  plt.legend(['Training', 'Test'])\n",
        "\n",
        "  plt.subplot(312)\n",
        "  plt.plot(Y_target)\n",
        "  plt.plot(model.predict(x_train))\n",
        "  plt.xlabel('Dates')\n",
        "  plt.ylabel('Price')\n",
        "  plt.title(coin + ' Single Point Price Prediction on Training Set')\n",
        "  plt.legend(['Actual','Predicted'])\n",
        "\n",
        "  ax1 = plt.subplot(313)\n",
        "  plt.plot(test_set[coin + '_Close'][window_len:].values.tolist())\n",
        "  plt.plot(((np.transpose(model.predict(x_test)) + 1) * test_set[coin + '_Close'].values[:-window_len])[0])\n",
        "  plt.xlabel('Dates')\n",
        "  plt.ylabel('Price')\n",
        "  plt.title(coin + ' Single Point Price Prediction on Test Set')\n",
        "  plt.legend(['Actual','Predicted'])\n",
        "  \n",
        "  date_list = date_labels()\n",
        "  ax1.set_xticks([x for x in range(len(date_list))])\n",
        "  for label in ax1.set_xticklabels([date for date in date_list], rotation='vertical')[::2]:\n",
        "    label.set_visible(False)\n",
        "\n",
        "  plt.show()"
      ],
      "execution_count": null,
      "outputs": []
    },
    {
      "cell_type": "code",
      "metadata": {
        "id": "Ru8yerjjRh2q"
      },
      "source": [
        "# show_plot(data, tag='BTC')"
      ],
      "execution_count": null,
      "outputs": []
    },
    {
      "cell_type": "code",
      "metadata": {
        "id": "2aCdVpbmRl8V",
        "outputId": "c2c416bb-3905-48e1-8b6d-57bbb60932c4",
        "colab": {
          "base_uri": "https://localhost:8080/",
          "height": 309
        }
      },
      "source": [
        "#model_data = create_model_data(data)\n",
        "train_set, test_set = split_data(data)\n",
        "data.head()"
      ],
      "execution_count": null,
      "outputs": [
        {
          "output_type": "execute_result",
          "data": {
            "text/html": [
              "<div>\n",
              "<style scoped>\n",
              "    .dataframe tbody tr th:only-of-type {\n",
              "        vertical-align: middle;\n",
              "    }\n",
              "\n",
              "    .dataframe tbody tr th {\n",
              "        vertical-align: top;\n",
              "    }\n",
              "\n",
              "    .dataframe thead th {\n",
              "        text-align: right;\n",
              "    }\n",
              "</style>\n",
              "<table border=\"1\" class=\"dataframe\">\n",
              "  <thead>\n",
              "    <tr style=\"text-align: right;\">\n",
              "      <th></th>\n",
              "      <th>xlm</th>\n",
              "      <th>comp</th>\n",
              "      <th>oxt</th>\n",
              "      <th>algo</th>\n",
              "      <th>xtz</th>\n",
              "      <th>eos</th>\n",
              "      <th>mkr</th>\n",
              "      <th>atom</th>\n",
              "      <th>link</th>\n",
              "      <th>knc</th>\n",
              "      <th>dai</th>\n",
              "      <th>rep</th>\n",
              "      <th>eth</th>\n",
              "      <th>band</th>\n",
              "      <th>etc</th>\n",
              "      <th>bch</th>\n",
              "      <th>btc</th>\n",
              "      <th>xrp</th>\n",
              "      <th>omg</th>\n",
              "      <th>nmr</th>\n",
              "      <th>dash</th>\n",
              "      <th>zrx</th>\n",
              "      <th>ltc</th>\n",
              "    </tr>\n",
              "  </thead>\n",
              "  <tbody>\n",
              "    <tr>\n",
              "      <th>2015-01-27</th>\n",
              "      <td>2.442838e+06</td>\n",
              "      <td>2.398809e+06</td>\n",
              "      <td>2.293358e+06</td>\n",
              "      <td>1.390655e+06</td>\n",
              "      <td>5.429528e+06</td>\n",
              "      <td>1.535803e+06</td>\n",
              "      <td>1.610424e+06</td>\n",
              "      <td>1.305730e+06</td>\n",
              "      <td>1.100688e+07</td>\n",
              "      <td>4.968220e+06</td>\n",
              "      <td>892060.376799</td>\n",
              "      <td>755802.017149</td>\n",
              "      <td>4.520274e+07</td>\n",
              "      <td>2.072400e+06</td>\n",
              "      <td>1.997273e+06</td>\n",
              "      <td>1.417155e+07</td>\n",
              "      <td>1.137102e+08</td>\n",
              "      <td>8.847544e+06</td>\n",
              "      <td>5.959552e+06</td>\n",
              "      <td>1.009167e+06</td>\n",
              "      <td>886879.499943</td>\n",
              "      <td>1.636409e+06</td>\n",
              "      <td>3.034967e+07</td>\n",
              "    </tr>\n",
              "    <tr>\n",
              "      <th>2015-01-28</th>\n",
              "      <td>2.442838e+06</td>\n",
              "      <td>2.398809e+06</td>\n",
              "      <td>2.293358e+06</td>\n",
              "      <td>1.390655e+06</td>\n",
              "      <td>5.429528e+06</td>\n",
              "      <td>1.535803e+06</td>\n",
              "      <td>1.610424e+06</td>\n",
              "      <td>1.305730e+06</td>\n",
              "      <td>1.100688e+07</td>\n",
              "      <td>4.968220e+06</td>\n",
              "      <td>892060.376799</td>\n",
              "      <td>755802.017149</td>\n",
              "      <td>4.520274e+07</td>\n",
              "      <td>2.072400e+06</td>\n",
              "      <td>1.997273e+06</td>\n",
              "      <td>1.417155e+07</td>\n",
              "      <td>1.137102e+08</td>\n",
              "      <td>8.847544e+06</td>\n",
              "      <td>5.959552e+06</td>\n",
              "      <td>1.009167e+06</td>\n",
              "      <td>886879.499943</td>\n",
              "      <td>1.636409e+06</td>\n",
              "      <td>3.034967e+07</td>\n",
              "    </tr>\n",
              "    <tr>\n",
              "      <th>2015-01-29</th>\n",
              "      <td>2.442838e+06</td>\n",
              "      <td>2.398809e+06</td>\n",
              "      <td>2.293358e+06</td>\n",
              "      <td>1.390655e+06</td>\n",
              "      <td>5.429528e+06</td>\n",
              "      <td>1.535803e+06</td>\n",
              "      <td>1.610424e+06</td>\n",
              "      <td>1.305730e+06</td>\n",
              "      <td>1.100688e+07</td>\n",
              "      <td>4.968220e+06</td>\n",
              "      <td>892060.376799</td>\n",
              "      <td>755802.017149</td>\n",
              "      <td>4.520274e+07</td>\n",
              "      <td>2.072400e+06</td>\n",
              "      <td>1.997273e+06</td>\n",
              "      <td>1.417155e+07</td>\n",
              "      <td>1.137102e+08</td>\n",
              "      <td>8.847544e+06</td>\n",
              "      <td>5.959552e+06</td>\n",
              "      <td>1.009167e+06</td>\n",
              "      <td>886879.499943</td>\n",
              "      <td>1.636409e+06</td>\n",
              "      <td>3.034967e+07</td>\n",
              "    </tr>\n",
              "    <tr>\n",
              "      <th>2015-01-30</th>\n",
              "      <td>2.442838e+06</td>\n",
              "      <td>2.398809e+06</td>\n",
              "      <td>2.293358e+06</td>\n",
              "      <td>1.390655e+06</td>\n",
              "      <td>5.429528e+06</td>\n",
              "      <td>1.535803e+06</td>\n",
              "      <td>1.610424e+06</td>\n",
              "      <td>1.305730e+06</td>\n",
              "      <td>1.100688e+07</td>\n",
              "      <td>4.968220e+06</td>\n",
              "      <td>892060.376799</td>\n",
              "      <td>755802.017149</td>\n",
              "      <td>4.520274e+07</td>\n",
              "      <td>2.072400e+06</td>\n",
              "      <td>1.997273e+06</td>\n",
              "      <td>1.417155e+07</td>\n",
              "      <td>1.137102e+08</td>\n",
              "      <td>8.847544e+06</td>\n",
              "      <td>5.959552e+06</td>\n",
              "      <td>1.009167e+06</td>\n",
              "      <td>886879.499943</td>\n",
              "      <td>1.636409e+06</td>\n",
              "      <td>3.034967e+07</td>\n",
              "    </tr>\n",
              "    <tr>\n",
              "      <th>2015-01-31</th>\n",
              "      <td>2.442838e+06</td>\n",
              "      <td>2.398809e+06</td>\n",
              "      <td>2.293358e+06</td>\n",
              "      <td>1.390655e+06</td>\n",
              "      <td>5.429528e+06</td>\n",
              "      <td>1.535803e+06</td>\n",
              "      <td>1.610424e+06</td>\n",
              "      <td>1.305730e+06</td>\n",
              "      <td>1.100688e+07</td>\n",
              "      <td>4.968220e+06</td>\n",
              "      <td>892060.376799</td>\n",
              "      <td>755802.017149</td>\n",
              "      <td>4.520274e+07</td>\n",
              "      <td>2.072400e+06</td>\n",
              "      <td>1.997273e+06</td>\n",
              "      <td>1.417155e+07</td>\n",
              "      <td>1.137102e+08</td>\n",
              "      <td>8.847544e+06</td>\n",
              "      <td>5.959552e+06</td>\n",
              "      <td>1.009167e+06</td>\n",
              "      <td>886879.499943</td>\n",
              "      <td>1.636409e+06</td>\n",
              "      <td>3.034967e+07</td>\n",
              "    </tr>\n",
              "  </tbody>\n",
              "</table>\n",
              "</div>"
            ],
            "text/plain": [
              "                     xlm          comp  ...           zrx           ltc\n",
              "2015-01-27  2.442838e+06  2.398809e+06  ...  1.636409e+06  3.034967e+07\n",
              "2015-01-28  2.442838e+06  2.398809e+06  ...  1.636409e+06  3.034967e+07\n",
              "2015-01-29  2.442838e+06  2.398809e+06  ...  1.636409e+06  3.034967e+07\n",
              "2015-01-30  2.442838e+06  2.398809e+06  ...  1.636409e+06  3.034967e+07\n",
              "2015-01-31  2.442838e+06  2.398809e+06  ...  1.636409e+06  3.034967e+07\n",
              "\n",
              "[5 rows x 23 columns]"
            ]
          },
          "metadata": {
            "tags": []
          },
          "execution_count": 49
        }
      ]
    },
    {
      "cell_type": "code",
      "metadata": {
        "id": "J7T0_lQZR5EN"
      },
      "source": [
        "x_train = create_inputs(train_set)\n",
        "y_train_btc = create_outputs(train_set, coin='btc')\n",
        "x_test = create_inputs(test_set)\n",
        "y_test_btc = create_outputs(test_set, coin='btc')\n",
        "x_train, x_test = to_array(x_train), to_array(x_test)\n"
      ],
      "execution_count": null,
      "outputs": []
    },
    {
      "cell_type": "code",
      "metadata": {
        "id": "3nmnhFTHyaZ-"
      },
      "source": [
        "gc.collect()\n",
        "np.random.seed(202)\n",
        "btc_model = build_model(x_train, output_size=1, neurons=neurons)\n",
        "btc_history = btc_model.fit(x_train, y_train_btc, epochs=epochs, batch_size=batch_size, verbose=1, validation_data=(x_test, y_test_btc), shuffle=False)"
      ],
      "execution_count": null,
      "outputs": []
    },
    {
      "cell_type": "code",
      "metadata": {
        "id": "4uvwxBrFTVOa"
      },
      "source": [
        "plot_results(btc_history, btc_model, y_train_btc, coin='BTC')"
      ],
      "execution_count": null,
      "outputs": []
    },
    {
      "cell_type": "code",
      "metadata": {
        "id": "TGSMhCMCVXyT"
      },
      "source": [
        ""
      ],
      "execution_count": null,
      "outputs": []
    },
    {
      "cell_type": "code",
      "metadata": {
        "id": "4vicJ5M0zW5M"
      },
      "source": [
        ""
      ],
      "execution_count": null,
      "outputs": []
    },
    {
      "cell_type": "code",
      "metadata": {
        "id": "_6ZXAaldzW71"
      },
      "source": [
        ""
      ],
      "execution_count": null,
      "outputs": []
    },
    {
      "cell_type": "code",
      "metadata": {
        "id": "QaC9hbcyzW-K"
      },
      "source": [
        ""
      ],
      "execution_count": null,
      "outputs": []
    },
    {
      "cell_type": "code",
      "metadata": {
        "id": "Co0kMKRMzXAt"
      },
      "source": [
        ""
      ],
      "execution_count": null,
      "outputs": []
    },
    {
      "cell_type": "code",
      "metadata": {
        "id": "MduX9S1hzXDR",
        "outputId": "31a9a750-6cd5-401f-e892-f5cd322ded11",
        "colab": {
          "base_uri": "https://localhost:8080/",
          "height": 17
        }
      },
      "source": [
        "from math import sqrt\n",
        "from numpy import concatenate\n",
        "from matplotlib import pyplot\n",
        "import pandas as pd\n",
        "from datetime import datetime\n",
        "from sklearn.preprocessing import MinMaxScaler\n",
        "from sklearn.preprocessing import LabelEncoder\n",
        "from sklearn.metrics import mean_squared_error\n",
        "from keras.models import Sequential\n",
        "from keras.layers import Dense\n",
        "from keras.layers import LSTM\n",
        "import plotly.offline as py\n",
        "import plotly.graph_objs as go\n",
        "import numpy as np\n",
        "import seaborn as sns\n",
        "py.init_notebook_mode(connected=True)\n",
        "%matplotlib inline"
      ],
      "execution_count": null,
      "outputs": [
        {
          "output_type": "display_data",
          "data": {
            "text/html": [
              "        <script type=\"text/javascript\">\n",
              "        window.PlotlyConfig = {MathJaxConfig: 'local'};\n",
              "        if (window.MathJax) {MathJax.Hub.Config({SVG: {font: \"STIX-Web\"}});}\n",
              "        if (typeof require !== 'undefined') {\n",
              "        require.undef(\"plotly\");\n",
              "        requirejs.config({\n",
              "            paths: {\n",
              "                'plotly': ['https://cdn.plot.ly/plotly-latest.min']\n",
              "            }\n",
              "        });\n",
              "        require(['plotly'], function(Plotly) {\n",
              "            window._Plotly = Plotly;\n",
              "        });\n",
              "        }\n",
              "        </script>\n",
              "        "
            ]
          },
          "metadata": {
            "tags": []
          }
        }
      ]
    },
    {
      "cell_type": "code",
      "metadata": {
        "id": "yvYUKfeZz4Oe",
        "outputId": "fa32decb-de66-4f72-acf8-0fe36df912b4",
        "colab": {
          "base_uri": "https://localhost:8080/",
          "height": 204
        }
      },
      "source": [
        "data.head()"
      ],
      "execution_count": null,
      "outputs": [
        {
          "output_type": "execute_result",
          "data": {
            "text/html": [
              "<div>\n",
              "<style scoped>\n",
              "    .dataframe tbody tr th:only-of-type {\n",
              "        vertical-align: middle;\n",
              "    }\n",
              "\n",
              "    .dataframe tbody tr th {\n",
              "        vertical-align: top;\n",
              "    }\n",
              "\n",
              "    .dataframe thead th {\n",
              "        text-align: right;\n",
              "    }\n",
              "</style>\n",
              "<table border=\"1\" class=\"dataframe\">\n",
              "  <thead>\n",
              "    <tr style=\"text-align: right;\">\n",
              "      <th></th>\n",
              "      <th>btc</th>\n",
              "    </tr>\n",
              "  </thead>\n",
              "  <tbody>\n",
              "    <tr>\n",
              "      <th>2017-04-28</th>\n",
              "      <td>1359.98</td>\n",
              "    </tr>\n",
              "    <tr>\n",
              "      <th>2017-04-29</th>\n",
              "      <td>1380.42</td>\n",
              "    </tr>\n",
              "    <tr>\n",
              "      <th>2017-04-30</th>\n",
              "      <td>1369.49</td>\n",
              "    </tr>\n",
              "    <tr>\n",
              "      <th>2017-05-01</th>\n",
              "      <td>1391.11</td>\n",
              "    </tr>\n",
              "    <tr>\n",
              "      <th>2017-05-02</th>\n",
              "      <td>1465.09</td>\n",
              "    </tr>\n",
              "  </tbody>\n",
              "</table>\n",
              "</div>"
            ],
            "text/plain": [
              "                btc\n",
              "2017-04-28  1359.98\n",
              "2017-04-29  1380.42\n",
              "2017-04-30  1369.49\n",
              "2017-05-01  1391.11\n",
              "2017-05-02  1465.09"
            ]
          },
          "metadata": {
            "tags": []
          },
          "execution_count": 59
        }
      ]
    },
    {
      "cell_type": "code",
      "metadata": {
        "id": "1THqMVYHzXGg",
        "outputId": "a42c0b22-1f73-4532-8828-684b78d2e6bf",
        "colab": {
          "base_uri": "https://localhost:8080/",
          "height": 542
        }
      },
      "source": [
        "btc_trace = go.Scatter(x=data.index, y=data['btc'], name= 'Price')\n",
        "py.iplot([btc_trace])"
      ],
      "execution_count": null,
      "outputs": [
        {
          "output_type": "display_data",
          "data": {
            "text/html": [
              "<div>\n",
              "        \n",
              "        \n",
              "            <div id=\"5aaf3bea-3360-4a2f-ae06-308849887c38\" class=\"plotly-graph-div\" style=\"height:525px; width:100%;\"></div>\n",
              "            <script type=\"text/javascript\">\n",
              "                require([\"plotly\"], function(Plotly) {\n",
              "                    window.PLOTLYENV=window.PLOTLYENV || {};\n",
              "                    \n",
              "                if (document.getElementById(\"5aaf3bea-3360-4a2f-ae06-308849887c38\")) {\n",
              "                    Plotly.newPlot(\n",
              "                        '5aaf3bea-3360-4a2f-ae06-308849887c38',\n",
              "                        [{\"name\": \"Price\", \"type\": \"scatter\", \"x\": [\"2017-04-28T00:00:00\", \"2017-04-29T00:00:00\", \"2017-04-30T00:00:00\", \"2017-05-01T00:00:00\", \"2017-05-02T00:00:00\", \"2017-05-03T00:00:00\", \"2017-05-04T00:00:00\", \"2017-05-05T00:00:00\", \"2017-05-06T00:00:00\", \"2017-05-07T00:00:00\", \"2017-05-08T00:00:00\", \"2017-05-09T00:00:00\", \"2017-05-10T00:00:00\", \"2017-05-11T00:00:00\", \"2017-05-12T00:00:00\", \"2017-05-13T00:00:00\", \"2017-05-14T00:00:00\", \"2017-05-15T00:00:00\", \"2017-05-16T00:00:00\", \"2017-05-17T00:00:00\", \"2017-05-18T00:00:00\", \"2017-05-19T00:00:00\", \"2017-05-20T00:00:00\", \"2017-05-21T00:00:00\", \"2017-05-22T00:00:00\", \"2017-05-23T00:00:00\", \"2017-05-24T00:00:00\", \"2017-05-25T00:00:00\", \"2017-05-26T00:00:00\", \"2017-05-27T00:00:00\", \"2017-05-28T00:00:00\", \"2017-05-29T00:00:00\", \"2017-05-30T00:00:00\", \"2017-05-31T00:00:00\", \"2017-06-01T00:00:00\", \"2017-06-02T00:00:00\", \"2017-11-21T00:00:00\", \"2017-11-22T00:00:00\", \"2017-11-23T00:00:00\", \"2017-11-24T00:00:00\", \"2017-11-25T00:00:00\", \"2017-11-26T00:00:00\", \"2017-11-27T00:00:00\", \"2017-11-28T00:00:00\", \"2017-11-29T00:00:00\", \"2017-11-30T00:00:00\", \"2017-12-01T00:00:00\", \"2017-12-02T00:00:00\", \"2017-12-03T00:00:00\", \"2017-12-04T00:00:00\", \"2017-12-05T00:00:00\", \"2017-12-06T00:00:00\", \"2017-12-07T00:00:00\", \"2017-12-08T00:00:00\", \"2017-12-09T00:00:00\", \"2017-12-10T00:00:00\", \"2017-12-11T00:00:00\", \"2017-12-12T00:00:00\", \"2017-12-13T00:00:00\", \"2017-12-14T00:00:00\", \"2017-12-15T00:00:00\", \"2017-12-16T00:00:00\", \"2017-12-17T00:00:00\", \"2017-12-18T00:00:00\", \"2017-12-19T00:00:00\", \"2017-12-20T00:00:00\", \"2017-12-21T00:00:00\", \"2017-12-22T00:00:00\", \"2017-12-23T00:00:00\", \"2017-12-24T00:00:00\", \"2017-12-25T00:00:00\", \"2017-12-26T00:00:00\", \"2017-12-27T00:00:00\", \"2017-12-28T00:00:00\", \"2017-12-29T00:00:00\", \"2017-12-30T00:00:00\", \"2017-12-31T00:00:00\", \"2018-01-01T00:00:00\", \"2018-01-02T00:00:00\", \"2018-01-03T00:00:00\", \"2018-01-04T00:00:00\", \"2018-01-05T00:00:00\", \"2018-01-06T00:00:00\", \"2018-01-07T00:00:00\", \"2018-01-08T00:00:00\", \"2018-01-09T00:00:00\", \"2018-01-10T00:00:00\", \"2018-01-11T00:00:00\", \"2018-01-12T00:00:00\", \"2018-01-13T00:00:00\", \"2018-01-14T00:00:00\", \"2018-01-15T00:00:00\", \"2018-01-16T00:00:00\", \"2018-01-17T00:00:00\", \"2018-01-18T00:00:00\", \"2018-01-19T00:00:00\", \"2018-01-20T00:00:00\", \"2018-01-21T00:00:00\", \"2018-01-22T00:00:00\", \"2018-01-23T00:00:00\", \"2018-01-24T00:00:00\", \"2018-01-25T00:00:00\", \"2018-01-26T00:00:00\", \"2018-01-27T00:00:00\", \"2018-01-28T00:00:00\", \"2018-01-29T00:00:00\", \"2018-01-30T00:00:00\", \"2018-01-31T00:00:00\", \"2018-02-01T00:00:00\", \"2018-02-02T00:00:00\", \"2018-02-03T00:00:00\", \"2018-02-04T00:00:00\", \"2018-02-05T00:00:00\", \"2018-02-06T00:00:00\", \"2018-02-07T00:00:00\", \"2018-02-08T00:00:00\", \"2018-02-09T00:00:00\", \"2018-02-10T00:00:00\", \"2018-02-11T00:00:00\", \"2018-02-12T00:00:00\", \"2018-02-13T00:00:00\", \"2018-02-14T00:00:00\", \"2018-02-15T00:00:00\", \"2018-02-16T00:00:00\", \"2018-02-17T00:00:00\", \"2018-02-18T00:00:00\", \"2018-02-19T00:00:00\", \"2018-02-20T00:00:00\", \"2018-02-21T00:00:00\", \"2018-02-22T00:00:00\", \"2018-02-23T00:00:00\", \"2018-02-24T00:00:00\", \"2018-02-25T00:00:00\", \"2018-02-26T00:00:00\", \"2018-02-27T00:00:00\", \"2018-02-28T00:00:00\", \"2018-03-01T00:00:00\", \"2018-03-02T00:00:00\", \"2018-03-03T00:00:00\", \"2018-03-04T00:00:00\", \"2018-03-05T00:00:00\", \"2018-03-06T00:00:00\", \"2018-03-07T00:00:00\", \"2018-03-08T00:00:00\", \"2018-03-09T00:00:00\", \"2018-03-10T00:00:00\", \"2018-03-11T00:00:00\", \"2018-03-12T00:00:00\", \"2018-03-13T00:00:00\", \"2018-03-14T00:00:00\", \"2018-03-15T00:00:00\", \"2018-03-16T00:00:00\", \"2018-03-17T00:00:00\", \"2018-03-18T00:00:00\", \"2018-03-19T00:00:00\", \"2018-03-20T00:00:00\", \"2018-03-21T00:00:00\", \"2018-03-22T00:00:00\", \"2018-03-23T00:00:00\", \"2018-03-24T00:00:00\", \"2018-03-25T00:00:00\", \"2018-03-26T00:00:00\", \"2018-03-27T00:00:00\", \"2018-03-28T00:00:00\", \"2018-03-29T00:00:00\", \"2018-03-30T00:00:00\", \"2018-03-31T00:00:00\", \"2018-04-01T00:00:00\", \"2018-04-02T00:00:00\", \"2018-04-03T00:00:00\", \"2018-04-04T00:00:00\", \"2018-04-05T00:00:00\", \"2018-04-06T00:00:00\", \"2018-04-07T00:00:00\", \"2018-04-08T00:00:00\", \"2018-04-09T00:00:00\", \"2018-04-10T00:00:00\", \"2018-04-11T00:00:00\", \"2018-04-12T00:00:00\", \"2018-04-13T00:00:00\", \"2018-04-14T00:00:00\", \"2018-04-15T00:00:00\", \"2018-04-16T00:00:00\", \"2018-04-17T00:00:00\", \"2018-04-18T00:00:00\", \"2018-04-19T00:00:00\", \"2018-04-20T00:00:00\", \"2018-04-21T00:00:00\", \"2018-04-22T00:00:00\", \"2018-04-23T00:00:00\", \"2018-04-24T00:00:00\", \"2018-04-25T00:00:00\", \"2018-04-26T00:00:00\", \"2018-04-27T00:00:00\", \"2018-04-28T00:00:00\", \"2018-04-29T00:00:00\", \"2018-04-30T00:00:00\", \"2018-05-01T00:00:00\", \"2018-05-02T00:00:00\", \"2018-05-03T00:00:00\", \"2018-05-04T00:00:00\", \"2018-05-05T00:00:00\", \"2018-05-06T00:00:00\", \"2018-05-07T00:00:00\", \"2018-05-08T00:00:00\", \"2018-05-09T00:00:00\", \"2018-05-10T00:00:00\", \"2018-05-11T00:00:00\", \"2018-05-12T00:00:00\", \"2018-05-13T00:00:00\", \"2018-05-14T00:00:00\", \"2018-05-15T00:00:00\", \"2018-05-16T00:00:00\", \"2018-05-17T00:00:00\", \"2018-05-18T00:00:00\", \"2018-05-19T00:00:00\", \"2018-05-20T00:00:00\", \"2018-05-21T00:00:00\", \"2018-05-22T00:00:00\", \"2018-05-23T00:00:00\", \"2018-05-24T00:00:00\", \"2018-05-25T00:00:00\", \"2018-05-26T00:00:00\", \"2018-05-27T00:00:00\", \"2018-05-28T00:00:00\", \"2018-05-29T00:00:00\", \"2018-05-30T00:00:00\", \"2018-05-31T00:00:00\", \"2018-06-01T00:00:00\", \"2018-06-02T00:00:00\", \"2018-06-03T00:00:00\", \"2018-06-04T00:00:00\", \"2018-06-05T00:00:00\", \"2018-06-06T00:00:00\", \"2018-06-07T00:00:00\", \"2018-06-08T00:00:00\", \"2018-06-09T00:00:00\", \"2018-06-10T00:00:00\", \"2018-06-11T00:00:00\", \"2018-06-12T00:00:00\", \"2018-06-13T00:00:00\", \"2018-06-14T00:00:00\", \"2018-06-15T00:00:00\", \"2018-06-16T00:00:00\", \"2018-06-17T00:00:00\", \"2018-06-18T00:00:00\", \"2018-06-19T00:00:00\", \"2018-06-20T00:00:00\", \"2018-06-21T00:00:00\", \"2018-06-22T00:00:00\", \"2018-06-23T00:00:00\", \"2018-06-24T00:00:00\", \"2018-06-25T00:00:00\", \"2018-06-26T00:00:00\", \"2018-06-27T00:00:00\", \"2018-06-28T00:00:00\", \"2018-06-29T00:00:00\", \"2018-06-30T00:00:00\", \"2018-07-01T00:00:00\", \"2018-07-02T00:00:00\", \"2018-07-03T00:00:00\", \"2018-07-04T00:00:00\", \"2018-07-05T00:00:00\", \"2018-07-06T00:00:00\", \"2018-07-07T00:00:00\", \"2018-07-08T00:00:00\", \"2018-07-09T00:00:00\", \"2018-07-10T00:00:00\", \"2018-07-11T00:00:00\", \"2018-07-12T00:00:00\", \"2018-07-13T00:00:00\", \"2018-07-14T00:00:00\", \"2018-07-15T00:00:00\", \"2018-07-16T00:00:00\", \"2018-07-17T00:00:00\", \"2018-07-18T00:00:00\", \"2018-07-19T00:00:00\", \"2018-07-20T00:00:00\", \"2018-07-21T00:00:00\", \"2018-07-22T00:00:00\", \"2018-07-23T00:00:00\", \"2018-07-24T00:00:00\", \"2018-07-25T00:00:00\", \"2018-07-26T00:00:00\", \"2018-07-27T00:00:00\", \"2018-07-28T00:00:00\", \"2018-07-29T00:00:00\", \"2018-07-30T00:00:00\", \"2018-07-31T00:00:00\", \"2018-08-01T00:00:00\", \"2018-08-02T00:00:00\", \"2018-08-03T00:00:00\", \"2018-08-04T00:00:00\", \"2018-08-05T00:00:00\", \"2018-08-06T00:00:00\", \"2018-08-07T00:00:00\", \"2018-08-08T00:00:00\", \"2018-08-09T00:00:00\", \"2018-08-10T00:00:00\", \"2018-08-11T00:00:00\", \"2018-08-12T00:00:00\", \"2018-08-13T00:00:00\", \"2018-08-14T00:00:00\", \"2018-08-15T00:00:00\", \"2018-08-16T00:00:00\", \"2018-08-17T00:00:00\", \"2018-08-18T00:00:00\", \"2018-08-19T00:00:00\", \"2018-08-20T00:00:00\", \"2018-08-21T00:00:00\", \"2018-08-22T00:00:00\", \"2018-08-23T00:00:00\", \"2018-08-24T00:00:00\", \"2018-08-25T00:00:00\", \"2018-08-26T00:00:00\", \"2018-08-27T00:00:00\", \"2018-08-28T00:00:00\", \"2018-08-29T00:00:00\", \"2018-08-30T00:00:00\", \"2018-08-31T00:00:00\", \"2018-09-01T00:00:00\", \"2018-09-02T00:00:00\", \"2018-09-03T00:00:00\", \"2018-09-04T00:00:00\", \"2018-09-05T00:00:00\", \"2018-09-06T00:00:00\", \"2018-09-07T00:00:00\", \"2018-09-08T00:00:00\", \"2018-09-09T00:00:00\", \"2018-09-10T00:00:00\", \"2018-09-11T00:00:00\", \"2018-09-12T00:00:00\", \"2018-09-13T00:00:00\", \"2018-09-14T00:00:00\", \"2018-09-15T00:00:00\", \"2018-09-16T00:00:00\", \"2018-09-17T00:00:00\", \"2018-09-18T00:00:00\", \"2018-09-19T00:00:00\", \"2018-09-20T00:00:00\", \"2018-09-21T00:00:00\", \"2018-09-22T00:00:00\", \"2018-09-23T00:00:00\", \"2018-09-24T00:00:00\", \"2018-09-25T00:00:00\", \"2018-09-26T00:00:00\", \"2018-09-27T00:00:00\", \"2018-09-28T00:00:00\", \"2018-09-29T00:00:00\", \"2018-09-30T00:00:00\", \"2018-10-01T00:00:00\", \"2018-10-02T00:00:00\", \"2018-10-03T00:00:00\", \"2018-10-04T00:00:00\", \"2018-10-05T00:00:00\", \"2018-10-06T00:00:00\", \"2018-10-07T00:00:00\", \"2018-10-08T00:00:00\", \"2018-10-09T00:00:00\", \"2018-10-10T00:00:00\", \"2018-10-11T00:00:00\", \"2018-10-12T00:00:00\", \"2018-10-13T00:00:00\", \"2018-10-14T00:00:00\", \"2018-10-15T00:00:00\", \"2018-10-16T00:00:00\", \"2018-10-17T00:00:00\", \"2018-10-18T00:00:00\", \"2018-10-19T00:00:00\", \"2018-10-20T00:00:00\", \"2018-10-21T00:00:00\", \"2018-10-22T00:00:00\", \"2018-10-23T00:00:00\", \"2018-10-24T00:00:00\", \"2018-10-25T00:00:00\", \"2018-10-26T00:00:00\", \"2018-10-27T00:00:00\", \"2018-10-28T00:00:00\", \"2018-10-29T00:00:00\", \"2018-10-30T00:00:00\", \"2018-10-31T00:00:00\", \"2018-11-01T00:00:00\", \"2018-11-02T00:00:00\", \"2018-11-03T00:00:00\", \"2018-11-04T00:00:00\", \"2018-11-05T00:00:00\", \"2018-11-06T00:00:00\", \"2018-11-07T00:00:00\", \"2018-11-08T00:00:00\", \"2018-11-09T00:00:00\", \"2018-11-10T00:00:00\", \"2018-11-11T00:00:00\", \"2018-11-12T00:00:00\", \"2018-11-13T00:00:00\", \"2018-11-14T00:00:00\", \"2018-11-15T00:00:00\", \"2018-11-16T00:00:00\", \"2018-11-17T00:00:00\", \"2018-11-18T00:00:00\", \"2018-11-19T00:00:00\", \"2018-11-20T00:00:00\", \"2018-11-21T00:00:00\", \"2018-11-22T00:00:00\", \"2018-11-23T00:00:00\", \"2018-11-24T00:00:00\", \"2018-11-25T00:00:00\", \"2018-11-26T00:00:00\", \"2018-11-27T00:00:00\", \"2018-11-28T00:00:00\", \"2018-11-29T00:00:00\", \"2018-11-30T00:00:00\", \"2018-12-01T00:00:00\", \"2018-12-02T00:00:00\", \"2018-12-03T00:00:00\", \"2018-12-04T00:00:00\", \"2018-12-05T00:00:00\", \"2018-12-06T00:00:00\", \"2018-12-07T00:00:00\", \"2018-12-08T00:00:00\", \"2018-12-09T00:00:00\", \"2018-12-10T00:00:00\", \"2018-12-11T00:00:00\", \"2018-12-12T00:00:00\", \"2018-12-13T00:00:00\", \"2018-12-14T00:00:00\", \"2018-12-15T00:00:00\", \"2018-12-16T00:00:00\", \"2018-12-17T00:00:00\", \"2018-12-18T00:00:00\", \"2018-12-19T00:00:00\", \"2018-12-20T00:00:00\", \"2018-12-21T00:00:00\", \"2018-12-22T00:00:00\", \"2018-12-23T00:00:00\", \"2018-12-24T00:00:00\", \"2018-12-25T00:00:00\", \"2018-12-26T00:00:00\", \"2018-12-27T00:00:00\", \"2018-12-28T00:00:00\", \"2018-12-29T00:00:00\", \"2018-12-30T00:00:00\", \"2018-12-31T00:00:00\", \"2019-01-01T00:00:00\", \"2019-01-02T00:00:00\", \"2019-01-03T00:00:00\", \"2019-01-04T00:00:00\", \"2019-01-05T00:00:00\", \"2019-01-06T00:00:00\", \"2019-01-07T00:00:00\", \"2019-01-08T00:00:00\", \"2019-01-09T00:00:00\", \"2019-01-10T00:00:00\", \"2019-01-11T00:00:00\", \"2019-01-12T00:00:00\", \"2019-01-13T00:00:00\", \"2019-01-14T00:00:00\", \"2019-01-15T00:00:00\", \"2019-01-16T00:00:00\", \"2019-01-17T00:00:00\", \"2019-01-18T00:00:00\", \"2019-01-19T00:00:00\", \"2019-01-20T00:00:00\", \"2019-01-21T00:00:00\", \"2019-01-22T00:00:00\", \"2019-01-23T00:00:00\", \"2019-01-24T00:00:00\", \"2019-01-25T00:00:00\", \"2019-01-26T00:00:00\", \"2019-01-27T00:00:00\", \"2019-01-28T00:00:00\", \"2019-01-29T00:00:00\", \"2019-01-30T00:00:00\", \"2019-01-31T00:00:00\", \"2019-02-01T00:00:00\", \"2019-02-02T00:00:00\", \"2019-02-03T00:00:00\", \"2019-02-04T00:00:00\", \"2019-02-05T00:00:00\", \"2019-02-06T00:00:00\", \"2019-02-07T00:00:00\", \"2019-02-08T00:00:00\", \"2019-02-09T00:00:00\", \"2019-02-10T00:00:00\", \"2019-02-11T00:00:00\", \"2019-02-12T00:00:00\", \"2019-02-13T00:00:00\", \"2019-02-14T00:00:00\", \"2019-02-15T00:00:00\", \"2019-02-16T00:00:00\", \"2019-02-17T00:00:00\", \"2019-02-18T00:00:00\", \"2019-02-19T00:00:00\", \"2019-02-20T00:00:00\", \"2019-02-21T00:00:00\", \"2019-02-22T00:00:00\", \"2019-02-23T00:00:00\", \"2019-02-24T00:00:00\", \"2019-02-25T00:00:00\", \"2019-02-26T00:00:00\", \"2019-02-27T00:00:00\", \"2019-02-28T00:00:00\", \"2019-03-01T00:00:00\", \"2019-03-02T00:00:00\", \"2019-03-03T00:00:00\", \"2019-03-04T00:00:00\", \"2019-03-05T00:00:00\", \"2019-03-06T00:00:00\", \"2019-03-07T00:00:00\", \"2019-03-08T00:00:00\", \"2019-03-09T00:00:00\", \"2019-03-10T00:00:00\", \"2019-03-11T00:00:00\", \"2019-03-12T00:00:00\", \"2019-03-13T00:00:00\", \"2019-03-14T00:00:00\", \"2019-03-15T00:00:00\", \"2019-03-16T00:00:00\", \"2019-03-17T00:00:00\", \"2019-03-18T00:00:00\", \"2019-03-19T00:00:00\", \"2019-03-20T00:00:00\", \"2019-03-21T00:00:00\", \"2019-03-22T00:00:00\", \"2019-03-23T00:00:00\", \"2019-03-24T00:00:00\", \"2019-03-25T00:00:00\", \"2019-03-26T00:00:00\", \"2019-03-27T00:00:00\", \"2019-03-28T00:00:00\", \"2019-03-29T00:00:00\", \"2019-03-30T00:00:00\", \"2019-03-31T00:00:00\", \"2019-04-01T00:00:00\", \"2019-04-02T00:00:00\", \"2019-04-03T00:00:00\", \"2019-04-04T00:00:00\", \"2019-04-05T00:00:00\", \"2019-04-06T00:00:00\", \"2019-04-07T00:00:00\", \"2019-04-08T00:00:00\", \"2019-04-09T00:00:00\", \"2019-04-10T00:00:00\", \"2019-04-11T00:00:00\", \"2019-04-12T00:00:00\", \"2019-04-13T00:00:00\", \"2019-04-14T00:00:00\", \"2019-04-15T00:00:00\", \"2019-04-16T00:00:00\", \"2019-04-17T00:00:00\", \"2019-04-18T00:00:00\", \"2019-04-19T00:00:00\", \"2019-04-20T00:00:00\", \"2019-04-21T00:00:00\", \"2019-04-22T00:00:00\", \"2019-04-23T00:00:00\", \"2019-04-24T00:00:00\", \"2019-04-25T00:00:00\", \"2019-04-26T00:00:00\", \"2019-04-27T00:00:00\", \"2019-04-28T00:00:00\", \"2019-04-29T00:00:00\", \"2019-04-30T00:00:00\", \"2019-05-01T00:00:00\", \"2019-05-02T00:00:00\", \"2019-05-03T00:00:00\", \"2019-05-04T00:00:00\", \"2019-05-05T00:00:00\", \"2019-05-06T00:00:00\", \"2019-05-07T00:00:00\", \"2019-05-08T00:00:00\", \"2019-05-09T00:00:00\", \"2019-05-10T00:00:00\", \"2019-05-11T00:00:00\", \"2019-05-12T00:00:00\", \"2019-05-13T00:00:00\", \"2019-05-14T00:00:00\", \"2019-05-15T00:00:00\", \"2019-05-16T00:00:00\", \"2019-05-17T00:00:00\", \"2019-05-18T00:00:00\", \"2019-05-19T00:00:00\", \"2019-05-20T00:00:00\", \"2019-05-21T00:00:00\", \"2019-05-22T00:00:00\", \"2019-05-23T00:00:00\", \"2019-05-24T00:00:00\", \"2019-05-25T00:00:00\", \"2019-05-26T00:00:00\", \"2019-05-27T00:00:00\", \"2019-05-28T00:00:00\", \"2019-05-29T00:00:00\", \"2019-05-30T00:00:00\", \"2019-05-31T00:00:00\", \"2019-06-01T00:00:00\", \"2019-06-02T00:00:00\", \"2019-06-03T00:00:00\", \"2019-06-04T00:00:00\", \"2019-06-05T00:00:00\", \"2019-06-06T00:00:00\", \"2019-06-07T00:00:00\", \"2019-06-08T00:00:00\", \"2019-06-09T00:00:00\", \"2019-06-10T00:00:00\", \"2019-06-11T00:00:00\", \"2019-06-12T00:00:00\", \"2019-06-13T00:00:00\", \"2019-06-14T00:00:00\", \"2019-06-15T00:00:00\", \"2019-06-16T00:00:00\", \"2019-06-17T00:00:00\", \"2019-06-18T00:00:00\", \"2019-06-19T00:00:00\", \"2019-06-20T00:00:00\", \"2019-06-21T00:00:00\", \"2019-06-22T00:00:00\", \"2019-06-23T00:00:00\", \"2019-06-24T00:00:00\", \"2019-06-25T00:00:00\", \"2019-06-26T00:00:00\", \"2019-06-27T00:00:00\", \"2019-06-28T00:00:00\", \"2019-06-29T00:00:00\", \"2019-06-30T00:00:00\", \"2019-07-01T00:00:00\", \"2019-07-02T00:00:00\", \"2019-07-03T00:00:00\", \"2019-07-04T00:00:00\", \"2019-07-05T00:00:00\", \"2019-07-06T00:00:00\", \"2019-07-07T00:00:00\", \"2019-07-08T00:00:00\", \"2019-07-09T00:00:00\", \"2019-07-10T00:00:00\", \"2019-07-11T00:00:00\", \"2019-07-12T00:00:00\", \"2019-07-13T00:00:00\", \"2019-07-14T00:00:00\", \"2019-07-15T00:00:00\", \"2019-07-16T00:00:00\", \"2019-07-17T00:00:00\", \"2019-07-18T00:00:00\", \"2019-07-19T00:00:00\", \"2019-07-20T00:00:00\", \"2019-07-21T00:00:00\", \"2019-07-22T00:00:00\", \"2019-07-23T00:00:00\", \"2019-07-24T00:00:00\", \"2019-07-25T00:00:00\", \"2019-07-26T00:00:00\", \"2019-07-27T00:00:00\", \"2019-07-28T00:00:00\", \"2019-07-29T00:00:00\", \"2019-07-30T00:00:00\", \"2019-07-31T00:00:00\", \"2019-08-01T00:00:00\", \"2019-08-02T00:00:00\", \"2019-08-03T00:00:00\", \"2019-08-04T00:00:00\", \"2019-08-05T00:00:00\", \"2019-08-06T00:00:00\", \"2019-08-07T00:00:00\", \"2019-08-08T00:00:00\", \"2019-08-09T00:00:00\", \"2019-08-10T00:00:00\", \"2019-08-11T00:00:00\", \"2019-08-12T00:00:00\", \"2019-08-13T00:00:00\", \"2019-08-14T00:00:00\", \"2019-08-15T00:00:00\", \"2019-08-16T00:00:00\", \"2019-08-17T00:00:00\", \"2019-08-18T00:00:00\", \"2019-08-19T00:00:00\", \"2019-08-20T00:00:00\", \"2019-08-21T00:00:00\", \"2019-08-22T00:00:00\", \"2019-08-23T00:00:00\", \"2019-08-24T00:00:00\", \"2019-08-25T00:00:00\", \"2019-08-26T00:00:00\", \"2019-08-27T00:00:00\", \"2019-08-28T00:00:00\", \"2019-08-29T00:00:00\", \"2019-08-30T00:00:00\", \"2019-08-31T00:00:00\", \"2019-09-01T00:00:00\", \"2019-09-02T00:00:00\", \"2019-09-03T00:00:00\", \"2019-09-04T00:00:00\", \"2019-09-05T00:00:00\", \"2019-09-06T00:00:00\", \"2019-09-07T00:00:00\", \"2019-09-08T00:00:00\", \"2019-09-09T00:00:00\", \"2019-09-10T00:00:00\", \"2019-09-11T00:00:00\", \"2019-09-12T00:00:00\", \"2019-09-13T00:00:00\", \"2019-09-14T00:00:00\", \"2019-09-15T00:00:00\", \"2019-09-16T00:00:00\", \"2019-09-17T00:00:00\", \"2019-09-18T00:00:00\", \"2019-09-19T00:00:00\", \"2019-09-20T00:00:00\", \"2019-09-21T00:00:00\", \"2019-09-22T00:00:00\", \"2019-09-23T00:00:00\", \"2019-09-24T00:00:00\", \"2019-09-25T00:00:00\", \"2019-09-26T00:00:00\", \"2019-09-27T00:00:00\", \"2019-09-28T00:00:00\", \"2019-09-29T00:00:00\", \"2019-09-30T00:00:00\", \"2019-10-01T00:00:00\", \"2019-10-02T00:00:00\", \"2019-10-03T00:00:00\", \"2019-10-04T00:00:00\", \"2019-10-05T00:00:00\", \"2019-10-06T00:00:00\", \"2019-10-07T00:00:00\", \"2019-10-08T00:00:00\", \"2019-10-09T00:00:00\", \"2019-10-10T00:00:00\", \"2019-10-11T00:00:00\", \"2019-10-12T00:00:00\", \"2019-10-13T00:00:00\", \"2019-10-14T00:00:00\", \"2019-10-15T00:00:00\", \"2019-10-16T00:00:00\", \"2019-10-17T00:00:00\", \"2019-10-18T00:00:00\", \"2019-10-19T00:00:00\", \"2019-10-20T00:00:00\", \"2019-10-21T00:00:00\", \"2019-10-22T00:00:00\", \"2019-10-23T00:00:00\", \"2019-10-24T00:00:00\", \"2019-10-25T00:00:00\", \"2019-10-26T00:00:00\", \"2019-10-27T00:00:00\", \"2019-10-28T00:00:00\", \"2019-10-29T00:00:00\", \"2019-10-30T00:00:00\", \"2019-10-31T00:00:00\", \"2019-11-01T00:00:00\", \"2019-11-02T00:00:00\", \"2019-11-03T00:00:00\", \"2019-11-04T00:00:00\", \"2019-11-05T00:00:00\", \"2019-11-06T00:00:00\", \"2019-11-07T00:00:00\", \"2019-11-08T00:00:00\", \"2019-11-09T00:00:00\", \"2019-11-10T00:00:00\", \"2019-11-11T00:00:00\", \"2019-11-12T00:00:00\", \"2019-11-13T00:00:00\", \"2019-11-14T00:00:00\", \"2019-11-15T00:00:00\", \"2019-11-16T00:00:00\", \"2019-11-17T00:00:00\", \"2019-11-18T00:00:00\", \"2019-11-19T00:00:00\", \"2019-11-20T00:00:00\", \"2019-11-21T00:00:00\", \"2019-11-22T00:00:00\", \"2019-11-23T00:00:00\", \"2019-11-24T00:00:00\", \"2019-11-25T00:00:00\", \"2019-11-26T00:00:00\", \"2019-11-27T00:00:00\", \"2019-11-28T00:00:00\", \"2019-11-29T00:00:00\", \"2019-11-30T00:00:00\", \"2019-12-01T00:00:00\", \"2019-12-02T00:00:00\", \"2019-12-03T00:00:00\", \"2019-12-04T00:00:00\", \"2019-12-05T00:00:00\", \"2019-12-06T00:00:00\", \"2019-12-07T00:00:00\", \"2019-12-08T00:00:00\", \"2019-12-09T00:00:00\", \"2019-12-10T00:00:00\", \"2019-12-11T00:00:00\", \"2019-12-12T00:00:00\", \"2019-12-13T00:00:00\", \"2019-12-14T00:00:00\", \"2019-12-15T00:00:00\", \"2019-12-16T00:00:00\", \"2019-12-17T00:00:00\", \"2019-12-18T00:00:00\", \"2019-12-19T00:00:00\", \"2019-12-20T00:00:00\", \"2019-12-21T00:00:00\", \"2019-12-22T00:00:00\", \"2019-12-23T00:00:00\", \"2019-12-24T00:00:00\", \"2019-12-25T00:00:00\", \"2019-12-26T00:00:00\", \"2019-12-27T00:00:00\", \"2019-12-28T00:00:00\", \"2019-12-29T00:00:00\", \"2019-12-30T00:00:00\", \"2019-12-31T00:00:00\", \"2020-01-01T00:00:00\", \"2020-01-02T00:00:00\", \"2020-01-03T00:00:00\", \"2020-01-04T00:00:00\", \"2020-01-05T00:00:00\", \"2020-01-06T00:00:00\", \"2020-01-07T00:00:00\", \"2020-01-08T00:00:00\", \"2020-01-09T00:00:00\", \"2020-01-10T00:00:00\", \"2020-01-11T00:00:00\", \"2020-01-12T00:00:00\", \"2020-01-13T00:00:00\", \"2020-01-14T00:00:00\", \"2020-01-15T00:00:00\", \"2020-01-16T00:00:00\", \"2020-01-17T00:00:00\", \"2020-01-18T00:00:00\", \"2020-01-19T00:00:00\", \"2020-01-20T00:00:00\", \"2020-01-21T00:00:00\", \"2020-01-22T00:00:00\", \"2020-01-23T00:00:00\", \"2020-01-24T00:00:00\", \"2020-01-25T00:00:00\", \"2020-01-26T00:00:00\", \"2020-01-27T00:00:00\", \"2020-01-28T00:00:00\", \"2020-01-29T00:00:00\", \"2020-01-30T00:00:00\", \"2020-01-31T00:00:00\", \"2020-02-01T00:00:00\", \"2020-02-02T00:00:00\", \"2020-02-03T00:00:00\", \"2020-02-04T00:00:00\", \"2020-02-05T00:00:00\", \"2020-02-06T00:00:00\", \"2020-02-07T00:00:00\", \"2020-02-08T00:00:00\", \"2020-02-09T00:00:00\", \"2020-02-10T00:00:00\", \"2020-02-11T00:00:00\", \"2020-02-12T00:00:00\", \"2020-02-13T00:00:00\", \"2020-02-14T00:00:00\", \"2020-02-15T00:00:00\", \"2020-02-16T00:00:00\", \"2020-02-17T00:00:00\", \"2020-02-18T00:00:00\", \"2020-02-19T00:00:00\", \"2020-02-20T00:00:00\", \"2020-02-21T00:00:00\", \"2020-02-22T00:00:00\", \"2020-02-23T00:00:00\", \"2020-02-24T00:00:00\", \"2020-02-25T00:00:00\", \"2020-02-26T00:00:00\", \"2020-02-27T00:00:00\", \"2020-02-28T00:00:00\", \"2020-02-29T00:00:00\", \"2020-03-01T00:00:00\", \"2020-03-02T00:00:00\", \"2020-03-03T00:00:00\", \"2020-03-04T00:00:00\", \"2020-03-05T00:00:00\", \"2020-03-06T00:00:00\", \"2020-03-07T00:00:00\", \"2020-03-08T00:00:00\", \"2020-03-09T00:00:00\", \"2020-03-10T00:00:00\", \"2020-03-11T00:00:00\", \"2020-03-12T00:00:00\", \"2020-03-13T00:00:00\", \"2020-03-14T00:00:00\", \"2020-03-15T00:00:00\", \"2020-03-16T00:00:00\", \"2020-03-17T00:00:00\", \"2020-03-18T00:00:00\", \"2020-03-19T00:00:00\", \"2020-03-20T00:00:00\", \"2020-03-21T00:00:00\", \"2020-03-22T00:00:00\", \"2020-03-23T00:00:00\", \"2020-03-24T00:00:00\", \"2020-03-25T00:00:00\", \"2020-03-26T00:00:00\", \"2020-03-27T00:00:00\", \"2020-03-28T00:00:00\", \"2020-03-29T00:00:00\", \"2020-03-30T00:00:00\", \"2020-03-31T00:00:00\", \"2020-04-01T00:00:00\", \"2020-04-02T00:00:00\", \"2020-04-03T00:00:00\", \"2020-04-04T00:00:00\", \"2020-04-05T00:00:00\", \"2020-04-06T00:00:00\", \"2020-04-07T00:00:00\", \"2020-04-08T00:00:00\", \"2020-04-09T00:00:00\", \"2020-04-10T00:00:00\", \"2020-04-11T00:00:00\", \"2020-04-12T00:00:00\", \"2020-04-13T00:00:00\", \"2020-04-14T00:00:00\", \"2020-04-15T00:00:00\", \"2020-04-16T00:00:00\", \"2020-04-17T00:00:00\", \"2020-04-18T00:00:00\", \"2020-04-19T00:00:00\", \"2020-04-20T00:00:00\", \"2020-04-21T00:00:00\", \"2020-04-22T00:00:00\", \"2020-04-23T00:00:00\", \"2020-04-24T00:00:00\", \"2020-04-25T00:00:00\", \"2020-04-26T00:00:00\", \"2020-04-27T00:00:00\", \"2020-04-28T00:00:00\", \"2020-04-29T00:00:00\", \"2020-04-30T00:00:00\", \"2020-05-01T00:00:00\", \"2020-05-02T00:00:00\", \"2020-05-03T00:00:00\", \"2020-05-04T00:00:00\", \"2020-05-05T00:00:00\", \"2020-05-06T00:00:00\", \"2020-05-07T00:00:00\", \"2020-05-08T00:00:00\", \"2020-05-09T00:00:00\", \"2020-05-10T00:00:00\", \"2020-05-11T00:00:00\", \"2020-05-12T00:00:00\", \"2020-05-13T00:00:00\", \"2020-05-14T00:00:00\", \"2020-05-15T00:00:00\", \"2020-05-16T00:00:00\", \"2020-05-17T00:00:00\", \"2020-05-18T00:00:00\", \"2020-05-19T00:00:00\", \"2020-05-20T00:00:00\", \"2020-05-21T00:00:00\", \"2020-05-22T00:00:00\", \"2020-05-23T00:00:00\", \"2020-05-24T00:00:00\", \"2020-05-25T00:00:00\", \"2020-05-26T00:00:00\", \"2020-05-27T00:00:00\", \"2020-05-28T00:00:00\", \"2020-05-29T00:00:00\", \"2020-05-30T00:00:00\", \"2020-05-31T00:00:00\", \"2020-06-01T00:00:00\", \"2020-06-02T00:00:00\", \"2020-06-03T00:00:00\", \"2020-06-04T00:00:00\", \"2020-06-05T00:00:00\", \"2020-06-06T00:00:00\", \"2020-06-07T00:00:00\", \"2020-06-08T00:00:00\", \"2020-06-09T00:00:00\", \"2020-06-10T00:00:00\", \"2020-06-11T00:00:00\", \"2020-06-12T00:00:00\", \"2020-06-13T00:00:00\", \"2020-06-14T00:00:00\", \"2020-06-15T00:00:00\", \"2020-06-16T00:00:00\", \"2020-06-17T00:00:00\", \"2020-06-18T00:00:00\", \"2020-06-19T00:00:00\", \"2020-06-20T00:00:00\", \"2020-06-21T00:00:00\", \"2020-06-22T00:00:00\", \"2020-06-23T00:00:00\", \"2020-06-24T00:00:00\", \"2020-06-25T00:00:00\", \"2020-06-26T00:00:00\", \"2020-06-27T00:00:00\", \"2020-06-28T00:00:00\", \"2020-06-29T00:00:00\", \"2020-06-30T00:00:00\", \"2020-07-01T00:00:00\", \"2020-07-02T00:00:00\", \"2020-07-03T00:00:00\", \"2020-07-04T00:00:00\", \"2020-07-05T00:00:00\", \"2020-07-06T00:00:00\", \"2020-07-07T00:00:00\", \"2020-07-08T00:00:00\", \"2020-07-09T00:00:00\", \"2020-07-10T00:00:00\", \"2020-07-11T00:00:00\", \"2020-07-12T00:00:00\", \"2020-07-13T00:00:00\", \"2020-07-14T00:00:00\", \"2020-07-15T00:00:00\", \"2020-07-16T00:00:00\", \"2020-07-17T00:00:00\", \"2020-07-18T00:00:00\", \"2020-07-19T00:00:00\", \"2020-07-20T00:00:00\", \"2020-07-21T00:00:00\", \"2020-07-22T00:00:00\", \"2020-07-23T00:00:00\", \"2020-07-24T00:00:00\", \"2020-07-25T00:00:00\", \"2020-07-26T00:00:00\", \"2020-07-27T00:00:00\", \"2020-07-28T00:00:00\", \"2020-07-29T00:00:00\", \"2020-07-30T00:00:00\", \"2020-07-31T00:00:00\", \"2020-08-01T00:00:00\", \"2020-08-02T00:00:00\", \"2020-08-03T00:00:00\", \"2020-08-04T00:00:00\", \"2020-08-05T00:00:00\", \"2020-08-06T00:00:00\", \"2020-08-07T00:00:00\", \"2020-08-08T00:00:00\", \"2020-08-09T00:00:00\", \"2020-08-10T00:00:00\", \"2020-08-11T00:00:00\", \"2020-08-12T00:00:00\", \"2020-08-13T00:00:00\", \"2020-08-14T00:00:00\", \"2020-08-15T00:00:00\", \"2020-08-16T00:00:00\", \"2020-08-17T00:00:00\", \"2020-08-18T00:00:00\", \"2020-08-19T00:00:00\", \"2020-08-20T00:00:00\", \"2020-08-21T00:00:00\", \"2020-08-22T00:00:00\", \"2020-08-23T00:00:00\", \"2020-08-24T00:00:00\", \"2020-08-25T00:00:00\", \"2020-08-26T00:00:00\", \"2020-08-27T00:00:00\", \"2020-08-28T00:00:00\", \"2020-08-29T00:00:00\", \"2020-08-30T00:00:00\", \"2020-08-31T00:00:00\", \"2020-09-01T00:00:00\", \"2020-09-02T00:00:00\", \"2020-09-03T00:00:00\", \"2020-09-04T00:00:00\", \"2020-09-05T00:00:00\", \"2020-09-06T00:00:00\", \"2020-09-07T00:00:00\", \"2020-09-08T00:00:00\"], \"y\": [1359.98, 1380.42, 1369.49, 1391.11, 1465.09, 1492.92, 1532.99, 1664.99, 1629.99, 1598.88, 1618.3, 1712.22, 1794.58, 1799.95, 1888.99, 1837.99, 1791.69, 1828.36, 1802.88, 1776.55, 1839.99, 1899.99, 1979.98, 2058.99, 2101.13, 2297.99, 2281.94, 2474.2, 2805.98, 2679.02, 2351.5, 2340.01, 2356.08, 2336.64, 2338.9, 2485.14, 18210868.0, 253755360.0, 112203950.0, 97305520.0, 119560050.0, 140479280.0, 263713710.0, 247823520.0, 187519040.0, 716905900.0, 421890660.0, 342409280.0, 221041620.0, 355415600.0, 229795730.0, 207730800.0, 655612350.0, 1318273400.0, 1093473700.0, 624306300.0, 786220160.0, 684270200.0, 657410400.0, 536801060.0, 272387500.0, 499665100.0, 463587070.0, 414576640.0, 488545060.0, 573509060.0, 791913700.0, 461281540.0, 1396135000.0, 463837150.0, 351027260.0, 216432380.0, 347227140.0, 381219940.0, 445687140.0, 269485500.0, 384533860.0, 250474460.0, 164992080.0, 373295040.0, 267391980.0, 296036740.0, 366384320.0, 235531250.0, 200799970.0, 349401250.0, 226503220.0, 321126500.0, 389734240.0, 200641340.0, 148981120.0, 147005620.0, 145389150.0, 729092860.0, 673412800.0, 348152860.0, 182831360.0, 232373000.0, 193915250.0, 261793890.0, 234595730.0, 166490260.0, 155791400.0, 211564270.0, 137817710.0, 156679820.0, 123752850.0, 283877980.0, 193503660.0, 347096260.0, 437063520.0, 210948080.0, 204769000.0, 432167360.0, 626324860.0, 402413470.0, 259045800.0, 226959630.0, 214899140.0, 136930110.0, 169701900.0, 119785750.0, 221846540.0, 317630140.0, 178624560.0, 222292560.0, 286175360.0, 192225260.0, 324659420.0, 322795230.0, 284612640.0, 207281710.0, 195101630.0, 111947700.0, 191913150.0, 192359520.0, 209494350.0, 163897260.0, 151103260.0, 149348590.0, 96970930.0, 125259784.0, 199762400.0, 326285300.0, 223451800.0, 372579200.0, 158605150.0, 199472210.0, 197392720.0, 157036850.0, 237249250.0, 225904420.0, 141160320.0, 109367160.0, 234134740.0, 213085260.0, 178137820.0, 140978000.0, 128693270.0, 130006160.0, 104483840.0, 76937330.0, 155673550.0, 119240580.0, 86625360.0, 204375520.0, 201003180.0, 104312560.0, 104039130.0, 99971540.0, 138053550.0, 105339840.0, 97210540.0, 71033000.0, 71075820.0, 44032996.0, 63221600.0, 50884436.0, 56413492.0, 233560720.0, 175589540.0, 74817700.0, 81525976.0, 108507890.0, 85681420.0, 87622584.0, 98081464.0, 139772130.0, 108221440.0, 69391144.0, 71523144.0, 194554370.0, 290026500.0, 135377000.0, 110991120.0, 81799016.0, 74316710.0, 82212240.0, 101158260.0, 80508664.0, 141310860.0, 104497670.0, 92288250.0, 73033310.0, 92436104.0, 88192520.0, 79079530.0, 70082400.0, 151894850.0, 95973080.0, 57230356.0, 121817640.0, 93808380.0, 86336670.0, 69497760.0, 66667428.0, 34672812.0, 37713452.0, 43286616.0, 56462024.0, 122376730.0, 85463020.0, 64763564.0, 34214556.0, 33351406.0, 56173040.0, 75748376.0, 46305024.0, 45242970.0, 51760120.0, 38550576.0, 40273176.0, 45666800.0, 43090140.0, 43593520.0, 38770300.0, 29589618.0, 20553128.0, 130453470.0, 78580460.0, 72050530.0, 110674940.0, 94611440.0, 45929730.0, 29184908.0, 21284148.0, 52989104.0, 41412876.0, 44731764.0, 29491756.0, 113326550.0, 37230910.0, 79508220.0, 57494036.0, 41206812.0, 43004690.0, 46676052.0, 66011068.0, 43241630.0, 25757784.0, 54109380.0, 42800876.0, 45275156.0, 45951464.0, 34026700.0, 29788002.0, 22373522.0, 35219350.0, 217762.0, 31699792.0, 58696220.0, 37218700.0, 19008346.0, 24586192.0, 60280412.0, 110738340.0, 116995030.0, 74061270.0, 77199784.0, 37230868.0, 41696100.0, 95720570.0, 159078500.0, 120648110.0, 96151360.0, 96493360.0, 33792976.0, 34837380.0, 85387350.0, 98592080.0, 89645480.0, 49121092.0, 31241766.0, 70920590.0, 43626388.0, 62534572.0, 77234376.0, 141611150.0, 89684456.0, 50325540.0, 63146484.0, 52518204.0, 67009844.0, 107643240.0, 113811870.0, 56972864.0, 69869450.0, 44979828.0, 28742038.0, 50631980.0, 43910004.0, 103701990.0, 45084680.0, 48843160.0, 33150968.0, 33426544.0, 49384988.0, 83267240.0, 54193100.0, 57497836.0, 54950316.0, 44848348.0, 42692572.0, 44573056.0, 58695916.0, 114662640.0, 120896040.0, 53876136.0, 47520824.0, 39986036.0, 44198236.0, 47168730.0, 46606268.0, 63208340.0, 49972540.0, 22200470.0, 22755530.0, 59310224.0, 38702972.0, 68137990.0, 43814240.0, 75998620.0, 35706940.0, 23498404.0, 36851092.0, 61156064.0, 38267148.0, 51698228.0, 60136590.0, 28585944.0, 24361548.0, 46924990.0, 35560536.0, 40377316.0, 43745620.0, 35048452.0, 17870612.0, 17169206.0, 35987064.0, 30092548.0, 41622476.0, 128308616.0, 34556124.0, 23818688.0, 23422608.0, 136885470.0, 64957224.0, 35447304.0, 46312964.0, 24367440.0, 21944912.0, 16769773.0, 25636860.0, 25818684.0, 33372816.0, 23980988.0, 26477766.0, 14943027.0, 13712876.0, 44011530.0, 25673193.283535577, 32832839.24522453, 28353679.508712266, 26580721.974373933, 16296705.871125255, 25908533.933975924, 26223167.20037888, 35383451.614059545, 37938770.33809246, 34381735.42844465, 29177859.434167583, 15391686.836686198, 14959672.58113302, 23670076.244228147, 29476559.703746993, 187058036.8018099, 119724928.91069396, 51704003.0703633, 26240759.105402958, 26212081.393075, 210294098.58314648, 297168048.6654369, 126629151.52305132, 57946560.41921399, 82737142.97749443, 91377528.63721563, 147037605.7241212, 137628402.39337274, 88145788.56339371, 147278185.9870003, 87043575.27851681, 80886265.3806699, 43380354.00588131, 46728559.157645084, 66455958.516344324, 66010946.66986199, 56500088.31927107, 105391202.9709056, 127130631.75779565, 46345119.57270018, 41332722.02650989, 46585214.9693123, 37254124.65078554, 35829998.94474249, 47458975.67453929, 47099011.83960251, 29622880.78228861, 23198295.084656168, 74678186.2443025, 60023131.90690035, 106714422.24949822, 122063940.58417867, 92349426.70976084, 38335140.04223383, 40886701.709705636, 81270929.27170742, 52546711.01082756, 35472477.05852496, 49570873.142295815, 63520864.40301559, 37761461.8087519, 33074048.637722973, 47834971.75321198, 40123715.49198743, 38279615.65096887, 35687593.619546145, 34915387.67401389, 24730060.458551742, 39811557.86447781, 40082093.84586946, 56062102.539868824, 42899553.96691712, 82085818.01206473, 52712271.26118627, 20991046.41516583, 29385790.601315193, 40725652.38186435, 39473447.14356946, 32069104.713999804, 32193777.91822605, 21589925.69619727, 22375106.494039662, 26563513.28063695, 22956689.188099373, 33931344.592510894, 29244690.98214445, 20718546.986453928, 24284713.89879599, 20055873.374113828, 15160330.575001255, 47325478.49724487, 29572978.021298107, 29143687.72269466, 25351405.771552168, 30111045.397363935, 13636448.715263091, 15769721.172593012, 20594348.144478925, 21823961.720682785, 33227644.763431024, 29423870.60313006, 61550750.873219386, 18714263.349324558, 19416958.48364193, 31575155.989079226, 30421271.856922377, 25066145.990929097, 21958313.486186508, 26596892.661881533, 15491444.135073923, 23094534.054306645, 63413111.41809696, 58024557.706988014, 34788786.70241847, 34200700.014240116, 29815118.12595173, 43386342.35457338, 66158590.90127994, 41493336.82384838, 24806679.6152378, 31488229.434250697, 37291043.63305508, 26167057.649601158, 14023649.126574995, 15277112.427357316, 31122166.239966612, 35812372.26298451, 26500720.93022332, 28246289.083725266, 34226032.34948511, 22964106.90347593, 14101739.75534516, 24170725.94054489, 26523029.867797077, 21447765.14808967, 30455601.75568521, 26311343.12886066, 27348083.59798401, 14316205.04859656, 22252991.0118495, 23347808.763250437, 28961831.68435155, 36672015.9034188, 20272849.331036143, 16061710.340709362, 10670549.881924778, 25338525.74470023, 16677384.048434425, 27723002.964324858, 19939056.208916567, 40562328.77023854, 21501090.573572487, 12771003.510978846, 32540551.931242947, 181838708.96962416, 205941718.32374957, 81855159.45463783, 59230040.94906333, 62644423.92232367, 53428688.903145455, 83210665.63829012, 51434675.87654928, 90229191.63119154, 85480919.5893216, 48898323.45166202, 21909943.99480843, 22515471.981461957, 51626330.7433592, 44400752.36901073, 38910701.98916648, 43329571.697486684, 33389423.50277405, 26065072.723763462, 31114864.883619603, 66620530.178616196, 102953267.60941285, 83735791.2633278, 95108086.55793242, 74250550.88758026, 22064451.28220071, 25372303.033342693, 37778278.410589375, 37959042.89285821, 38877157.508726954, 39361750.443211414, 109505991.7259239, 63018697.07131241, 32934383.375380043, 51371962.18615745, 93984124.69565374, 74449276.53650711, 94916928.7207842, 110736975.96732913, 261118312.5612087, 292825571.0741773, 364285318.97760814, 316044332.207036, 201407123.48337328, 230683503.17524073, 295181039.56599927, 76907242.18741918, 183000839.51473555, 183713383.60423258, 106268875.21471496, 122652399.52798381, 107628972.76155335, 112106359.0591235, 41118104.04748303, 144368037.5561845, 147001407.0073824, 99407066.82657456, 100238969.58396395, 238803141.4537771, 131680917.50685175, 59880142.07283026, 48487153.17396242, 127084852.88382468, 207723649.32021198, 96652847.49713925, 91202730.34165432, 94758145.33502375, 38797094.19473719, 54937270.36515955, 73750272.94298394, 58054359.49598704, 95751981.34485984, 67420255.04084809, 101254722.40618435, 82473053.39030999, 188324126.56497744, 177638587.80485436, 140183427.14237323, 81184360.12457907, 107767910.10698678, 224274380.78449908, 360749561.1841508, 170508296.32510808, 153910580.96376622, 261869535.73140293, 852034385.9361607, 764122713.9082261, 449242494.43322045, 312360746.7352206, 297710205.8194047, 376161953.0888644, 398656934.31111354, 394345470.5446904, 239335050.66078767, 210050912.92630598, 163490797.39377978, 120739205.96859874, 220569882.97992882, 305497012.77549624, 457064090.64294076, 373722140.10299397, 198711970.27844602, 190470243.08162424, 249816200.09081233, 319087346.9752958, 380946106.07504594, 311484553.2424426, 298038304.5193411, 188652205.1288646, 179557859.12733385, 117935890.83568329, 150660469.88640445, 166348925.56196076, 161742933.80887368, 122689281.98173726, 97911908.12092419, 159253089.18483454, 81888911.5016839, 91999156.03254014, 83159796.69750792, 121140565.93255931, 137288123.54625332, 130712529.93748288, 101574657.74074712, 119877253.72916587, 254329948.99749634, 266999008.7623036, 243389690.32578337, 166015740.07607025, 132524024.1465837, 144620419.22453207, 78691600.94690862, 66069587.89809901, 128674162.02465439, 229430736.3268742, 253417925.03342113, 186211087.94418603, 69642098.17819093, 65126656.23461445, 123965765.22557613, 89680899.77835302, 165041937.64442426, 101869270.2432776, 92032920.29519038, 75279375.69789815, 63119149.18233842, 133713868.16530697, 75996863.72857082, 150239812.91247323, 136240147.28452927, 83293406.60585, 37563258.90455279, 38182957.557662785, 117689083.18516272, 162210768.9345131, 122394682.36302395, 75416118.89117326, 156080583.7121244, 45787147.47132909, 51198309.7993114, 100307613.42707573, 82172791.32123317, 84202465.9293965, 78381561.16502266, 71150517.39389746, 46268267.79057395, 28306975.889208585, 79565836.20388298, 58438765.86189273, 57329567.88498733, 155581259.6422614, 62891106.28257472, 50506357.85887678, 52623137.6695118, 111602648.6200799, 335313149.5728274, 198737091.91097033, 221410153.73107192, 128267683.19538927, 73750897.58321103, 59212223.59603064, 122647064.17110129, 102867996.72952718, 58201685.357300706, 64915642.0155515, 63189609.15758592, 31011116.957178224, 69076483.3173999, 81033609.28631137, 48072046.66894571, 122213687.8665377, 68019753.89896305, 105228038.13201644, 25400016.90747189, 48775737.29556951, 37080246.52297379, 70337640.4091582, 68067717.93976036, 39487857.62554072, 56150984.43730588, 38595161.39535926, 49822294.71207533, 50498355.71879968, 49207017.364939295, 145164605.58225444, 59390161.93050937, 224074015.48416388, 505390363.12798107, 186615332.2474383, 159063061.03700206, 118330924.826946, 90419132.87322253, 76480951.91273989, 71236237.53563619, 42389457.01324094, 39500190.157953836, 78261046.49647634, 70748462.40012711, 63750044.79068417, 55214187.185481094, 114512660.3316193, 36727335.7270211, 54412170.1433783, 61777368.720511004, 54698033.04895933, 39251261.78286521, 48509043.32281892, 93180718.44419724, 22976431.84757936, 31975328.552114516, 81718209.12212604, 59596058.68086687, 42909573.710154906, 130417487.70499125, 242673680.6383821, 56023034.48598279, 75756582.85386524, 188458592.81203786, 84736193.76870535, 140909339.73869953, 65136601.629814, 83064977.21793272, 46705979.36968549, 63906771.65772021, 51335020.75099248, 45206874.61339096, 121089881.54981455, 67828670.96630885, 69526863.38005337, 36771147.23270006, 31778642.700991727, 76542842.800624, 52337018.93621394, 42855990.318502724, 61645418.646865495, 44256418.553217925, 30901844.10937493, 34797141.03191197, 91625095.46084906, 94427361.1089662, 158634023.1617198, 75263656.80815469, 43067061.12558789, 24458855.550236616, 74775734.26829235, 113705744.56487404, 56839324.36510987, 23752377.4723403, 55611777.963417575, 60987173.42341404, 33749835.491735086, 48533705.038353816, 53517033.243003465, 48557590.579850025, 24110757.063186858, 56248279.319854535, 101599167.61023034, 34732882.5387414, 44130267.46691255, 89099112.18194215, 158197975.55247933, 196389340.46505246, 74819190.9518334, 106514854.57706006, 61452951.80514115, 31778279.749693025, 54107475.854261585, 232481195.60540095, 131173426.10752401, 80380928.35002582, 137103876.22876704, 49831230.454511754, 134258385.21463564, 48421026.440496236, 64909884.330525324, 47476625.97187793, 102727670.35968737, 72435333.56260423, 31491095.67800521, 46502933.84898924, 83825507.9774347, 159791407.11268482, 114237705.12746496, 121491821.15660757, 90641575.46911414, 41118321.86258775, 68311702.61997966, 111396869.28733787, 75286006.8434127, 126308185.35938904, 122962710.83648299, 83310624.11800979, 79559000.65316275, 97117070.28644614, 131547763.21781497, 168077846.45668888, 142211839.66849905, 175925330.17385095, 82468081.13061334, 123831525.74836269, 92980192.92420031, 98210026.80235201, 115254930.12531428, 165019102.4690011, 118526928.80832525, 68405586.54317357, 31901387.416506406, 55664886.30762414, 107230858.28827488, 88336584.45404916, 193575759.46434945, 129796652.22620946, 118046217.75595269, 44580490.22009215, 62865008.0116732, 89636524.61562042, 80314266.55541144, 49807860.052542314, 90915100.89785782, 58401453.431525275, 58400449.284333505, 139039636.41490883, 200851307.91127995, 136536261.9540701, 106495872.34521966, 691470513.1225194, 672737470.5051631, 176551604.48072267, 236074995.00011772, 393603430.90493, 235797371.05507773, 197860952.85666695, 324759796.5275068, 337031616.22835815, 145322418.53505123, 169838094.83987096, 263281991.3974209, 270286131.79056007, 208586545.0749073, 116577186.59411182, 136347033.49117494, 126547015.51065473, 97575780.81856345, 149349259.28317147, 77035586.76872064, 113548606.31662706, 196746628.00253955, 101888455.16284215, 69550056.07160741, 60870349.964396305, 199191512.3924471, 166296843.53307718, 112806215.799753, 90142188.6292473, 136661893.08370695, 55351253.29055403, 89245524.5629785, 150564196.00968945, 88622758.81432852, 99802667.4587944, 194997401.34765482, 95537917.86497025, 82811402.84887947, 63655645.12183316, 128274055.99292196, 99270734.40028608, 92466940.8251213, 168898059.0951135, 103461107.75158039, 56245229.38704693, 70749778.6101114, 119232767.15077789, 84913305.91596635, 410005803.6903439, 399375563.013948, 190599296.5672379, 93740765.45138909, 153972833.6123466, 161189909.74359626, 146542998.03790247, 254883686.85242227, 381074045.67781293, 261703693.26810738, 174066148.35372025, 441781378.6460835, 347389624.37653494, 177699509.49657637, 195011070.12565893, 276845484.3973285, 238386115.95485196, 101363189.55889092, 130998038.84559147, 172348384.44813347, 147256777.7597733, 162162485.4406873, 256707237.12189856, 125252281.405255, 63338392.06999437, 116980195.08151154, 108558223.80617455, 101815249.02472185, 99194549.95838454, 136150174.5502311, 98466979.5362531, 100245160.01987912, 75780120.43484414, 214222991.4844187, 325653254.12688404, 109367780.45830117, 120918542.94972582, 121400865.98332407, 62571960.92264445, 111647520.12347873, 82965142.47913754, 100441938.86868402, 127430622.55844693, 254250528.12622514, 103408180.10908544, 43188132.26614418, 45284111.96986285, 171042273.44099313, 98255373.75965053, 84153254.2769079, 58276396.29778039, 65437925.70464025, 1971044.7013089303, 28856962.511765294, 112437336.0940918, 76615090.17889288, 125579599.04284981, 6536202.355139608, 330493.0245618084, 76800582.2758536, 50213189.08943271, 42159966.81773769, 62402116.644872434, 9801816.267689623, 98240269.37556767, 70370166.75674564, 48311562.529285334, 41612401.36165852, 24164474.489626747, 58632634.74201353, 94983299.73574817, 78541251.50098936, 3945865.164284358, 31117063.397339202, 48424279.21752032, 80678880.46714723, 33160868.16170101, 20063385.14579351, 76389232.09919146, 23736680.73689918, 37773983.24043043, 25473734.31130014, 3540395.2604625104, 84602796.12941238, 61277299.217967615, 120186938.56803882, 19366215.23085125, 13039416.4418103, 10341049.336215045, 70410714.37571642, 79105069.7956949, 31007959.427360583, 33528243.523780428, 22792845.01437778, 42906718.963325426, 176369705.11471936, 26093807.849991113, 90493816.89386031, 10761726.054176211, 54929463.10454562, 38693655.9990868, 35046852.73843677, 22766934.73367218, 86644499.00886866, 81790251.67273523, 27084757.02243895, 31304438.257214207, 35992575.78398832, 42153193.94533222, 8727059.018345278, 24805844.416590065, 39195301.30270119, 61675081.478720106, 24352127.3524412, 28912068.257339608, 39284638.07583232, 15712714.90808382, 12462347.35952721, 3461208.061035134, 17744181.739705674, 15081953.712343046, 10620637.616310338, 1640956.6691929754, 15641447.53698177, 10660791.766826605, 22318799.50320441, 209350253.20675448, 5248558.4006521385, 12943319.831373107, 19243472.621000014, 17569061.021864533, 9923038.784501757]}],\n",
              "                        {\"template\": {\"data\": {\"bar\": [{\"error_x\": {\"color\": \"#2a3f5f\"}, \"error_y\": {\"color\": \"#2a3f5f\"}, \"marker\": {\"line\": {\"color\": \"#E5ECF6\", \"width\": 0.5}}, \"type\": \"bar\"}], \"barpolar\": [{\"marker\": {\"line\": {\"color\": \"#E5ECF6\", \"width\": 0.5}}, \"type\": \"barpolar\"}], \"carpet\": [{\"aaxis\": {\"endlinecolor\": \"#2a3f5f\", \"gridcolor\": \"white\", \"linecolor\": \"white\", \"minorgridcolor\": \"white\", \"startlinecolor\": \"#2a3f5f\"}, \"baxis\": {\"endlinecolor\": \"#2a3f5f\", \"gridcolor\": \"white\", \"linecolor\": \"white\", \"minorgridcolor\": \"white\", \"startlinecolor\": \"#2a3f5f\"}, \"type\": \"carpet\"}], \"choropleth\": [{\"colorbar\": {\"outlinewidth\": 0, \"ticks\": \"\"}, \"type\": \"choropleth\"}], \"contour\": [{\"colorbar\": {\"outlinewidth\": 0, \"ticks\": \"\"}, \"colorscale\": [[0.0, \"#0d0887\"], [0.1111111111111111, \"#46039f\"], [0.2222222222222222, \"#7201a8\"], [0.3333333333333333, \"#9c179e\"], [0.4444444444444444, \"#bd3786\"], [0.5555555555555556, \"#d8576b\"], [0.6666666666666666, \"#ed7953\"], [0.7777777777777778, \"#fb9f3a\"], [0.8888888888888888, \"#fdca26\"], [1.0, \"#f0f921\"]], \"type\": \"contour\"}], \"contourcarpet\": [{\"colorbar\": {\"outlinewidth\": 0, \"ticks\": \"\"}, \"type\": \"contourcarpet\"}], \"heatmap\": [{\"colorbar\": {\"outlinewidth\": 0, \"ticks\": \"\"}, \"colorscale\": [[0.0, \"#0d0887\"], [0.1111111111111111, \"#46039f\"], [0.2222222222222222, \"#7201a8\"], [0.3333333333333333, \"#9c179e\"], [0.4444444444444444, \"#bd3786\"], [0.5555555555555556, \"#d8576b\"], [0.6666666666666666, \"#ed7953\"], [0.7777777777777778, \"#fb9f3a\"], [0.8888888888888888, \"#fdca26\"], [1.0, \"#f0f921\"]], \"type\": \"heatmap\"}], \"heatmapgl\": [{\"colorbar\": {\"outlinewidth\": 0, \"ticks\": \"\"}, \"colorscale\": [[0.0, \"#0d0887\"], [0.1111111111111111, \"#46039f\"], [0.2222222222222222, \"#7201a8\"], [0.3333333333333333, \"#9c179e\"], [0.4444444444444444, \"#bd3786\"], [0.5555555555555556, \"#d8576b\"], [0.6666666666666666, \"#ed7953\"], [0.7777777777777778, \"#fb9f3a\"], [0.8888888888888888, \"#fdca26\"], [1.0, \"#f0f921\"]], \"type\": \"heatmapgl\"}], \"histogram\": [{\"marker\": {\"colorbar\": {\"outlinewidth\": 0, \"ticks\": \"\"}}, \"type\": \"histogram\"}], \"histogram2d\": [{\"colorbar\": {\"outlinewidth\": 0, \"ticks\": \"\"}, \"colorscale\": [[0.0, \"#0d0887\"], [0.1111111111111111, \"#46039f\"], [0.2222222222222222, \"#7201a8\"], [0.3333333333333333, \"#9c179e\"], [0.4444444444444444, \"#bd3786\"], [0.5555555555555556, \"#d8576b\"], [0.6666666666666666, \"#ed7953\"], [0.7777777777777778, \"#fb9f3a\"], [0.8888888888888888, \"#fdca26\"], [1.0, \"#f0f921\"]], \"type\": \"histogram2d\"}], \"histogram2dcontour\": [{\"colorbar\": {\"outlinewidth\": 0, \"ticks\": \"\"}, \"colorscale\": [[0.0, \"#0d0887\"], [0.1111111111111111, \"#46039f\"], [0.2222222222222222, \"#7201a8\"], [0.3333333333333333, \"#9c179e\"], [0.4444444444444444, \"#bd3786\"], [0.5555555555555556, \"#d8576b\"], [0.6666666666666666, \"#ed7953\"], [0.7777777777777778, \"#fb9f3a\"], [0.8888888888888888, \"#fdca26\"], [1.0, \"#f0f921\"]], \"type\": \"histogram2dcontour\"}], \"mesh3d\": [{\"colorbar\": {\"outlinewidth\": 0, \"ticks\": \"\"}, \"type\": \"mesh3d\"}], \"parcoords\": [{\"line\": {\"colorbar\": {\"outlinewidth\": 0, \"ticks\": \"\"}}, \"type\": \"parcoords\"}], \"pie\": [{\"automargin\": true, \"type\": \"pie\"}], \"scatter\": [{\"marker\": {\"colorbar\": {\"outlinewidth\": 0, \"ticks\": \"\"}}, \"type\": \"scatter\"}], \"scatter3d\": [{\"line\": {\"colorbar\": {\"outlinewidth\": 0, \"ticks\": \"\"}}, \"marker\": {\"colorbar\": {\"outlinewidth\": 0, \"ticks\": \"\"}}, \"type\": \"scatter3d\"}], \"scattercarpet\": [{\"marker\": {\"colorbar\": {\"outlinewidth\": 0, \"ticks\": \"\"}}, \"type\": \"scattercarpet\"}], \"scattergeo\": [{\"marker\": {\"colorbar\": {\"outlinewidth\": 0, \"ticks\": \"\"}}, \"type\": \"scattergeo\"}], \"scattergl\": [{\"marker\": {\"colorbar\": {\"outlinewidth\": 0, \"ticks\": \"\"}}, \"type\": \"scattergl\"}], \"scattermapbox\": [{\"marker\": {\"colorbar\": {\"outlinewidth\": 0, \"ticks\": \"\"}}, \"type\": \"scattermapbox\"}], \"scatterpolar\": [{\"marker\": {\"colorbar\": {\"outlinewidth\": 0, \"ticks\": \"\"}}, \"type\": \"scatterpolar\"}], \"scatterpolargl\": [{\"marker\": {\"colorbar\": {\"outlinewidth\": 0, \"ticks\": \"\"}}, \"type\": \"scatterpolargl\"}], \"scatterternary\": [{\"marker\": {\"colorbar\": {\"outlinewidth\": 0, \"ticks\": \"\"}}, \"type\": \"scatterternary\"}], \"surface\": [{\"colorbar\": {\"outlinewidth\": 0, \"ticks\": \"\"}, \"colorscale\": [[0.0, \"#0d0887\"], [0.1111111111111111, \"#46039f\"], [0.2222222222222222, \"#7201a8\"], [0.3333333333333333, \"#9c179e\"], [0.4444444444444444, \"#bd3786\"], [0.5555555555555556, \"#d8576b\"], [0.6666666666666666, \"#ed7953\"], [0.7777777777777778, \"#fb9f3a\"], [0.8888888888888888, \"#fdca26\"], [1.0, \"#f0f921\"]], \"type\": \"surface\"}], \"table\": [{\"cells\": {\"fill\": {\"color\": \"#EBF0F8\"}, \"line\": {\"color\": \"white\"}}, \"header\": {\"fill\": {\"color\": \"#C8D4E3\"}, \"line\": {\"color\": \"white\"}}, \"type\": \"table\"}]}, \"layout\": {\"annotationdefaults\": {\"arrowcolor\": \"#2a3f5f\", \"arrowhead\": 0, \"arrowwidth\": 1}, \"coloraxis\": {\"colorbar\": {\"outlinewidth\": 0, \"ticks\": \"\"}}, \"colorscale\": {\"diverging\": [[0, \"#8e0152\"], [0.1, \"#c51b7d\"], [0.2, \"#de77ae\"], [0.3, \"#f1b6da\"], [0.4, \"#fde0ef\"], [0.5, \"#f7f7f7\"], [0.6, \"#e6f5d0\"], [0.7, \"#b8e186\"], [0.8, \"#7fbc41\"], [0.9, \"#4d9221\"], [1, \"#276419\"]], \"sequential\": [[0.0, \"#0d0887\"], [0.1111111111111111, \"#46039f\"], [0.2222222222222222, \"#7201a8\"], [0.3333333333333333, \"#9c179e\"], [0.4444444444444444, \"#bd3786\"], [0.5555555555555556, \"#d8576b\"], [0.6666666666666666, \"#ed7953\"], [0.7777777777777778, \"#fb9f3a\"], [0.8888888888888888, \"#fdca26\"], [1.0, \"#f0f921\"]], \"sequentialminus\": [[0.0, \"#0d0887\"], [0.1111111111111111, \"#46039f\"], [0.2222222222222222, \"#7201a8\"], [0.3333333333333333, \"#9c179e\"], [0.4444444444444444, \"#bd3786\"], [0.5555555555555556, \"#d8576b\"], [0.6666666666666666, \"#ed7953\"], [0.7777777777777778, \"#fb9f3a\"], [0.8888888888888888, \"#fdca26\"], [1.0, \"#f0f921\"]]}, \"colorway\": [\"#636efa\", \"#EF553B\", \"#00cc96\", \"#ab63fa\", \"#FFA15A\", \"#19d3f3\", \"#FF6692\", \"#B6E880\", \"#FF97FF\", \"#FECB52\"], \"font\": {\"color\": \"#2a3f5f\"}, \"geo\": {\"bgcolor\": \"white\", \"lakecolor\": \"white\", \"landcolor\": \"#E5ECF6\", \"showlakes\": true, \"showland\": true, \"subunitcolor\": \"white\"}, \"hoverlabel\": {\"align\": \"left\"}, \"hovermode\": \"closest\", \"mapbox\": {\"style\": \"light\"}, \"paper_bgcolor\": \"white\", \"plot_bgcolor\": \"#E5ECF6\", \"polar\": {\"angularaxis\": {\"gridcolor\": \"white\", \"linecolor\": \"white\", \"ticks\": \"\"}, \"bgcolor\": \"#E5ECF6\", \"radialaxis\": {\"gridcolor\": \"white\", \"linecolor\": \"white\", \"ticks\": \"\"}}, \"scene\": {\"xaxis\": {\"backgroundcolor\": \"#E5ECF6\", \"gridcolor\": \"white\", \"gridwidth\": 2, \"linecolor\": \"white\", \"showbackground\": true, \"ticks\": \"\", \"zerolinecolor\": \"white\"}, \"yaxis\": {\"backgroundcolor\": \"#E5ECF6\", \"gridcolor\": \"white\", \"gridwidth\": 2, \"linecolor\": \"white\", \"showbackground\": true, \"ticks\": \"\", \"zerolinecolor\": \"white\"}, \"zaxis\": {\"backgroundcolor\": \"#E5ECF6\", \"gridcolor\": \"white\", \"gridwidth\": 2, \"linecolor\": \"white\", \"showbackground\": true, \"ticks\": \"\", \"zerolinecolor\": \"white\"}}, \"shapedefaults\": {\"line\": {\"color\": \"#2a3f5f\"}}, \"ternary\": {\"aaxis\": {\"gridcolor\": \"white\", \"linecolor\": \"white\", \"ticks\": \"\"}, \"baxis\": {\"gridcolor\": \"white\", \"linecolor\": \"white\", \"ticks\": \"\"}, \"bgcolor\": \"#E5ECF6\", \"caxis\": {\"gridcolor\": \"white\", \"linecolor\": \"white\", \"ticks\": \"\"}}, \"title\": {\"x\": 0.05}, \"xaxis\": {\"automargin\": true, \"gridcolor\": \"white\", \"linecolor\": \"white\", \"ticks\": \"\", \"title\": {\"standoff\": 15}, \"zerolinecolor\": \"white\", \"zerolinewidth\": 2}, \"yaxis\": {\"automargin\": true, \"gridcolor\": \"white\", \"linecolor\": \"white\", \"ticks\": \"\", \"title\": {\"standoff\": 15}, \"zerolinecolor\": \"white\", \"zerolinewidth\": 2}}}},\n",
              "                        {\"responsive\": true}\n",
              "                    ).then(function(){\n",
              "                            \n",
              "var gd = document.getElementById('5aaf3bea-3360-4a2f-ae06-308849887c38');\n",
              "var x = new MutationObserver(function (mutations, observer) {{\n",
              "        var display = window.getComputedStyle(gd).display;\n",
              "        if (!display || display === 'none') {{\n",
              "            console.log([gd, 'removed!']);\n",
              "            Plotly.purge(gd);\n",
              "            observer.disconnect();\n",
              "        }}\n",
              "}});\n",
              "\n",
              "// Listen for the removal of the full notebook cells\n",
              "var notebookContainer = gd.closest('#notebook-container');\n",
              "if (notebookContainer) {{\n",
              "    x.observe(notebookContainer, {childList: true});\n",
              "}}\n",
              "\n",
              "// Listen for the clearing of the current output cell\n",
              "var outputEl = gd.closest('.output');\n",
              "if (outputEl) {{\n",
              "    x.observe(outputEl, {childList: true});\n",
              "}}\n",
              "\n",
              "                        })\n",
              "                };\n",
              "                });\n",
              "            </script>\n",
              "        </div>"
            ],
            "application/vnd.plotly.v1+json": {
              "data": [
                {
                  "y": [
                    1359.98,
                    1380.42,
                    1369.49,
                    1391.11,
                    1465.09,
                    1492.92,
                    1532.99,
                    1664.99,
                    1629.99,
                    1598.88,
                    1618.3,
                    1712.22,
                    1794.58,
                    1799.95,
                    1888.99,
                    1837.99,
                    1791.69,
                    1828.36,
                    1802.88,
                    1776.55,
                    1839.99,
                    1899.99,
                    1979.98,
                    2058.99,
                    2101.13,
                    2297.99,
                    2281.94,
                    2474.2,
                    2805.98,
                    2679.02,
                    2351.5,
                    2340.01,
                    2356.08,
                    2336.64,
                    2338.9,
                    2485.14,
                    18210868,
                    253755360,
                    112203950,
                    97305520,
                    119560050,
                    140479280,
                    263713710,
                    247823520,
                    187519040,
                    716905900,
                    421890660,
                    342409280,
                    221041620,
                    355415600,
                    229795730,
                    207730800,
                    655612350,
                    1318273400,
                    1093473700,
                    624306300,
                    786220160,
                    684270200,
                    657410400,
                    536801060,
                    272387500,
                    499665100,
                    463587070,
                    414576640,
                    488545060,
                    573509060,
                    791913700,
                    461281540,
                    1396135000,
                    463837150,
                    351027260,
                    216432380,
                    347227140,
                    381219940,
                    445687140,
                    269485500,
                    384533860,
                    250474460,
                    164992080,
                    373295040,
                    267391980,
                    296036740,
                    366384320,
                    235531250,
                    200799970,
                    349401250,
                    226503220,
                    321126500,
                    389734240,
                    200641340,
                    148981120,
                    147005620,
                    145389150,
                    729092860,
                    673412800,
                    348152860,
                    182831360,
                    232373000,
                    193915250,
                    261793890,
                    234595730,
                    166490260,
                    155791400,
                    211564270,
                    137817710,
                    156679820,
                    123752850,
                    283877980,
                    193503660,
                    347096260,
                    437063520,
                    210948080,
                    204769000,
                    432167360,
                    626324860,
                    402413470,
                    259045800,
                    226959630,
                    214899140,
                    136930110,
                    169701900,
                    119785750,
                    221846540,
                    317630140,
                    178624560,
                    222292560,
                    286175360,
                    192225260,
                    324659420,
                    322795230,
                    284612640,
                    207281710,
                    195101630,
                    111947700,
                    191913150,
                    192359520,
                    209494350,
                    163897260,
                    151103260,
                    149348590,
                    96970930,
                    125259784,
                    199762400,
                    326285300,
                    223451800,
                    372579200,
                    158605150,
                    199472210,
                    197392720,
                    157036850,
                    237249250,
                    225904420,
                    141160320,
                    109367160,
                    234134740,
                    213085260,
                    178137820,
                    140978000,
                    128693270,
                    130006160,
                    104483840,
                    76937330,
                    155673550,
                    119240580,
                    86625360,
                    204375520,
                    201003180,
                    104312560,
                    104039130,
                    99971540,
                    138053550,
                    105339840,
                    97210540,
                    71033000,
                    71075820,
                    44032996,
                    63221600,
                    50884436,
                    56413492,
                    233560720,
                    175589540,
                    74817700,
                    81525976,
                    108507890,
                    85681420,
                    87622584,
                    98081464,
                    139772130,
                    108221440,
                    69391144,
                    71523144,
                    194554370,
                    290026500,
                    135377000,
                    110991120,
                    81799016,
                    74316710,
                    82212240,
                    101158260,
                    80508664,
                    141310860,
                    104497670,
                    92288250,
                    73033310,
                    92436104,
                    88192520,
                    79079530,
                    70082400,
                    151894850,
                    95973080,
                    57230356,
                    121817640,
                    93808380,
                    86336670,
                    69497760,
                    66667428,
                    34672812,
                    37713452,
                    43286616,
                    56462024,
                    122376730,
                    85463020,
                    64763564,
                    34214556,
                    33351406,
                    56173040,
                    75748376,
                    46305024,
                    45242970,
                    51760120,
                    38550576,
                    40273176,
                    45666800,
                    43090140,
                    43593520,
                    38770300,
                    29589618,
                    20553128,
                    130453470,
                    78580460,
                    72050530,
                    110674940,
                    94611440,
                    45929730,
                    29184908,
                    21284148,
                    52989104,
                    41412876,
                    44731764,
                    29491756,
                    113326550,
                    37230910,
                    79508220,
                    57494036,
                    41206812,
                    43004690,
                    46676052,
                    66011068,
                    43241630,
                    25757784,
                    54109380,
                    42800876,
                    45275156,
                    45951464,
                    34026700,
                    29788002,
                    22373522,
                    35219350,
                    217762,
                    31699792,
                    58696220,
                    37218700,
                    19008346,
                    24586192,
                    60280412,
                    110738340,
                    116995030,
                    74061270,
                    77199784,
                    37230868,
                    41696100,
                    95720570,
                    159078500,
                    120648110,
                    96151360,
                    96493360,
                    33792976,
                    34837380,
                    85387350,
                    98592080,
                    89645480,
                    49121092,
                    31241766,
                    70920590,
                    43626388,
                    62534572,
                    77234376,
                    141611150,
                    89684456,
                    50325540,
                    63146484,
                    52518204,
                    67009844,
                    107643240,
                    113811870,
                    56972864,
                    69869450,
                    44979828,
                    28742038,
                    50631980,
                    43910004,
                    103701990,
                    45084680,
                    48843160,
                    33150968,
                    33426544,
                    49384988,
                    83267240,
                    54193100,
                    57497836,
                    54950316,
                    44848348,
                    42692572,
                    44573056,
                    58695916,
                    114662640,
                    120896040,
                    53876136,
                    47520824,
                    39986036,
                    44198236,
                    47168730,
                    46606268,
                    63208340,
                    49972540,
                    22200470,
                    22755530,
                    59310224,
                    38702972,
                    68137990,
                    43814240,
                    75998620,
                    35706940,
                    23498404,
                    36851092,
                    61156064,
                    38267148,
                    51698228,
                    60136590,
                    28585944,
                    24361548,
                    46924990,
                    35560536,
                    40377316,
                    43745620,
                    35048452,
                    17870612,
                    17169206,
                    35987064,
                    30092548,
                    41622476,
                    128308616,
                    34556124,
                    23818688,
                    23422608,
                    136885470,
                    64957224,
                    35447304,
                    46312964,
                    24367440,
                    21944912,
                    16769773,
                    25636860,
                    25818684,
                    33372816,
                    23980988,
                    26477766,
                    14943027,
                    13712876,
                    44011530,
                    25673193.283535577,
                    32832839.24522453,
                    28353679.508712266,
                    26580721.974373933,
                    16296705.871125255,
                    25908533.933975924,
                    26223167.20037888,
                    35383451.614059545,
                    37938770.33809246,
                    34381735.42844465,
                    29177859.434167583,
                    15391686.836686198,
                    14959672.58113302,
                    23670076.244228147,
                    29476559.703746993,
                    187058036.8018099,
                    119724928.91069396,
                    51704003.0703633,
                    26240759.105402958,
                    26212081.393075,
                    210294098.58314648,
                    297168048.6654369,
                    126629151.52305132,
                    57946560.41921399,
                    82737142.97749443,
                    91377528.63721563,
                    147037605.7241212,
                    137628402.39337274,
                    88145788.56339371,
                    147278185.9870003,
                    87043575.27851681,
                    80886265.3806699,
                    43380354.00588131,
                    46728559.157645084,
                    66455958.516344324,
                    66010946.66986199,
                    56500088.31927107,
                    105391202.9709056,
                    127130631.75779565,
                    46345119.57270018,
                    41332722.02650989,
                    46585214.9693123,
                    37254124.65078554,
                    35829998.94474249,
                    47458975.67453929,
                    47099011.83960251,
                    29622880.78228861,
                    23198295.084656168,
                    74678186.2443025,
                    60023131.90690035,
                    106714422.24949822,
                    122063940.58417867,
                    92349426.70976084,
                    38335140.04223383,
                    40886701.709705636,
                    81270929.27170742,
                    52546711.01082756,
                    35472477.05852496,
                    49570873.142295815,
                    63520864.40301559,
                    37761461.8087519,
                    33074048.637722973,
                    47834971.75321198,
                    40123715.49198743,
                    38279615.65096887,
                    35687593.619546145,
                    34915387.67401389,
                    24730060.458551742,
                    39811557.86447781,
                    40082093.84586946,
                    56062102.539868824,
                    42899553.96691712,
                    82085818.01206473,
                    52712271.26118627,
                    20991046.41516583,
                    29385790.601315193,
                    40725652.38186435,
                    39473447.14356946,
                    32069104.713999804,
                    32193777.91822605,
                    21589925.69619727,
                    22375106.494039662,
                    26563513.28063695,
                    22956689.188099373,
                    33931344.592510894,
                    29244690.98214445,
                    20718546.986453928,
                    24284713.89879599,
                    20055873.374113828,
                    15160330.575001255,
                    47325478.49724487,
                    29572978.021298107,
                    29143687.72269466,
                    25351405.771552168,
                    30111045.397363935,
                    13636448.715263091,
                    15769721.172593012,
                    20594348.144478925,
                    21823961.720682785,
                    33227644.763431024,
                    29423870.60313006,
                    61550750.873219386,
                    18714263.349324558,
                    19416958.48364193,
                    31575155.989079226,
                    30421271.856922377,
                    25066145.990929097,
                    21958313.486186508,
                    26596892.661881533,
                    15491444.135073923,
                    23094534.054306645,
                    63413111.41809696,
                    58024557.706988014,
                    34788786.70241847,
                    34200700.014240116,
                    29815118.12595173,
                    43386342.35457338,
                    66158590.90127994,
                    41493336.82384838,
                    24806679.6152378,
                    31488229.434250697,
                    37291043.63305508,
                    26167057.649601158,
                    14023649.126574995,
                    15277112.427357316,
                    31122166.239966612,
                    35812372.26298451,
                    26500720.93022332,
                    28246289.083725266,
                    34226032.34948511,
                    22964106.90347593,
                    14101739.75534516,
                    24170725.94054489,
                    26523029.867797077,
                    21447765.14808967,
                    30455601.75568521,
                    26311343.12886066,
                    27348083.59798401,
                    14316205.04859656,
                    22252991.0118495,
                    23347808.763250437,
                    28961831.68435155,
                    36672015.9034188,
                    20272849.331036143,
                    16061710.340709362,
                    10670549.881924778,
                    25338525.74470023,
                    16677384.048434425,
                    27723002.964324858,
                    19939056.208916567,
                    40562328.77023854,
                    21501090.573572487,
                    12771003.510978846,
                    32540551.931242947,
                    181838708.96962416,
                    205941718.32374957,
                    81855159.45463783,
                    59230040.94906333,
                    62644423.92232367,
                    53428688.903145455,
                    83210665.63829012,
                    51434675.87654928,
                    90229191.63119154,
                    85480919.5893216,
                    48898323.45166202,
                    21909943.99480843,
                    22515471.981461957,
                    51626330.7433592,
                    44400752.36901073,
                    38910701.98916648,
                    43329571.697486684,
                    33389423.50277405,
                    26065072.723763462,
                    31114864.883619603,
                    66620530.178616196,
                    102953267.60941285,
                    83735791.2633278,
                    95108086.55793242,
                    74250550.88758026,
                    22064451.28220071,
                    25372303.033342693,
                    37778278.410589375,
                    37959042.89285821,
                    38877157.508726954,
                    39361750.443211414,
                    109505991.7259239,
                    63018697.07131241,
                    32934383.375380043,
                    51371962.18615745,
                    93984124.69565374,
                    74449276.53650711,
                    94916928.7207842,
                    110736975.96732913,
                    261118312.5612087,
                    292825571.0741773,
                    364285318.97760814,
                    316044332.207036,
                    201407123.48337328,
                    230683503.17524073,
                    295181039.56599927,
                    76907242.18741918,
                    183000839.51473555,
                    183713383.60423258,
                    106268875.21471496,
                    122652399.52798381,
                    107628972.76155335,
                    112106359.0591235,
                    41118104.04748303,
                    144368037.5561845,
                    147001407.0073824,
                    99407066.82657456,
                    100238969.58396395,
                    238803141.4537771,
                    131680917.50685175,
                    59880142.07283026,
                    48487153.17396242,
                    127084852.88382468,
                    207723649.32021198,
                    96652847.49713925,
                    91202730.34165432,
                    94758145.33502375,
                    38797094.19473719,
                    54937270.36515955,
                    73750272.94298394,
                    58054359.49598704,
                    95751981.34485984,
                    67420255.04084809,
                    101254722.40618435,
                    82473053.39030999,
                    188324126.56497744,
                    177638587.80485436,
                    140183427.14237323,
                    81184360.12457907,
                    107767910.10698678,
                    224274380.78449908,
                    360749561.1841508,
                    170508296.32510808,
                    153910580.96376622,
                    261869535.73140293,
                    852034385.9361607,
                    764122713.9082261,
                    449242494.43322045,
                    312360746.7352206,
                    297710205.8194047,
                    376161953.0888644,
                    398656934.31111354,
                    394345470.5446904,
                    239335050.66078767,
                    210050912.92630598,
                    163490797.39377978,
                    120739205.96859874,
                    220569882.97992882,
                    305497012.77549624,
                    457064090.64294076,
                    373722140.10299397,
                    198711970.27844602,
                    190470243.08162424,
                    249816200.09081233,
                    319087346.9752958,
                    380946106.07504594,
                    311484553.2424426,
                    298038304.5193411,
                    188652205.1288646,
                    179557859.12733385,
                    117935890.83568329,
                    150660469.88640445,
                    166348925.56196076,
                    161742933.80887368,
                    122689281.98173726,
                    97911908.12092419,
                    159253089.18483454,
                    81888911.5016839,
                    91999156.03254014,
                    83159796.69750792,
                    121140565.93255931,
                    137288123.54625332,
                    130712529.93748288,
                    101574657.74074712,
                    119877253.72916587,
                    254329948.99749634,
                    266999008.7623036,
                    243389690.32578337,
                    166015740.07607025,
                    132524024.1465837,
                    144620419.22453207,
                    78691600.94690862,
                    66069587.89809901,
                    128674162.02465439,
                    229430736.3268742,
                    253417925.03342113,
                    186211087.94418603,
                    69642098.17819093,
                    65126656.23461445,
                    123965765.22557613,
                    89680899.77835302,
                    165041937.64442426,
                    101869270.2432776,
                    92032920.29519038,
                    75279375.69789815,
                    63119149.18233842,
                    133713868.16530697,
                    75996863.72857082,
                    150239812.91247323,
                    136240147.28452927,
                    83293406.60585,
                    37563258.90455279,
                    38182957.557662785,
                    117689083.18516272,
                    162210768.9345131,
                    122394682.36302395,
                    75416118.89117326,
                    156080583.7121244,
                    45787147.47132909,
                    51198309.7993114,
                    100307613.42707573,
                    82172791.32123317,
                    84202465.9293965,
                    78381561.16502266,
                    71150517.39389746,
                    46268267.79057395,
                    28306975.889208585,
                    79565836.20388298,
                    58438765.86189273,
                    57329567.88498733,
                    155581259.6422614,
                    62891106.28257472,
                    50506357.85887678,
                    52623137.6695118,
                    111602648.6200799,
                    335313149.5728274,
                    198737091.91097033,
                    221410153.73107192,
                    128267683.19538927,
                    73750897.58321103,
                    59212223.59603064,
                    122647064.17110129,
                    102867996.72952718,
                    58201685.357300706,
                    64915642.0155515,
                    63189609.15758592,
                    31011116.957178224,
                    69076483.3173999,
                    81033609.28631137,
                    48072046.66894571,
                    122213687.8665377,
                    68019753.89896305,
                    105228038.13201644,
                    25400016.90747189,
                    48775737.29556951,
                    37080246.52297379,
                    70337640.4091582,
                    68067717.93976036,
                    39487857.62554072,
                    56150984.43730588,
                    38595161.39535926,
                    49822294.71207533,
                    50498355.71879968,
                    49207017.364939295,
                    145164605.58225444,
                    59390161.93050937,
                    224074015.48416388,
                    505390363.12798107,
                    186615332.2474383,
                    159063061.03700206,
                    118330924.826946,
                    90419132.87322253,
                    76480951.91273989,
                    71236237.53563619,
                    42389457.01324094,
                    39500190.157953836,
                    78261046.49647634,
                    70748462.40012711,
                    63750044.79068417,
                    55214187.185481094,
                    114512660.3316193,
                    36727335.7270211,
                    54412170.1433783,
                    61777368.720511004,
                    54698033.04895933,
                    39251261.78286521,
                    48509043.32281892,
                    93180718.44419724,
                    22976431.84757936,
                    31975328.552114516,
                    81718209.12212604,
                    59596058.68086687,
                    42909573.710154906,
                    130417487.70499125,
                    242673680.6383821,
                    56023034.48598279,
                    75756582.85386524,
                    188458592.81203786,
                    84736193.76870535,
                    140909339.73869953,
                    65136601.629814,
                    83064977.21793272,
                    46705979.36968549,
                    63906771.65772021,
                    51335020.75099248,
                    45206874.61339096,
                    121089881.54981455,
                    67828670.96630885,
                    69526863.38005337,
                    36771147.23270006,
                    31778642.700991727,
                    76542842.800624,
                    52337018.93621394,
                    42855990.318502724,
                    61645418.646865495,
                    44256418.553217925,
                    30901844.10937493,
                    34797141.03191197,
                    91625095.46084906,
                    94427361.1089662,
                    158634023.1617198,
                    75263656.80815469,
                    43067061.12558789,
                    24458855.550236616,
                    74775734.26829235,
                    113705744.56487404,
                    56839324.36510987,
                    23752377.4723403,
                    55611777.963417575,
                    60987173.42341404,
                    33749835.491735086,
                    48533705.038353816,
                    53517033.243003465,
                    48557590.579850025,
                    24110757.063186858,
                    56248279.319854535,
                    101599167.61023034,
                    34732882.5387414,
                    44130267.46691255,
                    89099112.18194215,
                    158197975.55247933,
                    196389340.46505246,
                    74819190.9518334,
                    106514854.57706006,
                    61452951.80514115,
                    31778279.749693025,
                    54107475.854261585,
                    232481195.60540095,
                    131173426.10752401,
                    80380928.35002582,
                    137103876.22876704,
                    49831230.454511754,
                    134258385.21463564,
                    48421026.440496236,
                    64909884.330525324,
                    47476625.97187793,
                    102727670.35968737,
                    72435333.56260423,
                    31491095.67800521,
                    46502933.84898924,
                    83825507.9774347,
                    159791407.11268482,
                    114237705.12746496,
                    121491821.15660757,
                    90641575.46911414,
                    41118321.86258775,
                    68311702.61997966,
                    111396869.28733787,
                    75286006.8434127,
                    126308185.35938904,
                    122962710.83648299,
                    83310624.11800979,
                    79559000.65316275,
                    97117070.28644614,
                    131547763.21781497,
                    168077846.45668888,
                    142211839.66849905,
                    175925330.17385095,
                    82468081.13061334,
                    123831525.74836269,
                    92980192.92420031,
                    98210026.80235201,
                    115254930.12531428,
                    165019102.4690011,
                    118526928.80832525,
                    68405586.54317357,
                    31901387.416506406,
                    55664886.30762414,
                    107230858.28827488,
                    88336584.45404916,
                    193575759.46434945,
                    129796652.22620946,
                    118046217.75595269,
                    44580490.22009215,
                    62865008.0116732,
                    89636524.61562042,
                    80314266.55541144,
                    49807860.052542314,
                    90915100.89785782,
                    58401453.431525275,
                    58400449.284333505,
                    139039636.41490883,
                    200851307.91127995,
                    136536261.9540701,
                    106495872.34521966,
                    691470513.1225194,
                    672737470.5051631,
                    176551604.48072267,
                    236074995.00011772,
                    393603430.90493,
                    235797371.05507773,
                    197860952.85666695,
                    324759796.5275068,
                    337031616.22835815,
                    145322418.53505123,
                    169838094.83987096,
                    263281991.3974209,
                    270286131.79056007,
                    208586545.0749073,
                    116577186.59411182,
                    136347033.49117494,
                    126547015.51065473,
                    97575780.81856345,
                    149349259.28317147,
                    77035586.76872064,
                    113548606.31662706,
                    196746628.00253955,
                    101888455.16284215,
                    69550056.07160741,
                    60870349.964396305,
                    199191512.3924471,
                    166296843.53307718,
                    112806215.799753,
                    90142188.6292473,
                    136661893.08370695,
                    55351253.29055403,
                    89245524.5629785,
                    150564196.00968945,
                    88622758.81432852,
                    99802667.4587944,
                    194997401.34765482,
                    95537917.86497025,
                    82811402.84887947,
                    63655645.12183316,
                    128274055.99292196,
                    99270734.40028608,
                    92466940.8251213,
                    168898059.0951135,
                    103461107.75158039,
                    56245229.38704693,
                    70749778.6101114,
                    119232767.15077789,
                    84913305.91596635,
                    410005803.6903439,
                    399375563.013948,
                    190599296.5672379,
                    93740765.45138909,
                    153972833.6123466,
                    161189909.74359626,
                    146542998.03790247,
                    254883686.85242227,
                    381074045.67781293,
                    261703693.26810738,
                    174066148.35372025,
                    441781378.6460835,
                    347389624.37653494,
                    177699509.49657637,
                    195011070.12565893,
                    276845484.3973285,
                    238386115.95485196,
                    101363189.55889092,
                    130998038.84559147,
                    172348384.44813347,
                    147256777.7597733,
                    162162485.4406873,
                    256707237.12189856,
                    125252281.405255,
                    63338392.06999437,
                    116980195.08151154,
                    108558223.80617455,
                    101815249.02472185,
                    99194549.95838454,
                    136150174.5502311,
                    98466979.5362531,
                    100245160.01987912,
                    75780120.43484414,
                    214222991.4844187,
                    325653254.12688404,
                    109367780.45830117,
                    120918542.94972582,
                    121400865.98332407,
                    62571960.92264445,
                    111647520.12347873,
                    82965142.47913754,
                    100441938.86868402,
                    127430622.55844693,
                    254250528.12622514,
                    103408180.10908544,
                    43188132.26614418,
                    45284111.96986285,
                    171042273.44099313,
                    98255373.75965053,
                    84153254.2769079,
                    58276396.29778039,
                    65437925.70464025,
                    1971044.7013089303,
                    28856962.511765294,
                    112437336.0940918,
                    76615090.17889288,
                    125579599.04284981,
                    6536202.355139608,
                    330493.0245618084,
                    76800582.2758536,
                    50213189.08943271,
                    42159966.81773769,
                    62402116.644872434,
                    9801816.267689623,
                    98240269.37556767,
                    70370166.75674564,
                    48311562.529285334,
                    41612401.36165852,
                    24164474.489626747,
                    58632634.74201353,
                    94983299.73574817,
                    78541251.50098936,
                    3945865.164284358,
                    31117063.397339202,
                    48424279.21752032,
                    80678880.46714723,
                    33160868.16170101,
                    20063385.14579351,
                    76389232.09919146,
                    23736680.73689918,
                    37773983.24043043,
                    25473734.31130014,
                    3540395.2604625104,
                    84602796.12941238,
                    61277299.217967615,
                    120186938.56803882,
                    19366215.23085125,
                    13039416.4418103,
                    10341049.336215045,
                    70410714.37571642,
                    79105069.7956949,
                    31007959.427360583,
                    33528243.523780428,
                    22792845.01437778,
                    42906718.963325426,
                    176369705.11471936,
                    26093807.849991113,
                    90493816.89386031,
                    10761726.054176211,
                    54929463.10454562,
                    38693655.9990868,
                    35046852.73843677,
                    22766934.73367218,
                    86644499.00886866,
                    81790251.67273523,
                    27084757.02243895,
                    31304438.257214207,
                    35992575.78398832,
                    42153193.94533222,
                    8727059.018345278,
                    24805844.416590065,
                    39195301.30270119,
                    61675081.478720106,
                    24352127.3524412,
                    28912068.257339608,
                    39284638.07583232,
                    15712714.90808382,
                    12462347.35952721,
                    3461208.061035134,
                    17744181.739705674,
                    15081953.712343046,
                    10620637.616310338,
                    1640956.6691929754,
                    15641447.53698177,
                    10660791.766826605,
                    22318799.50320441,
                    209350253.20675448,
                    5248558.4006521385,
                    12943319.831373107,
                    19243472.621000014,
                    17569061.021864533,
                    9923038.784501757
                  ],
                  "x": [
                    "2017-04-28T00:00:00",
                    "2017-04-29T00:00:00",
                    "2017-04-30T00:00:00",
                    "2017-05-01T00:00:00",
                    "2017-05-02T00:00:00",
                    "2017-05-03T00:00:00",
                    "2017-05-04T00:00:00",
                    "2017-05-05T00:00:00",
                    "2017-05-06T00:00:00",
                    "2017-05-07T00:00:00",
                    "2017-05-08T00:00:00",
                    "2017-05-09T00:00:00",
                    "2017-05-10T00:00:00",
                    "2017-05-11T00:00:00",
                    "2017-05-12T00:00:00",
                    "2017-05-13T00:00:00",
                    "2017-05-14T00:00:00",
                    "2017-05-15T00:00:00",
                    "2017-05-16T00:00:00",
                    "2017-05-17T00:00:00",
                    "2017-05-18T00:00:00",
                    "2017-05-19T00:00:00",
                    "2017-05-20T00:00:00",
                    "2017-05-21T00:00:00",
                    "2017-05-22T00:00:00",
                    "2017-05-23T00:00:00",
                    "2017-05-24T00:00:00",
                    "2017-05-25T00:00:00",
                    "2017-05-26T00:00:00",
                    "2017-05-27T00:00:00",
                    "2017-05-28T00:00:00",
                    "2017-05-29T00:00:00",
                    "2017-05-30T00:00:00",
                    "2017-05-31T00:00:00",
                    "2017-06-01T00:00:00",
                    "2017-06-02T00:00:00",
                    "2017-11-21T00:00:00",
                    "2017-11-22T00:00:00",
                    "2017-11-23T00:00:00",
                    "2017-11-24T00:00:00",
                    "2017-11-25T00:00:00",
                    "2017-11-26T00:00:00",
                    "2017-11-27T00:00:00",
                    "2017-11-28T00:00:00",
                    "2017-11-29T00:00:00",
                    "2017-11-30T00:00:00",
                    "2017-12-01T00:00:00",
                    "2017-12-02T00:00:00",
                    "2017-12-03T00:00:00",
                    "2017-12-04T00:00:00",
                    "2017-12-05T00:00:00",
                    "2017-12-06T00:00:00",
                    "2017-12-07T00:00:00",
                    "2017-12-08T00:00:00",
                    "2017-12-09T00:00:00",
                    "2017-12-10T00:00:00",
                    "2017-12-11T00:00:00",
                    "2017-12-12T00:00:00",
                    "2017-12-13T00:00:00",
                    "2017-12-14T00:00:00",
                    "2017-12-15T00:00:00",
                    "2017-12-16T00:00:00",
                    "2017-12-17T00:00:00",
                    "2017-12-18T00:00:00",
                    "2017-12-19T00:00:00",
                    "2017-12-20T00:00:00",
                    "2017-12-21T00:00:00",
                    "2017-12-22T00:00:00",
                    "2017-12-23T00:00:00",
                    "2017-12-24T00:00:00",
                    "2017-12-25T00:00:00",
                    "2017-12-26T00:00:00",
                    "2017-12-27T00:00:00",
                    "2017-12-28T00:00:00",
                    "2017-12-29T00:00:00",
                    "2017-12-30T00:00:00",
                    "2017-12-31T00:00:00",
                    "2018-01-01T00:00:00",
                    "2018-01-02T00:00:00",
                    "2018-01-03T00:00:00",
                    "2018-01-04T00:00:00",
                    "2018-01-05T00:00:00",
                    "2018-01-06T00:00:00",
                    "2018-01-07T00:00:00",
                    "2018-01-08T00:00:00",
                    "2018-01-09T00:00:00",
                    "2018-01-10T00:00:00",
                    "2018-01-11T00:00:00",
                    "2018-01-12T00:00:00",
                    "2018-01-13T00:00:00",
                    "2018-01-14T00:00:00",
                    "2018-01-15T00:00:00",
                    "2018-01-16T00:00:00",
                    "2018-01-17T00:00:00",
                    "2018-01-18T00:00:00",
                    "2018-01-19T00:00:00",
                    "2018-01-20T00:00:00",
                    "2018-01-21T00:00:00",
                    "2018-01-22T00:00:00",
                    "2018-01-23T00:00:00",
                    "2018-01-24T00:00:00",
                    "2018-01-25T00:00:00",
                    "2018-01-26T00:00:00",
                    "2018-01-27T00:00:00",
                    "2018-01-28T00:00:00",
                    "2018-01-29T00:00:00",
                    "2018-01-30T00:00:00",
                    "2018-01-31T00:00:00",
                    "2018-02-01T00:00:00",
                    "2018-02-02T00:00:00",
                    "2018-02-03T00:00:00",
                    "2018-02-04T00:00:00",
                    "2018-02-05T00:00:00",
                    "2018-02-06T00:00:00",
                    "2018-02-07T00:00:00",
                    "2018-02-08T00:00:00",
                    "2018-02-09T00:00:00",
                    "2018-02-10T00:00:00",
                    "2018-02-11T00:00:00",
                    "2018-02-12T00:00:00",
                    "2018-02-13T00:00:00",
                    "2018-02-14T00:00:00",
                    "2018-02-15T00:00:00",
                    "2018-02-16T00:00:00",
                    "2018-02-17T00:00:00",
                    "2018-02-18T00:00:00",
                    "2018-02-19T00:00:00",
                    "2018-02-20T00:00:00",
                    "2018-02-21T00:00:00",
                    "2018-02-22T00:00:00",
                    "2018-02-23T00:00:00",
                    "2018-02-24T00:00:00",
                    "2018-02-25T00:00:00",
                    "2018-02-26T00:00:00",
                    "2018-02-27T00:00:00",
                    "2018-02-28T00:00:00",
                    "2018-03-01T00:00:00",
                    "2018-03-02T00:00:00",
                    "2018-03-03T00:00:00",
                    "2018-03-04T00:00:00",
                    "2018-03-05T00:00:00",
                    "2018-03-06T00:00:00",
                    "2018-03-07T00:00:00",
                    "2018-03-08T00:00:00",
                    "2018-03-09T00:00:00",
                    "2018-03-10T00:00:00",
                    "2018-03-11T00:00:00",
                    "2018-03-12T00:00:00",
                    "2018-03-13T00:00:00",
                    "2018-03-14T00:00:00",
                    "2018-03-15T00:00:00",
                    "2018-03-16T00:00:00",
                    "2018-03-17T00:00:00",
                    "2018-03-18T00:00:00",
                    "2018-03-19T00:00:00",
                    "2018-03-20T00:00:00",
                    "2018-03-21T00:00:00",
                    "2018-03-22T00:00:00",
                    "2018-03-23T00:00:00",
                    "2018-03-24T00:00:00",
                    "2018-03-25T00:00:00",
                    "2018-03-26T00:00:00",
                    "2018-03-27T00:00:00",
                    "2018-03-28T00:00:00",
                    "2018-03-29T00:00:00",
                    "2018-03-30T00:00:00",
                    "2018-03-31T00:00:00",
                    "2018-04-01T00:00:00",
                    "2018-04-02T00:00:00",
                    "2018-04-03T00:00:00",
                    "2018-04-04T00:00:00",
                    "2018-04-05T00:00:00",
                    "2018-04-06T00:00:00",
                    "2018-04-07T00:00:00",
                    "2018-04-08T00:00:00",
                    "2018-04-09T00:00:00",
                    "2018-04-10T00:00:00",
                    "2018-04-11T00:00:00",
                    "2018-04-12T00:00:00",
                    "2018-04-13T00:00:00",
                    "2018-04-14T00:00:00",
                    "2018-04-15T00:00:00",
                    "2018-04-16T00:00:00",
                    "2018-04-17T00:00:00",
                    "2018-04-18T00:00:00",
                    "2018-04-19T00:00:00",
                    "2018-04-20T00:00:00",
                    "2018-04-21T00:00:00",
                    "2018-04-22T00:00:00",
                    "2018-04-23T00:00:00",
                    "2018-04-24T00:00:00",
                    "2018-04-25T00:00:00",
                    "2018-04-26T00:00:00",
                    "2018-04-27T00:00:00",
                    "2018-04-28T00:00:00",
                    "2018-04-29T00:00:00",
                    "2018-04-30T00:00:00",
                    "2018-05-01T00:00:00",
                    "2018-05-02T00:00:00",
                    "2018-05-03T00:00:00",
                    "2018-05-04T00:00:00",
                    "2018-05-05T00:00:00",
                    "2018-05-06T00:00:00",
                    "2018-05-07T00:00:00",
                    "2018-05-08T00:00:00",
                    "2018-05-09T00:00:00",
                    "2018-05-10T00:00:00",
                    "2018-05-11T00:00:00",
                    "2018-05-12T00:00:00",
                    "2018-05-13T00:00:00",
                    "2018-05-14T00:00:00",
                    "2018-05-15T00:00:00",
                    "2018-05-16T00:00:00",
                    "2018-05-17T00:00:00",
                    "2018-05-18T00:00:00",
                    "2018-05-19T00:00:00",
                    "2018-05-20T00:00:00",
                    "2018-05-21T00:00:00",
                    "2018-05-22T00:00:00",
                    "2018-05-23T00:00:00",
                    "2018-05-24T00:00:00",
                    "2018-05-25T00:00:00",
                    "2018-05-26T00:00:00",
                    "2018-05-27T00:00:00",
                    "2018-05-28T00:00:00",
                    "2018-05-29T00:00:00",
                    "2018-05-30T00:00:00",
                    "2018-05-31T00:00:00",
                    "2018-06-01T00:00:00",
                    "2018-06-02T00:00:00",
                    "2018-06-03T00:00:00",
                    "2018-06-04T00:00:00",
                    "2018-06-05T00:00:00",
                    "2018-06-06T00:00:00",
                    "2018-06-07T00:00:00",
                    "2018-06-08T00:00:00",
                    "2018-06-09T00:00:00",
                    "2018-06-10T00:00:00",
                    "2018-06-11T00:00:00",
                    "2018-06-12T00:00:00",
                    "2018-06-13T00:00:00",
                    "2018-06-14T00:00:00",
                    "2018-06-15T00:00:00",
                    "2018-06-16T00:00:00",
                    "2018-06-17T00:00:00",
                    "2018-06-18T00:00:00",
                    "2018-06-19T00:00:00",
                    "2018-06-20T00:00:00",
                    "2018-06-21T00:00:00",
                    "2018-06-22T00:00:00",
                    "2018-06-23T00:00:00",
                    "2018-06-24T00:00:00",
                    "2018-06-25T00:00:00",
                    "2018-06-26T00:00:00",
                    "2018-06-27T00:00:00",
                    "2018-06-28T00:00:00",
                    "2018-06-29T00:00:00",
                    "2018-06-30T00:00:00",
                    "2018-07-01T00:00:00",
                    "2018-07-02T00:00:00",
                    "2018-07-03T00:00:00",
                    "2018-07-04T00:00:00",
                    "2018-07-05T00:00:00",
                    "2018-07-06T00:00:00",
                    "2018-07-07T00:00:00",
                    "2018-07-08T00:00:00",
                    "2018-07-09T00:00:00",
                    "2018-07-10T00:00:00",
                    "2018-07-11T00:00:00",
                    "2018-07-12T00:00:00",
                    "2018-07-13T00:00:00",
                    "2018-07-14T00:00:00",
                    "2018-07-15T00:00:00",
                    "2018-07-16T00:00:00",
                    "2018-07-17T00:00:00",
                    "2018-07-18T00:00:00",
                    "2018-07-19T00:00:00",
                    "2018-07-20T00:00:00",
                    "2018-07-21T00:00:00",
                    "2018-07-22T00:00:00",
                    "2018-07-23T00:00:00",
                    "2018-07-24T00:00:00",
                    "2018-07-25T00:00:00",
                    "2018-07-26T00:00:00",
                    "2018-07-27T00:00:00",
                    "2018-07-28T00:00:00",
                    "2018-07-29T00:00:00",
                    "2018-07-30T00:00:00",
                    "2018-07-31T00:00:00",
                    "2018-08-01T00:00:00",
                    "2018-08-02T00:00:00",
                    "2018-08-03T00:00:00",
                    "2018-08-04T00:00:00",
                    "2018-08-05T00:00:00",
                    "2018-08-06T00:00:00",
                    "2018-08-07T00:00:00",
                    "2018-08-08T00:00:00",
                    "2018-08-09T00:00:00",
                    "2018-08-10T00:00:00",
                    "2018-08-11T00:00:00",
                    "2018-08-12T00:00:00",
                    "2018-08-13T00:00:00",
                    "2018-08-14T00:00:00",
                    "2018-08-15T00:00:00",
                    "2018-08-16T00:00:00",
                    "2018-08-17T00:00:00",
                    "2018-08-18T00:00:00",
                    "2018-08-19T00:00:00",
                    "2018-08-20T00:00:00",
                    "2018-08-21T00:00:00",
                    "2018-08-22T00:00:00",
                    "2018-08-23T00:00:00",
                    "2018-08-24T00:00:00",
                    "2018-08-25T00:00:00",
                    "2018-08-26T00:00:00",
                    "2018-08-27T00:00:00",
                    "2018-08-28T00:00:00",
                    "2018-08-29T00:00:00",
                    "2018-08-30T00:00:00",
                    "2018-08-31T00:00:00",
                    "2018-09-01T00:00:00",
                    "2018-09-02T00:00:00",
                    "2018-09-03T00:00:00",
                    "2018-09-04T00:00:00",
                    "2018-09-05T00:00:00",
                    "2018-09-06T00:00:00",
                    "2018-09-07T00:00:00",
                    "2018-09-08T00:00:00",
                    "2018-09-09T00:00:00",
                    "2018-09-10T00:00:00",
                    "2018-09-11T00:00:00",
                    "2018-09-12T00:00:00",
                    "2018-09-13T00:00:00",
                    "2018-09-14T00:00:00",
                    "2018-09-15T00:00:00",
                    "2018-09-16T00:00:00",
                    "2018-09-17T00:00:00",
                    "2018-09-18T00:00:00",
                    "2018-09-19T00:00:00",
                    "2018-09-20T00:00:00",
                    "2018-09-21T00:00:00",
                    "2018-09-22T00:00:00",
                    "2018-09-23T00:00:00",
                    "2018-09-24T00:00:00",
                    "2018-09-25T00:00:00",
                    "2018-09-26T00:00:00",
                    "2018-09-27T00:00:00",
                    "2018-09-28T00:00:00",
                    "2018-09-29T00:00:00",
                    "2018-09-30T00:00:00",
                    "2018-10-01T00:00:00",
                    "2018-10-02T00:00:00",
                    "2018-10-03T00:00:00",
                    "2018-10-04T00:00:00",
                    "2018-10-05T00:00:00",
                    "2018-10-06T00:00:00",
                    "2018-10-07T00:00:00",
                    "2018-10-08T00:00:00",
                    "2018-10-09T00:00:00",
                    "2018-10-10T00:00:00",
                    "2018-10-11T00:00:00",
                    "2018-10-12T00:00:00",
                    "2018-10-13T00:00:00",
                    "2018-10-14T00:00:00",
                    "2018-10-15T00:00:00",
                    "2018-10-16T00:00:00",
                    "2018-10-17T00:00:00",
                    "2018-10-18T00:00:00",
                    "2018-10-19T00:00:00",
                    "2018-10-20T00:00:00",
                    "2018-10-21T00:00:00",
                    "2018-10-22T00:00:00",
                    "2018-10-23T00:00:00",
                    "2018-10-24T00:00:00",
                    "2018-10-25T00:00:00",
                    "2018-10-26T00:00:00",
                    "2018-10-27T00:00:00",
                    "2018-10-28T00:00:00",
                    "2018-10-29T00:00:00",
                    "2018-10-30T00:00:00",
                    "2018-10-31T00:00:00",
                    "2018-11-01T00:00:00",
                    "2018-11-02T00:00:00",
                    "2018-11-03T00:00:00",
                    "2018-11-04T00:00:00",
                    "2018-11-05T00:00:00",
                    "2018-11-06T00:00:00",
                    "2018-11-07T00:00:00",
                    "2018-11-08T00:00:00",
                    "2018-11-09T00:00:00",
                    "2018-11-10T00:00:00",
                    "2018-11-11T00:00:00",
                    "2018-11-12T00:00:00",
                    "2018-11-13T00:00:00",
                    "2018-11-14T00:00:00",
                    "2018-11-15T00:00:00",
                    "2018-11-16T00:00:00",
                    "2018-11-17T00:00:00",
                    "2018-11-18T00:00:00",
                    "2018-11-19T00:00:00",
                    "2018-11-20T00:00:00",
                    "2018-11-21T00:00:00",
                    "2018-11-22T00:00:00",
                    "2018-11-23T00:00:00",
                    "2018-11-24T00:00:00",
                    "2018-11-25T00:00:00",
                    "2018-11-26T00:00:00",
                    "2018-11-27T00:00:00",
                    "2018-11-28T00:00:00",
                    "2018-11-29T00:00:00",
                    "2018-11-30T00:00:00",
                    "2018-12-01T00:00:00",
                    "2018-12-02T00:00:00",
                    "2018-12-03T00:00:00",
                    "2018-12-04T00:00:00",
                    "2018-12-05T00:00:00",
                    "2018-12-06T00:00:00",
                    "2018-12-07T00:00:00",
                    "2018-12-08T00:00:00",
                    "2018-12-09T00:00:00",
                    "2018-12-10T00:00:00",
                    "2018-12-11T00:00:00",
                    "2018-12-12T00:00:00",
                    "2018-12-13T00:00:00",
                    "2018-12-14T00:00:00",
                    "2018-12-15T00:00:00",
                    "2018-12-16T00:00:00",
                    "2018-12-17T00:00:00",
                    "2018-12-18T00:00:00",
                    "2018-12-19T00:00:00",
                    "2018-12-20T00:00:00",
                    "2018-12-21T00:00:00",
                    "2018-12-22T00:00:00",
                    "2018-12-23T00:00:00",
                    "2018-12-24T00:00:00",
                    "2018-12-25T00:00:00",
                    "2018-12-26T00:00:00",
                    "2018-12-27T00:00:00",
                    "2018-12-28T00:00:00",
                    "2018-12-29T00:00:00",
                    "2018-12-30T00:00:00",
                    "2018-12-31T00:00:00",
                    "2019-01-01T00:00:00",
                    "2019-01-02T00:00:00",
                    "2019-01-03T00:00:00",
                    "2019-01-04T00:00:00",
                    "2019-01-05T00:00:00",
                    "2019-01-06T00:00:00",
                    "2019-01-07T00:00:00",
                    "2019-01-08T00:00:00",
                    "2019-01-09T00:00:00",
                    "2019-01-10T00:00:00",
                    "2019-01-11T00:00:00",
                    "2019-01-12T00:00:00",
                    "2019-01-13T00:00:00",
                    "2019-01-14T00:00:00",
                    "2019-01-15T00:00:00",
                    "2019-01-16T00:00:00",
                    "2019-01-17T00:00:00",
                    "2019-01-18T00:00:00",
                    "2019-01-19T00:00:00",
                    "2019-01-20T00:00:00",
                    "2019-01-21T00:00:00",
                    "2019-01-22T00:00:00",
                    "2019-01-23T00:00:00",
                    "2019-01-24T00:00:00",
                    "2019-01-25T00:00:00",
                    "2019-01-26T00:00:00",
                    "2019-01-27T00:00:00",
                    "2019-01-28T00:00:00",
                    "2019-01-29T00:00:00",
                    "2019-01-30T00:00:00",
                    "2019-01-31T00:00:00",
                    "2019-02-01T00:00:00",
                    "2019-02-02T00:00:00",
                    "2019-02-03T00:00:00",
                    "2019-02-04T00:00:00",
                    "2019-02-05T00:00:00",
                    "2019-02-06T00:00:00",
                    "2019-02-07T00:00:00",
                    "2019-02-08T00:00:00",
                    "2019-02-09T00:00:00",
                    "2019-02-10T00:00:00",
                    "2019-02-11T00:00:00",
                    "2019-02-12T00:00:00",
                    "2019-02-13T00:00:00",
                    "2019-02-14T00:00:00",
                    "2019-02-15T00:00:00",
                    "2019-02-16T00:00:00",
                    "2019-02-17T00:00:00",
                    "2019-02-18T00:00:00",
                    "2019-02-19T00:00:00",
                    "2019-02-20T00:00:00",
                    "2019-02-21T00:00:00",
                    "2019-02-22T00:00:00",
                    "2019-02-23T00:00:00",
                    "2019-02-24T00:00:00",
                    "2019-02-25T00:00:00",
                    "2019-02-26T00:00:00",
                    "2019-02-27T00:00:00",
                    "2019-02-28T00:00:00",
                    "2019-03-01T00:00:00",
                    "2019-03-02T00:00:00",
                    "2019-03-03T00:00:00",
                    "2019-03-04T00:00:00",
                    "2019-03-05T00:00:00",
                    "2019-03-06T00:00:00",
                    "2019-03-07T00:00:00",
                    "2019-03-08T00:00:00",
                    "2019-03-09T00:00:00",
                    "2019-03-10T00:00:00",
                    "2019-03-11T00:00:00",
                    "2019-03-12T00:00:00",
                    "2019-03-13T00:00:00",
                    "2019-03-14T00:00:00",
                    "2019-03-15T00:00:00",
                    "2019-03-16T00:00:00",
                    "2019-03-17T00:00:00",
                    "2019-03-18T00:00:00",
                    "2019-03-19T00:00:00",
                    "2019-03-20T00:00:00",
                    "2019-03-21T00:00:00",
                    "2019-03-22T00:00:00",
                    "2019-03-23T00:00:00",
                    "2019-03-24T00:00:00",
                    "2019-03-25T00:00:00",
                    "2019-03-26T00:00:00",
                    "2019-03-27T00:00:00",
                    "2019-03-28T00:00:00",
                    "2019-03-29T00:00:00",
                    "2019-03-30T00:00:00",
                    "2019-03-31T00:00:00",
                    "2019-04-01T00:00:00",
                    "2019-04-02T00:00:00",
                    "2019-04-03T00:00:00",
                    "2019-04-04T00:00:00",
                    "2019-04-05T00:00:00",
                    "2019-04-06T00:00:00",
                    "2019-04-07T00:00:00",
                    "2019-04-08T00:00:00",
                    "2019-04-09T00:00:00",
                    "2019-04-10T00:00:00",
                    "2019-04-11T00:00:00",
                    "2019-04-12T00:00:00",
                    "2019-04-13T00:00:00",
                    "2019-04-14T00:00:00",
                    "2019-04-15T00:00:00",
                    "2019-04-16T00:00:00",
                    "2019-04-17T00:00:00",
                    "2019-04-18T00:00:00",
                    "2019-04-19T00:00:00",
                    "2019-04-20T00:00:00",
                    "2019-04-21T00:00:00",
                    "2019-04-22T00:00:00",
                    "2019-04-23T00:00:00",
                    "2019-04-24T00:00:00",
                    "2019-04-25T00:00:00",
                    "2019-04-26T00:00:00",
                    "2019-04-27T00:00:00",
                    "2019-04-28T00:00:00",
                    "2019-04-29T00:00:00",
                    "2019-04-30T00:00:00",
                    "2019-05-01T00:00:00",
                    "2019-05-02T00:00:00",
                    "2019-05-03T00:00:00",
                    "2019-05-04T00:00:00",
                    "2019-05-05T00:00:00",
                    "2019-05-06T00:00:00",
                    "2019-05-07T00:00:00",
                    "2019-05-08T00:00:00",
                    "2019-05-09T00:00:00",
                    "2019-05-10T00:00:00",
                    "2019-05-11T00:00:00",
                    "2019-05-12T00:00:00",
                    "2019-05-13T00:00:00",
                    "2019-05-14T00:00:00",
                    "2019-05-15T00:00:00",
                    "2019-05-16T00:00:00",
                    "2019-05-17T00:00:00",
                    "2019-05-18T00:00:00",
                    "2019-05-19T00:00:00",
                    "2019-05-20T00:00:00",
                    "2019-05-21T00:00:00",
                    "2019-05-22T00:00:00",
                    "2019-05-23T00:00:00",
                    "2019-05-24T00:00:00",
                    "2019-05-25T00:00:00",
                    "2019-05-26T00:00:00",
                    "2019-05-27T00:00:00",
                    "2019-05-28T00:00:00",
                    "2019-05-29T00:00:00",
                    "2019-05-30T00:00:00",
                    "2019-05-31T00:00:00",
                    "2019-06-01T00:00:00",
                    "2019-06-02T00:00:00",
                    "2019-06-03T00:00:00",
                    "2019-06-04T00:00:00",
                    "2019-06-05T00:00:00",
                    "2019-06-06T00:00:00",
                    "2019-06-07T00:00:00",
                    "2019-06-08T00:00:00",
                    "2019-06-09T00:00:00",
                    "2019-06-10T00:00:00",
                    "2019-06-11T00:00:00",
                    "2019-06-12T00:00:00",
                    "2019-06-13T00:00:00",
                    "2019-06-14T00:00:00",
                    "2019-06-15T00:00:00",
                    "2019-06-16T00:00:00",
                    "2019-06-17T00:00:00",
                    "2019-06-18T00:00:00",
                    "2019-06-19T00:00:00",
                    "2019-06-20T00:00:00",
                    "2019-06-21T00:00:00",
                    "2019-06-22T00:00:00",
                    "2019-06-23T00:00:00",
                    "2019-06-24T00:00:00",
                    "2019-06-25T00:00:00",
                    "2019-06-26T00:00:00",
                    "2019-06-27T00:00:00",
                    "2019-06-28T00:00:00",
                    "2019-06-29T00:00:00",
                    "2019-06-30T00:00:00",
                    "2019-07-01T00:00:00",
                    "2019-07-02T00:00:00",
                    "2019-07-03T00:00:00",
                    "2019-07-04T00:00:00",
                    "2019-07-05T00:00:00",
                    "2019-07-06T00:00:00",
                    "2019-07-07T00:00:00",
                    "2019-07-08T00:00:00",
                    "2019-07-09T00:00:00",
                    "2019-07-10T00:00:00",
                    "2019-07-11T00:00:00",
                    "2019-07-12T00:00:00",
                    "2019-07-13T00:00:00",
                    "2019-07-14T00:00:00",
                    "2019-07-15T00:00:00",
                    "2019-07-16T00:00:00",
                    "2019-07-17T00:00:00",
                    "2019-07-18T00:00:00",
                    "2019-07-19T00:00:00",
                    "2019-07-20T00:00:00",
                    "2019-07-21T00:00:00",
                    "2019-07-22T00:00:00",
                    "2019-07-23T00:00:00",
                    "2019-07-24T00:00:00",
                    "2019-07-25T00:00:00",
                    "2019-07-26T00:00:00",
                    "2019-07-27T00:00:00",
                    "2019-07-28T00:00:00",
                    "2019-07-29T00:00:00",
                    "2019-07-30T00:00:00",
                    "2019-07-31T00:00:00",
                    "2019-08-01T00:00:00",
                    "2019-08-02T00:00:00",
                    "2019-08-03T00:00:00",
                    "2019-08-04T00:00:00",
                    "2019-08-05T00:00:00",
                    "2019-08-06T00:00:00",
                    "2019-08-07T00:00:00",
                    "2019-08-08T00:00:00",
                    "2019-08-09T00:00:00",
                    "2019-08-10T00:00:00",
                    "2019-08-11T00:00:00",
                    "2019-08-12T00:00:00",
                    "2019-08-13T00:00:00",
                    "2019-08-14T00:00:00",
                    "2019-08-15T00:00:00",
                    "2019-08-16T00:00:00",
                    "2019-08-17T00:00:00",
                    "2019-08-18T00:00:00",
                    "2019-08-19T00:00:00",
                    "2019-08-20T00:00:00",
                    "2019-08-21T00:00:00",
                    "2019-08-22T00:00:00",
                    "2019-08-23T00:00:00",
                    "2019-08-24T00:00:00",
                    "2019-08-25T00:00:00",
                    "2019-08-26T00:00:00",
                    "2019-08-27T00:00:00",
                    "2019-08-28T00:00:00",
                    "2019-08-29T00:00:00",
                    "2019-08-30T00:00:00",
                    "2019-08-31T00:00:00",
                    "2019-09-01T00:00:00",
                    "2019-09-02T00:00:00",
                    "2019-09-03T00:00:00",
                    "2019-09-04T00:00:00",
                    "2019-09-05T00:00:00",
                    "2019-09-06T00:00:00",
                    "2019-09-07T00:00:00",
                    "2019-09-08T00:00:00",
                    "2019-09-09T00:00:00",
                    "2019-09-10T00:00:00",
                    "2019-09-11T00:00:00",
                    "2019-09-12T00:00:00",
                    "2019-09-13T00:00:00",
                    "2019-09-14T00:00:00",
                    "2019-09-15T00:00:00",
                    "2019-09-16T00:00:00",
                    "2019-09-17T00:00:00",
                    "2019-09-18T00:00:00",
                    "2019-09-19T00:00:00",
                    "2019-09-20T00:00:00",
                    "2019-09-21T00:00:00",
                    "2019-09-22T00:00:00",
                    "2019-09-23T00:00:00",
                    "2019-09-24T00:00:00",
                    "2019-09-25T00:00:00",
                    "2019-09-26T00:00:00",
                    "2019-09-27T00:00:00",
                    "2019-09-28T00:00:00",
                    "2019-09-29T00:00:00",
                    "2019-09-30T00:00:00",
                    "2019-10-01T00:00:00",
                    "2019-10-02T00:00:00",
                    "2019-10-03T00:00:00",
                    "2019-10-04T00:00:00",
                    "2019-10-05T00:00:00",
                    "2019-10-06T00:00:00",
                    "2019-10-07T00:00:00",
                    "2019-10-08T00:00:00",
                    "2019-10-09T00:00:00",
                    "2019-10-10T00:00:00",
                    "2019-10-11T00:00:00",
                    "2019-10-12T00:00:00",
                    "2019-10-13T00:00:00",
                    "2019-10-14T00:00:00",
                    "2019-10-15T00:00:00",
                    "2019-10-16T00:00:00",
                    "2019-10-17T00:00:00",
                    "2019-10-18T00:00:00",
                    "2019-10-19T00:00:00",
                    "2019-10-20T00:00:00",
                    "2019-10-21T00:00:00",
                    "2019-10-22T00:00:00",
                    "2019-10-23T00:00:00",
                    "2019-10-24T00:00:00",
                    "2019-10-25T00:00:00",
                    "2019-10-26T00:00:00",
                    "2019-10-27T00:00:00",
                    "2019-10-28T00:00:00",
                    "2019-10-29T00:00:00",
                    "2019-10-30T00:00:00",
                    "2019-10-31T00:00:00",
                    "2019-11-01T00:00:00",
                    "2019-11-02T00:00:00",
                    "2019-11-03T00:00:00",
                    "2019-11-04T00:00:00",
                    "2019-11-05T00:00:00",
                    "2019-11-06T00:00:00",
                    "2019-11-07T00:00:00",
                    "2019-11-08T00:00:00",
                    "2019-11-09T00:00:00",
                    "2019-11-10T00:00:00",
                    "2019-11-11T00:00:00",
                    "2019-11-12T00:00:00",
                    "2019-11-13T00:00:00",
                    "2019-11-14T00:00:00",
                    "2019-11-15T00:00:00",
                    "2019-11-16T00:00:00",
                    "2019-11-17T00:00:00",
                    "2019-11-18T00:00:00",
                    "2019-11-19T00:00:00",
                    "2019-11-20T00:00:00",
                    "2019-11-21T00:00:00",
                    "2019-11-22T00:00:00",
                    "2019-11-23T00:00:00",
                    "2019-11-24T00:00:00",
                    "2019-11-25T00:00:00",
                    "2019-11-26T00:00:00",
                    "2019-11-27T00:00:00",
                    "2019-11-28T00:00:00",
                    "2019-11-29T00:00:00",
                    "2019-11-30T00:00:00",
                    "2019-12-01T00:00:00",
                    "2019-12-02T00:00:00",
                    "2019-12-03T00:00:00",
                    "2019-12-04T00:00:00",
                    "2019-12-05T00:00:00",
                    "2019-12-06T00:00:00",
                    "2019-12-07T00:00:00",
                    "2019-12-08T00:00:00",
                    "2019-12-09T00:00:00",
                    "2019-12-10T00:00:00",
                    "2019-12-11T00:00:00",
                    "2019-12-12T00:00:00",
                    "2019-12-13T00:00:00",
                    "2019-12-14T00:00:00",
                    "2019-12-15T00:00:00",
                    "2019-12-16T00:00:00",
                    "2019-12-17T00:00:00",
                    "2019-12-18T00:00:00",
                    "2019-12-19T00:00:00",
                    "2019-12-20T00:00:00",
                    "2019-12-21T00:00:00",
                    "2019-12-22T00:00:00",
                    "2019-12-23T00:00:00",
                    "2019-12-24T00:00:00",
                    "2019-12-25T00:00:00",
                    "2019-12-26T00:00:00",
                    "2019-12-27T00:00:00",
                    "2019-12-28T00:00:00",
                    "2019-12-29T00:00:00",
                    "2019-12-30T00:00:00",
                    "2019-12-31T00:00:00",
                    "2020-01-01T00:00:00",
                    "2020-01-02T00:00:00",
                    "2020-01-03T00:00:00",
                    "2020-01-04T00:00:00",
                    "2020-01-05T00:00:00",
                    "2020-01-06T00:00:00",
                    "2020-01-07T00:00:00",
                    "2020-01-08T00:00:00",
                    "2020-01-09T00:00:00",
                    "2020-01-10T00:00:00",
                    "2020-01-11T00:00:00",
                    "2020-01-12T00:00:00",
                    "2020-01-13T00:00:00",
                    "2020-01-14T00:00:00",
                    "2020-01-15T00:00:00",
                    "2020-01-16T00:00:00",
                    "2020-01-17T00:00:00",
                    "2020-01-18T00:00:00",
                    "2020-01-19T00:00:00",
                    "2020-01-20T00:00:00",
                    "2020-01-21T00:00:00",
                    "2020-01-22T00:00:00",
                    "2020-01-23T00:00:00",
                    "2020-01-24T00:00:00",
                    "2020-01-25T00:00:00",
                    "2020-01-26T00:00:00",
                    "2020-01-27T00:00:00",
                    "2020-01-28T00:00:00",
                    "2020-01-29T00:00:00",
                    "2020-01-30T00:00:00",
                    "2020-01-31T00:00:00",
                    "2020-02-01T00:00:00",
                    "2020-02-02T00:00:00",
                    "2020-02-03T00:00:00",
                    "2020-02-04T00:00:00",
                    "2020-02-05T00:00:00",
                    "2020-02-06T00:00:00",
                    "2020-02-07T00:00:00",
                    "2020-02-08T00:00:00",
                    "2020-02-09T00:00:00",
                    "2020-02-10T00:00:00",
                    "2020-02-11T00:00:00",
                    "2020-02-12T00:00:00",
                    "2020-02-13T00:00:00",
                    "2020-02-14T00:00:00",
                    "2020-02-15T00:00:00",
                    "2020-02-16T00:00:00",
                    "2020-02-17T00:00:00",
                    "2020-02-18T00:00:00",
                    "2020-02-19T00:00:00",
                    "2020-02-20T00:00:00",
                    "2020-02-21T00:00:00",
                    "2020-02-22T00:00:00",
                    "2020-02-23T00:00:00",
                    "2020-02-24T00:00:00",
                    "2020-02-25T00:00:00",
                    "2020-02-26T00:00:00",
                    "2020-02-27T00:00:00",
                    "2020-02-28T00:00:00",
                    "2020-02-29T00:00:00",
                    "2020-03-01T00:00:00",
                    "2020-03-02T00:00:00",
                    "2020-03-03T00:00:00",
                    "2020-03-04T00:00:00",
                    "2020-03-05T00:00:00",
                    "2020-03-06T00:00:00",
                    "2020-03-07T00:00:00",
                    "2020-03-08T00:00:00",
                    "2020-03-09T00:00:00",
                    "2020-03-10T00:00:00",
                    "2020-03-11T00:00:00",
                    "2020-03-12T00:00:00",
                    "2020-03-13T00:00:00",
                    "2020-03-14T00:00:00",
                    "2020-03-15T00:00:00",
                    "2020-03-16T00:00:00",
                    "2020-03-17T00:00:00",
                    "2020-03-18T00:00:00",
                    "2020-03-19T00:00:00",
                    "2020-03-20T00:00:00",
                    "2020-03-21T00:00:00",
                    "2020-03-22T00:00:00",
                    "2020-03-23T00:00:00",
                    "2020-03-24T00:00:00",
                    "2020-03-25T00:00:00",
                    "2020-03-26T00:00:00",
                    "2020-03-27T00:00:00",
                    "2020-03-28T00:00:00",
                    "2020-03-29T00:00:00",
                    "2020-03-30T00:00:00",
                    "2020-03-31T00:00:00",
                    "2020-04-01T00:00:00",
                    "2020-04-02T00:00:00",
                    "2020-04-03T00:00:00",
                    "2020-04-04T00:00:00",
                    "2020-04-05T00:00:00",
                    "2020-04-06T00:00:00",
                    "2020-04-07T00:00:00",
                    "2020-04-08T00:00:00",
                    "2020-04-09T00:00:00",
                    "2020-04-10T00:00:00",
                    "2020-04-11T00:00:00",
                    "2020-04-12T00:00:00",
                    "2020-04-13T00:00:00",
                    "2020-04-14T00:00:00",
                    "2020-04-15T00:00:00",
                    "2020-04-16T00:00:00",
                    "2020-04-17T00:00:00",
                    "2020-04-18T00:00:00",
                    "2020-04-19T00:00:00",
                    "2020-04-20T00:00:00",
                    "2020-04-21T00:00:00",
                    "2020-04-22T00:00:00",
                    "2020-04-23T00:00:00",
                    "2020-04-24T00:00:00",
                    "2020-04-25T00:00:00",
                    "2020-04-26T00:00:00",
                    "2020-04-27T00:00:00",
                    "2020-04-28T00:00:00",
                    "2020-04-29T00:00:00",
                    "2020-04-30T00:00:00",
                    "2020-05-01T00:00:00",
                    "2020-05-02T00:00:00",
                    "2020-05-03T00:00:00",
                    "2020-05-04T00:00:00",
                    "2020-05-05T00:00:00",
                    "2020-05-06T00:00:00",
                    "2020-05-07T00:00:00",
                    "2020-05-08T00:00:00",
                    "2020-05-09T00:00:00",
                    "2020-05-10T00:00:00",
                    "2020-05-11T00:00:00",
                    "2020-05-12T00:00:00",
                    "2020-05-13T00:00:00",
                    "2020-05-14T00:00:00",
                    "2020-05-15T00:00:00",
                    "2020-05-16T00:00:00",
                    "2020-05-17T00:00:00",
                    "2020-05-18T00:00:00",
                    "2020-05-19T00:00:00",
                    "2020-05-20T00:00:00",
                    "2020-05-21T00:00:00",
                    "2020-05-22T00:00:00",
                    "2020-05-23T00:00:00",
                    "2020-05-24T00:00:00",
                    "2020-05-25T00:00:00",
                    "2020-05-26T00:00:00",
                    "2020-05-27T00:00:00",
                    "2020-05-28T00:00:00",
                    "2020-05-29T00:00:00",
                    "2020-05-30T00:00:00",
                    "2020-05-31T00:00:00",
                    "2020-06-01T00:00:00",
                    "2020-06-02T00:00:00",
                    "2020-06-03T00:00:00",
                    "2020-06-04T00:00:00",
                    "2020-06-05T00:00:00",
                    "2020-06-06T00:00:00",
                    "2020-06-07T00:00:00",
                    "2020-06-08T00:00:00",
                    "2020-06-09T00:00:00",
                    "2020-06-10T00:00:00",
                    "2020-06-11T00:00:00",
                    "2020-06-12T00:00:00",
                    "2020-06-13T00:00:00",
                    "2020-06-14T00:00:00",
                    "2020-06-15T00:00:00",
                    "2020-06-16T00:00:00",
                    "2020-06-17T00:00:00",
                    "2020-06-18T00:00:00",
                    "2020-06-19T00:00:00",
                    "2020-06-20T00:00:00",
                    "2020-06-21T00:00:00",
                    "2020-06-22T00:00:00",
                    "2020-06-23T00:00:00",
                    "2020-06-24T00:00:00",
                    "2020-06-25T00:00:00",
                    "2020-06-26T00:00:00",
                    "2020-06-27T00:00:00",
                    "2020-06-28T00:00:00",
                    "2020-06-29T00:00:00",
                    "2020-06-30T00:00:00",
                    "2020-07-01T00:00:00",
                    "2020-07-02T00:00:00",
                    "2020-07-03T00:00:00",
                    "2020-07-04T00:00:00",
                    "2020-07-05T00:00:00",
                    "2020-07-06T00:00:00",
                    "2020-07-07T00:00:00",
                    "2020-07-08T00:00:00",
                    "2020-07-09T00:00:00",
                    "2020-07-10T00:00:00",
                    "2020-07-11T00:00:00",
                    "2020-07-12T00:00:00",
                    "2020-07-13T00:00:00",
                    "2020-07-14T00:00:00",
                    "2020-07-15T00:00:00",
                    "2020-07-16T00:00:00",
                    "2020-07-17T00:00:00",
                    "2020-07-18T00:00:00",
                    "2020-07-19T00:00:00",
                    "2020-07-20T00:00:00",
                    "2020-07-21T00:00:00",
                    "2020-07-22T00:00:00",
                    "2020-07-23T00:00:00",
                    "2020-07-24T00:00:00",
                    "2020-07-25T00:00:00",
                    "2020-07-26T00:00:00",
                    "2020-07-27T00:00:00",
                    "2020-07-28T00:00:00",
                    "2020-07-29T00:00:00",
                    "2020-07-30T00:00:00",
                    "2020-07-31T00:00:00",
                    "2020-08-01T00:00:00",
                    "2020-08-02T00:00:00",
                    "2020-08-03T00:00:00",
                    "2020-08-04T00:00:00",
                    "2020-08-05T00:00:00",
                    "2020-08-06T00:00:00",
                    "2020-08-07T00:00:00",
                    "2020-08-08T00:00:00",
                    "2020-08-09T00:00:00",
                    "2020-08-10T00:00:00",
                    "2020-08-11T00:00:00",
                    "2020-08-12T00:00:00",
                    "2020-08-13T00:00:00",
                    "2020-08-14T00:00:00",
                    "2020-08-15T00:00:00",
                    "2020-08-16T00:00:00",
                    "2020-08-17T00:00:00",
                    "2020-08-18T00:00:00",
                    "2020-08-19T00:00:00",
                    "2020-08-20T00:00:00",
                    "2020-08-21T00:00:00",
                    "2020-08-22T00:00:00",
                    "2020-08-23T00:00:00",
                    "2020-08-24T00:00:00",
                    "2020-08-25T00:00:00",
                    "2020-08-26T00:00:00",
                    "2020-08-27T00:00:00",
                    "2020-08-28T00:00:00",
                    "2020-08-29T00:00:00",
                    "2020-08-30T00:00:00",
                    "2020-08-31T00:00:00",
                    "2020-09-01T00:00:00",
                    "2020-09-02T00:00:00",
                    "2020-09-03T00:00:00",
                    "2020-09-04T00:00:00",
                    "2020-09-05T00:00:00",
                    "2020-09-06T00:00:00",
                    "2020-09-07T00:00:00",
                    "2020-09-08T00:00:00"
                  ],
                  "type": "scatter",
                  "name": "Price"
                }
              ],
              "config": {
                "plotlyServerURL": "https://plot.ly",
                "linkText": "Export to plot.ly",
                "showLink": false
              },
              "layout": {
                "template": {
                  "layout": {
                    "shapedefaults": {
                      "line": {
                        "color": "#2a3f5f"
                      }
                    },
                    "polar": {
                      "radialaxis": {
                        "ticks": "",
                        "gridcolor": "white",
                        "linecolor": "white"
                      },
                      "bgcolor": "#E5ECF6",
                      "angularaxis": {
                        "ticks": "",
                        "gridcolor": "white",
                        "linecolor": "white"
                      }
                    },
                    "colorway": [
                      "#636efa",
                      "#EF553B",
                      "#00cc96",
                      "#ab63fa",
                      "#FFA15A",
                      "#19d3f3",
                      "#FF6692",
                      "#B6E880",
                      "#FF97FF",
                      "#FECB52"
                    ],
                    "xaxis": {
                      "automargin": true,
                      "title": {
                        "standoff": 15
                      },
                      "zerolinewidth": 2,
                      "ticks": "",
                      "zerolinecolor": "white",
                      "gridcolor": "white",
                      "linecolor": "white"
                    },
                    "colorscale": {
                      "diverging": [
                        [
                          0,
                          "#8e0152"
                        ],
                        [
                          0.1,
                          "#c51b7d"
                        ],
                        [
                          0.2,
                          "#de77ae"
                        ],
                        [
                          0.3,
                          "#f1b6da"
                        ],
                        [
                          0.4,
                          "#fde0ef"
                        ],
                        [
                          0.5,
                          "#f7f7f7"
                        ],
                        [
                          0.6,
                          "#e6f5d0"
                        ],
                        [
                          0.7,
                          "#b8e186"
                        ],
                        [
                          0.8,
                          "#7fbc41"
                        ],
                        [
                          0.9,
                          "#4d9221"
                        ],
                        [
                          1,
                          "#276419"
                        ]
                      ],
                      "sequential": [
                        [
                          0,
                          "#0d0887"
                        ],
                        [
                          0.1111111111111111,
                          "#46039f"
                        ],
                        [
                          0.2222222222222222,
                          "#7201a8"
                        ],
                        [
                          0.3333333333333333,
                          "#9c179e"
                        ],
                        [
                          0.4444444444444444,
                          "#bd3786"
                        ],
                        [
                          0.5555555555555556,
                          "#d8576b"
                        ],
                        [
                          0.6666666666666666,
                          "#ed7953"
                        ],
                        [
                          0.7777777777777778,
                          "#fb9f3a"
                        ],
                        [
                          0.8888888888888888,
                          "#fdca26"
                        ],
                        [
                          1,
                          "#f0f921"
                        ]
                      ],
                      "sequentialminus": [
                        [
                          0,
                          "#0d0887"
                        ],
                        [
                          0.1111111111111111,
                          "#46039f"
                        ],
                        [
                          0.2222222222222222,
                          "#7201a8"
                        ],
                        [
                          0.3333333333333333,
                          "#9c179e"
                        ],
                        [
                          0.4444444444444444,
                          "#bd3786"
                        ],
                        [
                          0.5555555555555556,
                          "#d8576b"
                        ],
                        [
                          0.6666666666666666,
                          "#ed7953"
                        ],
                        [
                          0.7777777777777778,
                          "#fb9f3a"
                        ],
                        [
                          0.8888888888888888,
                          "#fdca26"
                        ],
                        [
                          1,
                          "#f0f921"
                        ]
                      ]
                    },
                    "paper_bgcolor": "white",
                    "plot_bgcolor": "#E5ECF6",
                    "title": {
                      "x": 0.05
                    },
                    "scene": {
                      "zaxis": {
                        "backgroundcolor": "#E5ECF6",
                        "ticks": "",
                        "gridwidth": 2,
                        "showbackground": true,
                        "zerolinecolor": "white",
                        "gridcolor": "white",
                        "linecolor": "white"
                      },
                      "xaxis": {
                        "backgroundcolor": "#E5ECF6",
                        "ticks": "",
                        "gridwidth": 2,
                        "showbackground": true,
                        "zerolinecolor": "white",
                        "gridcolor": "white",
                        "linecolor": "white"
                      },
                      "yaxis": {
                        "backgroundcolor": "#E5ECF6",
                        "ticks": "",
                        "gridwidth": 2,
                        "showbackground": true,
                        "zerolinecolor": "white",
                        "gridcolor": "white",
                        "linecolor": "white"
                      }
                    },
                    "yaxis": {
                      "automargin": true,
                      "title": {
                        "standoff": 15
                      },
                      "zerolinewidth": 2,
                      "ticks": "",
                      "zerolinecolor": "white",
                      "gridcolor": "white",
                      "linecolor": "white"
                    },
                    "annotationdefaults": {
                      "arrowwidth": 1,
                      "arrowhead": 0,
                      "arrowcolor": "#2a3f5f"
                    },
                    "hoverlabel": {
                      "align": "left"
                    },
                    "ternary": {
                      "bgcolor": "#E5ECF6",
                      "baxis": {
                        "ticks": "",
                        "gridcolor": "white",
                        "linecolor": "white"
                      },
                      "caxis": {
                        "ticks": "",
                        "gridcolor": "white",
                        "linecolor": "white"
                      },
                      "aaxis": {
                        "ticks": "",
                        "gridcolor": "white",
                        "linecolor": "white"
                      }
                    },
                    "mapbox": {
                      "style": "light"
                    },
                    "hovermode": "closest",
                    "font": {
                      "color": "#2a3f5f"
                    },
                    "geo": {
                      "showland": true,
                      "landcolor": "#E5ECF6",
                      "showlakes": true,
                      "bgcolor": "white",
                      "subunitcolor": "white",
                      "lakecolor": "white"
                    },
                    "coloraxis": {
                      "colorbar": {
                        "outlinewidth": 0,
                        "ticks": ""
                      }
                    }
                  },
                  "data": {
                    "mesh3d": [
                      {
                        "colorbar": {
                          "outlinewidth": 0,
                          "ticks": ""
                        },
                        "type": "mesh3d"
                      }
                    ],
                    "scattercarpet": [
                      {
                        "marker": {
                          "colorbar": {
                            "outlinewidth": 0,
                            "ticks": ""
                          }
                        },
                        "type": "scattercarpet"
                      }
                    ],
                    "pie": [
                      {
                        "automargin": true,
                        "type": "pie"
                      }
                    ],
                    "surface": [
                      {
                        "colorbar": {
                          "outlinewidth": 0,
                          "ticks": ""
                        },
                        "type": "surface",
                        "colorscale": [
                          [
                            0,
                            "#0d0887"
                          ],
                          [
                            0.1111111111111111,
                            "#46039f"
                          ],
                          [
                            0.2222222222222222,
                            "#7201a8"
                          ],
                          [
                            0.3333333333333333,
                            "#9c179e"
                          ],
                          [
                            0.4444444444444444,
                            "#bd3786"
                          ],
                          [
                            0.5555555555555556,
                            "#d8576b"
                          ],
                          [
                            0.6666666666666666,
                            "#ed7953"
                          ],
                          [
                            0.7777777777777778,
                            "#fb9f3a"
                          ],
                          [
                            0.8888888888888888,
                            "#fdca26"
                          ],
                          [
                            1,
                            "#f0f921"
                          ]
                        ]
                      }
                    ],
                    "table": [
                      {
                        "header": {
                          "line": {
                            "color": "white"
                          },
                          "fill": {
                            "color": "#C8D4E3"
                          }
                        },
                        "cells": {
                          "line": {
                            "color": "white"
                          },
                          "fill": {
                            "color": "#EBF0F8"
                          }
                        },
                        "type": "table"
                      }
                    ],
                    "scatterpolargl": [
                      {
                        "marker": {
                          "colorbar": {
                            "outlinewidth": 0,
                            "ticks": ""
                          }
                        },
                        "type": "scatterpolargl"
                      }
                    ],
                    "contour": [
                      {
                        "colorbar": {
                          "outlinewidth": 0,
                          "ticks": ""
                        },
                        "type": "contour",
                        "colorscale": [
                          [
                            0,
                            "#0d0887"
                          ],
                          [
                            0.1111111111111111,
                            "#46039f"
                          ],
                          [
                            0.2222222222222222,
                            "#7201a8"
                          ],
                          [
                            0.3333333333333333,
                            "#9c179e"
                          ],
                          [
                            0.4444444444444444,
                            "#bd3786"
                          ],
                          [
                            0.5555555555555556,
                            "#d8576b"
                          ],
                          [
                            0.6666666666666666,
                            "#ed7953"
                          ],
                          [
                            0.7777777777777778,
                            "#fb9f3a"
                          ],
                          [
                            0.8888888888888888,
                            "#fdca26"
                          ],
                          [
                            1,
                            "#f0f921"
                          ]
                        ]
                      }
                    ],
                    "carpet": [
                      {
                        "type": "carpet",
                        "baxis": {
                          "minorgridcolor": "white",
                          "gridcolor": "white",
                          "linecolor": "white",
                          "endlinecolor": "#2a3f5f",
                          "startlinecolor": "#2a3f5f"
                        },
                        "aaxis": {
                          "minorgridcolor": "white",
                          "gridcolor": "white",
                          "linecolor": "white",
                          "endlinecolor": "#2a3f5f",
                          "startlinecolor": "#2a3f5f"
                        }
                      }
                    ],
                    "contourcarpet": [
                      {
                        "colorbar": {
                          "outlinewidth": 0,
                          "ticks": ""
                        },
                        "type": "contourcarpet"
                      }
                    ],
                    "heatmap": [
                      {
                        "colorbar": {
                          "outlinewidth": 0,
                          "ticks": ""
                        },
                        "type": "heatmap",
                        "colorscale": [
                          [
                            0,
                            "#0d0887"
                          ],
                          [
                            0.1111111111111111,
                            "#46039f"
                          ],
                          [
                            0.2222222222222222,
                            "#7201a8"
                          ],
                          [
                            0.3333333333333333,
                            "#9c179e"
                          ],
                          [
                            0.4444444444444444,
                            "#bd3786"
                          ],
                          [
                            0.5555555555555556,
                            "#d8576b"
                          ],
                          [
                            0.6666666666666666,
                            "#ed7953"
                          ],
                          [
                            0.7777777777777778,
                            "#fb9f3a"
                          ],
                          [
                            0.8888888888888888,
                            "#fdca26"
                          ],
                          [
                            1,
                            "#f0f921"
                          ]
                        ]
                      }
                    ],
                    "scattermapbox": [
                      {
                        "marker": {
                          "colorbar": {
                            "outlinewidth": 0,
                            "ticks": ""
                          }
                        },
                        "type": "scattermapbox"
                      }
                    ],
                    "scatter3d": [
                      {
                        "marker": {
                          "colorbar": {
                            "outlinewidth": 0,
                            "ticks": ""
                          }
                        },
                        "line": {
                          "colorbar": {
                            "outlinewidth": 0,
                            "ticks": ""
                          }
                        },
                        "type": "scatter3d"
                      }
                    ],
                    "scattergl": [
                      {
                        "marker": {
                          "colorbar": {
                            "outlinewidth": 0,
                            "ticks": ""
                          }
                        },
                        "type": "scattergl"
                      }
                    ],
                    "scatterternary": [
                      {
                        "marker": {
                          "colorbar": {
                            "outlinewidth": 0,
                            "ticks": ""
                          }
                        },
                        "type": "scatterternary"
                      }
                    ],
                    "histogram": [
                      {
                        "marker": {
                          "colorbar": {
                            "outlinewidth": 0,
                            "ticks": ""
                          }
                        },
                        "type": "histogram"
                      }
                    ],
                    "heatmapgl": [
                      {
                        "colorbar": {
                          "outlinewidth": 0,
                          "ticks": ""
                        },
                        "type": "heatmapgl",
                        "colorscale": [
                          [
                            0,
                            "#0d0887"
                          ],
                          [
                            0.1111111111111111,
                            "#46039f"
                          ],
                          [
                            0.2222222222222222,
                            "#7201a8"
                          ],
                          [
                            0.3333333333333333,
                            "#9c179e"
                          ],
                          [
                            0.4444444444444444,
                            "#bd3786"
                          ],
                          [
                            0.5555555555555556,
                            "#d8576b"
                          ],
                          [
                            0.6666666666666666,
                            "#ed7953"
                          ],
                          [
                            0.7777777777777778,
                            "#fb9f3a"
                          ],
                          [
                            0.8888888888888888,
                            "#fdca26"
                          ],
                          [
                            1,
                            "#f0f921"
                          ]
                        ]
                      }
                    ],
                    "scatterpolar": [
                      {
                        "marker": {
                          "colorbar": {
                            "outlinewidth": 0,
                            "ticks": ""
                          }
                        },
                        "type": "scatterpolar"
                      }
                    ],
                    "histogram2d": [
                      {
                        "colorbar": {
                          "outlinewidth": 0,
                          "ticks": ""
                        },
                        "type": "histogram2d",
                        "colorscale": [
                          [
                            0,
                            "#0d0887"
                          ],
                          [
                            0.1111111111111111,
                            "#46039f"
                          ],
                          [
                            0.2222222222222222,
                            "#7201a8"
                          ],
                          [
                            0.3333333333333333,
                            "#9c179e"
                          ],
                          [
                            0.4444444444444444,
                            "#bd3786"
                          ],
                          [
                            0.5555555555555556,
                            "#d8576b"
                          ],
                          [
                            0.6666666666666666,
                            "#ed7953"
                          ],
                          [
                            0.7777777777777778,
                            "#fb9f3a"
                          ],
                          [
                            0.8888888888888888,
                            "#fdca26"
                          ],
                          [
                            1,
                            "#f0f921"
                          ]
                        ]
                      }
                    ],
                    "scattergeo": [
                      {
                        "marker": {
                          "colorbar": {
                            "outlinewidth": 0,
                            "ticks": ""
                          }
                        },
                        "type": "scattergeo"
                      }
                    ],
                    "bar": [
                      {
                        "marker": {
                          "line": {
                            "color": "#E5ECF6",
                            "width": 0.5
                          }
                        },
                        "type": "bar",
                        "error_x": {
                          "color": "#2a3f5f"
                        },
                        "error_y": {
                          "color": "#2a3f5f"
                        }
                      }
                    ],
                    "choropleth": [
                      {
                        "colorbar": {
                          "outlinewidth": 0,
                          "ticks": ""
                        },
                        "type": "choropleth"
                      }
                    ],
                    "parcoords": [
                      {
                        "line": {
                          "colorbar": {
                            "outlinewidth": 0,
                            "ticks": ""
                          }
                        },
                        "type": "parcoords"
                      }
                    ],
                    "barpolar": [
                      {
                        "marker": {
                          "line": {
                            "color": "#E5ECF6",
                            "width": 0.5
                          }
                        },
                        "type": "barpolar"
                      }
                    ],
                    "histogram2dcontour": [
                      {
                        "colorbar": {
                          "outlinewidth": 0,
                          "ticks": ""
                        },
                        "type": "histogram2dcontour",
                        "colorscale": [
                          [
                            0,
                            "#0d0887"
                          ],
                          [
                            0.1111111111111111,
                            "#46039f"
                          ],
                          [
                            0.2222222222222222,
                            "#7201a8"
                          ],
                          [
                            0.3333333333333333,
                            "#9c179e"
                          ],
                          [
                            0.4444444444444444,
                            "#bd3786"
                          ],
                          [
                            0.5555555555555556,
                            "#d8576b"
                          ],
                          [
                            0.6666666666666666,
                            "#ed7953"
                          ],
                          [
                            0.7777777777777778,
                            "#fb9f3a"
                          ],
                          [
                            0.8888888888888888,
                            "#fdca26"
                          ],
                          [
                            1,
                            "#f0f921"
                          ]
                        ]
                      }
                    ],
                    "scatter": [
                      {
                        "marker": {
                          "colorbar": {
                            "outlinewidth": 0,
                            "ticks": ""
                          }
                        },
                        "type": "scatter"
                      }
                    ]
                  }
                }
              }
            }
          },
          "metadata": {
            "tags": []
          }
        }
      ]
    },
    {
      "cell_type": "code",
      "metadata": {
        "id": "jeffeZZUz_wb"
      },
      "source": [
        "data['btc'].replace(0, np.nan, inplace=True)\n",
        "data['btc'].fillna(method='ffill', inplace=True)"
      ],
      "execution_count": null,
      "outputs": []
    },
    {
      "cell_type": "code",
      "metadata": {
        "id": "P2nsnqj8zZC4",
        "outputId": "1413eff8-ff7d-4f13-e2e3-0fcdd3a3e431",
        "colab": {
          "base_uri": "https://localhost:8080/",
          "height": 542
        }
      },
      "source": [
        "btc_trace = go.Scatter(x=data.index, y=data['btc'], name= 'Price')\n",
        "py.iplot([btc_trace])"
      ],
      "execution_count": null,
      "outputs": [
        {
          "output_type": "display_data",
          "data": {
            "text/html": [
              "<div>\n",
              "        \n",
              "        \n",
              "            <div id=\"f52ec671-0fd1-4941-a020-1756a6e91395\" class=\"plotly-graph-div\" style=\"height:525px; width:100%;\"></div>\n",
              "            <script type=\"text/javascript\">\n",
              "                require([\"plotly\"], function(Plotly) {\n",
              "                    window.PLOTLYENV=window.PLOTLYENV || {};\n",
              "                    \n",
              "                if (document.getElementById(\"f52ec671-0fd1-4941-a020-1756a6e91395\")) {\n",
              "                    Plotly.newPlot(\n",
              "                        'f52ec671-0fd1-4941-a020-1756a6e91395',\n",
              "                        [{\"name\": \"Price\", \"type\": \"scatter\", \"x\": [\"2017-04-28T00:00:00\", \"2017-04-29T00:00:00\", \"2017-04-30T00:00:00\", \"2017-05-01T00:00:00\", \"2017-05-02T00:00:00\", \"2017-05-03T00:00:00\", \"2017-05-04T00:00:00\", \"2017-05-05T00:00:00\", \"2017-05-06T00:00:00\", \"2017-05-07T00:00:00\", \"2017-05-08T00:00:00\", \"2017-05-09T00:00:00\", \"2017-05-10T00:00:00\", \"2017-05-11T00:00:00\", \"2017-05-12T00:00:00\", \"2017-05-13T00:00:00\", \"2017-05-14T00:00:00\", \"2017-05-15T00:00:00\", \"2017-05-16T00:00:00\", \"2017-05-17T00:00:00\", \"2017-05-18T00:00:00\", \"2017-05-19T00:00:00\", \"2017-05-20T00:00:00\", \"2017-05-21T00:00:00\", \"2017-05-22T00:00:00\", \"2017-05-23T00:00:00\", \"2017-05-24T00:00:00\", \"2017-05-25T00:00:00\", \"2017-05-26T00:00:00\", \"2017-05-27T00:00:00\", \"2017-05-28T00:00:00\", \"2017-05-29T00:00:00\", \"2017-05-30T00:00:00\", \"2017-05-31T00:00:00\", \"2017-06-01T00:00:00\", \"2017-06-02T00:00:00\", \"2017-11-21T00:00:00\", \"2017-11-22T00:00:00\", \"2017-11-23T00:00:00\", \"2017-11-24T00:00:00\", \"2017-11-25T00:00:00\", \"2017-11-26T00:00:00\", \"2017-11-27T00:00:00\", \"2017-11-28T00:00:00\", \"2017-11-29T00:00:00\", \"2017-11-30T00:00:00\", \"2017-12-01T00:00:00\", \"2017-12-02T00:00:00\", \"2017-12-03T00:00:00\", \"2017-12-04T00:00:00\", \"2017-12-05T00:00:00\", \"2017-12-06T00:00:00\", \"2017-12-07T00:00:00\", \"2017-12-08T00:00:00\", \"2017-12-09T00:00:00\", \"2017-12-10T00:00:00\", \"2017-12-11T00:00:00\", \"2017-12-12T00:00:00\", \"2017-12-13T00:00:00\", \"2017-12-14T00:00:00\", \"2017-12-15T00:00:00\", \"2017-12-16T00:00:00\", \"2017-12-17T00:00:00\", \"2017-12-18T00:00:00\", \"2017-12-19T00:00:00\", \"2017-12-20T00:00:00\", \"2017-12-21T00:00:00\", \"2017-12-22T00:00:00\", \"2017-12-23T00:00:00\", \"2017-12-24T00:00:00\", \"2017-12-25T00:00:00\", \"2017-12-26T00:00:00\", \"2017-12-27T00:00:00\", \"2017-12-28T00:00:00\", \"2017-12-29T00:00:00\", \"2017-12-30T00:00:00\", \"2017-12-31T00:00:00\", \"2018-01-01T00:00:00\", \"2018-01-02T00:00:00\", \"2018-01-03T00:00:00\", \"2018-01-04T00:00:00\", \"2018-01-05T00:00:00\", \"2018-01-06T00:00:00\", \"2018-01-07T00:00:00\", \"2018-01-08T00:00:00\", \"2018-01-09T00:00:00\", \"2018-01-10T00:00:00\", \"2018-01-11T00:00:00\", \"2018-01-12T00:00:00\", \"2018-01-13T00:00:00\", \"2018-01-14T00:00:00\", \"2018-01-15T00:00:00\", \"2018-01-16T00:00:00\", \"2018-01-17T00:00:00\", \"2018-01-18T00:00:00\", \"2018-01-19T00:00:00\", \"2018-01-20T00:00:00\", \"2018-01-21T00:00:00\", \"2018-01-22T00:00:00\", \"2018-01-23T00:00:00\", \"2018-01-24T00:00:00\", \"2018-01-25T00:00:00\", \"2018-01-26T00:00:00\", \"2018-01-27T00:00:00\", \"2018-01-28T00:00:00\", \"2018-01-29T00:00:00\", \"2018-01-30T00:00:00\", \"2018-01-31T00:00:00\", \"2018-02-01T00:00:00\", \"2018-02-02T00:00:00\", \"2018-02-03T00:00:00\", \"2018-02-04T00:00:00\", \"2018-02-05T00:00:00\", \"2018-02-06T00:00:00\", \"2018-02-07T00:00:00\", \"2018-02-08T00:00:00\", \"2018-02-09T00:00:00\", \"2018-02-10T00:00:00\", \"2018-02-11T00:00:00\", \"2018-02-12T00:00:00\", \"2018-02-13T00:00:00\", \"2018-02-14T00:00:00\", \"2018-02-15T00:00:00\", \"2018-02-16T00:00:00\", \"2018-02-17T00:00:00\", \"2018-02-18T00:00:00\", \"2018-02-19T00:00:00\", \"2018-02-20T00:00:00\", \"2018-02-21T00:00:00\", \"2018-02-22T00:00:00\", \"2018-02-23T00:00:00\", \"2018-02-24T00:00:00\", \"2018-02-25T00:00:00\", \"2018-02-26T00:00:00\", \"2018-02-27T00:00:00\", \"2018-02-28T00:00:00\", \"2018-03-01T00:00:00\", \"2018-03-02T00:00:00\", \"2018-03-03T00:00:00\", \"2018-03-04T00:00:00\", \"2018-03-05T00:00:00\", \"2018-03-06T00:00:00\", \"2018-03-07T00:00:00\", \"2018-03-08T00:00:00\", \"2018-03-09T00:00:00\", \"2018-03-10T00:00:00\", \"2018-03-11T00:00:00\", \"2018-03-12T00:00:00\", \"2018-03-13T00:00:00\", \"2018-03-14T00:00:00\", \"2018-03-15T00:00:00\", \"2018-03-16T00:00:00\", \"2018-03-17T00:00:00\", \"2018-03-18T00:00:00\", \"2018-03-19T00:00:00\", \"2018-03-20T00:00:00\", \"2018-03-21T00:00:00\", \"2018-03-22T00:00:00\", \"2018-03-23T00:00:00\", \"2018-03-24T00:00:00\", \"2018-03-25T00:00:00\", \"2018-03-26T00:00:00\", \"2018-03-27T00:00:00\", \"2018-03-28T00:00:00\", \"2018-03-29T00:00:00\", \"2018-03-30T00:00:00\", \"2018-03-31T00:00:00\", \"2018-04-01T00:00:00\", \"2018-04-02T00:00:00\", \"2018-04-03T00:00:00\", \"2018-04-04T00:00:00\", \"2018-04-05T00:00:00\", \"2018-04-06T00:00:00\", \"2018-04-07T00:00:00\", \"2018-04-08T00:00:00\", \"2018-04-09T00:00:00\", \"2018-04-10T00:00:00\", \"2018-04-11T00:00:00\", \"2018-04-12T00:00:00\", \"2018-04-13T00:00:00\", \"2018-04-14T00:00:00\", \"2018-04-15T00:00:00\", \"2018-04-16T00:00:00\", \"2018-04-17T00:00:00\", \"2018-04-18T00:00:00\", \"2018-04-19T00:00:00\", \"2018-04-20T00:00:00\", \"2018-04-21T00:00:00\", \"2018-04-22T00:00:00\", \"2018-04-23T00:00:00\", \"2018-04-24T00:00:00\", \"2018-04-25T00:00:00\", \"2018-04-26T00:00:00\", \"2018-04-27T00:00:00\", \"2018-04-28T00:00:00\", \"2018-04-29T00:00:00\", \"2018-04-30T00:00:00\", \"2018-05-01T00:00:00\", \"2018-05-02T00:00:00\", \"2018-05-03T00:00:00\", \"2018-05-04T00:00:00\", \"2018-05-05T00:00:00\", \"2018-05-06T00:00:00\", \"2018-05-07T00:00:00\", \"2018-05-08T00:00:00\", \"2018-05-09T00:00:00\", \"2018-05-10T00:00:00\", \"2018-05-11T00:00:00\", \"2018-05-12T00:00:00\", \"2018-05-13T00:00:00\", \"2018-05-14T00:00:00\", \"2018-05-15T00:00:00\", \"2018-05-16T00:00:00\", \"2018-05-17T00:00:00\", \"2018-05-18T00:00:00\", \"2018-05-19T00:00:00\", \"2018-05-20T00:00:00\", \"2018-05-21T00:00:00\", \"2018-05-22T00:00:00\", \"2018-05-23T00:00:00\", \"2018-05-24T00:00:00\", \"2018-05-25T00:00:00\", \"2018-05-26T00:00:00\", \"2018-05-27T00:00:00\", \"2018-05-28T00:00:00\", \"2018-05-29T00:00:00\", \"2018-05-30T00:00:00\", \"2018-05-31T00:00:00\", \"2018-06-01T00:00:00\", \"2018-06-02T00:00:00\", \"2018-06-03T00:00:00\", \"2018-06-04T00:00:00\", \"2018-06-05T00:00:00\", \"2018-06-06T00:00:00\", \"2018-06-07T00:00:00\", \"2018-06-08T00:00:00\", \"2018-06-09T00:00:00\", \"2018-06-10T00:00:00\", \"2018-06-11T00:00:00\", \"2018-06-12T00:00:00\", \"2018-06-13T00:00:00\", \"2018-06-14T00:00:00\", \"2018-06-15T00:00:00\", \"2018-06-16T00:00:00\", \"2018-06-17T00:00:00\", \"2018-06-18T00:00:00\", \"2018-06-19T00:00:00\", \"2018-06-20T00:00:00\", \"2018-06-21T00:00:00\", \"2018-06-22T00:00:00\", \"2018-06-23T00:00:00\", \"2018-06-24T00:00:00\", \"2018-06-25T00:00:00\", \"2018-06-26T00:00:00\", \"2018-06-27T00:00:00\", \"2018-06-28T00:00:00\", \"2018-06-29T00:00:00\", \"2018-06-30T00:00:00\", \"2018-07-01T00:00:00\", \"2018-07-02T00:00:00\", \"2018-07-03T00:00:00\", \"2018-07-04T00:00:00\", \"2018-07-05T00:00:00\", \"2018-07-06T00:00:00\", \"2018-07-07T00:00:00\", \"2018-07-08T00:00:00\", \"2018-07-09T00:00:00\", \"2018-07-10T00:00:00\", \"2018-07-11T00:00:00\", \"2018-07-12T00:00:00\", \"2018-07-13T00:00:00\", \"2018-07-14T00:00:00\", \"2018-07-15T00:00:00\", \"2018-07-16T00:00:00\", \"2018-07-17T00:00:00\", \"2018-07-18T00:00:00\", \"2018-07-19T00:00:00\", \"2018-07-20T00:00:00\", \"2018-07-21T00:00:00\", \"2018-07-22T00:00:00\", \"2018-07-23T00:00:00\", \"2018-07-24T00:00:00\", \"2018-07-25T00:00:00\", \"2018-07-26T00:00:00\", \"2018-07-27T00:00:00\", \"2018-07-28T00:00:00\", \"2018-07-29T00:00:00\", \"2018-07-30T00:00:00\", \"2018-07-31T00:00:00\", \"2018-08-01T00:00:00\", \"2018-08-02T00:00:00\", \"2018-08-03T00:00:00\", \"2018-08-04T00:00:00\", \"2018-08-05T00:00:00\", \"2018-08-06T00:00:00\", \"2018-08-07T00:00:00\", \"2018-08-08T00:00:00\", \"2018-08-09T00:00:00\", \"2018-08-10T00:00:00\", \"2018-08-11T00:00:00\", \"2018-08-12T00:00:00\", \"2018-08-13T00:00:00\", \"2018-08-14T00:00:00\", \"2018-08-15T00:00:00\", \"2018-08-16T00:00:00\", \"2018-08-17T00:00:00\", \"2018-08-18T00:00:00\", \"2018-08-19T00:00:00\", \"2018-08-20T00:00:00\", \"2018-08-21T00:00:00\", \"2018-08-22T00:00:00\", \"2018-08-23T00:00:00\", \"2018-08-24T00:00:00\", \"2018-08-25T00:00:00\", \"2018-08-26T00:00:00\", \"2018-08-27T00:00:00\", \"2018-08-28T00:00:00\", \"2018-08-29T00:00:00\", \"2018-08-30T00:00:00\", \"2018-08-31T00:00:00\", \"2018-09-01T00:00:00\", \"2018-09-02T00:00:00\", \"2018-09-03T00:00:00\", \"2018-09-04T00:00:00\", \"2018-09-05T00:00:00\", \"2018-09-06T00:00:00\", \"2018-09-07T00:00:00\", \"2018-09-08T00:00:00\", \"2018-09-09T00:00:00\", \"2018-09-10T00:00:00\", \"2018-09-11T00:00:00\", \"2018-09-12T00:00:00\", \"2018-09-13T00:00:00\", \"2018-09-14T00:00:00\", \"2018-09-15T00:00:00\", \"2018-09-16T00:00:00\", \"2018-09-17T00:00:00\", \"2018-09-18T00:00:00\", \"2018-09-19T00:00:00\", \"2018-09-20T00:00:00\", \"2018-09-21T00:00:00\", \"2018-09-22T00:00:00\", \"2018-09-23T00:00:00\", \"2018-09-24T00:00:00\", \"2018-09-25T00:00:00\", \"2018-09-26T00:00:00\", \"2018-09-27T00:00:00\", \"2018-09-28T00:00:00\", \"2018-09-29T00:00:00\", \"2018-09-30T00:00:00\", \"2018-10-01T00:00:00\", \"2018-10-02T00:00:00\", \"2018-10-03T00:00:00\", \"2018-10-04T00:00:00\", \"2018-10-05T00:00:00\", \"2018-10-06T00:00:00\", \"2018-10-07T00:00:00\", \"2018-10-08T00:00:00\", \"2018-10-09T00:00:00\", \"2018-10-10T00:00:00\", \"2018-10-11T00:00:00\", \"2018-10-12T00:00:00\", \"2018-10-13T00:00:00\", \"2018-10-14T00:00:00\", \"2018-10-15T00:00:00\", \"2018-10-16T00:00:00\", \"2018-10-17T00:00:00\", \"2018-10-18T00:00:00\", \"2018-10-19T00:00:00\", \"2018-10-20T00:00:00\", \"2018-10-21T00:00:00\", \"2018-10-22T00:00:00\", \"2018-10-23T00:00:00\", \"2018-10-24T00:00:00\", \"2018-10-25T00:00:00\", \"2018-10-26T00:00:00\", \"2018-10-27T00:00:00\", \"2018-10-28T00:00:00\", \"2018-10-29T00:00:00\", \"2018-10-30T00:00:00\", \"2018-10-31T00:00:00\", \"2018-11-01T00:00:00\", \"2018-11-02T00:00:00\", \"2018-11-03T00:00:00\", \"2018-11-04T00:00:00\", \"2018-11-05T00:00:00\", \"2018-11-06T00:00:00\", \"2018-11-07T00:00:00\", \"2018-11-08T00:00:00\", \"2018-11-09T00:00:00\", \"2018-11-10T00:00:00\", \"2018-11-11T00:00:00\", \"2018-11-12T00:00:00\", \"2018-11-13T00:00:00\", \"2018-11-14T00:00:00\", \"2018-11-15T00:00:00\", \"2018-11-16T00:00:00\", \"2018-11-17T00:00:00\", \"2018-11-18T00:00:00\", \"2018-11-19T00:00:00\", \"2018-11-20T00:00:00\", \"2018-11-21T00:00:00\", \"2018-11-22T00:00:00\", \"2018-11-23T00:00:00\", \"2018-11-24T00:00:00\", \"2018-11-25T00:00:00\", \"2018-11-26T00:00:00\", \"2018-11-27T00:00:00\", \"2018-11-28T00:00:00\", \"2018-11-29T00:00:00\", \"2018-11-30T00:00:00\", \"2018-12-01T00:00:00\", \"2018-12-02T00:00:00\", \"2018-12-03T00:00:00\", \"2018-12-04T00:00:00\", \"2018-12-05T00:00:00\", \"2018-12-06T00:00:00\", \"2018-12-07T00:00:00\", \"2018-12-08T00:00:00\", \"2018-12-09T00:00:00\", \"2018-12-10T00:00:00\", \"2018-12-11T00:00:00\", \"2018-12-12T00:00:00\", \"2018-12-13T00:00:00\", \"2018-12-14T00:00:00\", \"2018-12-15T00:00:00\", \"2018-12-16T00:00:00\", \"2018-12-17T00:00:00\", \"2018-12-18T00:00:00\", \"2018-12-19T00:00:00\", \"2018-12-20T00:00:00\", \"2018-12-21T00:00:00\", \"2018-12-22T00:00:00\", \"2018-12-23T00:00:00\", \"2018-12-24T00:00:00\", \"2018-12-25T00:00:00\", \"2018-12-26T00:00:00\", \"2018-12-27T00:00:00\", \"2018-12-28T00:00:00\", \"2018-12-29T00:00:00\", \"2018-12-30T00:00:00\", \"2018-12-31T00:00:00\", \"2019-01-01T00:00:00\", \"2019-01-02T00:00:00\", \"2019-01-03T00:00:00\", \"2019-01-04T00:00:00\", \"2019-01-05T00:00:00\", \"2019-01-06T00:00:00\", \"2019-01-07T00:00:00\", \"2019-01-08T00:00:00\", \"2019-01-09T00:00:00\", \"2019-01-10T00:00:00\", \"2019-01-11T00:00:00\", \"2019-01-12T00:00:00\", \"2019-01-13T00:00:00\", \"2019-01-14T00:00:00\", \"2019-01-15T00:00:00\", \"2019-01-16T00:00:00\", \"2019-01-17T00:00:00\", \"2019-01-18T00:00:00\", \"2019-01-19T00:00:00\", \"2019-01-20T00:00:00\", \"2019-01-21T00:00:00\", \"2019-01-22T00:00:00\", \"2019-01-23T00:00:00\", \"2019-01-24T00:00:00\", \"2019-01-25T00:00:00\", \"2019-01-26T00:00:00\", \"2019-01-27T00:00:00\", \"2019-01-28T00:00:00\", \"2019-01-29T00:00:00\", \"2019-01-30T00:00:00\", \"2019-01-31T00:00:00\", \"2019-02-01T00:00:00\", \"2019-02-02T00:00:00\", \"2019-02-03T00:00:00\", \"2019-02-04T00:00:00\", \"2019-02-05T00:00:00\", \"2019-02-06T00:00:00\", \"2019-02-07T00:00:00\", \"2019-02-08T00:00:00\", \"2019-02-09T00:00:00\", \"2019-02-10T00:00:00\", \"2019-02-11T00:00:00\", \"2019-02-12T00:00:00\", \"2019-02-13T00:00:00\", \"2019-02-14T00:00:00\", \"2019-02-15T00:00:00\", \"2019-02-16T00:00:00\", \"2019-02-17T00:00:00\", \"2019-02-18T00:00:00\", \"2019-02-19T00:00:00\", \"2019-02-20T00:00:00\", \"2019-02-21T00:00:00\", \"2019-02-22T00:00:00\", \"2019-02-23T00:00:00\", \"2019-02-24T00:00:00\", \"2019-02-25T00:00:00\", \"2019-02-26T00:00:00\", \"2019-02-27T00:00:00\", \"2019-02-28T00:00:00\", \"2019-03-01T00:00:00\", \"2019-03-02T00:00:00\", \"2019-03-03T00:00:00\", \"2019-03-04T00:00:00\", \"2019-03-05T00:00:00\", \"2019-03-06T00:00:00\", \"2019-03-07T00:00:00\", \"2019-03-08T00:00:00\", \"2019-03-09T00:00:00\", \"2019-03-10T00:00:00\", \"2019-03-11T00:00:00\", \"2019-03-12T00:00:00\", \"2019-03-13T00:00:00\", \"2019-03-14T00:00:00\", \"2019-03-15T00:00:00\", \"2019-03-16T00:00:00\", \"2019-03-17T00:00:00\", \"2019-03-18T00:00:00\", \"2019-03-19T00:00:00\", \"2019-03-20T00:00:00\", \"2019-03-21T00:00:00\", \"2019-03-22T00:00:00\", \"2019-03-23T00:00:00\", \"2019-03-24T00:00:00\", \"2019-03-25T00:00:00\", \"2019-03-26T00:00:00\", \"2019-03-27T00:00:00\", \"2019-03-28T00:00:00\", \"2019-03-29T00:00:00\", \"2019-03-30T00:00:00\", \"2019-03-31T00:00:00\", \"2019-04-01T00:00:00\", \"2019-04-02T00:00:00\", \"2019-04-03T00:00:00\", \"2019-04-04T00:00:00\", \"2019-04-05T00:00:00\", \"2019-04-06T00:00:00\", \"2019-04-07T00:00:00\", \"2019-04-08T00:00:00\", \"2019-04-09T00:00:00\", \"2019-04-10T00:00:00\", \"2019-04-11T00:00:00\", \"2019-04-12T00:00:00\", \"2019-04-13T00:00:00\", \"2019-04-14T00:00:00\", \"2019-04-15T00:00:00\", \"2019-04-16T00:00:00\", \"2019-04-17T00:00:00\", \"2019-04-18T00:00:00\", \"2019-04-19T00:00:00\", \"2019-04-20T00:00:00\", \"2019-04-21T00:00:00\", \"2019-04-22T00:00:00\", \"2019-04-23T00:00:00\", \"2019-04-24T00:00:00\", \"2019-04-25T00:00:00\", \"2019-04-26T00:00:00\", \"2019-04-27T00:00:00\", \"2019-04-28T00:00:00\", \"2019-04-29T00:00:00\", \"2019-04-30T00:00:00\", \"2019-05-01T00:00:00\", \"2019-05-02T00:00:00\", \"2019-05-03T00:00:00\", \"2019-05-04T00:00:00\", \"2019-05-05T00:00:00\", \"2019-05-06T00:00:00\", \"2019-05-07T00:00:00\", \"2019-05-08T00:00:00\", \"2019-05-09T00:00:00\", \"2019-05-10T00:00:00\", \"2019-05-11T00:00:00\", \"2019-05-12T00:00:00\", \"2019-05-13T00:00:00\", \"2019-05-14T00:00:00\", \"2019-05-15T00:00:00\", \"2019-05-16T00:00:00\", \"2019-05-17T00:00:00\", \"2019-05-18T00:00:00\", \"2019-05-19T00:00:00\", \"2019-05-20T00:00:00\", \"2019-05-21T00:00:00\", \"2019-05-22T00:00:00\", \"2019-05-23T00:00:00\", \"2019-05-24T00:00:00\", \"2019-05-25T00:00:00\", \"2019-05-26T00:00:00\", \"2019-05-27T00:00:00\", \"2019-05-28T00:00:00\", \"2019-05-29T00:00:00\", \"2019-05-30T00:00:00\", \"2019-05-31T00:00:00\", \"2019-06-01T00:00:00\", \"2019-06-02T00:00:00\", \"2019-06-03T00:00:00\", \"2019-06-04T00:00:00\", \"2019-06-05T00:00:00\", \"2019-06-06T00:00:00\", \"2019-06-07T00:00:00\", \"2019-06-08T00:00:00\", \"2019-06-09T00:00:00\", \"2019-06-10T00:00:00\", \"2019-06-11T00:00:00\", \"2019-06-12T00:00:00\", \"2019-06-13T00:00:00\", \"2019-06-14T00:00:00\", \"2019-06-15T00:00:00\", \"2019-06-16T00:00:00\", \"2019-06-17T00:00:00\", \"2019-06-18T00:00:00\", \"2019-06-19T00:00:00\", \"2019-06-20T00:00:00\", \"2019-06-21T00:00:00\", \"2019-06-22T00:00:00\", \"2019-06-23T00:00:00\", \"2019-06-24T00:00:00\", \"2019-06-25T00:00:00\", \"2019-06-26T00:00:00\", \"2019-06-27T00:00:00\", \"2019-06-28T00:00:00\", \"2019-06-29T00:00:00\", \"2019-06-30T00:00:00\", \"2019-07-01T00:00:00\", \"2019-07-02T00:00:00\", \"2019-07-03T00:00:00\", \"2019-07-04T00:00:00\", \"2019-07-05T00:00:00\", \"2019-07-06T00:00:00\", \"2019-07-07T00:00:00\", \"2019-07-08T00:00:00\", \"2019-07-09T00:00:00\", \"2019-07-10T00:00:00\", \"2019-07-11T00:00:00\", \"2019-07-12T00:00:00\", \"2019-07-13T00:00:00\", \"2019-07-14T00:00:00\", \"2019-07-15T00:00:00\", \"2019-07-16T00:00:00\", \"2019-07-17T00:00:00\", \"2019-07-18T00:00:00\", \"2019-07-19T00:00:00\", \"2019-07-20T00:00:00\", \"2019-07-21T00:00:00\", \"2019-07-22T00:00:00\", \"2019-07-23T00:00:00\", \"2019-07-24T00:00:00\", \"2019-07-25T00:00:00\", \"2019-07-26T00:00:00\", \"2019-07-27T00:00:00\", \"2019-07-28T00:00:00\", \"2019-07-29T00:00:00\", \"2019-07-30T00:00:00\", \"2019-07-31T00:00:00\", \"2019-08-01T00:00:00\", \"2019-08-02T00:00:00\", \"2019-08-03T00:00:00\", \"2019-08-04T00:00:00\", \"2019-08-05T00:00:00\", \"2019-08-06T00:00:00\", \"2019-08-07T00:00:00\", \"2019-08-08T00:00:00\", \"2019-08-09T00:00:00\", \"2019-08-10T00:00:00\", \"2019-08-11T00:00:00\", \"2019-08-12T00:00:00\", \"2019-08-13T00:00:00\", \"2019-08-14T00:00:00\", \"2019-08-15T00:00:00\", \"2019-08-16T00:00:00\", \"2019-08-17T00:00:00\", \"2019-08-18T00:00:00\", \"2019-08-19T00:00:00\", \"2019-08-20T00:00:00\", \"2019-08-21T00:00:00\", \"2019-08-22T00:00:00\", \"2019-08-23T00:00:00\", \"2019-08-24T00:00:00\", \"2019-08-25T00:00:00\", \"2019-08-26T00:00:00\", \"2019-08-27T00:00:00\", \"2019-08-28T00:00:00\", \"2019-08-29T00:00:00\", \"2019-08-30T00:00:00\", \"2019-08-31T00:00:00\", \"2019-09-01T00:00:00\", \"2019-09-02T00:00:00\", \"2019-09-03T00:00:00\", \"2019-09-04T00:00:00\", \"2019-09-05T00:00:00\", \"2019-09-06T00:00:00\", \"2019-09-07T00:00:00\", \"2019-09-08T00:00:00\", \"2019-09-09T00:00:00\", \"2019-09-10T00:00:00\", \"2019-09-11T00:00:00\", \"2019-09-12T00:00:00\", \"2019-09-13T00:00:00\", \"2019-09-14T00:00:00\", \"2019-09-15T00:00:00\", \"2019-09-16T00:00:00\", \"2019-09-17T00:00:00\", \"2019-09-18T00:00:00\", \"2019-09-19T00:00:00\", \"2019-09-20T00:00:00\", \"2019-09-21T00:00:00\", \"2019-09-22T00:00:00\", \"2019-09-23T00:00:00\", \"2019-09-24T00:00:00\", \"2019-09-25T00:00:00\", \"2019-09-26T00:00:00\", \"2019-09-27T00:00:00\", \"2019-09-28T00:00:00\", \"2019-09-29T00:00:00\", \"2019-09-30T00:00:00\", \"2019-10-01T00:00:00\", \"2019-10-02T00:00:00\", \"2019-10-03T00:00:00\", \"2019-10-04T00:00:00\", \"2019-10-05T00:00:00\", \"2019-10-06T00:00:00\", \"2019-10-07T00:00:00\", \"2019-10-08T00:00:00\", \"2019-10-09T00:00:00\", \"2019-10-10T00:00:00\", \"2019-10-11T00:00:00\", \"2019-10-12T00:00:00\", \"2019-10-13T00:00:00\", \"2019-10-14T00:00:00\", \"2019-10-15T00:00:00\", \"2019-10-16T00:00:00\", \"2019-10-17T00:00:00\", \"2019-10-18T00:00:00\", \"2019-10-19T00:00:00\", \"2019-10-20T00:00:00\", \"2019-10-21T00:00:00\", \"2019-10-22T00:00:00\", \"2019-10-23T00:00:00\", \"2019-10-24T00:00:00\", \"2019-10-25T00:00:00\", \"2019-10-26T00:00:00\", \"2019-10-27T00:00:00\", \"2019-10-28T00:00:00\", \"2019-10-29T00:00:00\", \"2019-10-30T00:00:00\", \"2019-10-31T00:00:00\", \"2019-11-01T00:00:00\", \"2019-11-02T00:00:00\", \"2019-11-03T00:00:00\", \"2019-11-04T00:00:00\", \"2019-11-05T00:00:00\", \"2019-11-06T00:00:00\", \"2019-11-07T00:00:00\", \"2019-11-08T00:00:00\", \"2019-11-09T00:00:00\", \"2019-11-10T00:00:00\", \"2019-11-11T00:00:00\", \"2019-11-12T00:00:00\", \"2019-11-13T00:00:00\", \"2019-11-14T00:00:00\", \"2019-11-15T00:00:00\", \"2019-11-16T00:00:00\", \"2019-11-17T00:00:00\", \"2019-11-18T00:00:00\", \"2019-11-19T00:00:00\", \"2019-11-20T00:00:00\", \"2019-11-21T00:00:00\", \"2019-11-22T00:00:00\", \"2019-11-23T00:00:00\", \"2019-11-24T00:00:00\", \"2019-11-25T00:00:00\", \"2019-11-26T00:00:00\", \"2019-11-27T00:00:00\", \"2019-11-28T00:00:00\", \"2019-11-29T00:00:00\", \"2019-11-30T00:00:00\", \"2019-12-01T00:00:00\", \"2019-12-02T00:00:00\", \"2019-12-03T00:00:00\", \"2019-12-04T00:00:00\", \"2019-12-05T00:00:00\", \"2019-12-06T00:00:00\", \"2019-12-07T00:00:00\", \"2019-12-08T00:00:00\", \"2019-12-09T00:00:00\", \"2019-12-10T00:00:00\", \"2019-12-11T00:00:00\", \"2019-12-12T00:00:00\", \"2019-12-13T00:00:00\", \"2019-12-14T00:00:00\", \"2019-12-15T00:00:00\", \"2019-12-16T00:00:00\", \"2019-12-17T00:00:00\", \"2019-12-18T00:00:00\", \"2019-12-19T00:00:00\", \"2019-12-20T00:00:00\", \"2019-12-21T00:00:00\", \"2019-12-22T00:00:00\", \"2019-12-23T00:00:00\", \"2019-12-24T00:00:00\", \"2019-12-25T00:00:00\", \"2019-12-26T00:00:00\", \"2019-12-27T00:00:00\", \"2019-12-28T00:00:00\", \"2019-12-29T00:00:00\", \"2019-12-30T00:00:00\", \"2019-12-31T00:00:00\", \"2020-01-01T00:00:00\", \"2020-01-02T00:00:00\", \"2020-01-03T00:00:00\", \"2020-01-04T00:00:00\", \"2020-01-05T00:00:00\", \"2020-01-06T00:00:00\", \"2020-01-07T00:00:00\", \"2020-01-08T00:00:00\", \"2020-01-09T00:00:00\", \"2020-01-10T00:00:00\", \"2020-01-11T00:00:00\", \"2020-01-12T00:00:00\", \"2020-01-13T00:00:00\", \"2020-01-14T00:00:00\", \"2020-01-15T00:00:00\", \"2020-01-16T00:00:00\", \"2020-01-17T00:00:00\", \"2020-01-18T00:00:00\", \"2020-01-19T00:00:00\", \"2020-01-20T00:00:00\", \"2020-01-21T00:00:00\", \"2020-01-22T00:00:00\", \"2020-01-23T00:00:00\", \"2020-01-24T00:00:00\", \"2020-01-25T00:00:00\", \"2020-01-26T00:00:00\", \"2020-01-27T00:00:00\", \"2020-01-28T00:00:00\", \"2020-01-29T00:00:00\", \"2020-01-30T00:00:00\", \"2020-01-31T00:00:00\", \"2020-02-01T00:00:00\", \"2020-02-02T00:00:00\", \"2020-02-03T00:00:00\", \"2020-02-04T00:00:00\", \"2020-02-05T00:00:00\", \"2020-02-06T00:00:00\", \"2020-02-07T00:00:00\", \"2020-02-08T00:00:00\", \"2020-02-09T00:00:00\", \"2020-02-10T00:00:00\", \"2020-02-11T00:00:00\", \"2020-02-12T00:00:00\", \"2020-02-13T00:00:00\", \"2020-02-14T00:00:00\", \"2020-02-15T00:00:00\", \"2020-02-16T00:00:00\", \"2020-02-17T00:00:00\", \"2020-02-18T00:00:00\", \"2020-02-19T00:00:00\", \"2020-02-20T00:00:00\", \"2020-02-21T00:00:00\", \"2020-02-22T00:00:00\", \"2020-02-23T00:00:00\", \"2020-02-24T00:00:00\", \"2020-02-25T00:00:00\", \"2020-02-26T00:00:00\", \"2020-02-27T00:00:00\", \"2020-02-28T00:00:00\", \"2020-02-29T00:00:00\", \"2020-03-01T00:00:00\", \"2020-03-02T00:00:00\", \"2020-03-03T00:00:00\", \"2020-03-04T00:00:00\", \"2020-03-05T00:00:00\", \"2020-03-06T00:00:00\", \"2020-03-07T00:00:00\", \"2020-03-08T00:00:00\", \"2020-03-09T00:00:00\", \"2020-03-10T00:00:00\", \"2020-03-11T00:00:00\", \"2020-03-12T00:00:00\", \"2020-03-13T00:00:00\", \"2020-03-14T00:00:00\", \"2020-03-15T00:00:00\", \"2020-03-16T00:00:00\", \"2020-03-17T00:00:00\", \"2020-03-18T00:00:00\", \"2020-03-19T00:00:00\", \"2020-03-20T00:00:00\", \"2020-03-21T00:00:00\", \"2020-03-22T00:00:00\", \"2020-03-23T00:00:00\", \"2020-03-24T00:00:00\", \"2020-03-25T00:00:00\", \"2020-03-26T00:00:00\", \"2020-03-27T00:00:00\", \"2020-03-28T00:00:00\", \"2020-03-29T00:00:00\", \"2020-03-30T00:00:00\", \"2020-03-31T00:00:00\", \"2020-04-01T00:00:00\", \"2020-04-02T00:00:00\", \"2020-04-03T00:00:00\", \"2020-04-04T00:00:00\", \"2020-04-05T00:00:00\", \"2020-04-06T00:00:00\", \"2020-04-07T00:00:00\", \"2020-04-08T00:00:00\", \"2020-04-09T00:00:00\", \"2020-04-10T00:00:00\", \"2020-04-11T00:00:00\", \"2020-04-12T00:00:00\", \"2020-04-13T00:00:00\", \"2020-04-14T00:00:00\", \"2020-04-15T00:00:00\", \"2020-04-16T00:00:00\", \"2020-04-17T00:00:00\", \"2020-04-18T00:00:00\", \"2020-04-19T00:00:00\", \"2020-04-20T00:00:00\", \"2020-04-21T00:00:00\", \"2020-04-22T00:00:00\", \"2020-04-23T00:00:00\", \"2020-04-24T00:00:00\", \"2020-04-25T00:00:00\", \"2020-04-26T00:00:00\", \"2020-04-27T00:00:00\", \"2020-04-28T00:00:00\", \"2020-04-29T00:00:00\", \"2020-04-30T00:00:00\", \"2020-05-01T00:00:00\", \"2020-05-02T00:00:00\", \"2020-05-03T00:00:00\", \"2020-05-04T00:00:00\", \"2020-05-05T00:00:00\", \"2020-05-06T00:00:00\", \"2020-05-07T00:00:00\", \"2020-05-08T00:00:00\", \"2020-05-09T00:00:00\", \"2020-05-10T00:00:00\", \"2020-05-11T00:00:00\", \"2020-05-12T00:00:00\", \"2020-05-13T00:00:00\", \"2020-05-14T00:00:00\", \"2020-05-15T00:00:00\", \"2020-05-16T00:00:00\", \"2020-05-17T00:00:00\", \"2020-05-18T00:00:00\", \"2020-05-19T00:00:00\", \"2020-05-20T00:00:00\", \"2020-05-21T00:00:00\", \"2020-05-22T00:00:00\", \"2020-05-23T00:00:00\", \"2020-05-24T00:00:00\", \"2020-05-25T00:00:00\", \"2020-05-26T00:00:00\", \"2020-05-27T00:00:00\", \"2020-05-28T00:00:00\", \"2020-05-29T00:00:00\", \"2020-05-30T00:00:00\", \"2020-05-31T00:00:00\", \"2020-06-01T00:00:00\", \"2020-06-02T00:00:00\", \"2020-06-03T00:00:00\", \"2020-06-04T00:00:00\", \"2020-06-05T00:00:00\", \"2020-06-06T00:00:00\", \"2020-06-07T00:00:00\", \"2020-06-08T00:00:00\", \"2020-06-09T00:00:00\", \"2020-06-10T00:00:00\", \"2020-06-11T00:00:00\", \"2020-06-12T00:00:00\", \"2020-06-13T00:00:00\", \"2020-06-14T00:00:00\", \"2020-06-15T00:00:00\", \"2020-06-16T00:00:00\", \"2020-06-17T00:00:00\", \"2020-06-18T00:00:00\", \"2020-06-19T00:00:00\", \"2020-06-20T00:00:00\", \"2020-06-21T00:00:00\", \"2020-06-22T00:00:00\", \"2020-06-23T00:00:00\", \"2020-06-24T00:00:00\", \"2020-06-25T00:00:00\", \"2020-06-26T00:00:00\", \"2020-06-27T00:00:00\", \"2020-06-28T00:00:00\", \"2020-06-29T00:00:00\", \"2020-06-30T00:00:00\", \"2020-07-01T00:00:00\", \"2020-07-02T00:00:00\", \"2020-07-03T00:00:00\", \"2020-07-04T00:00:00\", \"2020-07-05T00:00:00\", \"2020-07-06T00:00:00\", \"2020-07-07T00:00:00\", \"2020-07-08T00:00:00\", \"2020-07-09T00:00:00\", \"2020-07-10T00:00:00\", \"2020-07-11T00:00:00\", \"2020-07-12T00:00:00\", \"2020-07-13T00:00:00\", \"2020-07-14T00:00:00\", \"2020-07-15T00:00:00\", \"2020-07-16T00:00:00\", \"2020-07-17T00:00:00\", \"2020-07-18T00:00:00\", \"2020-07-19T00:00:00\", \"2020-07-20T00:00:00\", \"2020-07-21T00:00:00\", \"2020-07-22T00:00:00\", \"2020-07-23T00:00:00\", \"2020-07-24T00:00:00\", \"2020-07-25T00:00:00\", \"2020-07-26T00:00:00\", \"2020-07-27T00:00:00\", \"2020-07-28T00:00:00\", \"2020-07-29T00:00:00\", \"2020-07-30T00:00:00\", \"2020-07-31T00:00:00\", \"2020-08-01T00:00:00\", \"2020-08-02T00:00:00\", \"2020-08-03T00:00:00\", \"2020-08-04T00:00:00\", \"2020-08-05T00:00:00\", \"2020-08-06T00:00:00\", \"2020-08-07T00:00:00\", \"2020-08-08T00:00:00\", \"2020-08-09T00:00:00\", \"2020-08-10T00:00:00\", \"2020-08-11T00:00:00\", \"2020-08-12T00:00:00\", \"2020-08-13T00:00:00\", \"2020-08-14T00:00:00\", \"2020-08-15T00:00:00\", \"2020-08-16T00:00:00\", \"2020-08-17T00:00:00\", \"2020-08-18T00:00:00\", \"2020-08-19T00:00:00\", \"2020-08-20T00:00:00\", \"2020-08-21T00:00:00\", \"2020-08-22T00:00:00\", \"2020-08-23T00:00:00\", \"2020-08-24T00:00:00\", \"2020-08-25T00:00:00\", \"2020-08-26T00:00:00\", \"2020-08-27T00:00:00\", \"2020-08-28T00:00:00\", \"2020-08-29T00:00:00\", \"2020-08-30T00:00:00\", \"2020-08-31T00:00:00\", \"2020-09-01T00:00:00\", \"2020-09-02T00:00:00\", \"2020-09-03T00:00:00\", \"2020-09-04T00:00:00\", \"2020-09-05T00:00:00\", \"2020-09-06T00:00:00\", \"2020-09-07T00:00:00\", \"2020-09-08T00:00:00\"], \"y\": [1359.98, 1380.42, 1369.49, 1391.11, 1465.09, 1492.92, 1532.99, 1664.99, 1629.99, 1598.88, 1618.3, 1712.22, 1794.58, 1799.95, 1888.99, 1837.99, 1791.69, 1828.36, 1802.88, 1776.55, 1839.99, 1899.99, 1979.98, 2058.99, 2101.13, 2297.99, 2281.94, 2474.2, 2805.98, 2679.02, 2351.5, 2340.01, 2356.08, 2336.64, 2338.9, 2485.14, 18210868.0, 253755360.0, 112203950.0, 97305520.0, 119560050.0, 140479280.0, 263713710.0, 247823520.0, 187519040.0, 716905900.0, 421890660.0, 342409280.0, 221041620.0, 355415600.0, 229795730.0, 207730800.0, 655612350.0, 1318273400.0, 1093473700.0, 624306300.0, 786220160.0, 684270200.0, 657410400.0, 536801060.0, 272387500.0, 499665100.0, 463587070.0, 414576640.0, 488545060.0, 573509060.0, 791913700.0, 461281540.0, 1396135000.0, 463837150.0, 351027260.0, 216432380.0, 347227140.0, 381219940.0, 445687140.0, 269485500.0, 384533860.0, 250474460.0, 164992080.0, 373295040.0, 267391980.0, 296036740.0, 366384320.0, 235531250.0, 200799970.0, 349401250.0, 226503220.0, 321126500.0, 389734240.0, 200641340.0, 148981120.0, 147005620.0, 145389150.0, 729092860.0, 673412800.0, 348152860.0, 182831360.0, 232373000.0, 193915250.0, 261793890.0, 234595730.0, 166490260.0, 155791400.0, 211564270.0, 137817710.0, 156679820.0, 123752850.0, 283877980.0, 193503660.0, 347096260.0, 437063520.0, 210948080.0, 204769000.0, 432167360.0, 626324860.0, 402413470.0, 259045800.0, 226959630.0, 214899140.0, 136930110.0, 169701900.0, 119785750.0, 221846540.0, 317630140.0, 178624560.0, 222292560.0, 286175360.0, 192225260.0, 324659420.0, 322795230.0, 284612640.0, 207281710.0, 195101630.0, 111947700.0, 191913150.0, 192359520.0, 209494350.0, 163897260.0, 151103260.0, 149348590.0, 96970930.0, 125259784.0, 199762400.0, 326285300.0, 223451800.0, 372579200.0, 158605150.0, 199472210.0, 197392720.0, 157036850.0, 237249250.0, 225904420.0, 141160320.0, 109367160.0, 234134740.0, 213085260.0, 178137820.0, 140978000.0, 128693270.0, 130006160.0, 104483840.0, 76937330.0, 155673550.0, 119240580.0, 86625360.0, 204375520.0, 201003180.0, 104312560.0, 104039130.0, 99971540.0, 138053550.0, 105339840.0, 97210540.0, 71033000.0, 71075820.0, 44032996.0, 63221600.0, 50884436.0, 56413492.0, 233560720.0, 175589540.0, 74817700.0, 81525976.0, 108507890.0, 85681420.0, 87622584.0, 98081464.0, 139772130.0, 108221440.0, 69391144.0, 71523144.0, 194554370.0, 290026500.0, 135377000.0, 110991120.0, 81799016.0, 74316710.0, 82212240.0, 101158260.0, 80508664.0, 141310860.0, 104497670.0, 92288250.0, 73033310.0, 92436104.0, 88192520.0, 79079530.0, 70082400.0, 151894850.0, 95973080.0, 57230356.0, 121817640.0, 93808380.0, 86336670.0, 69497760.0, 66667428.0, 34672812.0, 37713452.0, 43286616.0, 56462024.0, 122376730.0, 85463020.0, 64763564.0, 34214556.0, 33351406.0, 56173040.0, 75748376.0, 46305024.0, 45242970.0, 51760120.0, 38550576.0, 40273176.0, 45666800.0, 43090140.0, 43593520.0, 38770300.0, 29589618.0, 20553128.0, 130453470.0, 78580460.0, 72050530.0, 110674940.0, 94611440.0, 45929730.0, 29184908.0, 21284148.0, 52989104.0, 41412876.0, 44731764.0, 29491756.0, 113326550.0, 37230910.0, 79508220.0, 57494036.0, 41206812.0, 43004690.0, 46676052.0, 66011068.0, 43241630.0, 25757784.0, 54109380.0, 42800876.0, 45275156.0, 45951464.0, 34026700.0, 29788002.0, 22373522.0, 35219350.0, 217762.0, 31699792.0, 58696220.0, 37218700.0, 19008346.0, 24586192.0, 60280412.0, 110738340.0, 116995030.0, 74061270.0, 77199784.0, 37230868.0, 41696100.0, 95720570.0, 159078500.0, 120648110.0, 96151360.0, 96493360.0, 33792976.0, 34837380.0, 85387350.0, 98592080.0, 89645480.0, 49121092.0, 31241766.0, 70920590.0, 43626388.0, 62534572.0, 77234376.0, 141611150.0, 89684456.0, 50325540.0, 63146484.0, 52518204.0, 67009844.0, 107643240.0, 113811870.0, 56972864.0, 69869450.0, 44979828.0, 28742038.0, 50631980.0, 43910004.0, 103701990.0, 45084680.0, 48843160.0, 33150968.0, 33426544.0, 49384988.0, 83267240.0, 54193100.0, 57497836.0, 54950316.0, 44848348.0, 42692572.0, 44573056.0, 58695916.0, 114662640.0, 120896040.0, 53876136.0, 47520824.0, 39986036.0, 44198236.0, 47168730.0, 46606268.0, 63208340.0, 49972540.0, 22200470.0, 22755530.0, 59310224.0, 38702972.0, 68137990.0, 43814240.0, 75998620.0, 35706940.0, 23498404.0, 36851092.0, 61156064.0, 38267148.0, 51698228.0, 60136590.0, 28585944.0, 24361548.0, 46924990.0, 35560536.0, 40377316.0, 43745620.0, 35048452.0, 17870612.0, 17169206.0, 35987064.0, 30092548.0, 41622476.0, 128308616.0, 34556124.0, 23818688.0, 23422608.0, 136885470.0, 64957224.0, 35447304.0, 46312964.0, 24367440.0, 21944912.0, 16769773.0, 25636860.0, 25818684.0, 33372816.0, 23980988.0, 26477766.0, 14943027.0, 13712876.0, 44011530.0, 25673193.283535577, 32832839.24522453, 28353679.508712266, 26580721.974373933, 16296705.871125255, 25908533.933975924, 26223167.20037888, 35383451.614059545, 37938770.33809246, 34381735.42844465, 29177859.434167583, 15391686.836686198, 14959672.58113302, 23670076.244228147, 29476559.703746993, 187058036.8018099, 119724928.91069396, 51704003.0703633, 26240759.105402958, 26212081.393075, 210294098.58314648, 297168048.6654369, 126629151.52305132, 57946560.41921399, 82737142.97749443, 91377528.63721563, 147037605.7241212, 137628402.39337274, 88145788.56339371, 147278185.9870003, 87043575.27851681, 80886265.3806699, 43380354.00588131, 46728559.157645084, 66455958.516344324, 66010946.66986199, 56500088.31927107, 105391202.9709056, 127130631.75779565, 46345119.57270018, 41332722.02650989, 46585214.9693123, 37254124.65078554, 35829998.94474249, 47458975.67453929, 47099011.83960251, 29622880.78228861, 23198295.084656168, 74678186.2443025, 60023131.90690035, 106714422.24949822, 122063940.58417867, 92349426.70976084, 38335140.04223383, 40886701.709705636, 81270929.27170742, 52546711.01082756, 35472477.05852496, 49570873.142295815, 63520864.40301559, 37761461.8087519, 33074048.637722973, 47834971.75321198, 40123715.49198743, 38279615.65096887, 35687593.619546145, 34915387.67401389, 24730060.458551742, 39811557.86447781, 40082093.84586946, 56062102.539868824, 42899553.96691712, 82085818.01206473, 52712271.26118627, 20991046.41516583, 29385790.601315193, 40725652.38186435, 39473447.14356946, 32069104.713999804, 32193777.91822605, 21589925.69619727, 22375106.494039662, 26563513.28063695, 22956689.188099373, 33931344.592510894, 29244690.98214445, 20718546.986453928, 24284713.89879599, 20055873.374113828, 15160330.575001255, 47325478.49724487, 29572978.021298107, 29143687.72269466, 25351405.771552168, 30111045.397363935, 13636448.715263091, 15769721.172593012, 20594348.144478925, 21823961.720682785, 33227644.763431024, 29423870.60313006, 61550750.873219386, 18714263.349324558, 19416958.48364193, 31575155.989079226, 30421271.856922377, 25066145.990929097, 21958313.486186508, 26596892.661881533, 15491444.135073923, 23094534.054306645, 63413111.41809696, 58024557.706988014, 34788786.70241847, 34200700.014240116, 29815118.12595173, 43386342.35457338, 66158590.90127994, 41493336.82384838, 24806679.6152378, 31488229.434250697, 37291043.63305508, 26167057.649601158, 14023649.126574995, 15277112.427357316, 31122166.239966612, 35812372.26298451, 26500720.93022332, 28246289.083725266, 34226032.34948511, 22964106.90347593, 14101739.75534516, 24170725.94054489, 26523029.867797077, 21447765.14808967, 30455601.75568521, 26311343.12886066, 27348083.59798401, 14316205.04859656, 22252991.0118495, 23347808.763250437, 28961831.68435155, 36672015.9034188, 20272849.331036143, 16061710.340709362, 10670549.881924778, 25338525.74470023, 16677384.048434425, 27723002.964324858, 19939056.208916567, 40562328.77023854, 21501090.573572487, 12771003.510978846, 32540551.931242947, 181838708.96962416, 205941718.32374957, 81855159.45463783, 59230040.94906333, 62644423.92232367, 53428688.903145455, 83210665.63829012, 51434675.87654928, 90229191.63119154, 85480919.5893216, 48898323.45166202, 21909943.99480843, 22515471.981461957, 51626330.7433592, 44400752.36901073, 38910701.98916648, 43329571.697486684, 33389423.50277405, 26065072.723763462, 31114864.883619603, 66620530.178616196, 102953267.60941285, 83735791.2633278, 95108086.55793242, 74250550.88758026, 22064451.28220071, 25372303.033342693, 37778278.410589375, 37959042.89285821, 38877157.508726954, 39361750.443211414, 109505991.7259239, 63018697.07131241, 32934383.375380043, 51371962.18615745, 93984124.69565374, 74449276.53650711, 94916928.7207842, 110736975.96732913, 261118312.5612087, 292825571.0741773, 364285318.97760814, 316044332.207036, 201407123.48337328, 230683503.17524073, 295181039.56599927, 76907242.18741918, 183000839.51473555, 183713383.60423258, 106268875.21471496, 122652399.52798381, 107628972.76155335, 112106359.0591235, 41118104.04748303, 144368037.5561845, 147001407.0073824, 99407066.82657456, 100238969.58396395, 238803141.4537771, 131680917.50685175, 59880142.07283026, 48487153.17396242, 127084852.88382468, 207723649.32021198, 96652847.49713925, 91202730.34165432, 94758145.33502375, 38797094.19473719, 54937270.36515955, 73750272.94298394, 58054359.49598704, 95751981.34485984, 67420255.04084809, 101254722.40618435, 82473053.39030999, 188324126.56497744, 177638587.80485436, 140183427.14237323, 81184360.12457907, 107767910.10698678, 224274380.78449908, 360749561.1841508, 170508296.32510808, 153910580.96376622, 261869535.73140293, 852034385.9361607, 764122713.9082261, 449242494.43322045, 312360746.7352206, 297710205.8194047, 376161953.0888644, 398656934.31111354, 394345470.5446904, 239335050.66078767, 210050912.92630598, 163490797.39377978, 120739205.96859874, 220569882.97992882, 305497012.77549624, 457064090.64294076, 373722140.10299397, 198711970.27844602, 190470243.08162424, 249816200.09081233, 319087346.9752958, 380946106.07504594, 311484553.2424426, 298038304.5193411, 188652205.1288646, 179557859.12733385, 117935890.83568329, 150660469.88640445, 166348925.56196076, 161742933.80887368, 122689281.98173726, 97911908.12092419, 159253089.18483454, 81888911.5016839, 91999156.03254014, 83159796.69750792, 121140565.93255931, 137288123.54625332, 130712529.93748288, 101574657.74074712, 119877253.72916587, 254329948.99749634, 266999008.7623036, 243389690.32578337, 166015740.07607025, 132524024.1465837, 144620419.22453207, 78691600.94690862, 66069587.89809901, 128674162.02465439, 229430736.3268742, 253417925.03342113, 186211087.94418603, 69642098.17819093, 65126656.23461445, 123965765.22557613, 89680899.77835302, 165041937.64442426, 101869270.2432776, 92032920.29519038, 75279375.69789815, 63119149.18233842, 133713868.16530697, 75996863.72857082, 150239812.91247323, 136240147.28452927, 83293406.60585, 37563258.90455279, 38182957.557662785, 117689083.18516272, 162210768.9345131, 122394682.36302395, 75416118.89117326, 156080583.7121244, 45787147.47132909, 51198309.7993114, 100307613.42707573, 82172791.32123317, 84202465.9293965, 78381561.16502266, 71150517.39389746, 46268267.79057395, 28306975.889208585, 79565836.20388298, 58438765.86189273, 57329567.88498733, 155581259.6422614, 62891106.28257472, 50506357.85887678, 52623137.6695118, 111602648.6200799, 335313149.5728274, 198737091.91097033, 221410153.73107192, 128267683.19538927, 73750897.58321103, 59212223.59603064, 122647064.17110129, 102867996.72952718, 58201685.357300706, 64915642.0155515, 63189609.15758592, 31011116.957178224, 69076483.3173999, 81033609.28631137, 48072046.66894571, 122213687.8665377, 68019753.89896305, 105228038.13201644, 25400016.90747189, 48775737.29556951, 37080246.52297379, 70337640.4091582, 68067717.93976036, 39487857.62554072, 56150984.43730588, 38595161.39535926, 49822294.71207533, 50498355.71879968, 49207017.364939295, 145164605.58225444, 59390161.93050937, 224074015.48416388, 505390363.12798107, 186615332.2474383, 159063061.03700206, 118330924.826946, 90419132.87322253, 76480951.91273989, 71236237.53563619, 42389457.01324094, 39500190.157953836, 78261046.49647634, 70748462.40012711, 63750044.79068417, 55214187.185481094, 114512660.3316193, 36727335.7270211, 54412170.1433783, 61777368.720511004, 54698033.04895933, 39251261.78286521, 48509043.32281892, 93180718.44419724, 22976431.84757936, 31975328.552114516, 81718209.12212604, 59596058.68086687, 42909573.710154906, 130417487.70499125, 242673680.6383821, 56023034.48598279, 75756582.85386524, 188458592.81203786, 84736193.76870535, 140909339.73869953, 65136601.629814, 83064977.21793272, 46705979.36968549, 63906771.65772021, 51335020.75099248, 45206874.61339096, 121089881.54981455, 67828670.96630885, 69526863.38005337, 36771147.23270006, 31778642.700991727, 76542842.800624, 52337018.93621394, 42855990.318502724, 61645418.646865495, 44256418.553217925, 30901844.10937493, 34797141.03191197, 91625095.46084906, 94427361.1089662, 158634023.1617198, 75263656.80815469, 43067061.12558789, 24458855.550236616, 74775734.26829235, 113705744.56487404, 56839324.36510987, 23752377.4723403, 55611777.963417575, 60987173.42341404, 33749835.491735086, 48533705.038353816, 53517033.243003465, 48557590.579850025, 24110757.063186858, 56248279.319854535, 101599167.61023034, 34732882.5387414, 44130267.46691255, 89099112.18194215, 158197975.55247933, 196389340.46505246, 74819190.9518334, 106514854.57706006, 61452951.80514115, 31778279.749693025, 54107475.854261585, 232481195.60540095, 131173426.10752401, 80380928.35002582, 137103876.22876704, 49831230.454511754, 134258385.21463564, 48421026.440496236, 64909884.330525324, 47476625.97187793, 102727670.35968737, 72435333.56260423, 31491095.67800521, 46502933.84898924, 83825507.9774347, 159791407.11268482, 114237705.12746496, 121491821.15660757, 90641575.46911414, 41118321.86258775, 68311702.61997966, 111396869.28733787, 75286006.8434127, 126308185.35938904, 122962710.83648299, 83310624.11800979, 79559000.65316275, 97117070.28644614, 131547763.21781497, 168077846.45668888, 142211839.66849905, 175925330.17385095, 82468081.13061334, 123831525.74836269, 92980192.92420031, 98210026.80235201, 115254930.12531428, 165019102.4690011, 118526928.80832525, 68405586.54317357, 31901387.416506406, 55664886.30762414, 107230858.28827488, 88336584.45404916, 193575759.46434945, 129796652.22620946, 118046217.75595269, 44580490.22009215, 62865008.0116732, 89636524.61562042, 80314266.55541144, 49807860.052542314, 90915100.89785782, 58401453.431525275, 58400449.284333505, 139039636.41490883, 200851307.91127995, 136536261.9540701, 106495872.34521966, 691470513.1225194, 672737470.5051631, 176551604.48072267, 236074995.00011772, 393603430.90493, 235797371.05507773, 197860952.85666695, 324759796.5275068, 337031616.22835815, 145322418.53505123, 169838094.83987096, 263281991.3974209, 270286131.79056007, 208586545.0749073, 116577186.59411182, 136347033.49117494, 126547015.51065473, 97575780.81856345, 149349259.28317147, 77035586.76872064, 113548606.31662706, 196746628.00253955, 101888455.16284215, 69550056.07160741, 60870349.964396305, 199191512.3924471, 166296843.53307718, 112806215.799753, 90142188.6292473, 136661893.08370695, 55351253.29055403, 89245524.5629785, 150564196.00968945, 88622758.81432852, 99802667.4587944, 194997401.34765482, 95537917.86497025, 82811402.84887947, 63655645.12183316, 128274055.99292196, 99270734.40028608, 92466940.8251213, 168898059.0951135, 103461107.75158039, 56245229.38704693, 70749778.6101114, 119232767.15077789, 84913305.91596635, 410005803.6903439, 399375563.013948, 190599296.5672379, 93740765.45138909, 153972833.6123466, 161189909.74359626, 146542998.03790247, 254883686.85242227, 381074045.67781293, 261703693.26810738, 174066148.35372025, 441781378.6460835, 347389624.37653494, 177699509.49657637, 195011070.12565893, 276845484.3973285, 238386115.95485196, 101363189.55889092, 130998038.84559147, 172348384.44813347, 147256777.7597733, 162162485.4406873, 256707237.12189856, 125252281.405255, 63338392.06999437, 116980195.08151154, 108558223.80617455, 101815249.02472185, 99194549.95838454, 136150174.5502311, 98466979.5362531, 100245160.01987912, 75780120.43484414, 214222991.4844187, 325653254.12688404, 109367780.45830117, 120918542.94972582, 121400865.98332407, 62571960.92264445, 111647520.12347873, 82965142.47913754, 100441938.86868402, 127430622.55844693, 254250528.12622514, 103408180.10908544, 43188132.26614418, 45284111.96986285, 171042273.44099313, 98255373.75965053, 84153254.2769079, 58276396.29778039, 65437925.70464025, 1971044.7013089303, 28856962.511765294, 112437336.0940918, 76615090.17889288, 125579599.04284981, 6536202.355139608, 330493.0245618084, 76800582.2758536, 50213189.08943271, 42159966.81773769, 62402116.644872434, 9801816.267689623, 98240269.37556767, 70370166.75674564, 48311562.529285334, 41612401.36165852, 24164474.489626747, 58632634.74201353, 94983299.73574817, 78541251.50098936, 3945865.164284358, 31117063.397339202, 48424279.21752032, 80678880.46714723, 33160868.16170101, 20063385.14579351, 76389232.09919146, 23736680.73689918, 37773983.24043043, 25473734.31130014, 3540395.2604625104, 84602796.12941238, 61277299.217967615, 120186938.56803882, 19366215.23085125, 13039416.4418103, 10341049.336215045, 70410714.37571642, 79105069.7956949, 31007959.427360583, 33528243.523780428, 22792845.01437778, 42906718.963325426, 176369705.11471936, 26093807.849991113, 90493816.89386031, 10761726.054176211, 54929463.10454562, 38693655.9990868, 35046852.73843677, 22766934.73367218, 86644499.00886866, 81790251.67273523, 27084757.02243895, 31304438.257214207, 35992575.78398832, 42153193.94533222, 8727059.018345278, 24805844.416590065, 39195301.30270119, 61675081.478720106, 24352127.3524412, 28912068.257339608, 39284638.07583232, 15712714.90808382, 12462347.35952721, 3461208.061035134, 17744181.739705674, 15081953.712343046, 10620637.616310338, 1640956.6691929754, 15641447.53698177, 10660791.766826605, 22318799.50320441, 209350253.20675448, 5248558.4006521385, 12943319.831373107, 19243472.621000014, 17569061.021864533, 9923038.784501757]}],\n",
              "                        {\"template\": {\"data\": {\"bar\": [{\"error_x\": {\"color\": \"#2a3f5f\"}, \"error_y\": {\"color\": \"#2a3f5f\"}, \"marker\": {\"line\": {\"color\": \"#E5ECF6\", \"width\": 0.5}}, \"type\": \"bar\"}], \"barpolar\": [{\"marker\": {\"line\": {\"color\": \"#E5ECF6\", \"width\": 0.5}}, \"type\": \"barpolar\"}], \"carpet\": [{\"aaxis\": {\"endlinecolor\": \"#2a3f5f\", \"gridcolor\": \"white\", \"linecolor\": \"white\", \"minorgridcolor\": \"white\", \"startlinecolor\": \"#2a3f5f\"}, \"baxis\": {\"endlinecolor\": \"#2a3f5f\", \"gridcolor\": \"white\", \"linecolor\": \"white\", \"minorgridcolor\": \"white\", \"startlinecolor\": \"#2a3f5f\"}, \"type\": \"carpet\"}], \"choropleth\": [{\"colorbar\": {\"outlinewidth\": 0, \"ticks\": \"\"}, \"type\": \"choropleth\"}], \"contour\": [{\"colorbar\": {\"outlinewidth\": 0, \"ticks\": \"\"}, \"colorscale\": [[0.0, \"#0d0887\"], [0.1111111111111111, \"#46039f\"], [0.2222222222222222, \"#7201a8\"], [0.3333333333333333, \"#9c179e\"], [0.4444444444444444, \"#bd3786\"], [0.5555555555555556, \"#d8576b\"], [0.6666666666666666, \"#ed7953\"], [0.7777777777777778, \"#fb9f3a\"], [0.8888888888888888, \"#fdca26\"], [1.0, \"#f0f921\"]], \"type\": \"contour\"}], \"contourcarpet\": [{\"colorbar\": {\"outlinewidth\": 0, \"ticks\": \"\"}, \"type\": \"contourcarpet\"}], \"heatmap\": [{\"colorbar\": {\"outlinewidth\": 0, \"ticks\": \"\"}, \"colorscale\": [[0.0, \"#0d0887\"], [0.1111111111111111, \"#46039f\"], [0.2222222222222222, \"#7201a8\"], [0.3333333333333333, \"#9c179e\"], [0.4444444444444444, \"#bd3786\"], [0.5555555555555556, \"#d8576b\"], [0.6666666666666666, \"#ed7953\"], [0.7777777777777778, \"#fb9f3a\"], [0.8888888888888888, \"#fdca26\"], [1.0, \"#f0f921\"]], \"type\": \"heatmap\"}], \"heatmapgl\": [{\"colorbar\": {\"outlinewidth\": 0, \"ticks\": \"\"}, \"colorscale\": [[0.0, \"#0d0887\"], [0.1111111111111111, \"#46039f\"], [0.2222222222222222, \"#7201a8\"], [0.3333333333333333, \"#9c179e\"], [0.4444444444444444, \"#bd3786\"], [0.5555555555555556, \"#d8576b\"], [0.6666666666666666, \"#ed7953\"], [0.7777777777777778, \"#fb9f3a\"], [0.8888888888888888, \"#fdca26\"], [1.0, \"#f0f921\"]], \"type\": \"heatmapgl\"}], \"histogram\": [{\"marker\": {\"colorbar\": {\"outlinewidth\": 0, \"ticks\": \"\"}}, \"type\": \"histogram\"}], \"histogram2d\": [{\"colorbar\": {\"outlinewidth\": 0, \"ticks\": \"\"}, \"colorscale\": [[0.0, \"#0d0887\"], [0.1111111111111111, \"#46039f\"], [0.2222222222222222, \"#7201a8\"], [0.3333333333333333, \"#9c179e\"], [0.4444444444444444, \"#bd3786\"], [0.5555555555555556, \"#d8576b\"], [0.6666666666666666, \"#ed7953\"], [0.7777777777777778, \"#fb9f3a\"], [0.8888888888888888, \"#fdca26\"], [1.0, \"#f0f921\"]], \"type\": \"histogram2d\"}], \"histogram2dcontour\": [{\"colorbar\": {\"outlinewidth\": 0, \"ticks\": \"\"}, \"colorscale\": [[0.0, \"#0d0887\"], [0.1111111111111111, \"#46039f\"], [0.2222222222222222, \"#7201a8\"], [0.3333333333333333, \"#9c179e\"], [0.4444444444444444, \"#bd3786\"], [0.5555555555555556, \"#d8576b\"], [0.6666666666666666, \"#ed7953\"], [0.7777777777777778, \"#fb9f3a\"], [0.8888888888888888, \"#fdca26\"], [1.0, \"#f0f921\"]], \"type\": \"histogram2dcontour\"}], \"mesh3d\": [{\"colorbar\": {\"outlinewidth\": 0, \"ticks\": \"\"}, \"type\": \"mesh3d\"}], \"parcoords\": [{\"line\": {\"colorbar\": {\"outlinewidth\": 0, \"ticks\": \"\"}}, \"type\": \"parcoords\"}], \"pie\": [{\"automargin\": true, \"type\": \"pie\"}], \"scatter\": [{\"marker\": {\"colorbar\": {\"outlinewidth\": 0, \"ticks\": \"\"}}, \"type\": \"scatter\"}], \"scatter3d\": [{\"line\": {\"colorbar\": {\"outlinewidth\": 0, \"ticks\": \"\"}}, \"marker\": {\"colorbar\": {\"outlinewidth\": 0, \"ticks\": \"\"}}, \"type\": \"scatter3d\"}], \"scattercarpet\": [{\"marker\": {\"colorbar\": {\"outlinewidth\": 0, \"ticks\": \"\"}}, \"type\": \"scattercarpet\"}], \"scattergeo\": [{\"marker\": {\"colorbar\": {\"outlinewidth\": 0, \"ticks\": \"\"}}, \"type\": \"scattergeo\"}], \"scattergl\": [{\"marker\": {\"colorbar\": {\"outlinewidth\": 0, \"ticks\": \"\"}}, \"type\": \"scattergl\"}], \"scattermapbox\": [{\"marker\": {\"colorbar\": {\"outlinewidth\": 0, \"ticks\": \"\"}}, \"type\": \"scattermapbox\"}], \"scatterpolar\": [{\"marker\": {\"colorbar\": {\"outlinewidth\": 0, \"ticks\": \"\"}}, \"type\": \"scatterpolar\"}], \"scatterpolargl\": [{\"marker\": {\"colorbar\": {\"outlinewidth\": 0, \"ticks\": \"\"}}, \"type\": \"scatterpolargl\"}], \"scatterternary\": [{\"marker\": {\"colorbar\": {\"outlinewidth\": 0, \"ticks\": \"\"}}, \"type\": \"scatterternary\"}], \"surface\": [{\"colorbar\": {\"outlinewidth\": 0, \"ticks\": \"\"}, \"colorscale\": [[0.0, \"#0d0887\"], [0.1111111111111111, \"#46039f\"], [0.2222222222222222, \"#7201a8\"], [0.3333333333333333, \"#9c179e\"], [0.4444444444444444, \"#bd3786\"], [0.5555555555555556, \"#d8576b\"], [0.6666666666666666, \"#ed7953\"], [0.7777777777777778, \"#fb9f3a\"], [0.8888888888888888, \"#fdca26\"], [1.0, \"#f0f921\"]], \"type\": \"surface\"}], \"table\": [{\"cells\": {\"fill\": {\"color\": \"#EBF0F8\"}, \"line\": {\"color\": \"white\"}}, \"header\": {\"fill\": {\"color\": \"#C8D4E3\"}, \"line\": {\"color\": \"white\"}}, \"type\": \"table\"}]}, \"layout\": {\"annotationdefaults\": {\"arrowcolor\": \"#2a3f5f\", \"arrowhead\": 0, \"arrowwidth\": 1}, \"coloraxis\": {\"colorbar\": {\"outlinewidth\": 0, \"ticks\": \"\"}}, \"colorscale\": {\"diverging\": [[0, \"#8e0152\"], [0.1, \"#c51b7d\"], [0.2, \"#de77ae\"], [0.3, \"#f1b6da\"], [0.4, \"#fde0ef\"], [0.5, \"#f7f7f7\"], [0.6, \"#e6f5d0\"], [0.7, \"#b8e186\"], [0.8, \"#7fbc41\"], [0.9, \"#4d9221\"], [1, \"#276419\"]], \"sequential\": [[0.0, \"#0d0887\"], [0.1111111111111111, \"#46039f\"], [0.2222222222222222, \"#7201a8\"], [0.3333333333333333, \"#9c179e\"], [0.4444444444444444, \"#bd3786\"], [0.5555555555555556, \"#d8576b\"], [0.6666666666666666, \"#ed7953\"], [0.7777777777777778, \"#fb9f3a\"], [0.8888888888888888, \"#fdca26\"], [1.0, \"#f0f921\"]], \"sequentialminus\": [[0.0, \"#0d0887\"], [0.1111111111111111, \"#46039f\"], [0.2222222222222222, \"#7201a8\"], [0.3333333333333333, \"#9c179e\"], [0.4444444444444444, \"#bd3786\"], [0.5555555555555556, \"#d8576b\"], [0.6666666666666666, \"#ed7953\"], [0.7777777777777778, \"#fb9f3a\"], [0.8888888888888888, \"#fdca26\"], [1.0, \"#f0f921\"]]}, \"colorway\": [\"#636efa\", \"#EF553B\", \"#00cc96\", \"#ab63fa\", \"#FFA15A\", \"#19d3f3\", \"#FF6692\", \"#B6E880\", \"#FF97FF\", \"#FECB52\"], \"font\": {\"color\": \"#2a3f5f\"}, \"geo\": {\"bgcolor\": \"white\", \"lakecolor\": \"white\", \"landcolor\": \"#E5ECF6\", \"showlakes\": true, \"showland\": true, \"subunitcolor\": \"white\"}, \"hoverlabel\": {\"align\": \"left\"}, \"hovermode\": \"closest\", \"mapbox\": {\"style\": \"light\"}, \"paper_bgcolor\": \"white\", \"plot_bgcolor\": \"#E5ECF6\", \"polar\": {\"angularaxis\": {\"gridcolor\": \"white\", \"linecolor\": \"white\", \"ticks\": \"\"}, \"bgcolor\": \"#E5ECF6\", \"radialaxis\": {\"gridcolor\": \"white\", \"linecolor\": \"white\", \"ticks\": \"\"}}, \"scene\": {\"xaxis\": {\"backgroundcolor\": \"#E5ECF6\", \"gridcolor\": \"white\", \"gridwidth\": 2, \"linecolor\": \"white\", \"showbackground\": true, \"ticks\": \"\", \"zerolinecolor\": \"white\"}, \"yaxis\": {\"backgroundcolor\": \"#E5ECF6\", \"gridcolor\": \"white\", \"gridwidth\": 2, \"linecolor\": \"white\", \"showbackground\": true, \"ticks\": \"\", \"zerolinecolor\": \"white\"}, \"zaxis\": {\"backgroundcolor\": \"#E5ECF6\", \"gridcolor\": \"white\", \"gridwidth\": 2, \"linecolor\": \"white\", \"showbackground\": true, \"ticks\": \"\", \"zerolinecolor\": \"white\"}}, \"shapedefaults\": {\"line\": {\"color\": \"#2a3f5f\"}}, \"ternary\": {\"aaxis\": {\"gridcolor\": \"white\", \"linecolor\": \"white\", \"ticks\": \"\"}, \"baxis\": {\"gridcolor\": \"white\", \"linecolor\": \"white\", \"ticks\": \"\"}, \"bgcolor\": \"#E5ECF6\", \"caxis\": {\"gridcolor\": \"white\", \"linecolor\": \"white\", \"ticks\": \"\"}}, \"title\": {\"x\": 0.05}, \"xaxis\": {\"automargin\": true, \"gridcolor\": \"white\", \"linecolor\": \"white\", \"ticks\": \"\", \"title\": {\"standoff\": 15}, \"zerolinecolor\": \"white\", \"zerolinewidth\": 2}, \"yaxis\": {\"automargin\": true, \"gridcolor\": \"white\", \"linecolor\": \"white\", \"ticks\": \"\", \"title\": {\"standoff\": 15}, \"zerolinecolor\": \"white\", \"zerolinewidth\": 2}}}},\n",
              "                        {\"responsive\": true}\n",
              "                    ).then(function(){\n",
              "                            \n",
              "var gd = document.getElementById('f52ec671-0fd1-4941-a020-1756a6e91395');\n",
              "var x = new MutationObserver(function (mutations, observer) {{\n",
              "        var display = window.getComputedStyle(gd).display;\n",
              "        if (!display || display === 'none') {{\n",
              "            console.log([gd, 'removed!']);\n",
              "            Plotly.purge(gd);\n",
              "            observer.disconnect();\n",
              "        }}\n",
              "}});\n",
              "\n",
              "// Listen for the removal of the full notebook cells\n",
              "var notebookContainer = gd.closest('#notebook-container');\n",
              "if (notebookContainer) {{\n",
              "    x.observe(notebookContainer, {childList: true});\n",
              "}}\n",
              "\n",
              "// Listen for the clearing of the current output cell\n",
              "var outputEl = gd.closest('.output');\n",
              "if (outputEl) {{\n",
              "    x.observe(outputEl, {childList: true});\n",
              "}}\n",
              "\n",
              "                        })\n",
              "                };\n",
              "                });\n",
              "            </script>\n",
              "        </div>"
            ],
            "application/vnd.plotly.v1+json": {
              "data": [
                {
                  "y": [
                    1359.98,
                    1380.42,
                    1369.49,
                    1391.11,
                    1465.09,
                    1492.92,
                    1532.99,
                    1664.99,
                    1629.99,
                    1598.88,
                    1618.3,
                    1712.22,
                    1794.58,
                    1799.95,
                    1888.99,
                    1837.99,
                    1791.69,
                    1828.36,
                    1802.88,
                    1776.55,
                    1839.99,
                    1899.99,
                    1979.98,
                    2058.99,
                    2101.13,
                    2297.99,
                    2281.94,
                    2474.2,
                    2805.98,
                    2679.02,
                    2351.5,
                    2340.01,
                    2356.08,
                    2336.64,
                    2338.9,
                    2485.14,
                    18210868,
                    253755360,
                    112203950,
                    97305520,
                    119560050,
                    140479280,
                    263713710,
                    247823520,
                    187519040,
                    716905900,
                    421890660,
                    342409280,
                    221041620,
                    355415600,
                    229795730,
                    207730800,
                    655612350,
                    1318273400,
                    1093473700,
                    624306300,
                    786220160,
                    684270200,
                    657410400,
                    536801060,
                    272387500,
                    499665100,
                    463587070,
                    414576640,
                    488545060,
                    573509060,
                    791913700,
                    461281540,
                    1396135000,
                    463837150,
                    351027260,
                    216432380,
                    347227140,
                    381219940,
                    445687140,
                    269485500,
                    384533860,
                    250474460,
                    164992080,
                    373295040,
                    267391980,
                    296036740,
                    366384320,
                    235531250,
                    200799970,
                    349401250,
                    226503220,
                    321126500,
                    389734240,
                    200641340,
                    148981120,
                    147005620,
                    145389150,
                    729092860,
                    673412800,
                    348152860,
                    182831360,
                    232373000,
                    193915250,
                    261793890,
                    234595730,
                    166490260,
                    155791400,
                    211564270,
                    137817710,
                    156679820,
                    123752850,
                    283877980,
                    193503660,
                    347096260,
                    437063520,
                    210948080,
                    204769000,
                    432167360,
                    626324860,
                    402413470,
                    259045800,
                    226959630,
                    214899140,
                    136930110,
                    169701900,
                    119785750,
                    221846540,
                    317630140,
                    178624560,
                    222292560,
                    286175360,
                    192225260,
                    324659420,
                    322795230,
                    284612640,
                    207281710,
                    195101630,
                    111947700,
                    191913150,
                    192359520,
                    209494350,
                    163897260,
                    151103260,
                    149348590,
                    96970930,
                    125259784,
                    199762400,
                    326285300,
                    223451800,
                    372579200,
                    158605150,
                    199472210,
                    197392720,
                    157036850,
                    237249250,
                    225904420,
                    141160320,
                    109367160,
                    234134740,
                    213085260,
                    178137820,
                    140978000,
                    128693270,
                    130006160,
                    104483840,
                    76937330,
                    155673550,
                    119240580,
                    86625360,
                    204375520,
                    201003180,
                    104312560,
                    104039130,
                    99971540,
                    138053550,
                    105339840,
                    97210540,
                    71033000,
                    71075820,
                    44032996,
                    63221600,
                    50884436,
                    56413492,
                    233560720,
                    175589540,
                    74817700,
                    81525976,
                    108507890,
                    85681420,
                    87622584,
                    98081464,
                    139772130,
                    108221440,
                    69391144,
                    71523144,
                    194554370,
                    290026500,
                    135377000,
                    110991120,
                    81799016,
                    74316710,
                    82212240,
                    101158260,
                    80508664,
                    141310860,
                    104497670,
                    92288250,
                    73033310,
                    92436104,
                    88192520,
                    79079530,
                    70082400,
                    151894850,
                    95973080,
                    57230356,
                    121817640,
                    93808380,
                    86336670,
                    69497760,
                    66667428,
                    34672812,
                    37713452,
                    43286616,
                    56462024,
                    122376730,
                    85463020,
                    64763564,
                    34214556,
                    33351406,
                    56173040,
                    75748376,
                    46305024,
                    45242970,
                    51760120,
                    38550576,
                    40273176,
                    45666800,
                    43090140,
                    43593520,
                    38770300,
                    29589618,
                    20553128,
                    130453470,
                    78580460,
                    72050530,
                    110674940,
                    94611440,
                    45929730,
                    29184908,
                    21284148,
                    52989104,
                    41412876,
                    44731764,
                    29491756,
                    113326550,
                    37230910,
                    79508220,
                    57494036,
                    41206812,
                    43004690,
                    46676052,
                    66011068,
                    43241630,
                    25757784,
                    54109380,
                    42800876,
                    45275156,
                    45951464,
                    34026700,
                    29788002,
                    22373522,
                    35219350,
                    217762,
                    31699792,
                    58696220,
                    37218700,
                    19008346,
                    24586192,
                    60280412,
                    110738340,
                    116995030,
                    74061270,
                    77199784,
                    37230868,
                    41696100,
                    95720570,
                    159078500,
                    120648110,
                    96151360,
                    96493360,
                    33792976,
                    34837380,
                    85387350,
                    98592080,
                    89645480,
                    49121092,
                    31241766,
                    70920590,
                    43626388,
                    62534572,
                    77234376,
                    141611150,
                    89684456,
                    50325540,
                    63146484,
                    52518204,
                    67009844,
                    107643240,
                    113811870,
                    56972864,
                    69869450,
                    44979828,
                    28742038,
                    50631980,
                    43910004,
                    103701990,
                    45084680,
                    48843160,
                    33150968,
                    33426544,
                    49384988,
                    83267240,
                    54193100,
                    57497836,
                    54950316,
                    44848348,
                    42692572,
                    44573056,
                    58695916,
                    114662640,
                    120896040,
                    53876136,
                    47520824,
                    39986036,
                    44198236,
                    47168730,
                    46606268,
                    63208340,
                    49972540,
                    22200470,
                    22755530,
                    59310224,
                    38702972,
                    68137990,
                    43814240,
                    75998620,
                    35706940,
                    23498404,
                    36851092,
                    61156064,
                    38267148,
                    51698228,
                    60136590,
                    28585944,
                    24361548,
                    46924990,
                    35560536,
                    40377316,
                    43745620,
                    35048452,
                    17870612,
                    17169206,
                    35987064,
                    30092548,
                    41622476,
                    128308616,
                    34556124,
                    23818688,
                    23422608,
                    136885470,
                    64957224,
                    35447304,
                    46312964,
                    24367440,
                    21944912,
                    16769773,
                    25636860,
                    25818684,
                    33372816,
                    23980988,
                    26477766,
                    14943027,
                    13712876,
                    44011530,
                    25673193.283535577,
                    32832839.24522453,
                    28353679.508712266,
                    26580721.974373933,
                    16296705.871125255,
                    25908533.933975924,
                    26223167.20037888,
                    35383451.614059545,
                    37938770.33809246,
                    34381735.42844465,
                    29177859.434167583,
                    15391686.836686198,
                    14959672.58113302,
                    23670076.244228147,
                    29476559.703746993,
                    187058036.8018099,
                    119724928.91069396,
                    51704003.0703633,
                    26240759.105402958,
                    26212081.393075,
                    210294098.58314648,
                    297168048.6654369,
                    126629151.52305132,
                    57946560.41921399,
                    82737142.97749443,
                    91377528.63721563,
                    147037605.7241212,
                    137628402.39337274,
                    88145788.56339371,
                    147278185.9870003,
                    87043575.27851681,
                    80886265.3806699,
                    43380354.00588131,
                    46728559.157645084,
                    66455958.516344324,
                    66010946.66986199,
                    56500088.31927107,
                    105391202.9709056,
                    127130631.75779565,
                    46345119.57270018,
                    41332722.02650989,
                    46585214.9693123,
                    37254124.65078554,
                    35829998.94474249,
                    47458975.67453929,
                    47099011.83960251,
                    29622880.78228861,
                    23198295.084656168,
                    74678186.2443025,
                    60023131.90690035,
                    106714422.24949822,
                    122063940.58417867,
                    92349426.70976084,
                    38335140.04223383,
                    40886701.709705636,
                    81270929.27170742,
                    52546711.01082756,
                    35472477.05852496,
                    49570873.142295815,
                    63520864.40301559,
                    37761461.8087519,
                    33074048.637722973,
                    47834971.75321198,
                    40123715.49198743,
                    38279615.65096887,
                    35687593.619546145,
                    34915387.67401389,
                    24730060.458551742,
                    39811557.86447781,
                    40082093.84586946,
                    56062102.539868824,
                    42899553.96691712,
                    82085818.01206473,
                    52712271.26118627,
                    20991046.41516583,
                    29385790.601315193,
                    40725652.38186435,
                    39473447.14356946,
                    32069104.713999804,
                    32193777.91822605,
                    21589925.69619727,
                    22375106.494039662,
                    26563513.28063695,
                    22956689.188099373,
                    33931344.592510894,
                    29244690.98214445,
                    20718546.986453928,
                    24284713.89879599,
                    20055873.374113828,
                    15160330.575001255,
                    47325478.49724487,
                    29572978.021298107,
                    29143687.72269466,
                    25351405.771552168,
                    30111045.397363935,
                    13636448.715263091,
                    15769721.172593012,
                    20594348.144478925,
                    21823961.720682785,
                    33227644.763431024,
                    29423870.60313006,
                    61550750.873219386,
                    18714263.349324558,
                    19416958.48364193,
                    31575155.989079226,
                    30421271.856922377,
                    25066145.990929097,
                    21958313.486186508,
                    26596892.661881533,
                    15491444.135073923,
                    23094534.054306645,
                    63413111.41809696,
                    58024557.706988014,
                    34788786.70241847,
                    34200700.014240116,
                    29815118.12595173,
                    43386342.35457338,
                    66158590.90127994,
                    41493336.82384838,
                    24806679.6152378,
                    31488229.434250697,
                    37291043.63305508,
                    26167057.649601158,
                    14023649.126574995,
                    15277112.427357316,
                    31122166.239966612,
                    35812372.26298451,
                    26500720.93022332,
                    28246289.083725266,
                    34226032.34948511,
                    22964106.90347593,
                    14101739.75534516,
                    24170725.94054489,
                    26523029.867797077,
                    21447765.14808967,
                    30455601.75568521,
                    26311343.12886066,
                    27348083.59798401,
                    14316205.04859656,
                    22252991.0118495,
                    23347808.763250437,
                    28961831.68435155,
                    36672015.9034188,
                    20272849.331036143,
                    16061710.340709362,
                    10670549.881924778,
                    25338525.74470023,
                    16677384.048434425,
                    27723002.964324858,
                    19939056.208916567,
                    40562328.77023854,
                    21501090.573572487,
                    12771003.510978846,
                    32540551.931242947,
                    181838708.96962416,
                    205941718.32374957,
                    81855159.45463783,
                    59230040.94906333,
                    62644423.92232367,
                    53428688.903145455,
                    83210665.63829012,
                    51434675.87654928,
                    90229191.63119154,
                    85480919.5893216,
                    48898323.45166202,
                    21909943.99480843,
                    22515471.981461957,
                    51626330.7433592,
                    44400752.36901073,
                    38910701.98916648,
                    43329571.697486684,
                    33389423.50277405,
                    26065072.723763462,
                    31114864.883619603,
                    66620530.178616196,
                    102953267.60941285,
                    83735791.2633278,
                    95108086.55793242,
                    74250550.88758026,
                    22064451.28220071,
                    25372303.033342693,
                    37778278.410589375,
                    37959042.89285821,
                    38877157.508726954,
                    39361750.443211414,
                    109505991.7259239,
                    63018697.07131241,
                    32934383.375380043,
                    51371962.18615745,
                    93984124.69565374,
                    74449276.53650711,
                    94916928.7207842,
                    110736975.96732913,
                    261118312.5612087,
                    292825571.0741773,
                    364285318.97760814,
                    316044332.207036,
                    201407123.48337328,
                    230683503.17524073,
                    295181039.56599927,
                    76907242.18741918,
                    183000839.51473555,
                    183713383.60423258,
                    106268875.21471496,
                    122652399.52798381,
                    107628972.76155335,
                    112106359.0591235,
                    41118104.04748303,
                    144368037.5561845,
                    147001407.0073824,
                    99407066.82657456,
                    100238969.58396395,
                    238803141.4537771,
                    131680917.50685175,
                    59880142.07283026,
                    48487153.17396242,
                    127084852.88382468,
                    207723649.32021198,
                    96652847.49713925,
                    91202730.34165432,
                    94758145.33502375,
                    38797094.19473719,
                    54937270.36515955,
                    73750272.94298394,
                    58054359.49598704,
                    95751981.34485984,
                    67420255.04084809,
                    101254722.40618435,
                    82473053.39030999,
                    188324126.56497744,
                    177638587.80485436,
                    140183427.14237323,
                    81184360.12457907,
                    107767910.10698678,
                    224274380.78449908,
                    360749561.1841508,
                    170508296.32510808,
                    153910580.96376622,
                    261869535.73140293,
                    852034385.9361607,
                    764122713.9082261,
                    449242494.43322045,
                    312360746.7352206,
                    297710205.8194047,
                    376161953.0888644,
                    398656934.31111354,
                    394345470.5446904,
                    239335050.66078767,
                    210050912.92630598,
                    163490797.39377978,
                    120739205.96859874,
                    220569882.97992882,
                    305497012.77549624,
                    457064090.64294076,
                    373722140.10299397,
                    198711970.27844602,
                    190470243.08162424,
                    249816200.09081233,
                    319087346.9752958,
                    380946106.07504594,
                    311484553.2424426,
                    298038304.5193411,
                    188652205.1288646,
                    179557859.12733385,
                    117935890.83568329,
                    150660469.88640445,
                    166348925.56196076,
                    161742933.80887368,
                    122689281.98173726,
                    97911908.12092419,
                    159253089.18483454,
                    81888911.5016839,
                    91999156.03254014,
                    83159796.69750792,
                    121140565.93255931,
                    137288123.54625332,
                    130712529.93748288,
                    101574657.74074712,
                    119877253.72916587,
                    254329948.99749634,
                    266999008.7623036,
                    243389690.32578337,
                    166015740.07607025,
                    132524024.1465837,
                    144620419.22453207,
                    78691600.94690862,
                    66069587.89809901,
                    128674162.02465439,
                    229430736.3268742,
                    253417925.03342113,
                    186211087.94418603,
                    69642098.17819093,
                    65126656.23461445,
                    123965765.22557613,
                    89680899.77835302,
                    165041937.64442426,
                    101869270.2432776,
                    92032920.29519038,
                    75279375.69789815,
                    63119149.18233842,
                    133713868.16530697,
                    75996863.72857082,
                    150239812.91247323,
                    136240147.28452927,
                    83293406.60585,
                    37563258.90455279,
                    38182957.557662785,
                    117689083.18516272,
                    162210768.9345131,
                    122394682.36302395,
                    75416118.89117326,
                    156080583.7121244,
                    45787147.47132909,
                    51198309.7993114,
                    100307613.42707573,
                    82172791.32123317,
                    84202465.9293965,
                    78381561.16502266,
                    71150517.39389746,
                    46268267.79057395,
                    28306975.889208585,
                    79565836.20388298,
                    58438765.86189273,
                    57329567.88498733,
                    155581259.6422614,
                    62891106.28257472,
                    50506357.85887678,
                    52623137.6695118,
                    111602648.6200799,
                    335313149.5728274,
                    198737091.91097033,
                    221410153.73107192,
                    128267683.19538927,
                    73750897.58321103,
                    59212223.59603064,
                    122647064.17110129,
                    102867996.72952718,
                    58201685.357300706,
                    64915642.0155515,
                    63189609.15758592,
                    31011116.957178224,
                    69076483.3173999,
                    81033609.28631137,
                    48072046.66894571,
                    122213687.8665377,
                    68019753.89896305,
                    105228038.13201644,
                    25400016.90747189,
                    48775737.29556951,
                    37080246.52297379,
                    70337640.4091582,
                    68067717.93976036,
                    39487857.62554072,
                    56150984.43730588,
                    38595161.39535926,
                    49822294.71207533,
                    50498355.71879968,
                    49207017.364939295,
                    145164605.58225444,
                    59390161.93050937,
                    224074015.48416388,
                    505390363.12798107,
                    186615332.2474383,
                    159063061.03700206,
                    118330924.826946,
                    90419132.87322253,
                    76480951.91273989,
                    71236237.53563619,
                    42389457.01324094,
                    39500190.157953836,
                    78261046.49647634,
                    70748462.40012711,
                    63750044.79068417,
                    55214187.185481094,
                    114512660.3316193,
                    36727335.7270211,
                    54412170.1433783,
                    61777368.720511004,
                    54698033.04895933,
                    39251261.78286521,
                    48509043.32281892,
                    93180718.44419724,
                    22976431.84757936,
                    31975328.552114516,
                    81718209.12212604,
                    59596058.68086687,
                    42909573.710154906,
                    130417487.70499125,
                    242673680.6383821,
                    56023034.48598279,
                    75756582.85386524,
                    188458592.81203786,
                    84736193.76870535,
                    140909339.73869953,
                    65136601.629814,
                    83064977.21793272,
                    46705979.36968549,
                    63906771.65772021,
                    51335020.75099248,
                    45206874.61339096,
                    121089881.54981455,
                    67828670.96630885,
                    69526863.38005337,
                    36771147.23270006,
                    31778642.700991727,
                    76542842.800624,
                    52337018.93621394,
                    42855990.318502724,
                    61645418.646865495,
                    44256418.553217925,
                    30901844.10937493,
                    34797141.03191197,
                    91625095.46084906,
                    94427361.1089662,
                    158634023.1617198,
                    75263656.80815469,
                    43067061.12558789,
                    24458855.550236616,
                    74775734.26829235,
                    113705744.56487404,
                    56839324.36510987,
                    23752377.4723403,
                    55611777.963417575,
                    60987173.42341404,
                    33749835.491735086,
                    48533705.038353816,
                    53517033.243003465,
                    48557590.579850025,
                    24110757.063186858,
                    56248279.319854535,
                    101599167.61023034,
                    34732882.5387414,
                    44130267.46691255,
                    89099112.18194215,
                    158197975.55247933,
                    196389340.46505246,
                    74819190.9518334,
                    106514854.57706006,
                    61452951.80514115,
                    31778279.749693025,
                    54107475.854261585,
                    232481195.60540095,
                    131173426.10752401,
                    80380928.35002582,
                    137103876.22876704,
                    49831230.454511754,
                    134258385.21463564,
                    48421026.440496236,
                    64909884.330525324,
                    47476625.97187793,
                    102727670.35968737,
                    72435333.56260423,
                    31491095.67800521,
                    46502933.84898924,
                    83825507.9774347,
                    159791407.11268482,
                    114237705.12746496,
                    121491821.15660757,
                    90641575.46911414,
                    41118321.86258775,
                    68311702.61997966,
                    111396869.28733787,
                    75286006.8434127,
                    126308185.35938904,
                    122962710.83648299,
                    83310624.11800979,
                    79559000.65316275,
                    97117070.28644614,
                    131547763.21781497,
                    168077846.45668888,
                    142211839.66849905,
                    175925330.17385095,
                    82468081.13061334,
                    123831525.74836269,
                    92980192.92420031,
                    98210026.80235201,
                    115254930.12531428,
                    165019102.4690011,
                    118526928.80832525,
                    68405586.54317357,
                    31901387.416506406,
                    55664886.30762414,
                    107230858.28827488,
                    88336584.45404916,
                    193575759.46434945,
                    129796652.22620946,
                    118046217.75595269,
                    44580490.22009215,
                    62865008.0116732,
                    89636524.61562042,
                    80314266.55541144,
                    49807860.052542314,
                    90915100.89785782,
                    58401453.431525275,
                    58400449.284333505,
                    139039636.41490883,
                    200851307.91127995,
                    136536261.9540701,
                    106495872.34521966,
                    691470513.1225194,
                    672737470.5051631,
                    176551604.48072267,
                    236074995.00011772,
                    393603430.90493,
                    235797371.05507773,
                    197860952.85666695,
                    324759796.5275068,
                    337031616.22835815,
                    145322418.53505123,
                    169838094.83987096,
                    263281991.3974209,
                    270286131.79056007,
                    208586545.0749073,
                    116577186.59411182,
                    136347033.49117494,
                    126547015.51065473,
                    97575780.81856345,
                    149349259.28317147,
                    77035586.76872064,
                    113548606.31662706,
                    196746628.00253955,
                    101888455.16284215,
                    69550056.07160741,
                    60870349.964396305,
                    199191512.3924471,
                    166296843.53307718,
                    112806215.799753,
                    90142188.6292473,
                    136661893.08370695,
                    55351253.29055403,
                    89245524.5629785,
                    150564196.00968945,
                    88622758.81432852,
                    99802667.4587944,
                    194997401.34765482,
                    95537917.86497025,
                    82811402.84887947,
                    63655645.12183316,
                    128274055.99292196,
                    99270734.40028608,
                    92466940.8251213,
                    168898059.0951135,
                    103461107.75158039,
                    56245229.38704693,
                    70749778.6101114,
                    119232767.15077789,
                    84913305.91596635,
                    410005803.6903439,
                    399375563.013948,
                    190599296.5672379,
                    93740765.45138909,
                    153972833.6123466,
                    161189909.74359626,
                    146542998.03790247,
                    254883686.85242227,
                    381074045.67781293,
                    261703693.26810738,
                    174066148.35372025,
                    441781378.6460835,
                    347389624.37653494,
                    177699509.49657637,
                    195011070.12565893,
                    276845484.3973285,
                    238386115.95485196,
                    101363189.55889092,
                    130998038.84559147,
                    172348384.44813347,
                    147256777.7597733,
                    162162485.4406873,
                    256707237.12189856,
                    125252281.405255,
                    63338392.06999437,
                    116980195.08151154,
                    108558223.80617455,
                    101815249.02472185,
                    99194549.95838454,
                    136150174.5502311,
                    98466979.5362531,
                    100245160.01987912,
                    75780120.43484414,
                    214222991.4844187,
                    325653254.12688404,
                    109367780.45830117,
                    120918542.94972582,
                    121400865.98332407,
                    62571960.92264445,
                    111647520.12347873,
                    82965142.47913754,
                    100441938.86868402,
                    127430622.55844693,
                    254250528.12622514,
                    103408180.10908544,
                    43188132.26614418,
                    45284111.96986285,
                    171042273.44099313,
                    98255373.75965053,
                    84153254.2769079,
                    58276396.29778039,
                    65437925.70464025,
                    1971044.7013089303,
                    28856962.511765294,
                    112437336.0940918,
                    76615090.17889288,
                    125579599.04284981,
                    6536202.355139608,
                    330493.0245618084,
                    76800582.2758536,
                    50213189.08943271,
                    42159966.81773769,
                    62402116.644872434,
                    9801816.267689623,
                    98240269.37556767,
                    70370166.75674564,
                    48311562.529285334,
                    41612401.36165852,
                    24164474.489626747,
                    58632634.74201353,
                    94983299.73574817,
                    78541251.50098936,
                    3945865.164284358,
                    31117063.397339202,
                    48424279.21752032,
                    80678880.46714723,
                    33160868.16170101,
                    20063385.14579351,
                    76389232.09919146,
                    23736680.73689918,
                    37773983.24043043,
                    25473734.31130014,
                    3540395.2604625104,
                    84602796.12941238,
                    61277299.217967615,
                    120186938.56803882,
                    19366215.23085125,
                    13039416.4418103,
                    10341049.336215045,
                    70410714.37571642,
                    79105069.7956949,
                    31007959.427360583,
                    33528243.523780428,
                    22792845.01437778,
                    42906718.963325426,
                    176369705.11471936,
                    26093807.849991113,
                    90493816.89386031,
                    10761726.054176211,
                    54929463.10454562,
                    38693655.9990868,
                    35046852.73843677,
                    22766934.73367218,
                    86644499.00886866,
                    81790251.67273523,
                    27084757.02243895,
                    31304438.257214207,
                    35992575.78398832,
                    42153193.94533222,
                    8727059.018345278,
                    24805844.416590065,
                    39195301.30270119,
                    61675081.478720106,
                    24352127.3524412,
                    28912068.257339608,
                    39284638.07583232,
                    15712714.90808382,
                    12462347.35952721,
                    3461208.061035134,
                    17744181.739705674,
                    15081953.712343046,
                    10620637.616310338,
                    1640956.6691929754,
                    15641447.53698177,
                    10660791.766826605,
                    22318799.50320441,
                    209350253.20675448,
                    5248558.4006521385,
                    12943319.831373107,
                    19243472.621000014,
                    17569061.021864533,
                    9923038.784501757
                  ],
                  "x": [
                    "2017-04-28T00:00:00",
                    "2017-04-29T00:00:00",
                    "2017-04-30T00:00:00",
                    "2017-05-01T00:00:00",
                    "2017-05-02T00:00:00",
                    "2017-05-03T00:00:00",
                    "2017-05-04T00:00:00",
                    "2017-05-05T00:00:00",
                    "2017-05-06T00:00:00",
                    "2017-05-07T00:00:00",
                    "2017-05-08T00:00:00",
                    "2017-05-09T00:00:00",
                    "2017-05-10T00:00:00",
                    "2017-05-11T00:00:00",
                    "2017-05-12T00:00:00",
                    "2017-05-13T00:00:00",
                    "2017-05-14T00:00:00",
                    "2017-05-15T00:00:00",
                    "2017-05-16T00:00:00",
                    "2017-05-17T00:00:00",
                    "2017-05-18T00:00:00",
                    "2017-05-19T00:00:00",
                    "2017-05-20T00:00:00",
                    "2017-05-21T00:00:00",
                    "2017-05-22T00:00:00",
                    "2017-05-23T00:00:00",
                    "2017-05-24T00:00:00",
                    "2017-05-25T00:00:00",
                    "2017-05-26T00:00:00",
                    "2017-05-27T00:00:00",
                    "2017-05-28T00:00:00",
                    "2017-05-29T00:00:00",
                    "2017-05-30T00:00:00",
                    "2017-05-31T00:00:00",
                    "2017-06-01T00:00:00",
                    "2017-06-02T00:00:00",
                    "2017-11-21T00:00:00",
                    "2017-11-22T00:00:00",
                    "2017-11-23T00:00:00",
                    "2017-11-24T00:00:00",
                    "2017-11-25T00:00:00",
                    "2017-11-26T00:00:00",
                    "2017-11-27T00:00:00",
                    "2017-11-28T00:00:00",
                    "2017-11-29T00:00:00",
                    "2017-11-30T00:00:00",
                    "2017-12-01T00:00:00",
                    "2017-12-02T00:00:00",
                    "2017-12-03T00:00:00",
                    "2017-12-04T00:00:00",
                    "2017-12-05T00:00:00",
                    "2017-12-06T00:00:00",
                    "2017-12-07T00:00:00",
                    "2017-12-08T00:00:00",
                    "2017-12-09T00:00:00",
                    "2017-12-10T00:00:00",
                    "2017-12-11T00:00:00",
                    "2017-12-12T00:00:00",
                    "2017-12-13T00:00:00",
                    "2017-12-14T00:00:00",
                    "2017-12-15T00:00:00",
                    "2017-12-16T00:00:00",
                    "2017-12-17T00:00:00",
                    "2017-12-18T00:00:00",
                    "2017-12-19T00:00:00",
                    "2017-12-20T00:00:00",
                    "2017-12-21T00:00:00",
                    "2017-12-22T00:00:00",
                    "2017-12-23T00:00:00",
                    "2017-12-24T00:00:00",
                    "2017-12-25T00:00:00",
                    "2017-12-26T00:00:00",
                    "2017-12-27T00:00:00",
                    "2017-12-28T00:00:00",
                    "2017-12-29T00:00:00",
                    "2017-12-30T00:00:00",
                    "2017-12-31T00:00:00",
                    "2018-01-01T00:00:00",
                    "2018-01-02T00:00:00",
                    "2018-01-03T00:00:00",
                    "2018-01-04T00:00:00",
                    "2018-01-05T00:00:00",
                    "2018-01-06T00:00:00",
                    "2018-01-07T00:00:00",
                    "2018-01-08T00:00:00",
                    "2018-01-09T00:00:00",
                    "2018-01-10T00:00:00",
                    "2018-01-11T00:00:00",
                    "2018-01-12T00:00:00",
                    "2018-01-13T00:00:00",
                    "2018-01-14T00:00:00",
                    "2018-01-15T00:00:00",
                    "2018-01-16T00:00:00",
                    "2018-01-17T00:00:00",
                    "2018-01-18T00:00:00",
                    "2018-01-19T00:00:00",
                    "2018-01-20T00:00:00",
                    "2018-01-21T00:00:00",
                    "2018-01-22T00:00:00",
                    "2018-01-23T00:00:00",
                    "2018-01-24T00:00:00",
                    "2018-01-25T00:00:00",
                    "2018-01-26T00:00:00",
                    "2018-01-27T00:00:00",
                    "2018-01-28T00:00:00",
                    "2018-01-29T00:00:00",
                    "2018-01-30T00:00:00",
                    "2018-01-31T00:00:00",
                    "2018-02-01T00:00:00",
                    "2018-02-02T00:00:00",
                    "2018-02-03T00:00:00",
                    "2018-02-04T00:00:00",
                    "2018-02-05T00:00:00",
                    "2018-02-06T00:00:00",
                    "2018-02-07T00:00:00",
                    "2018-02-08T00:00:00",
                    "2018-02-09T00:00:00",
                    "2018-02-10T00:00:00",
                    "2018-02-11T00:00:00",
                    "2018-02-12T00:00:00",
                    "2018-02-13T00:00:00",
                    "2018-02-14T00:00:00",
                    "2018-02-15T00:00:00",
                    "2018-02-16T00:00:00",
                    "2018-02-17T00:00:00",
                    "2018-02-18T00:00:00",
                    "2018-02-19T00:00:00",
                    "2018-02-20T00:00:00",
                    "2018-02-21T00:00:00",
                    "2018-02-22T00:00:00",
                    "2018-02-23T00:00:00",
                    "2018-02-24T00:00:00",
                    "2018-02-25T00:00:00",
                    "2018-02-26T00:00:00",
                    "2018-02-27T00:00:00",
                    "2018-02-28T00:00:00",
                    "2018-03-01T00:00:00",
                    "2018-03-02T00:00:00",
                    "2018-03-03T00:00:00",
                    "2018-03-04T00:00:00",
                    "2018-03-05T00:00:00",
                    "2018-03-06T00:00:00",
                    "2018-03-07T00:00:00",
                    "2018-03-08T00:00:00",
                    "2018-03-09T00:00:00",
                    "2018-03-10T00:00:00",
                    "2018-03-11T00:00:00",
                    "2018-03-12T00:00:00",
                    "2018-03-13T00:00:00",
                    "2018-03-14T00:00:00",
                    "2018-03-15T00:00:00",
                    "2018-03-16T00:00:00",
                    "2018-03-17T00:00:00",
                    "2018-03-18T00:00:00",
                    "2018-03-19T00:00:00",
                    "2018-03-20T00:00:00",
                    "2018-03-21T00:00:00",
                    "2018-03-22T00:00:00",
                    "2018-03-23T00:00:00",
                    "2018-03-24T00:00:00",
                    "2018-03-25T00:00:00",
                    "2018-03-26T00:00:00",
                    "2018-03-27T00:00:00",
                    "2018-03-28T00:00:00",
                    "2018-03-29T00:00:00",
                    "2018-03-30T00:00:00",
                    "2018-03-31T00:00:00",
                    "2018-04-01T00:00:00",
                    "2018-04-02T00:00:00",
                    "2018-04-03T00:00:00",
                    "2018-04-04T00:00:00",
                    "2018-04-05T00:00:00",
                    "2018-04-06T00:00:00",
                    "2018-04-07T00:00:00",
                    "2018-04-08T00:00:00",
                    "2018-04-09T00:00:00",
                    "2018-04-10T00:00:00",
                    "2018-04-11T00:00:00",
                    "2018-04-12T00:00:00",
                    "2018-04-13T00:00:00",
                    "2018-04-14T00:00:00",
                    "2018-04-15T00:00:00",
                    "2018-04-16T00:00:00",
                    "2018-04-17T00:00:00",
                    "2018-04-18T00:00:00",
                    "2018-04-19T00:00:00",
                    "2018-04-20T00:00:00",
                    "2018-04-21T00:00:00",
                    "2018-04-22T00:00:00",
                    "2018-04-23T00:00:00",
                    "2018-04-24T00:00:00",
                    "2018-04-25T00:00:00",
                    "2018-04-26T00:00:00",
                    "2018-04-27T00:00:00",
                    "2018-04-28T00:00:00",
                    "2018-04-29T00:00:00",
                    "2018-04-30T00:00:00",
                    "2018-05-01T00:00:00",
                    "2018-05-02T00:00:00",
                    "2018-05-03T00:00:00",
                    "2018-05-04T00:00:00",
                    "2018-05-05T00:00:00",
                    "2018-05-06T00:00:00",
                    "2018-05-07T00:00:00",
                    "2018-05-08T00:00:00",
                    "2018-05-09T00:00:00",
                    "2018-05-10T00:00:00",
                    "2018-05-11T00:00:00",
                    "2018-05-12T00:00:00",
                    "2018-05-13T00:00:00",
                    "2018-05-14T00:00:00",
                    "2018-05-15T00:00:00",
                    "2018-05-16T00:00:00",
                    "2018-05-17T00:00:00",
                    "2018-05-18T00:00:00",
                    "2018-05-19T00:00:00",
                    "2018-05-20T00:00:00",
                    "2018-05-21T00:00:00",
                    "2018-05-22T00:00:00",
                    "2018-05-23T00:00:00",
                    "2018-05-24T00:00:00",
                    "2018-05-25T00:00:00",
                    "2018-05-26T00:00:00",
                    "2018-05-27T00:00:00",
                    "2018-05-28T00:00:00",
                    "2018-05-29T00:00:00",
                    "2018-05-30T00:00:00",
                    "2018-05-31T00:00:00",
                    "2018-06-01T00:00:00",
                    "2018-06-02T00:00:00",
                    "2018-06-03T00:00:00",
                    "2018-06-04T00:00:00",
                    "2018-06-05T00:00:00",
                    "2018-06-06T00:00:00",
                    "2018-06-07T00:00:00",
                    "2018-06-08T00:00:00",
                    "2018-06-09T00:00:00",
                    "2018-06-10T00:00:00",
                    "2018-06-11T00:00:00",
                    "2018-06-12T00:00:00",
                    "2018-06-13T00:00:00",
                    "2018-06-14T00:00:00",
                    "2018-06-15T00:00:00",
                    "2018-06-16T00:00:00",
                    "2018-06-17T00:00:00",
                    "2018-06-18T00:00:00",
                    "2018-06-19T00:00:00",
                    "2018-06-20T00:00:00",
                    "2018-06-21T00:00:00",
                    "2018-06-22T00:00:00",
                    "2018-06-23T00:00:00",
                    "2018-06-24T00:00:00",
                    "2018-06-25T00:00:00",
                    "2018-06-26T00:00:00",
                    "2018-06-27T00:00:00",
                    "2018-06-28T00:00:00",
                    "2018-06-29T00:00:00",
                    "2018-06-30T00:00:00",
                    "2018-07-01T00:00:00",
                    "2018-07-02T00:00:00",
                    "2018-07-03T00:00:00",
                    "2018-07-04T00:00:00",
                    "2018-07-05T00:00:00",
                    "2018-07-06T00:00:00",
                    "2018-07-07T00:00:00",
                    "2018-07-08T00:00:00",
                    "2018-07-09T00:00:00",
                    "2018-07-10T00:00:00",
                    "2018-07-11T00:00:00",
                    "2018-07-12T00:00:00",
                    "2018-07-13T00:00:00",
                    "2018-07-14T00:00:00",
                    "2018-07-15T00:00:00",
                    "2018-07-16T00:00:00",
                    "2018-07-17T00:00:00",
                    "2018-07-18T00:00:00",
                    "2018-07-19T00:00:00",
                    "2018-07-20T00:00:00",
                    "2018-07-21T00:00:00",
                    "2018-07-22T00:00:00",
                    "2018-07-23T00:00:00",
                    "2018-07-24T00:00:00",
                    "2018-07-25T00:00:00",
                    "2018-07-26T00:00:00",
                    "2018-07-27T00:00:00",
                    "2018-07-28T00:00:00",
                    "2018-07-29T00:00:00",
                    "2018-07-30T00:00:00",
                    "2018-07-31T00:00:00",
                    "2018-08-01T00:00:00",
                    "2018-08-02T00:00:00",
                    "2018-08-03T00:00:00",
                    "2018-08-04T00:00:00",
                    "2018-08-05T00:00:00",
                    "2018-08-06T00:00:00",
                    "2018-08-07T00:00:00",
                    "2018-08-08T00:00:00",
                    "2018-08-09T00:00:00",
                    "2018-08-10T00:00:00",
                    "2018-08-11T00:00:00",
                    "2018-08-12T00:00:00",
                    "2018-08-13T00:00:00",
                    "2018-08-14T00:00:00",
                    "2018-08-15T00:00:00",
                    "2018-08-16T00:00:00",
                    "2018-08-17T00:00:00",
                    "2018-08-18T00:00:00",
                    "2018-08-19T00:00:00",
                    "2018-08-20T00:00:00",
                    "2018-08-21T00:00:00",
                    "2018-08-22T00:00:00",
                    "2018-08-23T00:00:00",
                    "2018-08-24T00:00:00",
                    "2018-08-25T00:00:00",
                    "2018-08-26T00:00:00",
                    "2018-08-27T00:00:00",
                    "2018-08-28T00:00:00",
                    "2018-08-29T00:00:00",
                    "2018-08-30T00:00:00",
                    "2018-08-31T00:00:00",
                    "2018-09-01T00:00:00",
                    "2018-09-02T00:00:00",
                    "2018-09-03T00:00:00",
                    "2018-09-04T00:00:00",
                    "2018-09-05T00:00:00",
                    "2018-09-06T00:00:00",
                    "2018-09-07T00:00:00",
                    "2018-09-08T00:00:00",
                    "2018-09-09T00:00:00",
                    "2018-09-10T00:00:00",
                    "2018-09-11T00:00:00",
                    "2018-09-12T00:00:00",
                    "2018-09-13T00:00:00",
                    "2018-09-14T00:00:00",
                    "2018-09-15T00:00:00",
                    "2018-09-16T00:00:00",
                    "2018-09-17T00:00:00",
                    "2018-09-18T00:00:00",
                    "2018-09-19T00:00:00",
                    "2018-09-20T00:00:00",
                    "2018-09-21T00:00:00",
                    "2018-09-22T00:00:00",
                    "2018-09-23T00:00:00",
                    "2018-09-24T00:00:00",
                    "2018-09-25T00:00:00",
                    "2018-09-26T00:00:00",
                    "2018-09-27T00:00:00",
                    "2018-09-28T00:00:00",
                    "2018-09-29T00:00:00",
                    "2018-09-30T00:00:00",
                    "2018-10-01T00:00:00",
                    "2018-10-02T00:00:00",
                    "2018-10-03T00:00:00",
                    "2018-10-04T00:00:00",
                    "2018-10-05T00:00:00",
                    "2018-10-06T00:00:00",
                    "2018-10-07T00:00:00",
                    "2018-10-08T00:00:00",
                    "2018-10-09T00:00:00",
                    "2018-10-10T00:00:00",
                    "2018-10-11T00:00:00",
                    "2018-10-12T00:00:00",
                    "2018-10-13T00:00:00",
                    "2018-10-14T00:00:00",
                    "2018-10-15T00:00:00",
                    "2018-10-16T00:00:00",
                    "2018-10-17T00:00:00",
                    "2018-10-18T00:00:00",
                    "2018-10-19T00:00:00",
                    "2018-10-20T00:00:00",
                    "2018-10-21T00:00:00",
                    "2018-10-22T00:00:00",
                    "2018-10-23T00:00:00",
                    "2018-10-24T00:00:00",
                    "2018-10-25T00:00:00",
                    "2018-10-26T00:00:00",
                    "2018-10-27T00:00:00",
                    "2018-10-28T00:00:00",
                    "2018-10-29T00:00:00",
                    "2018-10-30T00:00:00",
                    "2018-10-31T00:00:00",
                    "2018-11-01T00:00:00",
                    "2018-11-02T00:00:00",
                    "2018-11-03T00:00:00",
                    "2018-11-04T00:00:00",
                    "2018-11-05T00:00:00",
                    "2018-11-06T00:00:00",
                    "2018-11-07T00:00:00",
                    "2018-11-08T00:00:00",
                    "2018-11-09T00:00:00",
                    "2018-11-10T00:00:00",
                    "2018-11-11T00:00:00",
                    "2018-11-12T00:00:00",
                    "2018-11-13T00:00:00",
                    "2018-11-14T00:00:00",
                    "2018-11-15T00:00:00",
                    "2018-11-16T00:00:00",
                    "2018-11-17T00:00:00",
                    "2018-11-18T00:00:00",
                    "2018-11-19T00:00:00",
                    "2018-11-20T00:00:00",
                    "2018-11-21T00:00:00",
                    "2018-11-22T00:00:00",
                    "2018-11-23T00:00:00",
                    "2018-11-24T00:00:00",
                    "2018-11-25T00:00:00",
                    "2018-11-26T00:00:00",
                    "2018-11-27T00:00:00",
                    "2018-11-28T00:00:00",
                    "2018-11-29T00:00:00",
                    "2018-11-30T00:00:00",
                    "2018-12-01T00:00:00",
                    "2018-12-02T00:00:00",
                    "2018-12-03T00:00:00",
                    "2018-12-04T00:00:00",
                    "2018-12-05T00:00:00",
                    "2018-12-06T00:00:00",
                    "2018-12-07T00:00:00",
                    "2018-12-08T00:00:00",
                    "2018-12-09T00:00:00",
                    "2018-12-10T00:00:00",
                    "2018-12-11T00:00:00",
                    "2018-12-12T00:00:00",
                    "2018-12-13T00:00:00",
                    "2018-12-14T00:00:00",
                    "2018-12-15T00:00:00",
                    "2018-12-16T00:00:00",
                    "2018-12-17T00:00:00",
                    "2018-12-18T00:00:00",
                    "2018-12-19T00:00:00",
                    "2018-12-20T00:00:00",
                    "2018-12-21T00:00:00",
                    "2018-12-22T00:00:00",
                    "2018-12-23T00:00:00",
                    "2018-12-24T00:00:00",
                    "2018-12-25T00:00:00",
                    "2018-12-26T00:00:00",
                    "2018-12-27T00:00:00",
                    "2018-12-28T00:00:00",
                    "2018-12-29T00:00:00",
                    "2018-12-30T00:00:00",
                    "2018-12-31T00:00:00",
                    "2019-01-01T00:00:00",
                    "2019-01-02T00:00:00",
                    "2019-01-03T00:00:00",
                    "2019-01-04T00:00:00",
                    "2019-01-05T00:00:00",
                    "2019-01-06T00:00:00",
                    "2019-01-07T00:00:00",
                    "2019-01-08T00:00:00",
                    "2019-01-09T00:00:00",
                    "2019-01-10T00:00:00",
                    "2019-01-11T00:00:00",
                    "2019-01-12T00:00:00",
                    "2019-01-13T00:00:00",
                    "2019-01-14T00:00:00",
                    "2019-01-15T00:00:00",
                    "2019-01-16T00:00:00",
                    "2019-01-17T00:00:00",
                    "2019-01-18T00:00:00",
                    "2019-01-19T00:00:00",
                    "2019-01-20T00:00:00",
                    "2019-01-21T00:00:00",
                    "2019-01-22T00:00:00",
                    "2019-01-23T00:00:00",
                    "2019-01-24T00:00:00",
                    "2019-01-25T00:00:00",
                    "2019-01-26T00:00:00",
                    "2019-01-27T00:00:00",
                    "2019-01-28T00:00:00",
                    "2019-01-29T00:00:00",
                    "2019-01-30T00:00:00",
                    "2019-01-31T00:00:00",
                    "2019-02-01T00:00:00",
                    "2019-02-02T00:00:00",
                    "2019-02-03T00:00:00",
                    "2019-02-04T00:00:00",
                    "2019-02-05T00:00:00",
                    "2019-02-06T00:00:00",
                    "2019-02-07T00:00:00",
                    "2019-02-08T00:00:00",
                    "2019-02-09T00:00:00",
                    "2019-02-10T00:00:00",
                    "2019-02-11T00:00:00",
                    "2019-02-12T00:00:00",
                    "2019-02-13T00:00:00",
                    "2019-02-14T00:00:00",
                    "2019-02-15T00:00:00",
                    "2019-02-16T00:00:00",
                    "2019-02-17T00:00:00",
                    "2019-02-18T00:00:00",
                    "2019-02-19T00:00:00",
                    "2019-02-20T00:00:00",
                    "2019-02-21T00:00:00",
                    "2019-02-22T00:00:00",
                    "2019-02-23T00:00:00",
                    "2019-02-24T00:00:00",
                    "2019-02-25T00:00:00",
                    "2019-02-26T00:00:00",
                    "2019-02-27T00:00:00",
                    "2019-02-28T00:00:00",
                    "2019-03-01T00:00:00",
                    "2019-03-02T00:00:00",
                    "2019-03-03T00:00:00",
                    "2019-03-04T00:00:00",
                    "2019-03-05T00:00:00",
                    "2019-03-06T00:00:00",
                    "2019-03-07T00:00:00",
                    "2019-03-08T00:00:00",
                    "2019-03-09T00:00:00",
                    "2019-03-10T00:00:00",
                    "2019-03-11T00:00:00",
                    "2019-03-12T00:00:00",
                    "2019-03-13T00:00:00",
                    "2019-03-14T00:00:00",
                    "2019-03-15T00:00:00",
                    "2019-03-16T00:00:00",
                    "2019-03-17T00:00:00",
                    "2019-03-18T00:00:00",
                    "2019-03-19T00:00:00",
                    "2019-03-20T00:00:00",
                    "2019-03-21T00:00:00",
                    "2019-03-22T00:00:00",
                    "2019-03-23T00:00:00",
                    "2019-03-24T00:00:00",
                    "2019-03-25T00:00:00",
                    "2019-03-26T00:00:00",
                    "2019-03-27T00:00:00",
                    "2019-03-28T00:00:00",
                    "2019-03-29T00:00:00",
                    "2019-03-30T00:00:00",
                    "2019-03-31T00:00:00",
                    "2019-04-01T00:00:00",
                    "2019-04-02T00:00:00",
                    "2019-04-03T00:00:00",
                    "2019-04-04T00:00:00",
                    "2019-04-05T00:00:00",
                    "2019-04-06T00:00:00",
                    "2019-04-07T00:00:00",
                    "2019-04-08T00:00:00",
                    "2019-04-09T00:00:00",
                    "2019-04-10T00:00:00",
                    "2019-04-11T00:00:00",
                    "2019-04-12T00:00:00",
                    "2019-04-13T00:00:00",
                    "2019-04-14T00:00:00",
                    "2019-04-15T00:00:00",
                    "2019-04-16T00:00:00",
                    "2019-04-17T00:00:00",
                    "2019-04-18T00:00:00",
                    "2019-04-19T00:00:00",
                    "2019-04-20T00:00:00",
                    "2019-04-21T00:00:00",
                    "2019-04-22T00:00:00",
                    "2019-04-23T00:00:00",
                    "2019-04-24T00:00:00",
                    "2019-04-25T00:00:00",
                    "2019-04-26T00:00:00",
                    "2019-04-27T00:00:00",
                    "2019-04-28T00:00:00",
                    "2019-04-29T00:00:00",
                    "2019-04-30T00:00:00",
                    "2019-05-01T00:00:00",
                    "2019-05-02T00:00:00",
                    "2019-05-03T00:00:00",
                    "2019-05-04T00:00:00",
                    "2019-05-05T00:00:00",
                    "2019-05-06T00:00:00",
                    "2019-05-07T00:00:00",
                    "2019-05-08T00:00:00",
                    "2019-05-09T00:00:00",
                    "2019-05-10T00:00:00",
                    "2019-05-11T00:00:00",
                    "2019-05-12T00:00:00",
                    "2019-05-13T00:00:00",
                    "2019-05-14T00:00:00",
                    "2019-05-15T00:00:00",
                    "2019-05-16T00:00:00",
                    "2019-05-17T00:00:00",
                    "2019-05-18T00:00:00",
                    "2019-05-19T00:00:00",
                    "2019-05-20T00:00:00",
                    "2019-05-21T00:00:00",
                    "2019-05-22T00:00:00",
                    "2019-05-23T00:00:00",
                    "2019-05-24T00:00:00",
                    "2019-05-25T00:00:00",
                    "2019-05-26T00:00:00",
                    "2019-05-27T00:00:00",
                    "2019-05-28T00:00:00",
                    "2019-05-29T00:00:00",
                    "2019-05-30T00:00:00",
                    "2019-05-31T00:00:00",
                    "2019-06-01T00:00:00",
                    "2019-06-02T00:00:00",
                    "2019-06-03T00:00:00",
                    "2019-06-04T00:00:00",
                    "2019-06-05T00:00:00",
                    "2019-06-06T00:00:00",
                    "2019-06-07T00:00:00",
                    "2019-06-08T00:00:00",
                    "2019-06-09T00:00:00",
                    "2019-06-10T00:00:00",
                    "2019-06-11T00:00:00",
                    "2019-06-12T00:00:00",
                    "2019-06-13T00:00:00",
                    "2019-06-14T00:00:00",
                    "2019-06-15T00:00:00",
                    "2019-06-16T00:00:00",
                    "2019-06-17T00:00:00",
                    "2019-06-18T00:00:00",
                    "2019-06-19T00:00:00",
                    "2019-06-20T00:00:00",
                    "2019-06-21T00:00:00",
                    "2019-06-22T00:00:00",
                    "2019-06-23T00:00:00",
                    "2019-06-24T00:00:00",
                    "2019-06-25T00:00:00",
                    "2019-06-26T00:00:00",
                    "2019-06-27T00:00:00",
                    "2019-06-28T00:00:00",
                    "2019-06-29T00:00:00",
                    "2019-06-30T00:00:00",
                    "2019-07-01T00:00:00",
                    "2019-07-02T00:00:00",
                    "2019-07-03T00:00:00",
                    "2019-07-04T00:00:00",
                    "2019-07-05T00:00:00",
                    "2019-07-06T00:00:00",
                    "2019-07-07T00:00:00",
                    "2019-07-08T00:00:00",
                    "2019-07-09T00:00:00",
                    "2019-07-10T00:00:00",
                    "2019-07-11T00:00:00",
                    "2019-07-12T00:00:00",
                    "2019-07-13T00:00:00",
                    "2019-07-14T00:00:00",
                    "2019-07-15T00:00:00",
                    "2019-07-16T00:00:00",
                    "2019-07-17T00:00:00",
                    "2019-07-18T00:00:00",
                    "2019-07-19T00:00:00",
                    "2019-07-20T00:00:00",
                    "2019-07-21T00:00:00",
                    "2019-07-22T00:00:00",
                    "2019-07-23T00:00:00",
                    "2019-07-24T00:00:00",
                    "2019-07-25T00:00:00",
                    "2019-07-26T00:00:00",
                    "2019-07-27T00:00:00",
                    "2019-07-28T00:00:00",
                    "2019-07-29T00:00:00",
                    "2019-07-30T00:00:00",
                    "2019-07-31T00:00:00",
                    "2019-08-01T00:00:00",
                    "2019-08-02T00:00:00",
                    "2019-08-03T00:00:00",
                    "2019-08-04T00:00:00",
                    "2019-08-05T00:00:00",
                    "2019-08-06T00:00:00",
                    "2019-08-07T00:00:00",
                    "2019-08-08T00:00:00",
                    "2019-08-09T00:00:00",
                    "2019-08-10T00:00:00",
                    "2019-08-11T00:00:00",
                    "2019-08-12T00:00:00",
                    "2019-08-13T00:00:00",
                    "2019-08-14T00:00:00",
                    "2019-08-15T00:00:00",
                    "2019-08-16T00:00:00",
                    "2019-08-17T00:00:00",
                    "2019-08-18T00:00:00",
                    "2019-08-19T00:00:00",
                    "2019-08-20T00:00:00",
                    "2019-08-21T00:00:00",
                    "2019-08-22T00:00:00",
                    "2019-08-23T00:00:00",
                    "2019-08-24T00:00:00",
                    "2019-08-25T00:00:00",
                    "2019-08-26T00:00:00",
                    "2019-08-27T00:00:00",
                    "2019-08-28T00:00:00",
                    "2019-08-29T00:00:00",
                    "2019-08-30T00:00:00",
                    "2019-08-31T00:00:00",
                    "2019-09-01T00:00:00",
                    "2019-09-02T00:00:00",
                    "2019-09-03T00:00:00",
                    "2019-09-04T00:00:00",
                    "2019-09-05T00:00:00",
                    "2019-09-06T00:00:00",
                    "2019-09-07T00:00:00",
                    "2019-09-08T00:00:00",
                    "2019-09-09T00:00:00",
                    "2019-09-10T00:00:00",
                    "2019-09-11T00:00:00",
                    "2019-09-12T00:00:00",
                    "2019-09-13T00:00:00",
                    "2019-09-14T00:00:00",
                    "2019-09-15T00:00:00",
                    "2019-09-16T00:00:00",
                    "2019-09-17T00:00:00",
                    "2019-09-18T00:00:00",
                    "2019-09-19T00:00:00",
                    "2019-09-20T00:00:00",
                    "2019-09-21T00:00:00",
                    "2019-09-22T00:00:00",
                    "2019-09-23T00:00:00",
                    "2019-09-24T00:00:00",
                    "2019-09-25T00:00:00",
                    "2019-09-26T00:00:00",
                    "2019-09-27T00:00:00",
                    "2019-09-28T00:00:00",
                    "2019-09-29T00:00:00",
                    "2019-09-30T00:00:00",
                    "2019-10-01T00:00:00",
                    "2019-10-02T00:00:00",
                    "2019-10-03T00:00:00",
                    "2019-10-04T00:00:00",
                    "2019-10-05T00:00:00",
                    "2019-10-06T00:00:00",
                    "2019-10-07T00:00:00",
                    "2019-10-08T00:00:00",
                    "2019-10-09T00:00:00",
                    "2019-10-10T00:00:00",
                    "2019-10-11T00:00:00",
                    "2019-10-12T00:00:00",
                    "2019-10-13T00:00:00",
                    "2019-10-14T00:00:00",
                    "2019-10-15T00:00:00",
                    "2019-10-16T00:00:00",
                    "2019-10-17T00:00:00",
                    "2019-10-18T00:00:00",
                    "2019-10-19T00:00:00",
                    "2019-10-20T00:00:00",
                    "2019-10-21T00:00:00",
                    "2019-10-22T00:00:00",
                    "2019-10-23T00:00:00",
                    "2019-10-24T00:00:00",
                    "2019-10-25T00:00:00",
                    "2019-10-26T00:00:00",
                    "2019-10-27T00:00:00",
                    "2019-10-28T00:00:00",
                    "2019-10-29T00:00:00",
                    "2019-10-30T00:00:00",
                    "2019-10-31T00:00:00",
                    "2019-11-01T00:00:00",
                    "2019-11-02T00:00:00",
                    "2019-11-03T00:00:00",
                    "2019-11-04T00:00:00",
                    "2019-11-05T00:00:00",
                    "2019-11-06T00:00:00",
                    "2019-11-07T00:00:00",
                    "2019-11-08T00:00:00",
                    "2019-11-09T00:00:00",
                    "2019-11-10T00:00:00",
                    "2019-11-11T00:00:00",
                    "2019-11-12T00:00:00",
                    "2019-11-13T00:00:00",
                    "2019-11-14T00:00:00",
                    "2019-11-15T00:00:00",
                    "2019-11-16T00:00:00",
                    "2019-11-17T00:00:00",
                    "2019-11-18T00:00:00",
                    "2019-11-19T00:00:00",
                    "2019-11-20T00:00:00",
                    "2019-11-21T00:00:00",
                    "2019-11-22T00:00:00",
                    "2019-11-23T00:00:00",
                    "2019-11-24T00:00:00",
                    "2019-11-25T00:00:00",
                    "2019-11-26T00:00:00",
                    "2019-11-27T00:00:00",
                    "2019-11-28T00:00:00",
                    "2019-11-29T00:00:00",
                    "2019-11-30T00:00:00",
                    "2019-12-01T00:00:00",
                    "2019-12-02T00:00:00",
                    "2019-12-03T00:00:00",
                    "2019-12-04T00:00:00",
                    "2019-12-05T00:00:00",
                    "2019-12-06T00:00:00",
                    "2019-12-07T00:00:00",
                    "2019-12-08T00:00:00",
                    "2019-12-09T00:00:00",
                    "2019-12-10T00:00:00",
                    "2019-12-11T00:00:00",
                    "2019-12-12T00:00:00",
                    "2019-12-13T00:00:00",
                    "2019-12-14T00:00:00",
                    "2019-12-15T00:00:00",
                    "2019-12-16T00:00:00",
                    "2019-12-17T00:00:00",
                    "2019-12-18T00:00:00",
                    "2019-12-19T00:00:00",
                    "2019-12-20T00:00:00",
                    "2019-12-21T00:00:00",
                    "2019-12-22T00:00:00",
                    "2019-12-23T00:00:00",
                    "2019-12-24T00:00:00",
                    "2019-12-25T00:00:00",
                    "2019-12-26T00:00:00",
                    "2019-12-27T00:00:00",
                    "2019-12-28T00:00:00",
                    "2019-12-29T00:00:00",
                    "2019-12-30T00:00:00",
                    "2019-12-31T00:00:00",
                    "2020-01-01T00:00:00",
                    "2020-01-02T00:00:00",
                    "2020-01-03T00:00:00",
                    "2020-01-04T00:00:00",
                    "2020-01-05T00:00:00",
                    "2020-01-06T00:00:00",
                    "2020-01-07T00:00:00",
                    "2020-01-08T00:00:00",
                    "2020-01-09T00:00:00",
                    "2020-01-10T00:00:00",
                    "2020-01-11T00:00:00",
                    "2020-01-12T00:00:00",
                    "2020-01-13T00:00:00",
                    "2020-01-14T00:00:00",
                    "2020-01-15T00:00:00",
                    "2020-01-16T00:00:00",
                    "2020-01-17T00:00:00",
                    "2020-01-18T00:00:00",
                    "2020-01-19T00:00:00",
                    "2020-01-20T00:00:00",
                    "2020-01-21T00:00:00",
                    "2020-01-22T00:00:00",
                    "2020-01-23T00:00:00",
                    "2020-01-24T00:00:00",
                    "2020-01-25T00:00:00",
                    "2020-01-26T00:00:00",
                    "2020-01-27T00:00:00",
                    "2020-01-28T00:00:00",
                    "2020-01-29T00:00:00",
                    "2020-01-30T00:00:00",
                    "2020-01-31T00:00:00",
                    "2020-02-01T00:00:00",
                    "2020-02-02T00:00:00",
                    "2020-02-03T00:00:00",
                    "2020-02-04T00:00:00",
                    "2020-02-05T00:00:00",
                    "2020-02-06T00:00:00",
                    "2020-02-07T00:00:00",
                    "2020-02-08T00:00:00",
                    "2020-02-09T00:00:00",
                    "2020-02-10T00:00:00",
                    "2020-02-11T00:00:00",
                    "2020-02-12T00:00:00",
                    "2020-02-13T00:00:00",
                    "2020-02-14T00:00:00",
                    "2020-02-15T00:00:00",
                    "2020-02-16T00:00:00",
                    "2020-02-17T00:00:00",
                    "2020-02-18T00:00:00",
                    "2020-02-19T00:00:00",
                    "2020-02-20T00:00:00",
                    "2020-02-21T00:00:00",
                    "2020-02-22T00:00:00",
                    "2020-02-23T00:00:00",
                    "2020-02-24T00:00:00",
                    "2020-02-25T00:00:00",
                    "2020-02-26T00:00:00",
                    "2020-02-27T00:00:00",
                    "2020-02-28T00:00:00",
                    "2020-02-29T00:00:00",
                    "2020-03-01T00:00:00",
                    "2020-03-02T00:00:00",
                    "2020-03-03T00:00:00",
                    "2020-03-04T00:00:00",
                    "2020-03-05T00:00:00",
                    "2020-03-06T00:00:00",
                    "2020-03-07T00:00:00",
                    "2020-03-08T00:00:00",
                    "2020-03-09T00:00:00",
                    "2020-03-10T00:00:00",
                    "2020-03-11T00:00:00",
                    "2020-03-12T00:00:00",
                    "2020-03-13T00:00:00",
                    "2020-03-14T00:00:00",
                    "2020-03-15T00:00:00",
                    "2020-03-16T00:00:00",
                    "2020-03-17T00:00:00",
                    "2020-03-18T00:00:00",
                    "2020-03-19T00:00:00",
                    "2020-03-20T00:00:00",
                    "2020-03-21T00:00:00",
                    "2020-03-22T00:00:00",
                    "2020-03-23T00:00:00",
                    "2020-03-24T00:00:00",
                    "2020-03-25T00:00:00",
                    "2020-03-26T00:00:00",
                    "2020-03-27T00:00:00",
                    "2020-03-28T00:00:00",
                    "2020-03-29T00:00:00",
                    "2020-03-30T00:00:00",
                    "2020-03-31T00:00:00",
                    "2020-04-01T00:00:00",
                    "2020-04-02T00:00:00",
                    "2020-04-03T00:00:00",
                    "2020-04-04T00:00:00",
                    "2020-04-05T00:00:00",
                    "2020-04-06T00:00:00",
                    "2020-04-07T00:00:00",
                    "2020-04-08T00:00:00",
                    "2020-04-09T00:00:00",
                    "2020-04-10T00:00:00",
                    "2020-04-11T00:00:00",
                    "2020-04-12T00:00:00",
                    "2020-04-13T00:00:00",
                    "2020-04-14T00:00:00",
                    "2020-04-15T00:00:00",
                    "2020-04-16T00:00:00",
                    "2020-04-17T00:00:00",
                    "2020-04-18T00:00:00",
                    "2020-04-19T00:00:00",
                    "2020-04-20T00:00:00",
                    "2020-04-21T00:00:00",
                    "2020-04-22T00:00:00",
                    "2020-04-23T00:00:00",
                    "2020-04-24T00:00:00",
                    "2020-04-25T00:00:00",
                    "2020-04-26T00:00:00",
                    "2020-04-27T00:00:00",
                    "2020-04-28T00:00:00",
                    "2020-04-29T00:00:00",
                    "2020-04-30T00:00:00",
                    "2020-05-01T00:00:00",
                    "2020-05-02T00:00:00",
                    "2020-05-03T00:00:00",
                    "2020-05-04T00:00:00",
                    "2020-05-05T00:00:00",
                    "2020-05-06T00:00:00",
                    "2020-05-07T00:00:00",
                    "2020-05-08T00:00:00",
                    "2020-05-09T00:00:00",
                    "2020-05-10T00:00:00",
                    "2020-05-11T00:00:00",
                    "2020-05-12T00:00:00",
                    "2020-05-13T00:00:00",
                    "2020-05-14T00:00:00",
                    "2020-05-15T00:00:00",
                    "2020-05-16T00:00:00",
                    "2020-05-17T00:00:00",
                    "2020-05-18T00:00:00",
                    "2020-05-19T00:00:00",
                    "2020-05-20T00:00:00",
                    "2020-05-21T00:00:00",
                    "2020-05-22T00:00:00",
                    "2020-05-23T00:00:00",
                    "2020-05-24T00:00:00",
                    "2020-05-25T00:00:00",
                    "2020-05-26T00:00:00",
                    "2020-05-27T00:00:00",
                    "2020-05-28T00:00:00",
                    "2020-05-29T00:00:00",
                    "2020-05-30T00:00:00",
                    "2020-05-31T00:00:00",
                    "2020-06-01T00:00:00",
                    "2020-06-02T00:00:00",
                    "2020-06-03T00:00:00",
                    "2020-06-04T00:00:00",
                    "2020-06-05T00:00:00",
                    "2020-06-06T00:00:00",
                    "2020-06-07T00:00:00",
                    "2020-06-08T00:00:00",
                    "2020-06-09T00:00:00",
                    "2020-06-10T00:00:00",
                    "2020-06-11T00:00:00",
                    "2020-06-12T00:00:00",
                    "2020-06-13T00:00:00",
                    "2020-06-14T00:00:00",
                    "2020-06-15T00:00:00",
                    "2020-06-16T00:00:00",
                    "2020-06-17T00:00:00",
                    "2020-06-18T00:00:00",
                    "2020-06-19T00:00:00",
                    "2020-06-20T00:00:00",
                    "2020-06-21T00:00:00",
                    "2020-06-22T00:00:00",
                    "2020-06-23T00:00:00",
                    "2020-06-24T00:00:00",
                    "2020-06-25T00:00:00",
                    "2020-06-26T00:00:00",
                    "2020-06-27T00:00:00",
                    "2020-06-28T00:00:00",
                    "2020-06-29T00:00:00",
                    "2020-06-30T00:00:00",
                    "2020-07-01T00:00:00",
                    "2020-07-02T00:00:00",
                    "2020-07-03T00:00:00",
                    "2020-07-04T00:00:00",
                    "2020-07-05T00:00:00",
                    "2020-07-06T00:00:00",
                    "2020-07-07T00:00:00",
                    "2020-07-08T00:00:00",
                    "2020-07-09T00:00:00",
                    "2020-07-10T00:00:00",
                    "2020-07-11T00:00:00",
                    "2020-07-12T00:00:00",
                    "2020-07-13T00:00:00",
                    "2020-07-14T00:00:00",
                    "2020-07-15T00:00:00",
                    "2020-07-16T00:00:00",
                    "2020-07-17T00:00:00",
                    "2020-07-18T00:00:00",
                    "2020-07-19T00:00:00",
                    "2020-07-20T00:00:00",
                    "2020-07-21T00:00:00",
                    "2020-07-22T00:00:00",
                    "2020-07-23T00:00:00",
                    "2020-07-24T00:00:00",
                    "2020-07-25T00:00:00",
                    "2020-07-26T00:00:00",
                    "2020-07-27T00:00:00",
                    "2020-07-28T00:00:00",
                    "2020-07-29T00:00:00",
                    "2020-07-30T00:00:00",
                    "2020-07-31T00:00:00",
                    "2020-08-01T00:00:00",
                    "2020-08-02T00:00:00",
                    "2020-08-03T00:00:00",
                    "2020-08-04T00:00:00",
                    "2020-08-05T00:00:00",
                    "2020-08-06T00:00:00",
                    "2020-08-07T00:00:00",
                    "2020-08-08T00:00:00",
                    "2020-08-09T00:00:00",
                    "2020-08-10T00:00:00",
                    "2020-08-11T00:00:00",
                    "2020-08-12T00:00:00",
                    "2020-08-13T00:00:00",
                    "2020-08-14T00:00:00",
                    "2020-08-15T00:00:00",
                    "2020-08-16T00:00:00",
                    "2020-08-17T00:00:00",
                    "2020-08-18T00:00:00",
                    "2020-08-19T00:00:00",
                    "2020-08-20T00:00:00",
                    "2020-08-21T00:00:00",
                    "2020-08-22T00:00:00",
                    "2020-08-23T00:00:00",
                    "2020-08-24T00:00:00",
                    "2020-08-25T00:00:00",
                    "2020-08-26T00:00:00",
                    "2020-08-27T00:00:00",
                    "2020-08-28T00:00:00",
                    "2020-08-29T00:00:00",
                    "2020-08-30T00:00:00",
                    "2020-08-31T00:00:00",
                    "2020-09-01T00:00:00",
                    "2020-09-02T00:00:00",
                    "2020-09-03T00:00:00",
                    "2020-09-04T00:00:00",
                    "2020-09-05T00:00:00",
                    "2020-09-06T00:00:00",
                    "2020-09-07T00:00:00",
                    "2020-09-08T00:00:00"
                  ],
                  "type": "scatter",
                  "name": "Price"
                }
              ],
              "config": {
                "plotlyServerURL": "https://plot.ly",
                "linkText": "Export to plot.ly",
                "showLink": false
              },
              "layout": {
                "template": {
                  "layout": {
                    "shapedefaults": {
                      "line": {
                        "color": "#2a3f5f"
                      }
                    },
                    "polar": {
                      "radialaxis": {
                        "ticks": "",
                        "gridcolor": "white",
                        "linecolor": "white"
                      },
                      "bgcolor": "#E5ECF6",
                      "angularaxis": {
                        "ticks": "",
                        "gridcolor": "white",
                        "linecolor": "white"
                      }
                    },
                    "colorway": [
                      "#636efa",
                      "#EF553B",
                      "#00cc96",
                      "#ab63fa",
                      "#FFA15A",
                      "#19d3f3",
                      "#FF6692",
                      "#B6E880",
                      "#FF97FF",
                      "#FECB52"
                    ],
                    "xaxis": {
                      "automargin": true,
                      "title": {
                        "standoff": 15
                      },
                      "zerolinewidth": 2,
                      "ticks": "",
                      "zerolinecolor": "white",
                      "gridcolor": "white",
                      "linecolor": "white"
                    },
                    "colorscale": {
                      "diverging": [
                        [
                          0,
                          "#8e0152"
                        ],
                        [
                          0.1,
                          "#c51b7d"
                        ],
                        [
                          0.2,
                          "#de77ae"
                        ],
                        [
                          0.3,
                          "#f1b6da"
                        ],
                        [
                          0.4,
                          "#fde0ef"
                        ],
                        [
                          0.5,
                          "#f7f7f7"
                        ],
                        [
                          0.6,
                          "#e6f5d0"
                        ],
                        [
                          0.7,
                          "#b8e186"
                        ],
                        [
                          0.8,
                          "#7fbc41"
                        ],
                        [
                          0.9,
                          "#4d9221"
                        ],
                        [
                          1,
                          "#276419"
                        ]
                      ],
                      "sequential": [
                        [
                          0,
                          "#0d0887"
                        ],
                        [
                          0.1111111111111111,
                          "#46039f"
                        ],
                        [
                          0.2222222222222222,
                          "#7201a8"
                        ],
                        [
                          0.3333333333333333,
                          "#9c179e"
                        ],
                        [
                          0.4444444444444444,
                          "#bd3786"
                        ],
                        [
                          0.5555555555555556,
                          "#d8576b"
                        ],
                        [
                          0.6666666666666666,
                          "#ed7953"
                        ],
                        [
                          0.7777777777777778,
                          "#fb9f3a"
                        ],
                        [
                          0.8888888888888888,
                          "#fdca26"
                        ],
                        [
                          1,
                          "#f0f921"
                        ]
                      ],
                      "sequentialminus": [
                        [
                          0,
                          "#0d0887"
                        ],
                        [
                          0.1111111111111111,
                          "#46039f"
                        ],
                        [
                          0.2222222222222222,
                          "#7201a8"
                        ],
                        [
                          0.3333333333333333,
                          "#9c179e"
                        ],
                        [
                          0.4444444444444444,
                          "#bd3786"
                        ],
                        [
                          0.5555555555555556,
                          "#d8576b"
                        ],
                        [
                          0.6666666666666666,
                          "#ed7953"
                        ],
                        [
                          0.7777777777777778,
                          "#fb9f3a"
                        ],
                        [
                          0.8888888888888888,
                          "#fdca26"
                        ],
                        [
                          1,
                          "#f0f921"
                        ]
                      ]
                    },
                    "paper_bgcolor": "white",
                    "plot_bgcolor": "#E5ECF6",
                    "title": {
                      "x": 0.05
                    },
                    "scene": {
                      "zaxis": {
                        "backgroundcolor": "#E5ECF6",
                        "ticks": "",
                        "gridwidth": 2,
                        "showbackground": true,
                        "zerolinecolor": "white",
                        "gridcolor": "white",
                        "linecolor": "white"
                      },
                      "xaxis": {
                        "backgroundcolor": "#E5ECF6",
                        "ticks": "",
                        "gridwidth": 2,
                        "showbackground": true,
                        "zerolinecolor": "white",
                        "gridcolor": "white",
                        "linecolor": "white"
                      },
                      "yaxis": {
                        "backgroundcolor": "#E5ECF6",
                        "ticks": "",
                        "gridwidth": 2,
                        "showbackground": true,
                        "zerolinecolor": "white",
                        "gridcolor": "white",
                        "linecolor": "white"
                      }
                    },
                    "yaxis": {
                      "automargin": true,
                      "title": {
                        "standoff": 15
                      },
                      "zerolinewidth": 2,
                      "ticks": "",
                      "zerolinecolor": "white",
                      "gridcolor": "white",
                      "linecolor": "white"
                    },
                    "annotationdefaults": {
                      "arrowwidth": 1,
                      "arrowhead": 0,
                      "arrowcolor": "#2a3f5f"
                    },
                    "hoverlabel": {
                      "align": "left"
                    },
                    "ternary": {
                      "bgcolor": "#E5ECF6",
                      "baxis": {
                        "ticks": "",
                        "gridcolor": "white",
                        "linecolor": "white"
                      },
                      "caxis": {
                        "ticks": "",
                        "gridcolor": "white",
                        "linecolor": "white"
                      },
                      "aaxis": {
                        "ticks": "",
                        "gridcolor": "white",
                        "linecolor": "white"
                      }
                    },
                    "mapbox": {
                      "style": "light"
                    },
                    "hovermode": "closest",
                    "font": {
                      "color": "#2a3f5f"
                    },
                    "geo": {
                      "showland": true,
                      "landcolor": "#E5ECF6",
                      "showlakes": true,
                      "bgcolor": "white",
                      "subunitcolor": "white",
                      "lakecolor": "white"
                    },
                    "coloraxis": {
                      "colorbar": {
                        "outlinewidth": 0,
                        "ticks": ""
                      }
                    }
                  },
                  "data": {
                    "mesh3d": [
                      {
                        "colorbar": {
                          "outlinewidth": 0,
                          "ticks": ""
                        },
                        "type": "mesh3d"
                      }
                    ],
                    "scattercarpet": [
                      {
                        "marker": {
                          "colorbar": {
                            "outlinewidth": 0,
                            "ticks": ""
                          }
                        },
                        "type": "scattercarpet"
                      }
                    ],
                    "pie": [
                      {
                        "automargin": true,
                        "type": "pie"
                      }
                    ],
                    "surface": [
                      {
                        "colorbar": {
                          "outlinewidth": 0,
                          "ticks": ""
                        },
                        "type": "surface",
                        "colorscale": [
                          [
                            0,
                            "#0d0887"
                          ],
                          [
                            0.1111111111111111,
                            "#46039f"
                          ],
                          [
                            0.2222222222222222,
                            "#7201a8"
                          ],
                          [
                            0.3333333333333333,
                            "#9c179e"
                          ],
                          [
                            0.4444444444444444,
                            "#bd3786"
                          ],
                          [
                            0.5555555555555556,
                            "#d8576b"
                          ],
                          [
                            0.6666666666666666,
                            "#ed7953"
                          ],
                          [
                            0.7777777777777778,
                            "#fb9f3a"
                          ],
                          [
                            0.8888888888888888,
                            "#fdca26"
                          ],
                          [
                            1,
                            "#f0f921"
                          ]
                        ]
                      }
                    ],
                    "table": [
                      {
                        "header": {
                          "line": {
                            "color": "white"
                          },
                          "fill": {
                            "color": "#C8D4E3"
                          }
                        },
                        "cells": {
                          "line": {
                            "color": "white"
                          },
                          "fill": {
                            "color": "#EBF0F8"
                          }
                        },
                        "type": "table"
                      }
                    ],
                    "scatterpolargl": [
                      {
                        "marker": {
                          "colorbar": {
                            "outlinewidth": 0,
                            "ticks": ""
                          }
                        },
                        "type": "scatterpolargl"
                      }
                    ],
                    "contour": [
                      {
                        "colorbar": {
                          "outlinewidth": 0,
                          "ticks": ""
                        },
                        "type": "contour",
                        "colorscale": [
                          [
                            0,
                            "#0d0887"
                          ],
                          [
                            0.1111111111111111,
                            "#46039f"
                          ],
                          [
                            0.2222222222222222,
                            "#7201a8"
                          ],
                          [
                            0.3333333333333333,
                            "#9c179e"
                          ],
                          [
                            0.4444444444444444,
                            "#bd3786"
                          ],
                          [
                            0.5555555555555556,
                            "#d8576b"
                          ],
                          [
                            0.6666666666666666,
                            "#ed7953"
                          ],
                          [
                            0.7777777777777778,
                            "#fb9f3a"
                          ],
                          [
                            0.8888888888888888,
                            "#fdca26"
                          ],
                          [
                            1,
                            "#f0f921"
                          ]
                        ]
                      }
                    ],
                    "carpet": [
                      {
                        "type": "carpet",
                        "baxis": {
                          "minorgridcolor": "white",
                          "gridcolor": "white",
                          "linecolor": "white",
                          "endlinecolor": "#2a3f5f",
                          "startlinecolor": "#2a3f5f"
                        },
                        "aaxis": {
                          "minorgridcolor": "white",
                          "gridcolor": "white",
                          "linecolor": "white",
                          "endlinecolor": "#2a3f5f",
                          "startlinecolor": "#2a3f5f"
                        }
                      }
                    ],
                    "contourcarpet": [
                      {
                        "colorbar": {
                          "outlinewidth": 0,
                          "ticks": ""
                        },
                        "type": "contourcarpet"
                      }
                    ],
                    "heatmap": [
                      {
                        "colorbar": {
                          "outlinewidth": 0,
                          "ticks": ""
                        },
                        "type": "heatmap",
                        "colorscale": [
                          [
                            0,
                            "#0d0887"
                          ],
                          [
                            0.1111111111111111,
                            "#46039f"
                          ],
                          [
                            0.2222222222222222,
                            "#7201a8"
                          ],
                          [
                            0.3333333333333333,
                            "#9c179e"
                          ],
                          [
                            0.4444444444444444,
                            "#bd3786"
                          ],
                          [
                            0.5555555555555556,
                            "#d8576b"
                          ],
                          [
                            0.6666666666666666,
                            "#ed7953"
                          ],
                          [
                            0.7777777777777778,
                            "#fb9f3a"
                          ],
                          [
                            0.8888888888888888,
                            "#fdca26"
                          ],
                          [
                            1,
                            "#f0f921"
                          ]
                        ]
                      }
                    ],
                    "scattermapbox": [
                      {
                        "marker": {
                          "colorbar": {
                            "outlinewidth": 0,
                            "ticks": ""
                          }
                        },
                        "type": "scattermapbox"
                      }
                    ],
                    "scatter3d": [
                      {
                        "marker": {
                          "colorbar": {
                            "outlinewidth": 0,
                            "ticks": ""
                          }
                        },
                        "line": {
                          "colorbar": {
                            "outlinewidth": 0,
                            "ticks": ""
                          }
                        },
                        "type": "scatter3d"
                      }
                    ],
                    "scattergl": [
                      {
                        "marker": {
                          "colorbar": {
                            "outlinewidth": 0,
                            "ticks": ""
                          }
                        },
                        "type": "scattergl"
                      }
                    ],
                    "scatterternary": [
                      {
                        "marker": {
                          "colorbar": {
                            "outlinewidth": 0,
                            "ticks": ""
                          }
                        },
                        "type": "scatterternary"
                      }
                    ],
                    "histogram": [
                      {
                        "marker": {
                          "colorbar": {
                            "outlinewidth": 0,
                            "ticks": ""
                          }
                        },
                        "type": "histogram"
                      }
                    ],
                    "heatmapgl": [
                      {
                        "colorbar": {
                          "outlinewidth": 0,
                          "ticks": ""
                        },
                        "type": "heatmapgl",
                        "colorscale": [
                          [
                            0,
                            "#0d0887"
                          ],
                          [
                            0.1111111111111111,
                            "#46039f"
                          ],
                          [
                            0.2222222222222222,
                            "#7201a8"
                          ],
                          [
                            0.3333333333333333,
                            "#9c179e"
                          ],
                          [
                            0.4444444444444444,
                            "#bd3786"
                          ],
                          [
                            0.5555555555555556,
                            "#d8576b"
                          ],
                          [
                            0.6666666666666666,
                            "#ed7953"
                          ],
                          [
                            0.7777777777777778,
                            "#fb9f3a"
                          ],
                          [
                            0.8888888888888888,
                            "#fdca26"
                          ],
                          [
                            1,
                            "#f0f921"
                          ]
                        ]
                      }
                    ],
                    "scatterpolar": [
                      {
                        "marker": {
                          "colorbar": {
                            "outlinewidth": 0,
                            "ticks": ""
                          }
                        },
                        "type": "scatterpolar"
                      }
                    ],
                    "histogram2d": [
                      {
                        "colorbar": {
                          "outlinewidth": 0,
                          "ticks": ""
                        },
                        "type": "histogram2d",
                        "colorscale": [
                          [
                            0,
                            "#0d0887"
                          ],
                          [
                            0.1111111111111111,
                            "#46039f"
                          ],
                          [
                            0.2222222222222222,
                            "#7201a8"
                          ],
                          [
                            0.3333333333333333,
                            "#9c179e"
                          ],
                          [
                            0.4444444444444444,
                            "#bd3786"
                          ],
                          [
                            0.5555555555555556,
                            "#d8576b"
                          ],
                          [
                            0.6666666666666666,
                            "#ed7953"
                          ],
                          [
                            0.7777777777777778,
                            "#fb9f3a"
                          ],
                          [
                            0.8888888888888888,
                            "#fdca26"
                          ],
                          [
                            1,
                            "#f0f921"
                          ]
                        ]
                      }
                    ],
                    "scattergeo": [
                      {
                        "marker": {
                          "colorbar": {
                            "outlinewidth": 0,
                            "ticks": ""
                          }
                        },
                        "type": "scattergeo"
                      }
                    ],
                    "bar": [
                      {
                        "marker": {
                          "line": {
                            "color": "#E5ECF6",
                            "width": 0.5
                          }
                        },
                        "type": "bar",
                        "error_x": {
                          "color": "#2a3f5f"
                        },
                        "error_y": {
                          "color": "#2a3f5f"
                        }
                      }
                    ],
                    "choropleth": [
                      {
                        "colorbar": {
                          "outlinewidth": 0,
                          "ticks": ""
                        },
                        "type": "choropleth"
                      }
                    ],
                    "parcoords": [
                      {
                        "line": {
                          "colorbar": {
                            "outlinewidth": 0,
                            "ticks": ""
                          }
                        },
                        "type": "parcoords"
                      }
                    ],
                    "barpolar": [
                      {
                        "marker": {
                          "line": {
                            "color": "#E5ECF6",
                            "width": 0.5
                          }
                        },
                        "type": "barpolar"
                      }
                    ],
                    "histogram2dcontour": [
                      {
                        "colorbar": {
                          "outlinewidth": 0,
                          "ticks": ""
                        },
                        "type": "histogram2dcontour",
                        "colorscale": [
                          [
                            0,
                            "#0d0887"
                          ],
                          [
                            0.1111111111111111,
                            "#46039f"
                          ],
                          [
                            0.2222222222222222,
                            "#7201a8"
                          ],
                          [
                            0.3333333333333333,
                            "#9c179e"
                          ],
                          [
                            0.4444444444444444,
                            "#bd3786"
                          ],
                          [
                            0.5555555555555556,
                            "#d8576b"
                          ],
                          [
                            0.6666666666666666,
                            "#ed7953"
                          ],
                          [
                            0.7777777777777778,
                            "#fb9f3a"
                          ],
                          [
                            0.8888888888888888,
                            "#fdca26"
                          ],
                          [
                            1,
                            "#f0f921"
                          ]
                        ]
                      }
                    ],
                    "scatter": [
                      {
                        "marker": {
                          "colorbar": {
                            "outlinewidth": 0,
                            "ticks": ""
                          }
                        },
                        "type": "scatter"
                      }
                    ]
                  }
                }
              }
            }
          },
          "metadata": {
            "tags": []
          }
        }
      ]
    },
    {
      "cell_type": "code",
      "metadata": {
        "id": "OW1NHndy0H7L"
      },
      "source": [
        "from sklearn.preprocessing import MinMaxScaler\n",
        "values = data['btc'].values.reshape(-1,1)\n",
        "values = values.astype('float32')\n",
        "scaler = MinMaxScaler(feature_range=(0, 1))\n",
        "scaled = scaler.fit_transform(values)"
      ],
      "execution_count": null,
      "outputs": []
    },
    {
      "cell_type": "code",
      "metadata": {
        "id": "0Qmh7qn20UWK",
        "outputId": "dbaf3e2d-c6fd-46c5-c28a-fdfa871e70f5",
        "colab": {
          "base_uri": "https://localhost:8080/",
          "height": 34
        }
      },
      "source": [
        "train_size = int(len(scaled) * 0.7)\n",
        "test_size = len(scaled) - train_size\n",
        "train, test = scaled[0:train_size,:], scaled[train_size:len(scaled),:]\n",
        "print(len(train), len(test))"
      ],
      "execution_count": null,
      "outputs": [
        {
          "output_type": "stream",
          "text": [
            "741 318\n"
          ],
          "name": "stdout"
        }
      ]
    },
    {
      "cell_type": "code",
      "metadata": {
        "id": "PjKSis0W0Zed"
      },
      "source": [
        "def create_dataset(dataset, look_back=1):\n",
        "    dataX, dataY = [], []\n",
        "    for i in range(len(dataset) - look_back):\n",
        "        a = dataset[i:(i + look_back), 0]\n",
        "        dataX.append(a)\n",
        "        dataY.append(dataset[i + look_back, 0])\n",
        "    print(len(dataY))\n",
        "    return np.array(dataX), np.array(dataY)"
      ],
      "execution_count": null,
      "outputs": []
    },
    {
      "cell_type": "code",
      "metadata": {
        "id": "yGfChhnw0d-G",
        "outputId": "862a38a4-dbb5-430a-85f6-4b56420c742d",
        "colab": {
          "base_uri": "https://localhost:8080/",
          "height": 51
        }
      },
      "source": [
        "look_back = 1\n",
        "trainX, trainY = create_dataset(train, look_back)\n",
        "testX, testY = create_dataset(test, look_back)"
      ],
      "execution_count": null,
      "outputs": [
        {
          "output_type": "stream",
          "text": [
            "740\n",
            "317\n"
          ],
          "name": "stdout"
        }
      ]
    },
    {
      "cell_type": "code",
      "metadata": {
        "id": "_S2KFTPG0goW"
      },
      "source": [
        "trainX = np.reshape(trainX, (trainX.shape[0], 1, trainX.shape[1]))\n",
        "testX = np.reshape(testX, (testX.shape[0], 1, testX.shape[1]))"
      ],
      "execution_count": null,
      "outputs": []
    },
    {
      "cell_type": "code",
      "metadata": {
        "id": "ac7kwg0H0jU3"
      },
      "source": [
        "model = Sequential()\n",
        "model.add(LSTM(100, input_shape=(trainX.shape[1], trainX.shape[2])))\n",
        "model.add(Dense(1))\n",
        "model.compile(loss='mae', optimizer='adam')\n",
        "history = model.fit(trainX, trainY, epochs=300, batch_size=100, validation_data=(testX, testY), verbose=0, shuffle=False)"
      ],
      "execution_count": null,
      "outputs": []
    },
    {
      "cell_type": "code",
      "metadata": {
        "id": "YiyGcGcb0mFS",
        "outputId": "c78fe9e3-9589-4c7e-d927-acd9174b0805",
        "colab": {
          "base_uri": "https://localhost:8080/",
          "height": 265
        }
      },
      "source": [
        "pyplot.plot(history.history['loss'], label='train')\n",
        "pyplot.plot(history.history['val_loss'], label='test')\n",
        "pyplot.legend()\n",
        "pyplot.show()"
      ],
      "execution_count": null,
      "outputs": [
        {
          "output_type": "display_data",
          "data": {
            "image/png": "[encoded data removed]",
            "text/plain": [
              "<Figure size 432x288 with 1 Axes>"
            ]
          },
          "metadata": {
            "tags": [],
            "needs_background": "light"
          }
        }
      ]
    },
    {
      "cell_type": "code",
      "metadata": {
        "id": "qll6wEVf0rnH",
        "outputId": "e62ca562-278c-4797-dbb0-1b885e720035",
        "colab": {
          "base_uri": "https://localhost:8080/",
          "height": 265
        }
      },
      "source": [
        "yhat = model.predict(testX)\n",
        "pyplot.plot(yhat, label='predict')\n",
        "pyplot.plot(testY, label='true')\n",
        "pyplot.legend()\n",
        "pyplot.show()"
      ],
      "execution_count": null,
      "outputs": [
        {
          "output_type": "display_data",
          "data": {
            "image/png": "[encoded data removed]",
            "text/plain": [
              "<Figure size 432x288 with 1 Axes>"
            ]
          },
          "metadata": {
            "tags": [],
            "needs_background": "light"
          }
        }
      ]
    },
    {
      "cell_type": "code",
      "metadata": {
        "id": "DgmHfZq70wX5"
      },
      "source": [
        "yhat_inverse = scaler.inverse_transform(yhat.reshape(-1, 1))\n",
        "testY_inverse = scaler.inverse_transform(testY.reshape(-1, 1))"
      ],
      "execution_count": null,
      "outputs": []
    },
    {
      "cell_type": "code",
      "metadata": {
        "id": "vs83QJsh088y",
        "outputId": "18c1d502-4aba-4425-dd12-aff947087890",
        "colab": {
          "base_uri": "https://localhost:8080/",
          "height": 34
        }
      },
      "source": [
        "rmse = sqrt(mean_squared_error(testY_inverse, yhat_inverse))\n",
        "print('Test RMSE: %.3f' % rmse)"
      ],
      "execution_count": null,
      "outputs": [
        {
          "output_type": "stream",
          "text": [
            "Test RMSE: 74127502.786\n"
          ],
          "name": "stdout"
        }
      ]
    },
    {
      "cell_type": "code",
      "metadata": {
        "id": "zSGXYhIo1AXJ",
        "outputId": "82e64449-cf80-48b1-b5f4-74a1b9e081d2",
        "colab": {
          "base_uri": "https://localhost:8080/",
          "height": 276
        }
      },
      "source": [
        "pyplot.plot(yhat_inverse, label='predict')\n",
        "pyplot.plot(testY_inverse, label='actual', alpha=0.5)\n",
        "pyplot.legend()\n",
        "pyplot.show()"
      ],
      "execution_count": null,
      "outputs": [
        {
          "output_type": "display_data",
          "data": {
            "image/png": "[encoded data removed]",
            "text/plain": [
              "<Figure size 432x288 with 1 Axes>"
            ]
          },
          "metadata": {
            "tags": [],
            "needs_background": "light"
          }
        }
      ]
    },
    {
      "cell_type": "code",
      "metadata": {
        "id": "98J1ME9O1F66"
      },
      "source": [
        "predictDates = data.tail(len(testX)).index"
      ],
      "execution_count": null,
      "outputs": []
    },
    {
      "cell_type": "code",
      "metadata": {
        "id": "tZSKnmct1NDE"
      },
      "source": [
        "testY_reshape = testY_inverse.reshape(len(testY_inverse))\n",
        "yhat_reshape = yhat_inverse.reshape(len(yhat_inverse))"
      ],
      "execution_count": null,
      "outputs": []
    },
    {
      "cell_type": "code",
      "metadata": {
        "id": "Entkui_81PS_",
        "outputId": "66148b13-afb2-4c5b-afa3-2951be842d8b",
        "colab": {
          "base_uri": "https://localhost:8080/",
          "height": 542
        }
      },
      "source": [
        "actual_chart = go.Scatter(x=predictDates, y=testY_reshape, name= 'Actual Price')\n",
        "predict_chart = go.Scatter(x=predictDates, y=yhat_reshape, name= 'Predict Price')\n",
        "py.iplot([actual_chart])"
      ],
      "execution_count": null,
      "outputs": [
        {
          "output_type": "display_data",
          "data": {
            "text/html": [
              "<div>\n",
              "        \n",
              "        \n",
              "            <div id=\"89c6284c-445f-4fc9-b8b3-b88ab4dac18a\" class=\"plotly-graph-div\" style=\"height:525px; width:100%;\"></div>\n",
              "            <script type=\"text/javascript\">\n",
              "                require([\"plotly\"], function(Plotly) {\n",
              "                    window.PLOTLYENV=window.PLOTLYENV || {};\n",
              "                    \n",
              "                if (document.getElementById(\"89c6284c-445f-4fc9-b8b3-b88ab4dac18a\")) {\n",
              "                    Plotly.newPlot(\n",
              "                        '89c6284c-445f-4fc9-b8b3-b88ab4dac18a',\n",
              "                        [{\"name\": \"Actual Price\", \"type\": \"scatter\", \"x\": [\"2019-10-28T00:00:00\", \"2019-10-29T00:00:00\", \"2019-10-30T00:00:00\", \"2019-10-31T00:00:00\", \"2019-11-01T00:00:00\", \"2019-11-02T00:00:00\", \"2019-11-03T00:00:00\", \"2019-11-04T00:00:00\", \"2019-11-05T00:00:00\", \"2019-11-06T00:00:00\", \"2019-11-07T00:00:00\", \"2019-11-08T00:00:00\", \"2019-11-09T00:00:00\", \"2019-11-10T00:00:00\", \"2019-11-11T00:00:00\", \"2019-11-12T00:00:00\", \"2019-11-13T00:00:00\", \"2019-11-14T00:00:00\", \"2019-11-15T00:00:00\", \"2019-11-16T00:00:00\", \"2019-11-17T00:00:00\", \"2019-11-18T00:00:00\", \"2019-11-19T00:00:00\", \"2019-11-20T00:00:00\", \"2019-11-21T00:00:00\", \"2019-11-22T00:00:00\", \"2019-11-23T00:00:00\", \"2019-11-24T00:00:00\", \"2019-11-25T00:00:00\", \"2019-11-26T00:00:00\", \"2019-11-27T00:00:00\", \"2019-11-28T00:00:00\", \"2019-11-29T00:00:00\", \"2019-11-30T00:00:00\", \"2019-12-01T00:00:00\", \"2019-12-02T00:00:00\", \"2019-12-03T00:00:00\", \"2019-12-04T00:00:00\", \"2019-12-05T00:00:00\", \"2019-12-06T00:00:00\", \"2019-12-07T00:00:00\", \"2019-12-08T00:00:00\", \"2019-12-09T00:00:00\", \"2019-12-10T00:00:00\", \"2019-12-11T00:00:00\", \"2019-12-12T00:00:00\", \"2019-12-13T00:00:00\", \"2019-12-14T00:00:00\", \"2019-12-15T00:00:00\", \"2019-12-16T00:00:00\", \"2019-12-17T00:00:00\", \"2019-12-18T00:00:00\", \"2019-12-19T00:00:00\", \"2019-12-20T00:00:00\", \"2019-12-21T00:00:00\", \"2019-12-22T00:00:00\", \"2019-12-23T00:00:00\", \"2019-12-24T00:00:00\", \"2019-12-25T00:00:00\", \"2019-12-26T00:00:00\", \"2019-12-27T00:00:00\", \"2019-12-28T00:00:00\", \"2019-12-29T00:00:00\", \"2019-12-30T00:00:00\", \"2019-12-31T00:00:00\", \"2020-01-01T00:00:00\", \"2020-01-02T00:00:00\", \"2020-01-03T00:00:00\", \"2020-01-04T00:00:00\", \"2020-01-05T00:00:00\", \"2020-01-06T00:00:00\", \"2020-01-07T00:00:00\", \"2020-01-08T00:00:00\", \"2020-01-09T00:00:00\", \"2020-01-10T00:00:00\", \"2020-01-11T00:00:00\", \"2020-01-12T00:00:00\", \"2020-01-13T00:00:00\", \"2020-01-14T00:00:00\", \"2020-01-15T00:00:00\", \"2020-01-16T00:00:00\", \"2020-01-17T00:00:00\", \"2020-01-18T00:00:00\", \"2020-01-19T00:00:00\", \"2020-01-20T00:00:00\", \"2020-01-21T00:00:00\", \"2020-01-22T00:00:00\", \"2020-01-23T00:00:00\", \"2020-01-24T00:00:00\", \"2020-01-25T00:00:00\", \"2020-01-26T00:00:00\", \"2020-01-27T00:00:00\", \"2020-01-28T00:00:00\", \"2020-01-29T00:00:00\", \"2020-01-30T00:00:00\", \"2020-01-31T00:00:00\", \"2020-02-01T00:00:00\", \"2020-02-02T00:00:00\", \"2020-02-03T00:00:00\", \"2020-02-04T00:00:00\", \"2020-02-05T00:00:00\", \"2020-02-06T00:00:00\", \"2020-02-07T00:00:00\", \"2020-02-08T00:00:00\", \"2020-02-09T00:00:00\", \"2020-02-10T00:00:00\", \"2020-02-11T00:00:00\", \"2020-02-12T00:00:00\", \"2020-02-13T00:00:00\", \"2020-02-14T00:00:00\", \"2020-02-15T00:00:00\", \"2020-02-16T00:00:00\", \"2020-02-17T00:00:00\", \"2020-02-18T00:00:00\", \"2020-02-19T00:00:00\", \"2020-02-20T00:00:00\", \"2020-02-21T00:00:00\", \"2020-02-22T00:00:00\", \"2020-02-23T00:00:00\", \"2020-02-24T00:00:00\", \"2020-02-25T00:00:00\", \"2020-02-26T00:00:00\", \"2020-02-27T00:00:00\", \"2020-02-28T00:00:00\", \"2020-02-29T00:00:00\", \"2020-03-01T00:00:00\", \"2020-03-02T00:00:00\", \"2020-03-03T00:00:00\", \"2020-03-04T00:00:00\", \"2020-03-05T00:00:00\", \"2020-03-06T00:00:00\", \"2020-03-07T00:00:00\", \"2020-03-08T00:00:00\", \"2020-03-09T00:00:00\", \"2020-03-10T00:00:00\", \"2020-03-11T00:00:00\", \"2020-03-12T00:00:00\", \"2020-03-13T00:00:00\", \"2020-03-14T00:00:00\", \"2020-03-15T00:00:00\", \"2020-03-16T00:00:00\", \"2020-03-17T00:00:00\", \"2020-03-18T00:00:00\", \"2020-03-19T00:00:00\", \"2020-03-20T00:00:00\", \"2020-03-21T00:00:00\", \"2020-03-22T00:00:00\", \"2020-03-23T00:00:00\", \"2020-03-24T00:00:00\", \"2020-03-25T00:00:00\", \"2020-03-26T00:00:00\", \"2020-03-27T00:00:00\", \"2020-03-28T00:00:00\", \"2020-03-29T00:00:00\", \"2020-03-30T00:00:00\", \"2020-03-31T00:00:00\", \"2020-04-01T00:00:00\", \"2020-04-02T00:00:00\", \"2020-04-03T00:00:00\", \"2020-04-04T00:00:00\", \"2020-04-05T00:00:00\", \"2020-04-06T00:00:00\", \"2020-04-07T00:00:00\", \"2020-04-08T00:00:00\", \"2020-04-09T00:00:00\", \"2020-04-10T00:00:00\", \"2020-04-11T00:00:00\", \"2020-04-12T00:00:00\", \"2020-04-13T00:00:00\", \"2020-04-14T00:00:00\", \"2020-04-15T00:00:00\", \"2020-04-16T00:00:00\", \"2020-04-17T00:00:00\", \"2020-04-18T00:00:00\", \"2020-04-19T00:00:00\", \"2020-04-20T00:00:00\", \"2020-04-21T00:00:00\", \"2020-04-22T00:00:00\", \"2020-04-23T00:00:00\", \"2020-04-24T00:00:00\", \"2020-04-25T00:00:00\", \"2020-04-26T00:00:00\", \"2020-04-27T00:00:00\", \"2020-04-28T00:00:00\", \"2020-04-29T00:00:00\", \"2020-04-30T00:00:00\", \"2020-05-01T00:00:00\", \"2020-05-02T00:00:00\", \"2020-05-03T00:00:00\", \"2020-05-04T00:00:00\", \"2020-05-05T00:00:00\", \"2020-05-06T00:00:00\", \"2020-05-07T00:00:00\", \"2020-05-08T00:00:00\", \"2020-05-09T00:00:00\", \"2020-05-10T00:00:00\", \"2020-05-11T00:00:00\", \"2020-05-12T00:00:00\", \"2020-05-13T00:00:00\", \"2020-05-14T00:00:00\", \"2020-05-15T00:00:00\", \"2020-05-16T00:00:00\", \"2020-05-17T00:00:00\", \"2020-05-18T00:00:00\", \"2020-05-19T00:00:00\", \"2020-05-20T00:00:00\", \"2020-05-21T00:00:00\", \"2020-05-22T00:00:00\", \"2020-05-23T00:00:00\", \"2020-05-24T00:00:00\", \"2020-05-25T00:00:00\", \"2020-05-26T00:00:00\", \"2020-05-27T00:00:00\", \"2020-05-28T00:00:00\", \"2020-05-29T00:00:00\", \"2020-05-30T00:00:00\", \"2020-05-31T00:00:00\", \"2020-06-01T00:00:00\", \"2020-06-02T00:00:00\", \"2020-06-03T00:00:00\", \"2020-06-04T00:00:00\", \"2020-06-05T00:00:00\", \"2020-06-06T00:00:00\", \"2020-06-07T00:00:00\", \"2020-06-08T00:00:00\", \"2020-06-09T00:00:00\", \"2020-06-10T00:00:00\", \"2020-06-11T00:00:00\", \"2020-06-12T00:00:00\", \"2020-06-13T00:00:00\", \"2020-06-14T00:00:00\", \"2020-06-15T00:00:00\", \"2020-06-16T00:00:00\", \"2020-06-17T00:00:00\", \"2020-06-18T00:00:00\", \"2020-06-19T00:00:00\", \"2020-06-20T00:00:00\", \"2020-06-21T00:00:00\", \"2020-06-22T00:00:00\", \"2020-06-23T00:00:00\", \"2020-06-24T00:00:00\", \"2020-06-25T00:00:00\", \"2020-06-26T00:00:00\", \"2020-06-27T00:00:00\", \"2020-06-28T00:00:00\", \"2020-06-29T00:00:00\", \"2020-06-30T00:00:00\", \"2020-07-01T00:00:00\", \"2020-07-02T00:00:00\", \"2020-07-03T00:00:00\", \"2020-07-04T00:00:00\", \"2020-07-05T00:00:00\", \"2020-07-06T00:00:00\", \"2020-07-07T00:00:00\", \"2020-07-08T00:00:00\", \"2020-07-09T00:00:00\", \"2020-07-10T00:00:00\", \"2020-07-11T00:00:00\", \"2020-07-12T00:00:00\", \"2020-07-13T00:00:00\", \"2020-07-14T00:00:00\", \"2020-07-15T00:00:00\", \"2020-07-16T00:00:00\", \"2020-07-17T00:00:00\", \"2020-07-18T00:00:00\", \"2020-07-19T00:00:00\", \"2020-07-20T00:00:00\", \"2020-07-21T00:00:00\", \"2020-07-22T00:00:00\", \"2020-07-23T00:00:00\", \"2020-07-24T00:00:00\", \"2020-07-25T00:00:00\", \"2020-07-26T00:00:00\", \"2020-07-27T00:00:00\", \"2020-07-28T00:00:00\", \"2020-07-29T00:00:00\", \"2020-07-30T00:00:00\", \"2020-07-31T00:00:00\", \"2020-08-01T00:00:00\", \"2020-08-02T00:00:00\", \"2020-08-03T00:00:00\", \"2020-08-04T00:00:00\", \"2020-08-05T00:00:00\", \"2020-08-06T00:00:00\", \"2020-08-07T00:00:00\", \"2020-08-08T00:00:00\", \"2020-08-09T00:00:00\", \"2020-08-10T00:00:00\", \"2020-08-11T00:00:00\", \"2020-08-12T00:00:00\", \"2020-08-13T00:00:00\", \"2020-08-14T00:00:00\", \"2020-08-15T00:00:00\", \"2020-08-16T00:00:00\", \"2020-08-17T00:00:00\", \"2020-08-18T00:00:00\", \"2020-08-19T00:00:00\", \"2020-08-20T00:00:00\", \"2020-08-21T00:00:00\", \"2020-08-22T00:00:00\", \"2020-08-23T00:00:00\", \"2020-08-24T00:00:00\", \"2020-08-25T00:00:00\", \"2020-08-26T00:00:00\", \"2020-08-27T00:00:00\", \"2020-08-28T00:00:00\", \"2020-08-29T00:00:00\", \"2020-08-30T00:00:00\", \"2020-08-31T00:00:00\", \"2020-09-01T00:00:00\", \"2020-09-02T00:00:00\", \"2020-09-03T00:00:00\", \"2020-09-04T00:00:00\", \"2020-09-05T00:00:00\", \"2020-09-06T00:00:00\", \"2020-09-07T00:00:00\", \"2020-09-08T00:00:00\"], \"y\": [186615344.0, 159063056.0, 118330928.0, 90419136.0, 76480952.0, 71236240.0, 42389456.0, 39500192.0, 78261048.0, 70748464.0, 63750044.0, 55214184.0, 114512664.0, 36727336.0, 54412172.0, 61777368.0, 54698032.0, 39251260.0, 48509044.0, 93180720.0, 22976432.0, 31975326.0, 81718208.0, 59596060.0, 42909572.0, 130417488.0, 242673680.0, 56023036.0, 75756584.0, 188458592.0, 84736192.0, 140909344.0, 65136604.0, 83064976.0, 46705980.0, 63906772.0, 51335016.0, 45206872.0, 121089880.0, 67828672.0, 69526864.0, 36771148.0, 31778644.0, 76542840.0, 52337024.0, 42855992.0, 61645420.0, 44256420.0, 30901846.0, 34797140.0, 91625088.0, 94427360.0, 158634016.0, 75263656.0, 43067060.0, 24458856.0, 74775736.0, 113705744.0, 56839324.0, 23752378.0, 55611776.0, 60987176.0, 33749836.0, 48533704.0, 53517032.0, 48557592.0, 24110758.0, 56248280.0, 101599168.0, 34732884.0, 44130264.0, 89099112.0, 158197968.0, 196389360.0, 74819192.0, 106514856.0, 61452952.0, 31778280.0, 54107476.0, 232481200.0, 131173424.0, 80380928.0, 137103872.0, 49831232.0, 134258384.0, 48421024.0, 64909884.0, 47476624.0, 102727672.0, 72435336.0, 31491096.0, 46502932.0, 83825504.0, 159791408.0, 114237704.0, 121491824.0, 90641568.0, 41118320.0, 68311704.0, 111396872.0, 75286008.0, 126308192.0, 122962712.0, 83310624.0, 79559000.0, 97117072.0, 131547760.0, 168077840.0, 142211840.0, 175925312.0, 82468080.0, 123831536.0, 92980192.0, 98210016.0, 115254920.0, 165019104.0, 118526928.0, 68405584.0, 31901386.0, 55664888.0, 107230856.0, 88336584.0, 193575760.0, 129796656.0, 118046216.0, 44580492.0, 62865008.0, 89636528.0, 80314264.0, 49807856.0, 90915104.0, 58401456.0, 58400452.0, 139039632.0, 200851312.0, 136536256.0, 106495872.0, 691470528.0, 672737472.0, 176551600.0, 236074976.0, 393603424.0, 235797376.0, 197860960.0, 324759808.0, 337031616.0, 145322416.0, 169838096.0, 263281984.0, 270286144.0, 208586544.0, 116577184.0, 136347040.0, 126547016.0, 97575792.0, 149349264.0, 77035584.0, 113548608.0, 196746624.0, 101888456.0, 69550056.0, 60870348.0, 199191536.0, 166296848.0, 112806216.0, 90142192.0, 136661888.0, 55351252.0, 89245528.0, 150564192.0, 88622760.0, 99802664.0, 194997392.0, 95537920.0, 82811400.0, 63655644.0, 128274056.0, 99270736.0, 92466944.0, 168898064.0, 103461104.0, 56245228.0, 70749776.0, 119232768.0, 84913304.0, 410005792.0, 399375520.0, 190599312.0, 93740768.0, 153972832.0, 161189904.0, 146542992.0, 254883680.0, 381074048.0, 261703696.0, 174066144.0, 441781376.0, 347389632.0, 177699504.0, 195011072.0, 276845472.0, 238386128.0, 101363192.0, 130998040.0, 172348384.0, 147256784.0, 162162480.0, 256707232.0, 125252280.0, 63338392.0, 116980192.0, 108558224.0, 101815248.0, 99194552.0, 136150176.0, 98466984.0, 100245160.0, 75780120.0, 214222992.0, 325653248.0, 109367784.0, 120918544.0, 121400864.0, 62571960.0, 111647520.0, 82965144.0, 100441936.0, 127430624.0, 254250528.0, 103408184.0, 43188132.0, 45284112.0, 171042272.0, 98255376.0, 84153256.0, 58276396.0, 65437924.0, 1971044.75, 28856962.0, 112437328.0, 76615088.0, 125579600.0, 6536202.5, 330493.03125, 76800584.0, 50213188.0, 42159968.0, 62402116.0, 9801816.0, 98240272.0, 70370168.0, 48311564.0, 41612400.0, 24164474.0, 58632632.0, 94983296.0, 78541248.0, 3945865.0, 31117066.0, 48424280.0, 80678880.0, 33160866.0, 20063386.0, 76389232.0, 23736680.0, 37773984.0, 25473736.0, 3540395.25, 84602800.0, 61277300.0, 120186944.0, 19366216.0, 13039416.0, 10341049.0, 70410712.0, 79105072.0, 31007962.0, 33528244.0, 22792846.0, 42906720.0, 176369712.0, 26093810.0, 90493808.0, 10761726.0, 54929464.0, 38693656.0, 35046852.0, 22766932.0, 86644496.0, 81790248.0, 27084758.0, 31304440.0, 35992576.0, 42153192.0, 8727059.0, 24805844.0, 39195300.0, 61675080.0, 24352128.0, 28912068.0, 39284640.0, 15712715.0, 12462347.0, 3461208.0, 17744182.0, 15081954.0, 10620638.0, 1640956.625, 15641448.0, 10660792.0, 22318798.0, 209350256.0, 5248558.5, 12943320.0, 19243472.0, 17569062.0, 9923039.0]}],\n",
              "                        {\"template\": {\"data\": {\"bar\": [{\"error_x\": {\"color\": \"#2a3f5f\"}, \"error_y\": {\"color\": \"#2a3f5f\"}, \"marker\": {\"line\": {\"color\": \"#E5ECF6\", \"width\": 0.5}}, \"type\": \"bar\"}], \"barpolar\": [{\"marker\": {\"line\": {\"color\": \"#E5ECF6\", \"width\": 0.5}}, \"type\": \"barpolar\"}], \"carpet\": [{\"aaxis\": {\"endlinecolor\": \"#2a3f5f\", \"gridcolor\": \"white\", \"linecolor\": \"white\", \"minorgridcolor\": \"white\", \"startlinecolor\": \"#2a3f5f\"}, \"baxis\": {\"endlinecolor\": \"#2a3f5f\", \"gridcolor\": \"white\", \"linecolor\": \"white\", \"minorgridcolor\": \"white\", \"startlinecolor\": \"#2a3f5f\"}, \"type\": \"carpet\"}], \"choropleth\": [{\"colorbar\": {\"outlinewidth\": 0, \"ticks\": \"\"}, \"type\": \"choropleth\"}], \"contour\": [{\"colorbar\": {\"outlinewidth\": 0, \"ticks\": \"\"}, \"colorscale\": [[0.0, \"#0d0887\"], [0.1111111111111111, \"#46039f\"], [0.2222222222222222, \"#7201a8\"], [0.3333333333333333, \"#9c179e\"], [0.4444444444444444, \"#bd3786\"], [0.5555555555555556, \"#d8576b\"], [0.6666666666666666, \"#ed7953\"], [0.7777777777777778, \"#fb9f3a\"], [0.8888888888888888, \"#fdca26\"], [1.0, \"#f0f921\"]], \"type\": \"contour\"}], \"contourcarpet\": [{\"colorbar\": {\"outlinewidth\": 0, \"ticks\": \"\"}, \"type\": \"contourcarpet\"}], \"heatmap\": [{\"colorbar\": {\"outlinewidth\": 0, \"ticks\": \"\"}, \"colorscale\": [[0.0, \"#0d0887\"], [0.1111111111111111, \"#46039f\"], [0.2222222222222222, \"#7201a8\"], [0.3333333333333333, \"#9c179e\"], [0.4444444444444444, \"#bd3786\"], [0.5555555555555556, \"#d8576b\"], [0.6666666666666666, \"#ed7953\"], [0.7777777777777778, \"#fb9f3a\"], [0.8888888888888888, \"#fdca26\"], [1.0, \"#f0f921\"]], \"type\": \"heatmap\"}], \"heatmapgl\": [{\"colorbar\": {\"outlinewidth\": 0, \"ticks\": \"\"}, \"colorscale\": [[0.0, \"#0d0887\"], [0.1111111111111111, \"#46039f\"], [0.2222222222222222, \"#7201a8\"], [0.3333333333333333, \"#9c179e\"], [0.4444444444444444, \"#bd3786\"], [0.5555555555555556, \"#d8576b\"], [0.6666666666666666, \"#ed7953\"], [0.7777777777777778, \"#fb9f3a\"], [0.8888888888888888, \"#fdca26\"], [1.0, \"#f0f921\"]], \"type\": \"heatmapgl\"}], \"histogram\": [{\"marker\": {\"colorbar\": {\"outlinewidth\": 0, \"ticks\": \"\"}}, \"type\": \"histogram\"}], \"histogram2d\": [{\"colorbar\": {\"outlinewidth\": 0, \"ticks\": \"\"}, \"colorscale\": [[0.0, \"#0d0887\"], [0.1111111111111111, \"#46039f\"], [0.2222222222222222, \"#7201a8\"], [0.3333333333333333, \"#9c179e\"], [0.4444444444444444, \"#bd3786\"], [0.5555555555555556, \"#d8576b\"], [0.6666666666666666, \"#ed7953\"], [0.7777777777777778, \"#fb9f3a\"], [0.8888888888888888, \"#fdca26\"], [1.0, \"#f0f921\"]], \"type\": \"histogram2d\"}], \"histogram2dcontour\": [{\"colorbar\": {\"outlinewidth\": 0, \"ticks\": \"\"}, \"colorscale\": [[0.0, \"#0d0887\"], [0.1111111111111111, \"#46039f\"], [0.2222222222222222, \"#7201a8\"], [0.3333333333333333, \"#9c179e\"], [0.4444444444444444, \"#bd3786\"], [0.5555555555555556, \"#d8576b\"], [0.6666666666666666, \"#ed7953\"], [0.7777777777777778, \"#fb9f3a\"], [0.8888888888888888, \"#fdca26\"], [1.0, \"#f0f921\"]], \"type\": \"histogram2dcontour\"}], \"mesh3d\": [{\"colorbar\": {\"outlinewidth\": 0, \"ticks\": \"\"}, \"type\": \"mesh3d\"}], \"parcoords\": [{\"line\": {\"colorbar\": {\"outlinewidth\": 0, \"ticks\": \"\"}}, \"type\": \"parcoords\"}], \"pie\": [{\"automargin\": true, \"type\": \"pie\"}], \"scatter\": [{\"marker\": {\"colorbar\": {\"outlinewidth\": 0, \"ticks\": \"\"}}, \"type\": \"scatter\"}], \"scatter3d\": [{\"line\": {\"colorbar\": {\"outlinewidth\": 0, \"ticks\": \"\"}}, \"marker\": {\"colorbar\": {\"outlinewidth\": 0, \"ticks\": \"\"}}, \"type\": \"scatter3d\"}], \"scattercarpet\": [{\"marker\": {\"colorbar\": {\"outlinewidth\": 0, \"ticks\": \"\"}}, \"type\": \"scattercarpet\"}], \"scattergeo\": [{\"marker\": {\"colorbar\": {\"outlinewidth\": 0, \"ticks\": \"\"}}, \"type\": \"scattergeo\"}], \"scattergl\": [{\"marker\": {\"colorbar\": {\"outlinewidth\": 0, \"ticks\": \"\"}}, \"type\": \"scattergl\"}], \"scattermapbox\": [{\"marker\": {\"colorbar\": {\"outlinewidth\": 0, \"ticks\": \"\"}}, \"type\": \"scattermapbox\"}], \"scatterpolar\": [{\"marker\": {\"colorbar\": {\"outlinewidth\": 0, \"ticks\": \"\"}}, \"type\": \"scatterpolar\"}], \"scatterpolargl\": [{\"marker\": {\"colorbar\": {\"outlinewidth\": 0, \"ticks\": \"\"}}, \"type\": \"scatterpolargl\"}], \"scatterternary\": [{\"marker\": {\"colorbar\": {\"outlinewidth\": 0, \"ticks\": \"\"}}, \"type\": \"scatterternary\"}], \"surface\": [{\"colorbar\": {\"outlinewidth\": 0, \"ticks\": \"\"}, \"colorscale\": [[0.0, \"#0d0887\"], [0.1111111111111111, \"#46039f\"], [0.2222222222222222, \"#7201a8\"], [0.3333333333333333, \"#9c179e\"], [0.4444444444444444, \"#bd3786\"], [0.5555555555555556, \"#d8576b\"], [0.6666666666666666, \"#ed7953\"], [0.7777777777777778, \"#fb9f3a\"], [0.8888888888888888, \"#fdca26\"], [1.0, \"#f0f921\"]], \"type\": \"surface\"}], \"table\": [{\"cells\": {\"fill\": {\"color\": \"#EBF0F8\"}, \"line\": {\"color\": \"white\"}}, \"header\": {\"fill\": {\"color\": \"#C8D4E3\"}, \"line\": {\"color\": \"white\"}}, \"type\": \"table\"}]}, \"layout\": {\"annotationdefaults\": {\"arrowcolor\": \"#2a3f5f\", \"arrowhead\": 0, \"arrowwidth\": 1}, \"coloraxis\": {\"colorbar\": {\"outlinewidth\": 0, \"ticks\": \"\"}}, \"colorscale\": {\"diverging\": [[0, \"#8e0152\"], [0.1, \"#c51b7d\"], [0.2, \"#de77ae\"], [0.3, \"#f1b6da\"], [0.4, \"#fde0ef\"], [0.5, \"#f7f7f7\"], [0.6, \"#e6f5d0\"], [0.7, \"#b8e186\"], [0.8, \"#7fbc41\"], [0.9, \"#4d9221\"], [1, \"#276419\"]], \"sequential\": [[0.0, \"#0d0887\"], [0.1111111111111111, \"#46039f\"], [0.2222222222222222, \"#7201a8\"], [0.3333333333333333, \"#9c179e\"], [0.4444444444444444, \"#bd3786\"], [0.5555555555555556, \"#d8576b\"], [0.6666666666666666, \"#ed7953\"], [0.7777777777777778, \"#fb9f3a\"], [0.8888888888888888, \"#fdca26\"], [1.0, \"#f0f921\"]], \"sequentialminus\": [[0.0, \"#0d0887\"], [0.1111111111111111, \"#46039f\"], [0.2222222222222222, \"#7201a8\"], [0.3333333333333333, \"#9c179e\"], [0.4444444444444444, \"#bd3786\"], [0.5555555555555556, \"#d8576b\"], [0.6666666666666666, \"#ed7953\"], [0.7777777777777778, \"#fb9f3a\"], [0.8888888888888888, \"#fdca26\"], [1.0, \"#f0f921\"]]}, \"colorway\": [\"#636efa\", \"#EF553B\", \"#00cc96\", \"#ab63fa\", \"#FFA15A\", \"#19d3f3\", \"#FF6692\", \"#B6E880\", \"#FF97FF\", \"#FECB52\"], \"font\": {\"color\": \"#2a3f5f\"}, \"geo\": {\"bgcolor\": \"white\", \"lakecolor\": \"white\", \"landcolor\": \"#E5ECF6\", \"showlakes\": true, \"showland\": true, \"subunitcolor\": \"white\"}, \"hoverlabel\": {\"align\": \"left\"}, \"hovermode\": \"closest\", \"mapbox\": {\"style\": \"light\"}, \"paper_bgcolor\": \"white\", \"plot_bgcolor\": \"#E5ECF6\", \"polar\": {\"angularaxis\": {\"gridcolor\": \"white\", \"linecolor\": \"white\", \"ticks\": \"\"}, \"bgcolor\": \"#E5ECF6\", \"radialaxis\": {\"gridcolor\": \"white\", \"linecolor\": \"white\", \"ticks\": \"\"}}, \"scene\": {\"xaxis\": {\"backgroundcolor\": \"#E5ECF6\", \"gridcolor\": \"white\", \"gridwidth\": 2, \"linecolor\": \"white\", \"showbackground\": true, \"ticks\": \"\", \"zerolinecolor\": \"white\"}, \"yaxis\": {\"backgroundcolor\": \"#E5ECF6\", \"gridcolor\": \"white\", \"gridwidth\": 2, \"linecolor\": \"white\", \"showbackground\": true, \"ticks\": \"\", \"zerolinecolor\": \"white\"}, \"zaxis\": {\"backgroundcolor\": \"#E5ECF6\", \"gridcolor\": \"white\", \"gridwidth\": 2, \"linecolor\": \"white\", \"showbackground\": true, \"ticks\": \"\", \"zerolinecolor\": \"white\"}}, \"shapedefaults\": {\"line\": {\"color\": \"#2a3f5f\"}}, \"ternary\": {\"aaxis\": {\"gridcolor\": \"white\", \"linecolor\": \"white\", \"ticks\": \"\"}, \"baxis\": {\"gridcolor\": \"white\", \"linecolor\": \"white\", \"ticks\": \"\"}, \"bgcolor\": \"#E5ECF6\", \"caxis\": {\"gridcolor\": \"white\", \"linecolor\": \"white\", \"ticks\": \"\"}}, \"title\": {\"x\": 0.05}, \"xaxis\": {\"automargin\": true, \"gridcolor\": \"white\", \"linecolor\": \"white\", \"ticks\": \"\", \"title\": {\"standoff\": 15}, \"zerolinecolor\": \"white\", \"zerolinewidth\": 2}, \"yaxis\": {\"automargin\": true, \"gridcolor\": \"white\", \"linecolor\": \"white\", \"ticks\": \"\", \"title\": {\"standoff\": 15}, \"zerolinecolor\": \"white\", \"zerolinewidth\": 2}}}},\n",
              "                        {\"responsive\": true}\n",
              "                    ).then(function(){\n",
              "                            \n",
              "var gd = document.getElementById('89c6284c-445f-4fc9-b8b3-b88ab4dac18a');\n",
              "var x = new MutationObserver(function (mutations, observer) {{\n",
              "        var display = window.getComputedStyle(gd).display;\n",
              "        if (!display || display === 'none') {{\n",
              "            console.log([gd, 'removed!']);\n",
              "            Plotly.purge(gd);\n",
              "            observer.disconnect();\n",
              "        }}\n",
              "}});\n",
              "\n",
              "// Listen for the removal of the full notebook cells\n",
              "var notebookContainer = gd.closest('#notebook-container');\n",
              "if (notebookContainer) {{\n",
              "    x.observe(notebookContainer, {childList: true});\n",
              "}}\n",
              "\n",
              "// Listen for the clearing of the current output cell\n",
              "var outputEl = gd.closest('.output');\n",
              "if (outputEl) {{\n",
              "    x.observe(outputEl, {childList: true});\n",
              "}}\n",
              "\n",
              "                        })\n",
              "                };\n",
              "                });\n",
              "            </script>\n",
              "        </div>"
            ],
            "application/vnd.plotly.v1+json": {
              "data": [
                {
                  "y": [
                    186615344,
                    159063056,
                    118330928,
                    90419136,
                    76480952,
                    71236240,
                    42389456,
                    39500192,
                    78261048,
                    70748464,
                    63750044,
                    55214184,
                    114512664,
                    36727336,
                    54412172,
                    61777368,
                    54698032,
                    39251260,
                    48509044,
                    93180720,
                    22976432,
                    31975326,
                    81718208,
                    59596060,
                    42909572,
                    130417488,
                    242673680,
                    56023036,
                    75756584,
                    188458592,
                    84736192,
                    140909344,
                    65136604,
                    83064976,
                    46705980,
                    63906772,
                    51335016,
                    45206872,
                    121089880,
                    67828672,
                    69526864,
                    36771148,
                    31778644,
                    76542840,
                    52337024,
                    42855992,
                    61645420,
                    44256420,
                    30901846,
                    34797140,
                    91625088,
                    94427360,
                    158634016,
                    75263656,
                    43067060,
                    24458856,
                    74775736,
                    113705744,
                    56839324,
                    23752378,
                    55611776,
                    60987176,
                    33749836,
                    48533704,
                    53517032,
                    48557592,
                    24110758,
                    56248280,
                    101599168,
                    34732884,
                    44130264,
                    89099112,
                    158197968,
                    196389360,
                    74819192,
                    106514856,
                    61452952,
                    31778280,
                    54107476,
                    232481200,
                    131173424,
                    80380928,
                    137103872,
                    49831232,
                    134258384,
                    48421024,
                    64909884,
                    47476624,
                    102727672,
                    72435336,
                    31491096,
                    46502932,
                    83825504,
                    159791408,
                    114237704,
                    121491824,
                    90641568,
                    41118320,
                    68311704,
                    111396872,
                    75286008,
                    126308192,
                    122962712,
                    83310624,
                    79559000,
                    97117072,
                    131547760,
                    168077840,
                    142211840,
                    175925312,
                    82468080,
                    123831536,
                    92980192,
                    98210016,
                    115254920,
                    165019104,
                    118526928,
                    68405584,
                    31901386,
                    55664888,
                    107230856,
                    88336584,
                    193575760,
                    129796656,
                    118046216,
                    44580492,
                    62865008,
                    89636528,
                    80314264,
                    49807856,
                    90915104,
                    58401456,
                    58400452,
                    139039632,
                    200851312,
                    136536256,
                    106495872,
                    691470528,
                    672737472,
                    176551600,
                    236074976,
                    393603424,
                    235797376,
                    197860960,
                    324759808,
                    337031616,
                    145322416,
                    169838096,
                    263281984,
                    270286144,
                    208586544,
                    116577184,
                    136347040,
                    126547016,
                    97575792,
                    149349264,
                    77035584,
                    113548608,
                    196746624,
                    101888456,
                    69550056,
                    60870348,
                    199191536,
                    166296848,
                    112806216,
                    90142192,
                    136661888,
                    55351252,
                    89245528,
                    150564192,
                    88622760,
                    99802664,
                    194997392,
                    95537920,
                    82811400,
                    63655644,
                    128274056,
                    99270736,
                    92466944,
                    168898064,
                    103461104,
                    56245228,
                    70749776,
                    119232768,
                    84913304,
                    410005792,
                    399375520,
                    190599312,
                    93740768,
                    153972832,
                    161189904,
                    146542992,
                    254883680,
                    381074048,
                    261703696,
                    174066144,
                    441781376,
                    347389632,
                    177699504,
                    195011072,
                    276845472,
                    238386128,
                    101363192,
                    130998040,
                    172348384,
                    147256784,
                    162162480,
                    256707232,
                    125252280,
                    63338392,
                    116980192,
                    108558224,
                    101815248,
                    99194552,
                    136150176,
                    98466984,
                    100245160,
                    75780120,
                    214222992,
                    325653248,
                    109367784,
                    120918544,
                    121400864,
                    62571960,
                    111647520,
                    82965144,
                    100441936,
                    127430624,
                    254250528,
                    103408184,
                    43188132,
                    45284112,
                    171042272,
                    98255376,
                    84153256,
                    58276396,
                    65437924,
                    1971044.75,
                    28856962,
                    112437328,
                    76615088,
                    125579600,
                    6536202.5,
                    330493.03125,
                    76800584,
                    50213188,
                    42159968,
                    62402116,
                    9801816,
                    98240272,
                    70370168,
                    48311564,
                    41612400,
                    24164474,
                    58632632,
                    94983296,
                    78541248,
                    3945865,
                    31117066,
                    48424280,
                    80678880,
                    33160866,
                    20063386,
                    76389232,
                    23736680,
                    37773984,
                    25473736,
                    3540395.25,
                    84602800,
                    61277300,
                    120186944,
                    19366216,
                    13039416,
                    10341049,
                    70410712,
                    79105072,
                    31007962,
                    33528244,
                    22792846,
                    42906720,
                    176369712,
                    26093810,
                    90493808,
                    10761726,
                    54929464,
                    38693656,
                    35046852,
                    22766932,
                    86644496,
                    81790248,
                    27084758,
                    31304440,
                    35992576,
                    42153192,
                    8727059,
                    24805844,
                    39195300,
                    61675080,
                    24352128,
                    28912068,
                    39284640,
                    15712715,
                    12462347,
                    3461208,
                    17744182,
                    15081954,
                    10620638,
                    1640956.625,
                    15641448,
                    10660792,
                    22318798,
                    209350256,
                    5248558.5,
                    12943320,
                    19243472,
                    17569062,
                    9923039
                  ],
                  "x": [
                    "2019-10-28T00:00:00",
                    "2019-10-29T00:00:00",
                    "2019-10-30T00:00:00",
                    "2019-10-31T00:00:00",
                    "2019-11-01T00:00:00",
                    "2019-11-02T00:00:00",
                    "2019-11-03T00:00:00",
                    "2019-11-04T00:00:00",
                    "2019-11-05T00:00:00",
                    "2019-11-06T00:00:00",
                    "2019-11-07T00:00:00",
                    "2019-11-08T00:00:00",
                    "2019-11-09T00:00:00",
                    "2019-11-10T00:00:00",
                    "2019-11-11T00:00:00",
                    "2019-11-12T00:00:00",
                    "2019-11-13T00:00:00",
                    "2019-11-14T00:00:00",
                    "2019-11-15T00:00:00",
                    "2019-11-16T00:00:00",
                    "2019-11-17T00:00:00",
                    "2019-11-18T00:00:00",
                    "2019-11-19T00:00:00",
                    "2019-11-20T00:00:00",
                    "2019-11-21T00:00:00",
                    "2019-11-22T00:00:00",
                    "2019-11-23T00:00:00",
                    "2019-11-24T00:00:00",
                    "2019-11-25T00:00:00",
                    "2019-11-26T00:00:00",
                    "2019-11-27T00:00:00",
                    "2019-11-28T00:00:00",
                    "2019-11-29T00:00:00",
                    "2019-11-30T00:00:00",
                    "2019-12-01T00:00:00",
                    "2019-12-02T00:00:00",
                    "2019-12-03T00:00:00",
                    "2019-12-04T00:00:00",
                    "2019-12-05T00:00:00",
                    "2019-12-06T00:00:00",
                    "2019-12-07T00:00:00",
                    "2019-12-08T00:00:00",
                    "2019-12-09T00:00:00",
                    "2019-12-10T00:00:00",
                    "2019-12-11T00:00:00",
                    "2019-12-12T00:00:00",
                    "2019-12-13T00:00:00",
                    "2019-12-14T00:00:00",
                    "2019-12-15T00:00:00",
                    "2019-12-16T00:00:00",
                    "2019-12-17T00:00:00",
                    "2019-12-18T00:00:00",
                    "2019-12-19T00:00:00",
                    "2019-12-20T00:00:00",
                    "2019-12-21T00:00:00",
                    "2019-12-22T00:00:00",
                    "2019-12-23T00:00:00",
                    "2019-12-24T00:00:00",
                    "2019-12-25T00:00:00",
                    "2019-12-26T00:00:00",
                    "2019-12-27T00:00:00",
                    "2019-12-28T00:00:00",
                    "2019-12-29T00:00:00",
                    "2019-12-30T00:00:00",
                    "2019-12-31T00:00:00",
                    "2020-01-01T00:00:00",
                    "2020-01-02T00:00:00",
                    "2020-01-03T00:00:00",
                    "2020-01-04T00:00:00",
                    "2020-01-05T00:00:00",
                    "2020-01-06T00:00:00",
                    "2020-01-07T00:00:00",
                    "2020-01-08T00:00:00",
                    "2020-01-09T00:00:00",
                    "2020-01-10T00:00:00",
                    "2020-01-11T00:00:00",
                    "2020-01-12T00:00:00",
                    "2020-01-13T00:00:00",
                    "2020-01-14T00:00:00",
                    "2020-01-15T00:00:00",
                    "2020-01-16T00:00:00",
                    "2020-01-17T00:00:00",
                    "2020-01-18T00:00:00",
                    "2020-01-19T00:00:00",
                    "2020-01-20T00:00:00",
                    "2020-01-21T00:00:00",
                    "2020-01-22T00:00:00",
                    "2020-01-23T00:00:00",
                    "2020-01-24T00:00:00",
                    "2020-01-25T00:00:00",
                    "2020-01-26T00:00:00",
                    "2020-01-27T00:00:00",
                    "2020-01-28T00:00:00",
                    "2020-01-29T00:00:00",
                    "2020-01-30T00:00:00",
                    "2020-01-31T00:00:00",
                    "2020-02-01T00:00:00",
                    "2020-02-02T00:00:00",
                    "2020-02-03T00:00:00",
                    "2020-02-04T00:00:00",
                    "2020-02-05T00:00:00",
                    "2020-02-06T00:00:00",
                    "2020-02-07T00:00:00",
                    "2020-02-08T00:00:00",
                    "2020-02-09T00:00:00",
                    "2020-02-10T00:00:00",
                    "2020-02-11T00:00:00",
                    "2020-02-12T00:00:00",
                    "2020-02-13T00:00:00",
                    "2020-02-14T00:00:00",
                    "2020-02-15T00:00:00",
                    "2020-02-16T00:00:00",
                    "2020-02-17T00:00:00",
                    "2020-02-18T00:00:00",
                    "2020-02-19T00:00:00",
                    "2020-02-20T00:00:00",
                    "2020-02-21T00:00:00",
                    "2020-02-22T00:00:00",
                    "2020-02-23T00:00:00",
                    "2020-02-24T00:00:00",
                    "2020-02-25T00:00:00",
                    "2020-02-26T00:00:00",
                    "2020-02-27T00:00:00",
                    "2020-02-28T00:00:00",
                    "2020-02-29T00:00:00",
                    "2020-03-01T00:00:00",
                    "2020-03-02T00:00:00",
                    "2020-03-03T00:00:00",
                    "2020-03-04T00:00:00",
                    "2020-03-05T00:00:00",
                    "2020-03-06T00:00:00",
                    "2020-03-07T00:00:00",
                    "2020-03-08T00:00:00",
                    "2020-03-09T00:00:00",
                    "2020-03-10T00:00:00",
                    "2020-03-11T00:00:00",
                    "2020-03-12T00:00:00",
                    "2020-03-13T00:00:00",
                    "2020-03-14T00:00:00",
                    "2020-03-15T00:00:00",
                    "2020-03-16T00:00:00",
                    "2020-03-17T00:00:00",
                    "2020-03-18T00:00:00",
                    "2020-03-19T00:00:00",
                    "2020-03-20T00:00:00",
                    "2020-03-21T00:00:00",
                    "2020-03-22T00:00:00",
                    "2020-03-23T00:00:00",
                    "2020-03-24T00:00:00",
                    "2020-03-25T00:00:00",
                    "2020-03-26T00:00:00",
                    "2020-03-27T00:00:00",
                    "2020-03-28T00:00:00",
                    "2020-03-29T00:00:00",
                    "2020-03-30T00:00:00",
                    "2020-03-31T00:00:00",
                    "2020-04-01T00:00:00",
                    "2020-04-02T00:00:00",
                    "2020-04-03T00:00:00",
                    "2020-04-04T00:00:00",
                    "2020-04-05T00:00:00",
                    "2020-04-06T00:00:00",
                    "2020-04-07T00:00:00",
                    "2020-04-08T00:00:00",
                    "2020-04-09T00:00:00",
                    "2020-04-10T00:00:00",
                    "2020-04-11T00:00:00",
                    "2020-04-12T00:00:00",
                    "2020-04-13T00:00:00",
                    "2020-04-14T00:00:00",
                    "2020-04-15T00:00:00",
                    "2020-04-16T00:00:00",
                    "2020-04-17T00:00:00",
                    "2020-04-18T00:00:00",
                    "2020-04-19T00:00:00",
                    "2020-04-20T00:00:00",
                    "2020-04-21T00:00:00",
                    "2020-04-22T00:00:00",
                    "2020-04-23T00:00:00",
                    "2020-04-24T00:00:00",
                    "2020-04-25T00:00:00",
                    "2020-04-26T00:00:00",
                    "2020-04-27T00:00:00",
                    "2020-04-28T00:00:00",
                    "2020-04-29T00:00:00",
                    "2020-04-30T00:00:00",
                    "2020-05-01T00:00:00",
                    "2020-05-02T00:00:00",
                    "2020-05-03T00:00:00",
                    "2020-05-04T00:00:00",
                    "2020-05-05T00:00:00",
                    "2020-05-06T00:00:00",
                    "2020-05-07T00:00:00",
                    "2020-05-08T00:00:00",
                    "2020-05-09T00:00:00",
                    "2020-05-10T00:00:00",
                    "2020-05-11T00:00:00",
                    "2020-05-12T00:00:00",
                    "2020-05-13T00:00:00",
                    "2020-05-14T00:00:00",
                    "2020-05-15T00:00:00",
                    "2020-05-16T00:00:00",
                    "2020-05-17T00:00:00",
                    "2020-05-18T00:00:00",
                    "2020-05-19T00:00:00",
                    "2020-05-20T00:00:00",
                    "2020-05-21T00:00:00",
                    "2020-05-22T00:00:00",
                    "2020-05-23T00:00:00",
                    "2020-05-24T00:00:00",
                    "2020-05-25T00:00:00",
                    "2020-05-26T00:00:00",
                    "2020-05-27T00:00:00",
                    "2020-05-28T00:00:00",
                    "2020-05-29T00:00:00",
                    "2020-05-30T00:00:00",
                    "2020-05-31T00:00:00",
                    "2020-06-01T00:00:00",
                    "2020-06-02T00:00:00",
                    "2020-06-03T00:00:00",
                    "2020-06-04T00:00:00",
                    "2020-06-05T00:00:00",
                    "2020-06-06T00:00:00",
                    "2020-06-07T00:00:00",
                    "2020-06-08T00:00:00",
                    "2020-06-09T00:00:00",
                    "2020-06-10T00:00:00",
                    "2020-06-11T00:00:00",
                    "2020-06-12T00:00:00",
                    "2020-06-13T00:00:00",
                    "2020-06-14T00:00:00",
                    "2020-06-15T00:00:00",
                    "2020-06-16T00:00:00",
                    "2020-06-17T00:00:00",
                    "2020-06-18T00:00:00",
                    "2020-06-19T00:00:00",
                    "2020-06-20T00:00:00",
                    "2020-06-21T00:00:00",
                    "2020-06-22T00:00:00",
                    "2020-06-23T00:00:00",
                    "2020-06-24T00:00:00",
                    "2020-06-25T00:00:00",
                    "2020-06-26T00:00:00",
                    "2020-06-27T00:00:00",
                    "2020-06-28T00:00:00",
                    "2020-06-29T00:00:00",
                    "2020-06-30T00:00:00",
                    "2020-07-01T00:00:00",
                    "2020-07-02T00:00:00",
                    "2020-07-03T00:00:00",
                    "2020-07-04T00:00:00",
                    "2020-07-05T00:00:00",
                    "2020-07-06T00:00:00",
                    "2020-07-07T00:00:00",
                    "2020-07-08T00:00:00",
                    "2020-07-09T00:00:00",
                    "2020-07-10T00:00:00",
                    "2020-07-11T00:00:00",
                    "2020-07-12T00:00:00",
                    "2020-07-13T00:00:00",
                    "2020-07-14T00:00:00",
                    "2020-07-15T00:00:00",
                    "2020-07-16T00:00:00",
                    "2020-07-17T00:00:00",
                    "2020-07-18T00:00:00",
                    "2020-07-19T00:00:00",
                    "2020-07-20T00:00:00",
                    "2020-07-21T00:00:00",
                    "2020-07-22T00:00:00",
                    "2020-07-23T00:00:00",
                    "2020-07-24T00:00:00",
                    "2020-07-25T00:00:00",
                    "2020-07-26T00:00:00",
                    "2020-07-27T00:00:00",
                    "2020-07-28T00:00:00",
                    "2020-07-29T00:00:00",
                    "2020-07-30T00:00:00",
                    "2020-07-31T00:00:00",
                    "2020-08-01T00:00:00",
                    "2020-08-02T00:00:00",
                    "2020-08-03T00:00:00",
                    "2020-08-04T00:00:00",
                    "2020-08-05T00:00:00",
                    "2020-08-06T00:00:00",
                    "2020-08-07T00:00:00",
                    "2020-08-08T00:00:00",
                    "2020-08-09T00:00:00",
                    "2020-08-10T00:00:00",
                    "2020-08-11T00:00:00",
                    "2020-08-12T00:00:00",
                    "2020-08-13T00:00:00",
                    "2020-08-14T00:00:00",
                    "2020-08-15T00:00:00",
                    "2020-08-16T00:00:00",
                    "2020-08-17T00:00:00",
                    "2020-08-18T00:00:00",
                    "2020-08-19T00:00:00",
                    "2020-08-20T00:00:00",
                    "2020-08-21T00:00:00",
                    "2020-08-22T00:00:00",
                    "2020-08-23T00:00:00",
                    "2020-08-24T00:00:00",
                    "2020-08-25T00:00:00",
                    "2020-08-26T00:00:00",
                    "2020-08-27T00:00:00",
                    "2020-08-28T00:00:00",
                    "2020-08-29T00:00:00",
                    "2020-08-30T00:00:00",
                    "2020-08-31T00:00:00",
                    "2020-09-01T00:00:00",
                    "2020-09-02T00:00:00",
                    "2020-09-03T00:00:00",
                    "2020-09-04T00:00:00",
                    "2020-09-05T00:00:00",
                    "2020-09-06T00:00:00",
                    "2020-09-07T00:00:00",
                    "2020-09-08T00:00:00"
                  ],
                  "type": "scatter",
                  "name": "Actual Price"
                }
              ],
              "config": {
                "plotlyServerURL": "https://plot.ly",
                "linkText": "Export to plot.ly",
                "showLink": false
              },
              "layout": {
                "template": {
                  "layout": {
                    "shapedefaults": {
                      "line": {
                        "color": "#2a3f5f"
                      }
                    },
                    "polar": {
                      "radialaxis": {
                        "ticks": "",
                        "gridcolor": "white",
                        "linecolor": "white"
                      },
                      "bgcolor": "#E5ECF6",
                      "angularaxis": {
                        "ticks": "",
                        "gridcolor": "white",
                        "linecolor": "white"
                      }
                    },
                    "colorway": [
                      "#636efa",
                      "#EF553B",
                      "#00cc96",
                      "#ab63fa",
                      "#FFA15A",
                      "#19d3f3",
                      "#FF6692",
                      "#B6E880",
                      "#FF97FF",
                      "#FECB52"
                    ],
                    "xaxis": {
                      "automargin": true,
                      "title": {
                        "standoff": 15
                      },
                      "zerolinewidth": 2,
                      "ticks": "",
                      "zerolinecolor": "white",
                      "gridcolor": "white",
                      "linecolor": "white"
                    },
                    "colorscale": {
                      "diverging": [
                        [
                          0,
                          "#8e0152"
                        ],
                        [
                          0.1,
                          "#c51b7d"
                        ],
                        [
                          0.2,
                          "#de77ae"
                        ],
                        [
                          0.3,
                          "#f1b6da"
                        ],
                        [
                          0.4,
                          "#fde0ef"
                        ],
                        [
                          0.5,
                          "#f7f7f7"
                        ],
                        [
                          0.6,
                          "#e6f5d0"
                        ],
                        [
                          0.7,
                          "#b8e186"
                        ],
                        [
                          0.8,
                          "#7fbc41"
                        ],
                        [
                          0.9,
                          "#4d9221"
                        ],
                        [
                          1,
                          "#276419"
                        ]
                      ],
                      "sequential": [
                        [
                          0,
                          "#0d0887"
                        ],
                        [
                          0.1111111111111111,
                          "#46039f"
                        ],
                        [
                          0.2222222222222222,
                          "#7201a8"
                        ],
                        [
                          0.3333333333333333,
                          "#9c179e"
                        ],
                        [
                          0.4444444444444444,
                          "#bd3786"
                        ],
                        [
                          0.5555555555555556,
                          "#d8576b"
                        ],
                        [
                          0.6666666666666666,
                          "#ed7953"
                        ],
                        [
                          0.7777777777777778,
                          "#fb9f3a"
                        ],
                        [
                          0.8888888888888888,
                          "#fdca26"
                        ],
                        [
                          1,
                          "#f0f921"
                        ]
                      ],
                      "sequentialminus": [
                        [
                          0,
                          "#0d0887"
                        ],
                        [
                          0.1111111111111111,
                          "#46039f"
                        ],
                        [
                          0.2222222222222222,
                          "#7201a8"
                        ],
                        [
                          0.3333333333333333,
                          "#9c179e"
                        ],
                        [
                          0.4444444444444444,
                          "#bd3786"
                        ],
                        [
                          0.5555555555555556,
                          "#d8576b"
                        ],
                        [
                          0.6666666666666666,
                          "#ed7953"
                        ],
                        [
                          0.7777777777777778,
                          "#fb9f3a"
                        ],
                        [
                          0.8888888888888888,
                          "#fdca26"
                        ],
                        [
                          1,
                          "#f0f921"
                        ]
                      ]
                    },
                    "paper_bgcolor": "white",
                    "plot_bgcolor": "#E5ECF6",
                    "title": {
                      "x": 0.05
                    },
                    "scene": {
                      "zaxis": {
                        "backgroundcolor": "#E5ECF6",
                        "ticks": "",
                        "gridwidth": 2,
                        "showbackground": true,
                        "zerolinecolor": "white",
                        "gridcolor": "white",
                        "linecolor": "white"
                      },
                      "xaxis": {
                        "backgroundcolor": "#E5ECF6",
                        "ticks": "",
                        "gridwidth": 2,
                        "showbackground": true,
                        "zerolinecolor": "white",
                        "gridcolor": "white",
                        "linecolor": "white"
                      },
                      "yaxis": {
                        "backgroundcolor": "#E5ECF6",
                        "ticks": "",
                        "gridwidth": 2,
                        "showbackground": true,
                        "zerolinecolor": "white",
                        "gridcolor": "white",
                        "linecolor": "white"
                      }
                    },
                    "yaxis": {
                      "automargin": true,
                      "title": {
                        "standoff": 15
                      },
                      "zerolinewidth": 2,
                      "ticks": "",
                      "zerolinecolor": "white",
                      "gridcolor": "white",
                      "linecolor": "white"
                    },
                    "annotationdefaults": {
                      "arrowwidth": 1,
                      "arrowhead": 0,
                      "arrowcolor": "#2a3f5f"
                    },
                    "hoverlabel": {
                      "align": "left"
                    },
                    "ternary": {
                      "bgcolor": "#E5ECF6",
                      "baxis": {
                        "ticks": "",
                        "gridcolor": "white",
                        "linecolor": "white"
                      },
                      "caxis": {
                        "ticks": "",
                        "gridcolor": "white",
                        "linecolor": "white"
                      },
                      "aaxis": {
                        "ticks": "",
                        "gridcolor": "white",
                        "linecolor": "white"
                      }
                    },
                    "mapbox": {
                      "style": "light"
                    },
                    "hovermode": "closest",
                    "font": {
                      "color": "#2a3f5f"
                    },
                    "geo": {
                      "showland": true,
                      "landcolor": "#E5ECF6",
                      "showlakes": true,
                      "bgcolor": "white",
                      "subunitcolor": "white",
                      "lakecolor": "white"
                    },
                    "coloraxis": {
                      "colorbar": {
                        "outlinewidth": 0,
                        "ticks": ""
                      }
                    }
                  },
                  "data": {
                    "mesh3d": [
                      {
                        "colorbar": {
                          "outlinewidth": 0,
                          "ticks": ""
                        },
                        "type": "mesh3d"
                      }
                    ],
                    "scattercarpet": [
                      {
                        "marker": {
                          "colorbar": {
                            "outlinewidth": 0,
                            "ticks": ""
                          }
                        },
                        "type": "scattercarpet"
                      }
                    ],
                    "pie": [
                      {
                        "automargin": true,
                        "type": "pie"
                      }
                    ],
                    "surface": [
                      {
                        "colorbar": {
                          "outlinewidth": 0,
                          "ticks": ""
                        },
                        "type": "surface",
                        "colorscale": [
                          [
                            0,
                            "#0d0887"
                          ],
                          [
                            0.1111111111111111,
                            "#46039f"
                          ],
                          [
                            0.2222222222222222,
                            "#7201a8"
                          ],
                          [
                            0.3333333333333333,
                            "#9c179e"
                          ],
                          [
                            0.4444444444444444,
                            "#bd3786"
                          ],
                          [
                            0.5555555555555556,
                            "#d8576b"
                          ],
                          [
                            0.6666666666666666,
                            "#ed7953"
                          ],
                          [
                            0.7777777777777778,
                            "#fb9f3a"
                          ],
                          [
                            0.8888888888888888,
                            "#fdca26"
                          ],
                          [
                            1,
                            "#f0f921"
                          ]
                        ]
                      }
                    ],
                    "table": [
                      {
                        "header": {
                          "line": {
                            "color": "white"
                          },
                          "fill": {
                            "color": "#C8D4E3"
                          }
                        },
                        "cells": {
                          "line": {
                            "color": "white"
                          },
                          "fill": {
                            "color": "#EBF0F8"
                          }
                        },
                        "type": "table"
                      }
                    ],
                    "scatterpolargl": [
                      {
                        "marker": {
                          "colorbar": {
                            "outlinewidth": 0,
                            "ticks": ""
                          }
                        },
                        "type": "scatterpolargl"
                      }
                    ],
                    "contour": [
                      {
                        "colorbar": {
                          "outlinewidth": 0,
                          "ticks": ""
                        },
                        "type": "contour",
                        "colorscale": [
                          [
                            0,
                            "#0d0887"
                          ],
                          [
                            0.1111111111111111,
                            "#46039f"
                          ],
                          [
                            0.2222222222222222,
                            "#7201a8"
                          ],
                          [
                            0.3333333333333333,
                            "#9c179e"
                          ],
                          [
                            0.4444444444444444,
                            "#bd3786"
                          ],
                          [
                            0.5555555555555556,
                            "#d8576b"
                          ],
                          [
                            0.6666666666666666,
                            "#ed7953"
                          ],
                          [
                            0.7777777777777778,
                            "#fb9f3a"
                          ],
                          [
                            0.8888888888888888,
                            "#fdca26"
                          ],
                          [
                            1,
                            "#f0f921"
                          ]
                        ]
                      }
                    ],
                    "carpet": [
                      {
                        "type": "carpet",
                        "baxis": {
                          "minorgridcolor": "white",
                          "gridcolor": "white",
                          "linecolor": "white",
                          "endlinecolor": "#2a3f5f",
                          "startlinecolor": "#2a3f5f"
                        },
                        "aaxis": {
                          "minorgridcolor": "white",
                          "gridcolor": "white",
                          "linecolor": "white",
                          "endlinecolor": "#2a3f5f",
                          "startlinecolor": "#2a3f5f"
                        }
                      }
                    ],
                    "contourcarpet": [
                      {
                        "colorbar": {
                          "outlinewidth": 0,
                          "ticks": ""
                        },
                        "type": "contourcarpet"
                      }
                    ],
                    "heatmap": [
                      {
                        "colorbar": {
                          "outlinewidth": 0,
                          "ticks": ""
                        },
                        "type": "heatmap",
                        "colorscale": [
                          [
                            0,
                            "#0d0887"
                          ],
                          [
                            0.1111111111111111,
                            "#46039f"
                          ],
                          [
                            0.2222222222222222,
                            "#7201a8"
                          ],
                          [
                            0.3333333333333333,
                            "#9c179e"
                          ],
                          [
                            0.4444444444444444,
                            "#bd3786"
                          ],
                          [
                            0.5555555555555556,
                            "#d8576b"
                          ],
                          [
                            0.6666666666666666,
                            "#ed7953"
                          ],
                          [
                            0.7777777777777778,
                            "#fb9f3a"
                          ],
                          [
                            0.8888888888888888,
                            "#fdca26"
                          ],
                          [
                            1,
                            "#f0f921"
                          ]
                        ]
                      }
                    ],
                    "scattermapbox": [
                      {
                        "marker": {
                          "colorbar": {
                            "outlinewidth": 0,
                            "ticks": ""
                          }
                        },
                        "type": "scattermapbox"
                      }
                    ],
                    "scatter3d": [
                      {
                        "marker": {
                          "colorbar": {
                            "outlinewidth": 0,
                            "ticks": ""
                          }
                        },
                        "line": {
                          "colorbar": {
                            "outlinewidth": 0,
                            "ticks": ""
                          }
                        },
                        "type": "scatter3d"
                      }
                    ],
                    "scattergl": [
                      {
                        "marker": {
                          "colorbar": {
                            "outlinewidth": 0,
                            "ticks": ""
                          }
                        },
                        "type": "scattergl"
                      }
                    ],
                    "scatterternary": [
                      {
                        "marker": {
                          "colorbar": {
                            "outlinewidth": 0,
                            "ticks": ""
                          }
                        },
                        "type": "scatterternary"
                      }
                    ],
                    "histogram": [
                      {
                        "marker": {
                          "colorbar": {
                            "outlinewidth": 0,
                            "ticks": ""
                          }
                        },
                        "type": "histogram"
                      }
                    ],
                    "heatmapgl": [
                      {
                        "colorbar": {
                          "outlinewidth": 0,
                          "ticks": ""
                        },
                        "type": "heatmapgl",
                        "colorscale": [
                          [
                            0,
                            "#0d0887"
                          ],
                          [
                            0.1111111111111111,
                            "#46039f"
                          ],
                          [
                            0.2222222222222222,
                            "#7201a8"
                          ],
                          [
                            0.3333333333333333,
                            "#9c179e"
                          ],
                          [
                            0.4444444444444444,
                            "#bd3786"
                          ],
                          [
                            0.5555555555555556,
                            "#d8576b"
                          ],
                          [
                            0.6666666666666666,
                            "#ed7953"
                          ],
                          [
                            0.7777777777777778,
                            "#fb9f3a"
                          ],
                          [
                            0.8888888888888888,
                            "#fdca26"
                          ],
                          [
                            1,
                            "#f0f921"
                          ]
                        ]
                      }
                    ],
                    "scatterpolar": [
                      {
                        "marker": {
                          "colorbar": {
                            "outlinewidth": 0,
                            "ticks": ""
                          }
                        },
                        "type": "scatterpolar"
                      }
                    ],
                    "histogram2d": [
                      {
                        "colorbar": {
                          "outlinewidth": 0,
                          "ticks": ""
                        },
                        "type": "histogram2d",
                        "colorscale": [
                          [
                            0,
                            "#0d0887"
                          ],
                          [
                            0.1111111111111111,
                            "#46039f"
                          ],
                          [
                            0.2222222222222222,
                            "#7201a8"
                          ],
                          [
                            0.3333333333333333,
                            "#9c179e"
                          ],
                          [
                            0.4444444444444444,
                            "#bd3786"
                          ],
                          [
                            0.5555555555555556,
                            "#d8576b"
                          ],
                          [
                            0.6666666666666666,
                            "#ed7953"
                          ],
                          [
                            0.7777777777777778,
                            "#fb9f3a"
                          ],
                          [
                            0.8888888888888888,
                            "#fdca26"
                          ],
                          [
                            1,
                            "#f0f921"
                          ]
                        ]
                      }
                    ],
                    "scattergeo": [
                      {
                        "marker": {
                          "colorbar": {
                            "outlinewidth": 0,
                            "ticks": ""
                          }
                        },
                        "type": "scattergeo"
                      }
                    ],
                    "bar": [
                      {
                        "marker": {
                          "line": {
                            "color": "#E5ECF6",
                            "width": 0.5
                          }
                        },
                        "type": "bar",
                        "error_x": {
                          "color": "#2a3f5f"
                        },
                        "error_y": {
                          "color": "#2a3f5f"
                        }
                      }
                    ],
                    "choropleth": [
                      {
                        "colorbar": {
                          "outlinewidth": 0,
                          "ticks": ""
                        },
                        "type": "choropleth"
                      }
                    ],
                    "parcoords": [
                      {
                        "line": {
                          "colorbar": {
                            "outlinewidth": 0,
                            "ticks": ""
                          }
                        },
                        "type": "parcoords"
                      }
                    ],
                    "barpolar": [
                      {
                        "marker": {
                          "line": {
                            "color": "#E5ECF6",
                            "width": 0.5
                          }
                        },
                        "type": "barpolar"
                      }
                    ],
                    "histogram2dcontour": [
                      {
                        "colorbar": {
                          "outlinewidth": 0,
                          "ticks": ""
                        },
                        "type": "histogram2dcontour",
                        "colorscale": [
                          [
                            0,
                            "#0d0887"
                          ],
                          [
                            0.1111111111111111,
                            "#46039f"
                          ],
                          [
                            0.2222222222222222,
                            "#7201a8"
                          ],
                          [
                            0.3333333333333333,
                            "#9c179e"
                          ],
                          [
                            0.4444444444444444,
                            "#bd3786"
                          ],
                          [
                            0.5555555555555556,
                            "#d8576b"
                          ],
                          [
                            0.6666666666666666,
                            "#ed7953"
                          ],
                          [
                            0.7777777777777778,
                            "#fb9f3a"
                          ],
                          [
                            0.8888888888888888,
                            "#fdca26"
                          ],
                          [
                            1,
                            "#f0f921"
                          ]
                        ]
                      }
                    ],
                    "scatter": [
                      {
                        "marker": {
                          "colorbar": {
                            "outlinewidth": 0,
                            "ticks": ""
                          }
                        },
                        "type": "scatter"
                      }
                    ]
                  }
                }
              }
            }
          },
          "metadata": {
            "tags": []
          }
        }
      ]
    },
    {
      "cell_type": "code",
      "metadata": {
        "id": "WXsovsjp9CeP"
      },
      "source": [
        ""
      ],
      "execution_count": null,
      "outputs": []
    }
  ]
}