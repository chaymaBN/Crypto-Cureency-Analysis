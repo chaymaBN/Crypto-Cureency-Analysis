{
 "cells": [
  {
   "cell_type": "markdown",
   "metadata": {},
   "source": [
    "# Time series analysis with ARIMA and SARIMA"
   ]
  },
  {
   "cell_type": "code",
   "execution_count": 10,
   "metadata": {},
   "outputs": [],
   "source": [
    "# import regular libraries \n",
    "import pandas as pd\n",
    "import numpy as np\n",
    "import matplotlib.pyplot as plt\n",
    "import matplotlib.pyplot as plt\n",
    "from datetime import datetime\n",
    "import time\n",
    "import pymongo\n",
    "import requests\n",
    "from pandas.io.json import json_normalize\n",
    "from statistics import stdev \n",
    "import json\n",
    "import math\n",
    "\n",
    "# from SciPy packages\n",
    "from statsmodels.tsa.stattools import adfuller # adfuller test\n",
    "from statsmodels.graphics.tsaplots import plot_acf # autocorellation plot\n",
    "from statsmodels.graphics.tsaplots import plot_pacf # partial autocorellation plot\n",
    "\n",
    "# math function\n",
    "from math import sqrt\n",
    "\n",
    "# evaluation metrics\n",
    "from sklearn.metrics import mean_squared_error\n",
    "\n",
    "# statistics models\n",
    "import statsmodels.api as sm\n",
    "from statsmodels.tsa.arima_model import ARIMA\n",
    "from statsmodels.tsa.statespace.sarimax import SARIMAX\n",
    "\n",
    "# libraries to filter warnings in some algorithms\n",
    "import warnings\n",
    "warnings.filterwarnings(\"ignore\")"
   ]
  },
  {
   "cell_type": "markdown",
   "metadata": {},
   "source": [
    "## Load and Prepare Dataset"
   ]
  },
  {
   "cell_type": "code",
   "execution_count": 11,
   "metadata": {},
   "outputs": [],
   "source": [
    "myclient = pymongo.MongoClient(host = '139.162.167.213:27017',username=\"mongo-naascap\",password=\"n44$c4p\")\n",
    "cw = \"?api_key=XRSFO6KHEQC87X8UOYZJ\"\n",
    "\n",
    "ts='6h'\n",
    "market='coinbase-pro'\n",
    "quote='btc'\n",
    "\n",
    "\n",
    "\n",
    "def boxAsset(t,c):\n",
    "    cbp=myclient[\"Spot\"]\n",
    "    bn=cbp.collection_names()\n",
    "    l=[word.split(\"_\")[2] for word in bn if(word.startswith(t+\"_\"+c))]\n",
    "    l.sort()\n",
    "    return l\n",
    "\n",
    "def getAssetClose(t,c,a):\n",
    "    cbp=myclient[\"Spot\"]\n",
    "    db=cbp[t+\"_\"+c+\"_\"+a]\n",
    "    db=pd.DataFrame(list(db.find({},{\"_id\":1,\"close\":1}).sort(\"_id\",-1)))\n",
    "    db.rename(columns={'close':a},inplace=True)\n",
    "    db.index=[(datetime.fromtimestamp(i)) for i in db._id]\n",
    "    return db[a]\n",
    "\n",
    "\n",
    "def getMarketCloses(ts):\n",
    "    assets=boxAsset(ts,market)\n",
    "    closes=[getAssetClose(ts,market,asset) for asset in assets]\n",
    "    data = pd.concat(closes,join='outer',axis=1,sort=False)\n",
    "    date_format = \"%d/%m/%Y\"\n",
    "    date = datetime.strptime('01/01/2020', date_format)\n",
    "    data=data[[date<=dates for dates in data.index]]\n",
    "    return data\n",
    "\n",
    "\n",
    "def getColumns(TT):\n",
    "    df=pd.DataFrame([TT.columns,TT.columns]).T.set_axis(['id', 'name'], axis=1, inplace=False)\n",
    "    L=[0]*(len(df))\n",
    "    for i in (range(len(df))):\n",
    "        L[i]={'id':df[\"id\"][i],'name':df[\"name\"][i]}\n",
    "    return L\n",
    " \n",
    "def listToDropDown(l):\n",
    "    df=pd.DataFrame([l,l]).T.set_axis(['Value', 'Label'], axis=1, inplace=False)\n",
    "    df=df.sort_values(\"Value\").reset_index()\n",
    "    L=[0]*len(df)\n",
    "    for i in range(len(df)):\n",
    "        L[i]={'label':df[\"Label\"][i],'value':df[\"Value\"][i]}\n",
    "    return L\n",
    "\n",
    "\n",
    "\n",
    "\n",
    "def TableBaseFromSymbol():\n",
    "    URL=\"https://api.cryptowat.ch/pairs\"\n",
    "    res = requests.get(URL + cw)\n",
    "    T=json_normalize(json.loads(res.content.decode('utf-8'))[\"result\"])\n",
    "    T=T.loc[:,[\"symbol\",\"base.symbol\",\"quote.symbol\"]]\n",
    "    return T\n",
    "T = TableBaseFromSymbol()\n",
    "def BaseFromSymbol(T,sym):\n",
    "    if(sym in list(T.symbol)):\n",
    "        return T[\"base.symbol\"][T.symbol==sym].iloc[0]\n",
    "\n",
    "def QuoteFromSymbol(T,sym):\n",
    "    if(sym in list(T.symbol)):\n",
    "        return T[\"quote.symbol\"][T.symbol==sym].iloc[0]\n",
    "\n",
    "def getAllAssetCloseByTime(t):\n",
    "    cbp=myclient[\"Spot\"]\n",
    "    bn=cbp.collection_names()\n",
    "    bn=[word for word in bn if(word.split(\"_\")[1]== market and word.split(\"_\")[0]==t)]\n",
    "    df=pd.DataFrame()\n",
    "    l2=[]\n",
    "    l=list(set([word.split(\"_\")[2] for word in bn]))\n",
    "    TT=list(set([BaseFromSymbol(T,i) for i in l if(QuoteFromSymbol(T,i)) == quote]))\n",
    "    for asset in TT:\n",
    "        l1=[word for word in bn if(BaseFromSymbol(T,word.split(\"_\")[2])==asset and QuoteFromSymbol(T,word.split(\"_\")[2]) == quote)]\n",
    "        rr=[pd.DataFrame(list(cbp[i].find({},{ \"_id\": 1, \"close\": 1})),index=pd.DataFrame(list(cbp[i].find({},{ \"_id\": 1})))._id) for i in l1]\n",
    "        data = pd.concat([i[\"close\"] for i in rr],join='outer',axis=1,sort=False)\n",
    "        l2.append(data.mean(axis=1))\n",
    "\n",
    "    df=pd.concat(l2,axis=1)\n",
    "    df.columns=(TT)\n",
    "    df.index=[(datetime.fromtimestamp(i)) for i in df.index]\n",
    "    df = df.fillna(method = \"ffill\")\n",
    "    \n",
    "    return df\n",
    "\n",
    "def getAllAssetVolumeByTime(t):\n",
    "    cbp=myclient[\"Spot\"]\n",
    "    bn=cbp.collection_names()\n",
    "    bn=[word for word in bn if(word.split(\"_\")[1]== market and word.split(\"_\")[0]==t)]\n",
    "    df=pd.DataFrame()\n",
    "    l2=[]\n",
    "    l=list(set([word.split(\"_\")[2] for word in bn]))\n",
    "    TT=list(set([BaseFromSymbol(T,i) for i in l if(QuoteFromSymbol(T,i)) == quote]))\n",
    "    for asset in TT:\n",
    "        l1=[word for word in bn if(BaseFromSymbol(T,word.split(\"_\")[2])==asset and QuoteFromSymbol(T,word.split(\"_\")[2]) == quote)]\n",
    "        rr=[pd.DataFrame(list(cbp[i].find({},{ \"_id\": 1, \"volume_quote\": 1})),index=pd.DataFrame(list(cbp[i].find({},{ \"_id\": 1})))._id) for i in l1]\n",
    "        data = pd.concat([i[\"volume_quote\"] for i in rr],join='outer',axis=1,sort=False)\n",
    "        l2.append(data.mean(axis=1))\n",
    "\n",
    "    df=pd.concat(l2,axis=1)\n",
    "    df.columns=(TT)\n",
    "    df.index=[(datetime.fromtimestamp(i)) for i in df.index]\n",
    "    df = df.fillna(0)\n",
    "    \n",
    "    return df\n"
   ]
  },
  {
   "cell_type": "code",
   "execution_count": 12,
   "metadata": {},
   "outputs": [],
   "source": [
    "market='coinbase-pro' #'kraken'\n",
    "quote='usd' #'btc'\n",
    "ts='1d' # '5m' '2h' '6h' '12h' '1d'\n",
    "df=getAllAssetCloseByTime(ts)\n",
    "df1=getAllAssetVolumeByTime('1d') "
   ]
  },
  {
   "cell_type": "code",
   "execution_count": 13,
   "metadata": {},
   "outputs": [
    {
     "data": {
      "text/html": [
       "<div>\n",
       "<style scoped>\n",
       "    .dataframe tbody tr th:only-of-type {\n",
       "        vertical-align: middle;\n",
       "    }\n",
       "\n",
       "    .dataframe tbody tr th {\n",
       "        vertical-align: top;\n",
       "    }\n",
       "\n",
       "    .dataframe thead th {\n",
       "        text-align: right;\n",
       "    }\n",
       "</style>\n",
       "<table border=\"1\" class=\"dataframe\">\n",
       "  <thead>\n",
       "    <tr style=\"text-align: right;\">\n",
       "      <th></th>\n",
       "      <th>dai</th>\n",
       "      <th>algo</th>\n",
       "      <th>ltc</th>\n",
       "      <th>nmr</th>\n",
       "      <th>oxt</th>\n",
       "      <th>dash</th>\n",
       "      <th>eos</th>\n",
       "      <th>atom</th>\n",
       "      <th>eth</th>\n",
       "      <th>omg</th>\n",
       "      <th>...</th>\n",
       "      <th>knc</th>\n",
       "      <th>etc</th>\n",
       "      <th>zrx</th>\n",
       "      <th>rep</th>\n",
       "      <th>xtz</th>\n",
       "      <th>comp</th>\n",
       "      <th>btc</th>\n",
       "      <th>link</th>\n",
       "      <th>bch</th>\n",
       "      <th>xrp</th>\n",
       "    </tr>\n",
       "  </thead>\n",
       "  <tbody>\n",
       "    <tr>\n",
       "      <th>2020-09-08 01:00:00</th>\n",
       "      <td>1.019672</td>\n",
       "      <td>0.3728</td>\n",
       "      <td>47.83</td>\n",
       "      <td>38.2915</td>\n",
       "      <td>0.3373</td>\n",
       "      <td>69.607</td>\n",
       "      <td>2.887</td>\n",
       "      <td>5.086</td>\n",
       "      <td>349.13</td>\n",
       "      <td>3.8241</td>\n",
       "      <td>...</td>\n",
       "      <td>1.2949</td>\n",
       "      <td>5.740</td>\n",
       "      <td>0.479448</td>\n",
       "      <td>17.39</td>\n",
       "      <td>2.5120</td>\n",
       "      <td>171.40</td>\n",
       "      <td>10222.63</td>\n",
       "      <td>12.59319</td>\n",
       "      <td>228.61</td>\n",
       "      <td>0.2388</td>\n",
       "    </tr>\n",
       "    <tr>\n",
       "      <th>2020-09-09 01:00:00</th>\n",
       "      <td>1.025348</td>\n",
       "      <td>0.3672</td>\n",
       "      <td>48.54</td>\n",
       "      <td>36.8508</td>\n",
       "      <td>0.3352</td>\n",
       "      <td>75.470</td>\n",
       "      <td>2.841</td>\n",
       "      <td>4.955</td>\n",
       "      <td>349.63</td>\n",
       "      <td>3.6162</td>\n",
       "      <td>...</td>\n",
       "      <td>1.2265</td>\n",
       "      <td>5.793</td>\n",
       "      <td>0.454064</td>\n",
       "      <td>16.81</td>\n",
       "      <td>2.5201</td>\n",
       "      <td>179.24</td>\n",
       "      <td>10344.98</td>\n",
       "      <td>12.51014</td>\n",
       "      <td>227.67</td>\n",
       "      <td>0.2417</td>\n",
       "    </tr>\n",
       "    <tr>\n",
       "      <th>2020-09-10 01:00:00</th>\n",
       "      <td>1.021563</td>\n",
       "      <td>0.4188</td>\n",
       "      <td>48.25</td>\n",
       "      <td>37.1212</td>\n",
       "      <td>0.3490</td>\n",
       "      <td>75.865</td>\n",
       "      <td>2.781</td>\n",
       "      <td>5.385</td>\n",
       "      <td>354.84</td>\n",
       "      <td>3.6440</td>\n",
       "      <td>...</td>\n",
       "      <td>1.2303</td>\n",
       "      <td>5.636</td>\n",
       "      <td>0.467675</td>\n",
       "      <td>16.94</td>\n",
       "      <td>2.5487</td>\n",
       "      <td>181.84</td>\n",
       "      <td>10279.75</td>\n",
       "      <td>12.38302</td>\n",
       "      <td>225.50</td>\n",
       "      <td>0.2406</td>\n",
       "    </tr>\n",
       "    <tr>\n",
       "      <th>2020-09-11 01:00:00</th>\n",
       "      <td>1.033173</td>\n",
       "      <td>0.4106</td>\n",
       "      <td>48.37</td>\n",
       "      <td>36.3880</td>\n",
       "      <td>0.3512</td>\n",
       "      <td>75.967</td>\n",
       "      <td>2.766</td>\n",
       "      <td>5.308</td>\n",
       "      <td>366.14</td>\n",
       "      <td>3.8644</td>\n",
       "      <td>...</td>\n",
       "      <td>1.2269</td>\n",
       "      <td>5.621</td>\n",
       "      <td>0.465700</td>\n",
       "      <td>16.90</td>\n",
       "      <td>2.5596</td>\n",
       "      <td>172.26</td>\n",
       "      <td>10308.30</td>\n",
       "      <td>12.47000</td>\n",
       "      <td>226.06</td>\n",
       "      <td>0.2421</td>\n",
       "    </tr>\n",
       "    <tr>\n",
       "      <th>2020-09-12 01:00:00</th>\n",
       "      <td>1.035423</td>\n",
       "      <td>0.4079</td>\n",
       "      <td>48.65</td>\n",
       "      <td>36.5304</td>\n",
       "      <td>0.3558</td>\n",
       "      <td>76.644</td>\n",
       "      <td>2.781</td>\n",
       "      <td>5.325</td>\n",
       "      <td>370.61</td>\n",
       "      <td>3.8488</td>\n",
       "      <td>...</td>\n",
       "      <td>1.2406</td>\n",
       "      <td>5.661</td>\n",
       "      <td>0.476219</td>\n",
       "      <td>16.68</td>\n",
       "      <td>2.5811</td>\n",
       "      <td>173.56</td>\n",
       "      <td>10358.01</td>\n",
       "      <td>12.55072</td>\n",
       "      <td>227.01</td>\n",
       "      <td>0.2434</td>\n",
       "    </tr>\n",
       "  </tbody>\n",
       "</table>\n",
       "<p>5 rows × 23 columns</p>\n",
       "</div>"
      ],
      "text/plain": [
       "                          dai    algo    ltc      nmr     oxt    dash    eos  \\\n",
       "2020-09-08 01:00:00  1.019672  0.3728  47.83  38.2915  0.3373  69.607  2.887   \n",
       "2020-09-09 01:00:00  1.025348  0.3672  48.54  36.8508  0.3352  75.470  2.841   \n",
       "2020-09-10 01:00:00  1.021563  0.4188  48.25  37.1212  0.3490  75.865  2.781   \n",
       "2020-09-11 01:00:00  1.033173  0.4106  48.37  36.3880  0.3512  75.967  2.766   \n",
       "2020-09-12 01:00:00  1.035423  0.4079  48.65  36.5304  0.3558  76.644  2.781   \n",
       "\n",
       "                      atom     eth     omg  ...     knc    etc       zrx  \\\n",
       "2020-09-08 01:00:00  5.086  349.13  3.8241  ...  1.2949  5.740  0.479448   \n",
       "2020-09-09 01:00:00  4.955  349.63  3.6162  ...  1.2265  5.793  0.454064   \n",
       "2020-09-10 01:00:00  5.385  354.84  3.6440  ...  1.2303  5.636  0.467675   \n",
       "2020-09-11 01:00:00  5.308  366.14  3.8644  ...  1.2269  5.621  0.465700   \n",
       "2020-09-12 01:00:00  5.325  370.61  3.8488  ...  1.2406  5.661  0.476219   \n",
       "\n",
       "                       rep     xtz    comp       btc      link     bch     xrp  \n",
       "2020-09-08 01:00:00  17.39  2.5120  171.40  10222.63  12.59319  228.61  0.2388  \n",
       "2020-09-09 01:00:00  16.81  2.5201  179.24  10344.98  12.51014  227.67  0.2417  \n",
       "2020-09-10 01:00:00  16.94  2.5487  181.84  10279.75  12.38302  225.50  0.2406  \n",
       "2020-09-11 01:00:00  16.90  2.5596  172.26  10308.30  12.47000  226.06  0.2421  \n",
       "2020-09-12 01:00:00  16.68  2.5811  173.56  10358.01  12.55072  227.01  0.2434  \n",
       "\n",
       "[5 rows x 23 columns]"
      ]
     },
     "execution_count": 13,
     "metadata": {},
     "output_type": "execute_result"
    }
   ],
   "source": [
    "df.tail()"
   ]
  },
  {
   "cell_type": "code",
   "execution_count": 14,
   "metadata": {},
   "outputs": [
    {
     "data": {
      "text/html": [
       "<div>\n",
       "<style scoped>\n",
       "    .dataframe tbody tr th:only-of-type {\n",
       "        vertical-align: middle;\n",
       "    }\n",
       "\n",
       "    .dataframe tbody tr th {\n",
       "        vertical-align: top;\n",
       "    }\n",
       "\n",
       "    .dataframe thead th {\n",
       "        text-align: right;\n",
       "    }\n",
       "</style>\n",
       "<table border=\"1\" class=\"dataframe\">\n",
       "  <thead>\n",
       "    <tr style=\"text-align: right;\">\n",
       "      <th></th>\n",
       "      <th>dai</th>\n",
       "      <th>algo</th>\n",
       "      <th>ltc</th>\n",
       "      <th>nmr</th>\n",
       "      <th>oxt</th>\n",
       "      <th>dash</th>\n",
       "      <th>eos</th>\n",
       "      <th>atom</th>\n",
       "      <th>eth</th>\n",
       "      <th>omg</th>\n",
       "      <th>...</th>\n",
       "      <th>knc</th>\n",
       "      <th>etc</th>\n",
       "      <th>zrx</th>\n",
       "      <th>rep</th>\n",
       "      <th>xtz</th>\n",
       "      <th>comp</th>\n",
       "      <th>btc</th>\n",
       "      <th>link</th>\n",
       "      <th>bch</th>\n",
       "      <th>xrp</th>\n",
       "    </tr>\n",
       "  </thead>\n",
       "  <tbody>\n",
       "    <tr>\n",
       "      <th>2020-09-08 01:00:00</th>\n",
       "      <td>3.140470e+05</td>\n",
       "      <td>1.295425e+06</td>\n",
       "      <td>8.623307e+05</td>\n",
       "      <td>150831.032129</td>\n",
       "      <td>1.120047e+06</td>\n",
       "      <td>43326.782064</td>\n",
       "      <td>9.851579e+04</td>\n",
       "      <td>2.469572e+05</td>\n",
       "      <td>8.406784e+06</td>\n",
       "      <td>1.175022e+06</td>\n",
       "      <td>...</td>\n",
       "      <td>9.339515e+05</td>\n",
       "      <td>145975.352240</td>\n",
       "      <td>6.154111e+05</td>\n",
       "      <td>46419.892948</td>\n",
       "      <td>1.283517e+06</td>\n",
       "      <td>9.967692e+05</td>\n",
       "      <td>9.923039e+06</td>\n",
       "      <td>1.175999e+07</td>\n",
       "      <td>7.750499e+05</td>\n",
       "      <td>1.917426e+06</td>\n",
       "    </tr>\n",
       "    <tr>\n",
       "      <th>2020-09-09 01:00:00</th>\n",
       "      <td>1.675258e+05</td>\n",
       "      <td>2.805708e+05</td>\n",
       "      <td>2.861999e+05</td>\n",
       "      <td>56996.377093</td>\n",
       "      <td>2.332074e+05</td>\n",
       "      <td>58675.462957</td>\n",
       "      <td>6.071682e+04</td>\n",
       "      <td>6.834835e+04</td>\n",
       "      <td>5.588346e+06</td>\n",
       "      <td>5.446918e+05</td>\n",
       "      <td>...</td>\n",
       "      <td>1.258419e+05</td>\n",
       "      <td>16545.642032</td>\n",
       "      <td>9.508218e+04</td>\n",
       "      <td>31397.419326</td>\n",
       "      <td>2.086521e+05</td>\n",
       "      <td>3.385864e+05</td>\n",
       "      <td>7.416860e+06</td>\n",
       "      <td>2.648246e+06</td>\n",
       "      <td>3.319452e+05</td>\n",
       "      <td>4.144094e+05</td>\n",
       "    </tr>\n",
       "    <tr>\n",
       "      <th>2020-09-10 01:00:00</th>\n",
       "      <td>1.592770e+06</td>\n",
       "      <td>1.473162e+07</td>\n",
       "      <td>4.891587e+06</td>\n",
       "      <td>533278.100098</td>\n",
       "      <td>4.117442e+06</td>\n",
       "      <td>491281.713939</td>\n",
       "      <td>1.072104e+06</td>\n",
       "      <td>2.674876e+06</td>\n",
       "      <td>4.761197e+07</td>\n",
       "      <td>8.911870e+06</td>\n",
       "      <td>...</td>\n",
       "      <td>2.445544e+06</td>\n",
       "      <td>526228.724388</td>\n",
       "      <td>1.208039e+06</td>\n",
       "      <td>464416.328011</td>\n",
       "      <td>5.114934e+06</td>\n",
       "      <td>2.385073e+06</td>\n",
       "      <td>8.292088e+07</td>\n",
       "      <td>2.888989e+07</td>\n",
       "      <td>3.487165e+06</td>\n",
       "      <td>8.254004e+06</td>\n",
       "    </tr>\n",
       "    <tr>\n",
       "      <th>2020-09-11 01:00:00</th>\n",
       "      <td>2.270688e+06</td>\n",
       "      <td>1.767153e+07</td>\n",
       "      <td>5.514637e+06</td>\n",
       "      <td>843991.844074</td>\n",
       "      <td>5.317704e+06</td>\n",
       "      <td>354448.428164</td>\n",
       "      <td>1.090775e+06</td>\n",
       "      <td>1.481875e+06</td>\n",
       "      <td>7.424194e+07</td>\n",
       "      <td>1.441989e+07</td>\n",
       "      <td>...</td>\n",
       "      <td>4.498740e+06</td>\n",
       "      <td>821383.016116</td>\n",
       "      <td>2.067787e+06</td>\n",
       "      <td>470407.884118</td>\n",
       "      <td>4.734578e+06</td>\n",
       "      <td>2.916679e+06</td>\n",
       "      <td>1.060016e+08</td>\n",
       "      <td>4.461720e+07</td>\n",
       "      <td>3.805004e+06</td>\n",
       "      <td>1.154592e+07</td>\n",
       "    </tr>\n",
       "    <tr>\n",
       "      <th>2020-09-12 01:00:00</th>\n",
       "      <td>2.895372e+06</td>\n",
       "      <td>1.749656e+05</td>\n",
       "      <td>1.471721e+05</td>\n",
       "      <td>501770.541020</td>\n",
       "      <td>6.530216e+04</td>\n",
       "      <td>22225.356481</td>\n",
       "      <td>1.499479e+04</td>\n",
       "      <td>3.508021e+04</td>\n",
       "      <td>1.422747e+06</td>\n",
       "      <td>6.520381e+06</td>\n",
       "      <td>...</td>\n",
       "      <td>3.055789e+04</td>\n",
       "      <td>10816.376658</td>\n",
       "      <td>6.116874e+04</td>\n",
       "      <td>3472.645922</td>\n",
       "      <td>2.694686e+05</td>\n",
       "      <td>4.833785e+06</td>\n",
       "      <td>1.827527e+06</td>\n",
       "      <td>5.629779e+05</td>\n",
       "      <td>1.362620e+05</td>\n",
       "      <td>3.076889e+05</td>\n",
       "    </tr>\n",
       "  </tbody>\n",
       "</table>\n",
       "<p>5 rows × 23 columns</p>\n",
       "</div>"
      ],
      "text/plain": [
       "                              dai          algo           ltc            nmr  \\\n",
       "2020-09-08 01:00:00  3.140470e+05  1.295425e+06  8.623307e+05  150831.032129   \n",
       "2020-09-09 01:00:00  1.675258e+05  2.805708e+05  2.861999e+05   56996.377093   \n",
       "2020-09-10 01:00:00  1.592770e+06  1.473162e+07  4.891587e+06  533278.100098   \n",
       "2020-09-11 01:00:00  2.270688e+06  1.767153e+07  5.514637e+06  843991.844074   \n",
       "2020-09-12 01:00:00  2.895372e+06  1.749656e+05  1.471721e+05  501770.541020   \n",
       "\n",
       "                              oxt           dash           eos          atom  \\\n",
       "2020-09-08 01:00:00  1.120047e+06   43326.782064  9.851579e+04  2.469572e+05   \n",
       "2020-09-09 01:00:00  2.332074e+05   58675.462957  6.071682e+04  6.834835e+04   \n",
       "2020-09-10 01:00:00  4.117442e+06  491281.713939  1.072104e+06  2.674876e+06   \n",
       "2020-09-11 01:00:00  5.317704e+06  354448.428164  1.090775e+06  1.481875e+06   \n",
       "2020-09-12 01:00:00  6.530216e+04   22225.356481  1.499479e+04  3.508021e+04   \n",
       "\n",
       "                              eth           omg  ...           knc  \\\n",
       "2020-09-08 01:00:00  8.406784e+06  1.175022e+06  ...  9.339515e+05   \n",
       "2020-09-09 01:00:00  5.588346e+06  5.446918e+05  ...  1.258419e+05   \n",
       "2020-09-10 01:00:00  4.761197e+07  8.911870e+06  ...  2.445544e+06   \n",
       "2020-09-11 01:00:00  7.424194e+07  1.441989e+07  ...  4.498740e+06   \n",
       "2020-09-12 01:00:00  1.422747e+06  6.520381e+06  ...  3.055789e+04   \n",
       "\n",
       "                               etc           zrx            rep           xtz  \\\n",
       "2020-09-08 01:00:00  145975.352240  6.154111e+05   46419.892948  1.283517e+06   \n",
       "2020-09-09 01:00:00   16545.642032  9.508218e+04   31397.419326  2.086521e+05   \n",
       "2020-09-10 01:00:00  526228.724388  1.208039e+06  464416.328011  5.114934e+06   \n",
       "2020-09-11 01:00:00  821383.016116  2.067787e+06  470407.884118  4.734578e+06   \n",
       "2020-09-12 01:00:00   10816.376658  6.116874e+04    3472.645922  2.694686e+05   \n",
       "\n",
       "                             comp           btc          link           bch  \\\n",
       "2020-09-08 01:00:00  9.967692e+05  9.923039e+06  1.175999e+07  7.750499e+05   \n",
       "2020-09-09 01:00:00  3.385864e+05  7.416860e+06  2.648246e+06  3.319452e+05   \n",
       "2020-09-10 01:00:00  2.385073e+06  8.292088e+07  2.888989e+07  3.487165e+06   \n",
       "2020-09-11 01:00:00  2.916679e+06  1.060016e+08  4.461720e+07  3.805004e+06   \n",
       "2020-09-12 01:00:00  4.833785e+06  1.827527e+06  5.629779e+05  1.362620e+05   \n",
       "\n",
       "                              xrp  \n",
       "2020-09-08 01:00:00  1.917426e+06  \n",
       "2020-09-09 01:00:00  4.144094e+05  \n",
       "2020-09-10 01:00:00  8.254004e+06  \n",
       "2020-09-11 01:00:00  1.154592e+07  \n",
       "2020-09-12 01:00:00  3.076889e+05  \n",
       "\n",
       "[5 rows x 23 columns]"
      ]
     },
     "execution_count": 14,
     "metadata": {},
     "output_type": "execute_result"
    }
   ],
   "source": [
    "df1.tail()"
   ]
  },
  {
   "cell_type": "code",
   "execution_count": 15,
   "metadata": {},
   "outputs": [
    {
     "data": {
      "text/plain": [
       "47288"
      ]
     },
     "execution_count": 15,
     "metadata": {},
     "output_type": "execute_result"
    }
   ],
   "source": [
    "df1.size"
   ]
  },
  {
   "cell_type": "code",
   "execution_count": 16,
   "metadata": {},
   "outputs": [],
   "source": [
    "def get_Volume_data(df1,ch):\n",
    "    df=df1[[ch]]\n",
    "    x=len(df)%7 \n",
    "    df=df.drop(df.index[0:x])\n",
    "    return df"
   ]
  },
  {
   "cell_type": "code",
   "execution_count": 17,
   "metadata": {},
   "outputs": [],
   "source": [
    "dataset= get_Volume_data(df1,'btc')"
   ]
  },
  {
   "cell_type": "code",
   "execution_count": 18,
   "metadata": {},
   "outputs": [
    {
     "data": {
      "text/html": [
       "<div>\n",
       "<style scoped>\n",
       "    .dataframe tbody tr th:only-of-type {\n",
       "        vertical-align: middle;\n",
       "    }\n",
       "\n",
       "    .dataframe tbody tr th {\n",
       "        vertical-align: top;\n",
       "    }\n",
       "\n",
       "    .dataframe thead th {\n",
       "        text-align: right;\n",
       "    }\n",
       "</style>\n",
       "<table border=\"1\" class=\"dataframe\">\n",
       "  <thead>\n",
       "    <tr style=\"text-align: right;\">\n",
       "      <th></th>\n",
       "      <th>btc</th>\n",
       "    </tr>\n",
       "  </thead>\n",
       "  <tbody>\n",
       "    <tr>\n",
       "      <th>2015-02-01 01:00:00</th>\n",
       "      <td>0.0</td>\n",
       "    </tr>\n",
       "    <tr>\n",
       "      <th>2015-02-02 01:00:00</th>\n",
       "      <td>0.0</td>\n",
       "    </tr>\n",
       "    <tr>\n",
       "      <th>2015-02-03 01:00:00</th>\n",
       "      <td>0.0</td>\n",
       "    </tr>\n",
       "    <tr>\n",
       "      <th>2015-02-04 01:00:00</th>\n",
       "      <td>0.0</td>\n",
       "    </tr>\n",
       "    <tr>\n",
       "      <th>2015-02-05 01:00:00</th>\n",
       "      <td>0.0</td>\n",
       "    </tr>\n",
       "  </tbody>\n",
       "</table>\n",
       "</div>"
      ],
      "text/plain": [
       "                     btc\n",
       "2015-02-01 01:00:00  0.0\n",
       "2015-02-02 01:00:00  0.0\n",
       "2015-02-03 01:00:00  0.0\n",
       "2015-02-04 01:00:00  0.0\n",
       "2015-02-05 01:00:00  0.0"
      ]
     },
     "execution_count": 18,
     "metadata": {},
     "output_type": "execute_result"
    }
   ],
   "source": [
    "dataset.head()"
   ]
  },
  {
   "cell_type": "code",
   "execution_count": 19,
   "metadata": {},
   "outputs": [
    {
     "data": {
      "text/plain": [
       "2051"
      ]
     },
     "execution_count": 19,
     "metadata": {},
     "output_type": "execute_result"
    }
   ],
   "source": [
    "dataset.size"
   ]
  },
  {
   "cell_type": "code",
   "execution_count": 47,
   "metadata": {},
   "outputs": [],
   "source": [
    "dataset.to_csv('data.csv')"
   ]
  },
  {
   "cell_type": "code",
   "execution_count": 20,
   "metadata": {},
   "outputs": [
    {
     "name": "stdout",
     "output_type": "stream",
     "text": [
      "2015-12-31    334\n",
      "2016-12-31    366\n",
      "2017-12-31    365\n",
      "2018-12-31    365\n",
      "2019-12-31    365\n",
      "2020-12-31    256\n",
      "Freq: A-DEC, Name: btc, dtype: int64\n",
      "\n",
      "Shape of the dataset : (2051, 1)\n",
      "\n",
      "First rows of the dataset :                      btc\n",
      "2015-02-01 01:00:00  0.0\n",
      "2015-02-02 01:00:00  0.0\n",
      "2015-02-03 01:00:00  0.0\n",
      "2015-02-04 01:00:00  0.0\n",
      "2015-02-05 01:00:00  0.0\n",
      "\n",
      "Statistics on the dataset :                 btc\n",
      "count  2.051000e+03\n",
      "mean   5.880900e+07\n",
      "std    1.108376e+08\n",
      "min    0.000000e+00\n",
      "25%    0.000000e+00\n",
      "50%    3.304930e+05\n",
      "75%    7.698646e+07\n",
      "max    1.396135e+09\n"
     ]
    }
   ],
   "source": [
    "# fill all NaN values with some particular value\n",
    "dataset.fillna(0, inplace=True)\n",
    "\n",
    "name_coin = 'btc'\n",
    "\n",
    "# look at the values of the dataset\n",
    "values = dataset.values\n",
    "\n",
    "# Counting number of days per year\n",
    "count_yearly_days =dataset[name_coin].resample(\"Y\").count()\n",
    "print(count_yearly_days)\n",
    "print()\n",
    "\n",
    "# summarize dataset\n",
    "print(\"Shape of the dataset :\", dataset.shape)\n",
    "print()\n",
    "print(\"First rows of the dataset :\", dataset.head())\n",
    "print()\n",
    "print(\"Statistics on the dataset :\",dataset.describe())\n",
    "\n",
    "\n",
    "\n",
    "# definition of a series from the values of the dataframe\n",
    "series = pd.Series(values[:,0])\n",
    "series.index = dataset.index\n",
    "series.index.name = 'date'\n"
   ]
  },
  {
   "cell_type": "markdown",
   "metadata": {},
   "source": [
    "## Time Series Data Visualization\n",
    "\n",
    "<p style=\"text-align: justify\">Then a series of curves can be plotted to visualize the dataset and understand if the data answers to a particular behaviour. The first type of plot visualization for time series is the line plot, which is done below for the evolution of the price with time. It can be seen that the price increased substantially since 2017, which is the year where most people became aware of cryptocurrencies. To have a better insight of the price evolution, we can plot the time series after taking its logarithm transformation. A <em>log</em> transformation is often used in order to turn a time series <a href=\"https://en.wikipedia.org/wiki/Stationary_process\">stationary</a>, which is often required for analysis. In our case, the time series is not stationary which may require some differencing, and transformation operations.</p>\n",
    "\n",
    "\n",
    "<p style=\"text-align: justify\">Another type of plot that is useful to summarize the distribution of observations is the box and whisker plot. From the whiskers plot below, we can see the disparity in data with years. The first 3 years have much smaller values, and are almost insignificant compared to the values in 2017 and 2018. In some analysis, the first years would be considered as outliers, however here as the data available is not enough it is important to keep these years. Also, as seen on the log-log plot of the time series, some recurrent behaviour is seen, such as cycles with a big increase of the coin value in 2017 as explained above.</p>\n"
   ]
  },
  {
   "cell_type": "code",
   "execution_count": 50,
   "metadata": {},
   "outputs": [
    {
     "data": {
      "image/png": "[encoded data removed]",
      "text/plain": [
       "<Figure size 432x288 with 1 Axes>"
      ]
     },
     "metadata": {
      "needs_background": "light"
     },
     "output_type": "display_data"
    },
    {
     "data": {
      "image/png": "[encoded data removed]",
      "text/plain": [
       "<Figure size 432x288 with 1 Axes>"
      ]
     },
     "metadata": {
      "needs_background": "light"
     },
     "output_type": "display_data"
    },
    {
     "data": {
      "image/png": "[encoded data removed]",
      "text/plain": [
       "<Figure size 432x288 with 2 Axes>"
      ]
     },
     "metadata": {
      "needs_background": "light"
     },
     "output_type": "display_data"
    },
    {
     "data": {
      "image/png": "[encoded data removed]",
      "text/plain": [
       "<Figure size 432x288 with 1 Axes>"
      ]
     },
     "metadata": {
      "needs_background": "light"
     },
     "output_type": "display_data"
    }
   ],
   "source": [
    "\n",
    "# plot the series against time\n",
    "series.plot()\n",
    "plt.ylabel('Price ($USD)')\n",
    "plt.xlabel('Date')\n",
    "plt.title('Evolution of BTC price with Time')\n",
    "plt.show()\n",
    "\n",
    "# plot the log of the time series against time\n",
    "series.plot(loglog=True)\n",
    "plt.ylabel('Price ($USD)')\n",
    "plt.xlabel('Date')\n",
    "plt.title('Evolution of Log(BTC price) with Time')\n",
    "plt.show()\n",
    "\n",
    "# density plot\n",
    "plt.figure()\n",
    "plt.suptitle('BTC price distribution')\n",
    "plt.subplot(211)\n",
    "plt.xlabel('Price ($USD)')\n",
    "plt.ylabel('Counts')\n",
    "series.hist()\n",
    "plt.subplot(212)\n",
    "plt.xlabel('Price ($USD)')\n",
    "series.plot(kind='kde')\n",
    "plt.show()\n",
    "\n",
    "# Box and Whisker plots\n",
    "groups = series['2013':'2020'].groupby(pd.Grouper(freq='Y'))\n",
    "\n",
    "years_df = list()\n",
    "for name, group in groups:\n",
    "    df = pd.DataFrame()\n",
    "    df[name.year] = group.values\n",
    "    years_df.append(df)\n",
    "# concatenate the columns of the different coins and save the dataset to a csv file\n",
    "years = pd.concat(years_df, axis = 1, sort=False)\n",
    "\n",
    "years.boxplot()\n",
    "plt.show()"
   ]
  },
  {
   "cell_type": "code",
   "execution_count": 52,
   "metadata": {},
   "outputs": [
    {
     "data": {
      "text/html": [
       "<div>\n",
       "<style scoped>\n",
       "    .dataframe tbody tr th:only-of-type {\n",
       "        vertical-align: middle;\n",
       "    }\n",
       "\n",
       "    .dataframe tbody tr th {\n",
       "        vertical-align: top;\n",
       "    }\n",
       "\n",
       "    .dataframe thead th {\n",
       "        text-align: right;\n",
       "    }\n",
       "</style>\n",
       "<table border=\"1\" class=\"dataframe\">\n",
       "  <thead>\n",
       "    <tr style=\"text-align: right;\">\n",
       "      <th></th>\n",
       "      <th>2015</th>\n",
       "      <th>2016</th>\n",
       "      <th>2017</th>\n",
       "      <th>2018</th>\n",
       "      <th>2019</th>\n",
       "      <th>2020</th>\n",
       "    </tr>\n",
       "  </thead>\n",
       "  <tbody>\n",
       "    <tr>\n",
       "      <th>0</th>\n",
       "      <td>0.0</td>\n",
       "      <td>0.0</td>\n",
       "      <td>0.0</td>\n",
       "      <td>2.504745e+08</td>\n",
       "      <td>4.783497e+07</td>\n",
       "      <td>4.855759e+07</td>\n",
       "    </tr>\n",
       "    <tr>\n",
       "      <th>1</th>\n",
       "      <td>0.0</td>\n",
       "      <td>0.0</td>\n",
       "      <td>0.0</td>\n",
       "      <td>1.649921e+08</td>\n",
       "      <td>4.012372e+07</td>\n",
       "      <td>2.411076e+07</td>\n",
       "    </tr>\n",
       "    <tr>\n",
       "      <th>2</th>\n",
       "      <td>0.0</td>\n",
       "      <td>0.0</td>\n",
       "      <td>0.0</td>\n",
       "      <td>3.732950e+08</td>\n",
       "      <td>3.827962e+07</td>\n",
       "      <td>5.624828e+07</td>\n",
       "    </tr>\n",
       "    <tr>\n",
       "      <th>3</th>\n",
       "      <td>0.0</td>\n",
       "      <td>0.0</td>\n",
       "      <td>0.0</td>\n",
       "      <td>2.673920e+08</td>\n",
       "      <td>3.568759e+07</td>\n",
       "      <td>1.015992e+08</td>\n",
       "    </tr>\n",
       "    <tr>\n",
       "      <th>4</th>\n",
       "      <td>0.0</td>\n",
       "      <td>0.0</td>\n",
       "      <td>0.0</td>\n",
       "      <td>2.960367e+08</td>\n",
       "      <td>3.491539e+07</td>\n",
       "      <td>3.473288e+07</td>\n",
       "    </tr>\n",
       "    <tr>\n",
       "      <th>...</th>\n",
       "      <td>...</td>\n",
       "      <td>...</td>\n",
       "      <td>...</td>\n",
       "      <td>...</td>\n",
       "      <td>...</td>\n",
       "      <td>...</td>\n",
       "    </tr>\n",
       "    <tr>\n",
       "      <th>361</th>\n",
       "      <td>NaN</td>\n",
       "      <td>0.0</td>\n",
       "      <td>381219940.0</td>\n",
       "      <td>4.957087e+07</td>\n",
       "      <td>6.098717e+07</td>\n",
       "      <td>NaN</td>\n",
       "    </tr>\n",
       "    <tr>\n",
       "      <th>362</th>\n",
       "      <td>NaN</td>\n",
       "      <td>0.0</td>\n",
       "      <td>445687140.0</td>\n",
       "      <td>6.352086e+07</td>\n",
       "      <td>3.374984e+07</td>\n",
       "      <td>NaN</td>\n",
       "    </tr>\n",
       "    <tr>\n",
       "      <th>363</th>\n",
       "      <td>NaN</td>\n",
       "      <td>0.0</td>\n",
       "      <td>269485500.0</td>\n",
       "      <td>3.776146e+07</td>\n",
       "      <td>4.853371e+07</td>\n",
       "      <td>NaN</td>\n",
       "    </tr>\n",
       "    <tr>\n",
       "      <th>364</th>\n",
       "      <td>NaN</td>\n",
       "      <td>0.0</td>\n",
       "      <td>384533860.0</td>\n",
       "      <td>3.307405e+07</td>\n",
       "      <td>5.351703e+07</td>\n",
       "      <td>NaN</td>\n",
       "    </tr>\n",
       "    <tr>\n",
       "      <th>365</th>\n",
       "      <td>NaN</td>\n",
       "      <td>0.0</td>\n",
       "      <td>NaN</td>\n",
       "      <td>NaN</td>\n",
       "      <td>NaN</td>\n",
       "      <td>NaN</td>\n",
       "    </tr>\n",
       "  </tbody>\n",
       "</table>\n",
       "<p>366 rows × 6 columns</p>\n",
       "</div>"
      ],
      "text/plain": [
       "     2015  2016         2017          2018          2019          2020\n",
       "0     0.0   0.0          0.0  2.504745e+08  4.783497e+07  4.855759e+07\n",
       "1     0.0   0.0          0.0  1.649921e+08  4.012372e+07  2.411076e+07\n",
       "2     0.0   0.0          0.0  3.732950e+08  3.827962e+07  5.624828e+07\n",
       "3     0.0   0.0          0.0  2.673920e+08  3.568759e+07  1.015992e+08\n",
       "4     0.0   0.0          0.0  2.960367e+08  3.491539e+07  3.473288e+07\n",
       "..    ...   ...          ...           ...           ...           ...\n",
       "361   NaN   0.0  381219940.0  4.957087e+07  6.098717e+07           NaN\n",
       "362   NaN   0.0  445687140.0  6.352086e+07  3.374984e+07           NaN\n",
       "363   NaN   0.0  269485500.0  3.776146e+07  4.853371e+07           NaN\n",
       "364   NaN   0.0  384533860.0  3.307405e+07  5.351703e+07           NaN\n",
       "365   NaN   0.0          NaN           NaN           NaN           NaN\n",
       "\n",
       "[366 rows x 6 columns]"
      ]
     },
     "execution_count": 52,
     "metadata": {},
     "output_type": "execute_result"
    }
   ],
   "source": [
    "years"
   ]
  },
  {
   "cell_type": "markdown",
   "metadata": {},
   "source": [
    "## Autocorrelation Analysis\n",
    "\n",
    "\n",
    "<p style=\"text-align: justify\">We can clearly see a familiar autoregression pattern across the two plots. This pattern is comprised of two elements:</p>\n",
    "\n",
    "<ul>\n",
    "<li><strong>ACF</strong>: A large number of significant lag observations that slowly degrade as the lag increases.</li>\n",
    "<li><strong>PACF</strong>: A few significant lag observations that abruptly drop as the lag increases.</li>\n",
    "</ul>\n",
    "\n",
    "<p style=\"text-align: justify\">The ACF plot indicates that there is a strong autocorrelation component, whereas the PACF plot indicates that this component is distinct for the first approximately two lag observations. However, most of the lags are out of the interval of confidence, and it is difficult to characterize the current plot.</p>"
   ]
  },
  {
   "cell_type": "code",
   "execution_count": 22,
   "metadata": {},
   "outputs": [
    {
     "data": {
      "image/png": "[encoded data removed]",
      "text/plain": [
       "<Figure size 576x576 with 2 Axes>"
      ]
     },
     "metadata": {
      "needs_background": "light"
     },
     "output_type": "display_data"
    }
   ],
   "source": [
    "# plot Autocorrelation and Partial ACF plots\n",
    "fig, (ax1, ax2) = plt.subplots(nrows=2, ncols=1, figsize = (8,8))\n",
    "plot_acf(series, lags =100, ax = ax1)\n",
    "plot_pacf(series, lags =50, ax = ax2)\n",
    "plt.show()"
   ]
  },
  {
   "cell_type": "markdown",
   "metadata": {},
   "source": [
    "## Augmented Dickey-Fuller test\n",
    "\n",
    "\n",
    "<p style=\"text-align: justify\">The <a href=\"https://en.wikipedia.org/wiki/Augmented_Dickey%E2%80%93Fuller_test\">Augmented Dickey-Fuller test</a> is a type of statistical test called a <a href=\"https://en.wikipedia.org/wiki/Unit_root_test\">unit root test</a>.</p>\n",
    "\n",
    "<p style=\"text-align: justify\">The intuition behind a unit root test is that it determines how strongly a time series is defined by a trend.</p>\n",
    "\n",
    "\n",
    "\n",
    "<ul>\n",
    "<li><strong>Null Hypothesis (H0)</strong>: If failed to be rejected, it suggests the time series has a unit root, meaning it is non-stationary. It has some time dependent structure.</li>\n",
    "<li><strong>Alternate Hypothesis (H1)</strong>: The null hypothesis is rejected; it suggests the time series does not have a unit root, meaning it is stationary. It does not have time-dependent structure.</li>\n",
    "</ul>\n",
    "\n",
    "<ul>\n",
    "<li><strong>p-value &gt; 0.05</strong>: Fail to reject the null hypothesis (H0), the data has a unit root and is non-stationary.</li>\n",
    "<li><strong>p-value &lt;= 0.05</strong>: Reject the null hypothesis (H0), the data does not have a unit root and is stationary.</li>\n",
    "</ul>\n"
   ]
  },
  {
   "cell_type": "code",
   "execution_count": 23,
   "metadata": {},
   "outputs": [
    {
     "name": "stdout",
     "output_type": "stream",
     "text": [
      "ADF Statistic: -4.209850\n",
      "p-value: 0.000634\n",
      "Critical Values:\n",
      "\t1%: -3.434\n",
      "\t5%: -2.863\n",
      "\t10%: -2.568\n"
     ]
    }
   ],
   "source": [
    "# check if stationary\n",
    "result = adfuller(series)\n",
    "print('ADF Statistic: %f' % result[0])\n",
    "print('p-value: %f' % result[1])\n",
    "print('Critical Values:')\n",
    "for key, value in result[4].items():\n",
    "\tprint('\\t%s: %.3f' % (key, value))"
   ]
  },
  {
   "cell_type": "markdown",
   "metadata": {},
   "source": [
    "\n",
    "\n",
    "<p style=\"text-align: justify\">The results show that the test statistic value -4.179191 is smaller than the critical value at 5% of -2.863. This suggests that we can reject the null hypothesis with a significance level of less than 5% (i.e. a low probability that the result is a statistical fluke).</p>\n",
    "\n",
    "<p style=\"text-align: justify\">Rejecting the null hypothesis means that the process has no unit root, and in turn that the time series is stationary or does not have time-dependent structure. Interestingly, the current time series can be considered stationary, when it doesn't seem to be so. This implies that no differencing operation will be required for analysis with the different models.</p>"
   ]
  },
  {
   "cell_type": "markdown",
   "metadata": {},
   "source": [
    "## Evaluation metric\n",
    "\n",
    "<p style=\"text-align: justify\">A forecast will be comprised of seven values, one for each day of the week ahead.</p>\n",
    "\n",
    "<p style=\"text-align: justify\">Both <a href=\"https://en.wikipedia.org/wiki/Root-mean-square_deviation\">Root Mean Squared Error (RMSE)</a> and <a href=\"https://en.wikipedia.org/wiki/Mean_absolute_error\">Mean Absolute Error (MAE)</a> can be used to quantify the errors in price prediction (USD), although RMSE is more commonly used and will be adopted. Unlike MAE, RMSE is more punishing of forecast errors.</p>\n",
    "<p style=\"text-align: justify\">The performance metric for this problem will be the RMSE for each lead time from day 1 to day 7. In this way, we can see how the chosen algorithms perform on the predictions at a particular day of the week. The cryptocurrency market is quite volatile, and may have a different behaviour depending on the period of the week (weekdays or weekend for instance).</p>\n",
    "<p style=\"text-align: justify\">As a short-cut, it may be useful to summarize the performance of a model using a single score in order to help in model selection. One possible score that could be used would be the RMSE across all forecast days.</p>\n",
    "\n",
    "<p style=\"text-align: justify\">The function <i>evaluate_forecasts()</i> below will implement this behavior and return the performance of a model based on multiple seven-day forecasts.</p>\n"
   ]
  },
  {
   "cell_type": "code",
   "execution_count": 24,
   "metadata": {},
   "outputs": [],
   "source": [
    "# evaluate one or more weekly forecasts against expected values\n",
    "def evaluate_forecasts(actual, predicted):\n",
    "    scores = list()\n",
    "    # calculate an RMSE score for each day\n",
    "    for i in range(actual.shape[1]):\n",
    "        # calculate mse\n",
    "        mse = mean_squared_error(actual[:, i], predicted[:, i])\n",
    "        # calculate rmse\n",
    "        rmse = sqrt(mse)\n",
    "        # store\n",
    "        scores.append(rmse)\n",
    "    # calculate overall RMSE\n",
    "    s = 0\n",
    "    for row in range(actual.shape[0]):\n",
    "        for col in range(actual.shape[1]):\n",
    "            s += (actual[row, col] - predicted[row, col])**2\n",
    "    score = sqrt(s / (actual.shape[0] * actual.shape[1]))\n",
    "    return score, scores"
   ]
  },
  {
   "cell_type": "markdown",
   "metadata": {},
   "source": [
    "<p style=\"text-align: justify\">Running the function will first return the overall RMSE regardless of day, then an array of RMSE scores for each day.</p>\n",
    "\n",
    "## Train and Test Sets\n",
    "\n",
    "<p style=\"text-align: justify\">We will split the data into standard weeks, working backwards from the test dataset. This gives 180 weeks of data for the training set and 109 weeks (763 days) for the testing set.</p>\n",
    "\n",
    "<p style=\"text-align: justify\">The function <em>split_dataset()</em> below splits the daily data into train and test sets and organizes each into standard weeks. The \"<i>n_test</i>\" argument corresponds to the number of days (714 in this study), to cut the data backwards.</p>"
   ]
  },
  {
   "cell_type": "code",
   "execution_count": 25,
   "metadata": {},
   "outputs": [
    {
     "name": "stdout",
     "output_type": "stream",
     "text": [
      "Training dataset shape : (176, 7, 1)\n",
      "First row : [0.] ; Last row : [45929730.]\n",
      "Testing dataset shape : (117, 7, 1)\n",
      "First row : [29184908.] ; Last row : [1827527.35050667]\n"
     ]
    }
   ],
   "source": [
    "# split a univariate dataset into train/test sets\n",
    "def split_dataset(data, n_test):\n",
    "    # split into standard weeks\n",
    "    train, test = data[0:-n_test], data[-n_test:]\n",
    "    # restructure into windows of weekly data\n",
    "    train = np.array(np.split(train, len(train)/7))\n",
    "    test = np.array(np.split(test, len(test)/7))\n",
    "    return train, test\n",
    "\n",
    "# testing the procedure on the current data\n",
    "n_test=(math.floor(0.4*(len(dataset)/7)))*7 # number of days to split the dataset in weekly windows\n",
    "train, test = split_dataset(values, n_test)\n",
    "# validate train data\n",
    "print(\"Training dataset shape :\", train.shape)\n",
    "print(\"First row :\", train[0, 0, :], \"; Last row :\" ,train[-1, -1, :])\n",
    "# validate test\n",
    "print(\"Testing dataset shape :\", test.shape)\n",
    "print(\"First row :\", test[0, 0, :], \"; Last row :\" ,test[-1, -1, :])"
   ]
  },
  {
   "cell_type": "markdown",
   "metadata": {},
   "source": [
    "## Walk-forward validation\n",
    "\n",
    "<p style=\"text-align: justify\">Models will be evaluated using a scheme called <a href=\"https://en.wikipedia.org/wiki/Walk_forward_optimization\">walk-forward validation</a>.</p>\n",
    "\n",
    "<p style=\"text-align: justify\">This is where a model is required to make a one week prediction, then the actual data for that week is made available to the model so that it can be used as the basis for making a prediction on the subsequent week. This is both realistic for how the model may be used in practice and beneficial to the models allowing them to make use of the best available data.</p>\n",
    "\n",
    "<p style=\"text-align: justify\">The forecasts made by the model are then evaluated against the test dataset using the previously defined <em>evaluate_forecasts()</em> function.</p>"
   ]
  },
  {
   "cell_type": "code",
   "execution_count": 26,
   "metadata": {},
   "outputs": [],
   "source": [
    "def evaluate_model(model_func, train, test, *args):\n",
    "    #history of weekly data\n",
    "    history = [x for x in train]\n",
    "    #walk forward validation\n",
    "    predictions = list()\n",
    "    for i in range(len(test)):\n",
    "    #weekly prediction\n",
    "        y_hat_seq = model_func(history, *args)\n",
    "    #store the preditions\n",
    "        predictions.append(y_hat_seq)\n",
    "    #update history data\n",
    "        history.append(test[i,:])\n",
    "    predictions = np.array(predictions)\n",
    "    # evaluate predictions days for each week\n",
    "    score, scores = evaluate_forecasts(test[:, :, 0], predictions)\n",
    "    return score, scores, predictions"
   ]
  },
  {
   "cell_type": "markdown",
   "metadata": {},
   "source": [
    "<p style=\"text-align: justify\">Once we have the evaluation for a model, we can summarize the performance.</p>\n",
    "\n",
    "<p style=\"text-align: justify\">The function below named <em>summarize_scores()</em> will display the performance of a model as a single line for easy comparison with other models.</p>"
   ]
  },
  {
   "cell_type": "code",
   "execution_count": 27,
   "metadata": {},
   "outputs": [],
   "source": [
    "#Summarize scores\n",
    "def summarize_scores(name, score, scores):\n",
    "    s_scores = ', '.join(['%.1f' % s for s in scores])\n",
    "    print('%s: Total RMSE --> [%.3f]; Daily RMSE: %s' % (name, score, s_scores))"
   ]
  },
  {
   "cell_type": "markdown",
   "metadata": {},
   "source": [
    "## Develop an Autoregression Model\n",
    "\n",
    "<p style=\"text-align: justify\">The <em>to_series()</em> function below will take the multivariate data divided into weekly windows and will return a single univariate time series.</p>"
   ]
  },
  {
   "cell_type": "code",
   "execution_count": 28,
   "metadata": {},
   "outputs": [],
   "source": [
    "# convert windows of weekly multivariate data into a series of closing price\n",
    "def to_series(data):\n",
    "    # extract just the price of XRP from each week\n",
    "    series = [week[:, 0] for week in data]\n",
    "    # flatten into a single series\n",
    "    series = np.array(series).flatten()\n",
    "    return series"
   ]
  },
  {
   "cell_type": "code",
   "execution_count": 38,
   "metadata": {},
   "outputs": [],
   "source": [
    "# Arima forecast for weekly prediction\n",
    "def arima_forecast(history, arima_order):\n",
    "    # convert history into a univariate series\n",
    "    series = to_series(history)\n",
    "    # define the model\n",
    "    model = ARIMA(series, order=arima_order)\n",
    "    # fit the model\n",
    "    model_fit = model.fit(disp=False)\n",
    "    # make forecast\n",
    "    yhat = model_fit.predict(len(series), len(series)+6)\n",
    "    return yhat"
   ]
  },
  {
   "cell_type": "markdown",
   "metadata": {},
   "source": [
    "<p style=\"text-align: justify\">The seasonal ARIMA model <a href=\"https://www.statsmodels.org/dev/generated/statsmodels.tsa.statespace.sarimax.SARIMAX.html\">SARIMA</a>, can also be implemented in a similar way as the ARIMA model. The <em>Sarima_forecast</em> function below implements the same procedure as above, with the <em>\"config\"</em> argument defining the configuration of the chosen SARIMA model. The seasonal ARIMA model takes more parameters than the regular ARIMA model, to characterize some seasonal trends that might be present inside the dataset.</p>"
   ]
  },
  {
   "cell_type": "code",
   "execution_count": 39,
   "metadata": {},
   "outputs": [],
   "source": [
    "# Sarima forecast for weekly prediction\n",
    "def Sarima_forecast(history, config):\n",
    "    order, sorder, trend = config\n",
    "    # convert history into a univariate series\n",
    "    series = to_series(history)\n",
    "    # define model\n",
    "    model = SARIMAX(series, order=order, seasonal_order=sorder, trend=trend, enforce_stationarity=True, enforce_invertibility=False)\n",
    "    # fit model\n",
    "    model_fit = model.fit(disp=False)\n",
    "    # make one step forecast\n",
    "    yhat = model_fit.predict(len(series), len(series)+6)\n",
    "    return yhat"
   ]
  },
  {
   "cell_type": "markdown",
   "metadata": {},
   "source": [
    "<p style=\"text-align: justify\">A grid search with hyperparameters has been carried out to find the most suitable ARIMA and SARIMA models for the current study. We find that <b>ARIMA(1,0,0)</b> and <b>SARIMA((0,1,0),(0,0,0,0),'n')</b> give the best results out of the different parameters tested, in this configuration.</p> "
   ]
  },
  {
   "cell_type": "code",
   "execution_count": 40,
   "metadata": {},
   "outputs": [],
   "source": [
    "# define the names and functions for the models we wish to evaluate\n",
    "models = dict()\n",
    "models['arima'] = arima_forecast\n",
    "models['Sarima'] = Sarima_forecast\n",
    "\n",
    "# define both parameters for the 2 models\n",
    "arima_order = (1,0,0)\n",
    "config_sarima = (0,1,0),(0,0,0,0),'n'\n",
    "\n",
    "# list creation to store the parameters\n",
    "orders = list()\n",
    "orders.extend([arima_order, config_sarima])\n",
    "\n",
    "# list containing the days of the week for plot on a particular day\n",
    "days = ['mon', 'tue', 'wed', 'thr', 'fri', 'sat', 'sun']"
   ]
  },
  {
   "cell_type": "markdown",
   "metadata": {},
   "source": [
    "<p style=\"text-align: justify\">After defining the different functions, it is now possible to evaluate the different algorithms, summarizing their scores and plotting the RMSE for each day of the week. The function <em>evaluate_algorithms()</em> below implements this procedure by looping over the dictionary of models, and saving the predictions of each model in a list of results, to be used for plots afterwards.</p>"
   ]
  },
  {
   "cell_type": "code",
   "execution_count": 41,
   "metadata": {},
   "outputs": [],
   "source": [
    "# evaluate each model\n",
    "def evaluate_algorithms(models, orders):\n",
    "    prediction_simulations = list()\n",
    "    for (name, func), order in zip(models.items(), orders): # loop on dictionary items and list orders at same time\n",
    "        # evaluate and get scores\n",
    "        score, scores, predictions = evaluate_model(func, train, test, order)\n",
    "        # summarize scores\n",
    "        summarize_scores(name, score, scores)\n",
    "        # plot scores\n",
    "        plt.plot(days, scores, marker='o', label=name)\n",
    "        # append the simulation results in a list\n",
    "        prediction_simulations.append(predictions)\n",
    "    # plot properties and showing\n",
    "    plt.ylabel('RMSE')\n",
    "    plt.legend()\n",
    "    plt.show()\n",
    "    return prediction_simulations"
   ]
  },
  {
   "cell_type": "code",
   "execution_count": 42,
   "metadata": {},
   "outputs": [],
   "source": [
    "# plot the forecasts in the context of the original dataset\n",
    "def plot_forecasts(models, train, test, prediction_simulations, colors ,n_test):\n",
    "    # reshape train and tests set --> flattened for each feature\n",
    "    train = np.reshape(train, (train.shape[0]*train.shape[1],train.shape[2]))\n",
    "    test = np.reshape(test, (test.shape[0]*test.shape[1],test.shape[2]))\n",
    "    \n",
    "    #plt.plot(train) # plot training dataset\n",
    "    plt.plot([None for i in train] + [x for x in test[:,0]], color = 'green', label=\"testing set\")\n",
    "    \n",
    "    for i, (name, model), color in zip(range(len(prediction_simulations)), models.items(), colors): # looping over all results and arguments together \n",
    "        predictions = np.array(prediction_simulations[i]).flatten() # flatten predictions\n",
    "        plt.plot([None for i in train] + [i for i in predictions] , color=color, label=name)\n",
    "     \n",
    "    # define different properties on the plot\n",
    "    plt.xlabel('Days')\n",
    "    plt.ylabel('Price ($)')\n",
    "    plt.suptitle(\"Evolution of price with time\",fontsize=18, fontweight='bold')\n",
    "    plt.legend()\n",
    "    # show the plot\n",
    "    plt.show()\n",
    "\n",
    "    \n",
    "residuals_model = dict() # initialize dictionary to store dataframes of residuals\n",
    "\n",
    "\n",
    "def plot_residuals(models, test, prediction_simulations, colors,n_test):\n",
    "    \n",
    "    \n",
    "    \n",
    "    # redefine train and test set without the weekly reshaping\n",
    "    test = np.reshape(test, (test.shape[0]*test.shape[1],test.shape[2])) # flatten test matrix\n",
    "    fig, (ax1, ax2, ax3) = plt.subplots(nrows=3, ncols=1, figsize = (8,8)) # figure creation with 2 subplots\n",
    "    \n",
    "    for i, (name, model), color in zip(range(len(prediction_simulations)), models.items(), colors): # looping over all results and arguments together\n",
    "        predictions = np.array(prediction_simulations[i]).flatten() # flatten predictions\n",
    "        residuals = [test[i,0] - predictions[i] for i in range(len(test))] # list comprehension to calculate residuals\n",
    "        residuals = pd.DataFrame(residuals) # creates a dataframe\n",
    "        residuals.plot(kind = 'line', ax = ax1, color=color) # line plot\n",
    "        residuals.hist(ax = ax2, bins = 30, color=color) # histogram\n",
    "        residuals.plot(kind = 'kde', ax = ax3, color=color) # kernel density estimation\n",
    "        \n",
    "        residuals_model[name] = residuals # store the residuals dataframe inside the dictionary\n",
    "        \n",
    "    # define different properties on the plot\n",
    "    ax1.set_ylabel('Residual value ($)')\n",
    "    ax1.set_xlabel('Time (days)')\n",
    "    ax2.set_ylabel('Counts')\n",
    "    plt.xlabel('Price ($)')\n",
    "    ax1.legend(['arima','Sarima'])\n",
    "    ax2.legend(['arima','Sarima'])\n",
    "    ax3.legend(['arima','Sarima'])\n",
    "    fig.suptitle(r'Evolution of the residuals', fontsize=18, fontweight='bold', y=0.92)\n",
    "    # show the plot\n",
    "    plt.show()"
   ]
  },
  {
   "cell_type": "markdown",
   "metadata": {},
   "source": [
    "<p style=\"text-align: justify\">The script below defines all the parameters necessary to run the simulation, split the dataset into a training and testing dataset, and call the <em>evaluate_algorithms()</em> function to make predictions on the testing dataset with ARIMA and SARIMA models.</p>"
   ]
  },
  {
   "cell_type": "code",
   "execution_count": 43,
   "metadata": {},
   "outputs": [
    {
     "name": "stdout",
     "output_type": "stream",
     "text": [
      "arima: Total RMSE --> [81790157.865]; Daily RMSE: 68310766.0, 53099673.1, 56190306.0, 73613032.5, 102688526.9, 113412885.4, 85777784.3\n",
      "Sarima: Total RMSE --> [86137462.372]; Daily RMSE: 78329931.8, 69345879.4, 59320281.4, 80997112.5, 101979916.3, 110486585.0, 91140501.1\n"
     ]
    },
    {
     "data": {
      "image/png": "[encoded data removed]",
      "text/plain": [
       "<Figure size 432x288 with 1 Axes>"
      ]
     },
     "metadata": {
      "needs_background": "light"
     },
     "output_type": "display_data"
    }
   ],
   "source": [
    "n_test =(math.floor(0.4*(len(dataset)/7)))*7 \n",
    "# define the names and functions for the models we wish to evaluate\n",
    "models = dict()\n",
    "models['arima'] = arima_forecast\n",
    "models['Sarima'] = Sarima_forecast\n",
    "\n",
    "arima_order = (1,0,0)\n",
    "config_sarima = (0,1,0),(0,0,0,0),'n'\n",
    "\n",
    "orders = list()\n",
    "orders.extend([arima_order, config_sarima])\n",
    "\n",
    "\n",
    "# Creating a list of colors to be passed as arguments for the plots\n",
    "colors = list()\n",
    "colors.extend(['red','blue'])\n",
    "\n",
    "#for n_test in n_tests:\n",
    "train, test = split_dataset(dataset.values, n_test)\n",
    "\n",
    "# evaluate the different algorithms defined in \"models\" dictionary\n",
    "prediction_simulations = evaluate_algorithms(models, orders)"
   ]
  },
  {
   "cell_type": "markdown",
   "metadata": {},
   "source": [
    "<p style=\"text-align: justify\">As seen on the figure above, and the printed scores, the ARIMA and SARIMA models performs similarly. This is expected, considering that we are using rolling windows of 7 days in which, a seasonal pattern should hardly exist. Considering the training and testing dataset as a whole for instance would lead to different results as seasonal patterns do exist, especially when considering cryptocurrencies or other financial assets.</p>\n",
    "\n",
    "<p style=\"text-align: justify\">The RMSE error also increases as the week goes on. Indeed, considering the models are autoregressive with a lag of 1, the error gradually increases through the week depending on the evolution of the price compared to monday.</p>\n",
    "\n"
   ]
  },
  {
   "cell_type": "code",
   "execution_count": 44,
   "metadata": {},
   "outputs": [
    {
     "data": {
      "image/png": "[encoded data removed]",
      "text/plain": [
       "<Figure size 432x288 with 1 Axes>"
      ]
     },
     "metadata": {
      "needs_background": "light"
     },
     "output_type": "display_data"
    }
   ],
   "source": [
    "plot_forecasts(models, train, test, prediction_simulations, colors ,n_test)"
   ]
  },
  {
   "cell_type": "code",
   "execution_count": 45,
   "metadata": {},
   "outputs": [
    {
     "data": {
      "image/png": "[encoded data removed]",
      "text/plain": [
       "<Figure size 576x576 with 3 Axes>"
      ]
     },
     "metadata": {
      "needs_background": "light"
     },
     "output_type": "display_data"
    }
   ],
   "source": [
    "plot_residuals(models, test, prediction_simulations, colors,n_test)"
   ]
  },
  {
   "cell_type": "markdown",
   "metadata": {},
   "source": [
    "<p style=\"text-align: justify\">The residuals evolution and statistics, shows a Gaussian distribution which located close to a mean of 0, which is something we need to achieve while considering the residuals of a prediction.</p>\n",
    "\n",
    "<p style=\"text-align: justify\">In the next cell, different statistics of the residuals are printed for both models. We can see, that despite having a mean close to 0, the standard deviation for both models is too high in comparison of the values at stake. One main reason is due to the big jump in  price after 1600 days (in 2017), which created some disruption in the models with some high residual values. "
   ]
  },
  {
   "cell_type": "code",
   "execution_count": 46,
   "metadata": {},
   "outputs": [
    {
     "name": "stdout",
     "output_type": "stream",
     "text": [
      "ARIMA stats :                   0\n",
      "count  8.190000e+02\n",
      "mean   1.902219e+07\n",
      "std    7.959599e+07\n",
      "min   -3.995636e+08\n",
      "25%   -1.767344e+07\n",
      "50%    1.904690e+05\n",
      "75%    3.658838e+07\n",
      "max    7.304462e+08\n",
      "\n",
      "SARIMA stats :                   0\n",
      "count  8.190000e+02\n",
      "mean  -2.359479e+06\n",
      "std    8.615776e+07\n",
      "min   -4.961859e+08\n",
      "25%   -3.369680e+07\n",
      "50%   -7.486193e+06\n",
      "75%    2.052239e+07\n",
      "max    6.330691e+08\n"
     ]
    }
   ],
   "source": [
    "print('ARIMA stats :', residuals_model['arima'].describe())\n",
    "print()\n",
    "print('SARIMA stats :', residuals_model['Sarima'].describe())"
   ]
  },
  {
   "cell_type": "code",
   "execution_count": null,
   "metadata": {},
   "outputs": [],
   "source": []
  },
  {
   "cell_type": "code",
   "execution_count": null,
   "metadata": {},
   "outputs": [],
   "source": []
  },
  {
   "cell_type": "code",
   "execution_count": null,
   "metadata": {},
   "outputs": [],
   "source": []
  }
 ],
 "metadata": {
  "kernelspec": {
   "display_name": "Python 3",
   "language": "python",
   "name": "python3"
  },
  "language_info": {
   "codemirror_mode": {
    "name": "ipython",
    "version": 3
   },
   "file_extension": ".py",
   "mimetype": "text/x-python",
   "name": "python",
   "nbconvert_exporter": "python",
   "pygments_lexer": "ipython3",
   "version": "3.7.1"
  }
 },
 "nbformat": 4,
 "nbformat_minor": 4
}
