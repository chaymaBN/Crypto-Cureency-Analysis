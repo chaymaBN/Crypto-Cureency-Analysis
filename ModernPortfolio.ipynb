{
 "cells": [
  {
   "cell_type": "code",
   "execution_count": 1,
   "metadata": {
    "colab": {
     "base_uri": "https://localhost:8080/",
     "height": 301
    },
    "colab_type": "code",
    "id": "KvpFbMg3pqz1",
    "outputId": "ba81e2a7-ddb4-4d82-b701-a7de18eadaf7"
   },
   "outputs": [
    {
     "name": "stdout",
     "output_type": "stream",
     "text": [
      "Requirement already satisfied: quandl in c:\\users\\chaym\\anaconda3\\lib\\site-packages (3.5.1)\n",
      "Requirement already satisfied: six in c:\\users\\chaym\\anaconda3\\lib\\site-packages (from quandl) (1.10.0)\n",
      "Requirement already satisfied: requests>=2.7.0 in c:\\users\\chaym\\anaconda3\\lib\\site-packages (from quandl) (2.13.0)\n",
      "Requirement already satisfied: pandas>=0.14 in c:\\users\\chaym\\anaconda3\\lib\\site-packages (from quandl) (1.0.1)\n",
      "Requirement already satisfied: python-dateutil in c:\\users\\chaym\\anaconda3\\lib\\site-packages (from quandl) (2.8.1)\n",
      "Requirement already satisfied: more-itertools in c:\\users\\chaym\\anaconda3\\lib\\site-packages (from quandl) (8.2.0)\n",
      "Requirement already satisfied: numpy>=1.8 in c:\\users\\chaym\\anaconda3\\lib\\site-packages (from quandl) (1.18.1)\n",
      "Requirement already satisfied: inflection>=0.3.1 in c:\\users\\chaym\\anaconda3\\lib\\site-packages (from quandl) (0.5.0)\n",
      "Requirement already satisfied: pytz>=2017.2 in c:\\users\\chaym\\anaconda3\\lib\\site-packages (from pandas>=0.14->quandl) (2019.3)\n",
      "Note: you may need to restart the kernel to use updated packages.\n"
     ]
    }
   ],
   "source": [
    "pip install quandl "
   ]
  },
  {
   "cell_type": "code",
   "execution_count": 3,
   "metadata": {
    "colab": {},
    "colab_type": "code",
    "id": "ReJs5alWb9UC"
   },
   "outputs": [
    {
     "name": "stderr",
     "output_type": "stream",
     "text": [
      "UsageError: Line magic function `%tensorflow_version` not found.\n"
     ]
    }
   ],
   "source": [
    "import quandl\n",
    "quandl.ApiConfig.api_key = \"nUqyP3u7T-rY9U8sL92P\"\n",
    "import numpy as np\n",
    "import pandas as pd\n",
    "# import regular libraries \n",
    "import pandas as pd\n",
    "import numpy as np\n",
    "import matplotlib.pyplot as plt\n",
    "import matplotlib.pyplot as plt\n",
    "from datetime import datetime\n",
    "import time\n",
    "import pymongo\n",
    "import requests\n",
    "from pandas.io.json import json_normalize\n",
    "from statistics import stdev \n",
    "import json\n",
    "import math\n",
    "\n",
    "# from SciPy packages\n",
    "from statsmodels.tsa.stattools import adfuller # adfuller test\n",
    "from statsmodels.graphics.tsaplots import plot_acf # autocorellation plot\n",
    "from statsmodels.graphics.tsaplots import plot_pacf # partial autocorellation plot\n",
    "\n",
    "# math function\n",
    "from math import sqrt\n",
    "\n",
    "# evaluation metrics\n",
    "from sklearn.metrics import mean_squared_error\n",
    "\n",
    "# statistics models\n",
    "import statsmodels.api as sm\n",
    "from statsmodels.tsa.arima_model import ARIMA\n",
    "from statsmodels.tsa.statespace.sarimax import SARIMAX\n",
    "\n",
    "# libraries to filter warnings in some algorithms\n",
    "import warnings\n",
    "warnings.filterwarnings(\"ignore\")\n",
    "\n",
    "%tensorflow_version 2.x\n",
    "import json\n",
    "import requests\n",
    "from keras.models import Sequential\n",
    "from keras.layers import Activation, Dense, Dropout, LSTM\n",
    "import matplotlib.pyplot as plt\n",
    "import numpy as np\n",
    "import pandas as pd\n",
    "import seaborn as sns\n",
    "from sklearn.metrics import mean_absolute_error\n",
    "%matplotlib inline\n",
    "# import regular libraries \n",
    "from datetime import datetime\n",
    "import time\n",
    "import pymongo\n",
    "import requests\n",
    "from pandas.io.json import json_normalize\n",
    "from statistics import stdev \n",
    "import json\n",
    "\n",
    "# from SciPy packages\n",
    "from statsmodels.tsa.stattools import adfuller # adfuller test\n",
    "from statsmodels.graphics.tsaplots import plot_acf # autocorellation plot\n",
    "from statsmodels.graphics.tsaplots import plot_pacf # partial autocorellation plot\n",
    "\n",
    "# math function\n",
    "from math import sqrt\n",
    "\n",
    "# evaluation metrics\n",
    "from sklearn.metrics import mean_squared_error\n",
    "\n",
    "# statistics models\n",
    "import statsmodels.api as sm\n",
    "from statsmodels.tsa.arima_model import ARIMA\n",
    "from statsmodels.tsa.statespace.sarimax import SARIMAX\n",
    "\n",
    "# libraries to filter warnings in some algorithms\n",
    "import warnings\n",
    "warnings.filterwarnings(\"ignore\")\n",
    "\n",
    "import pandas_datareader.data as web\n"
   ]
  },
  {
   "cell_type": "code",
   "execution_count": 4,
   "metadata": {
    "colab": {},
    "colab_type": "code",
    "id": "zXDG9Rk0pwbM"
   },
   "outputs": [],
   "source": [
    "myclient = pymongo.MongoClient(host = '139.162.167.213:27017',username=\"mongo-naascap\",password=\"n44$c4p\")\n",
    "cw = \"?api_key=XRSFO6KHEQC87X8UOYZJ\"\n",
    "\n",
    "ts='6h'\n",
    "market='coinbase-pro'\n",
    "quote='btc'\n",
    "\n",
    "\n",
    "\n",
    "def boxAsset(t,c):\n",
    "    cbp=myclient[\"Spot\"]\n",
    "    bn=cbp.collection_names()\n",
    "    l=[word.split(\"_\")[2] for word in bn if(word.startswith(t+\"_\"+c))]\n",
    "    l.sort()\n",
    "    return l\n",
    "\n",
    "def getAssetClose(t,c,a):\n",
    "    cbp=myclient[\"Spot\"]\n",
    "    db=cbp[t+\"_\"+c+\"_\"+a]\n",
    "    db=pd.DataFrame(list(db.find({},{\"_id\":1,\"close\":1}).sort(\"_id\",-1)))\n",
    "    db.rename(columns={'close':a},inplace=True)\n",
    "    db.index=[(datetime.fromtimestamp(i)) for i in db._id]\n",
    "    return db[a]\n",
    "\n",
    "\n",
    "def getMarketCloses(ts):\n",
    "    assets=boxAsset(ts,market)\n",
    "    closes=[getAssetClose(ts,market,asset) for asset in assets]\n",
    "    data = pd.concat(closes,join='outer',axis=1,sort=False)\n",
    "    date_format = \"%d/%m/%Y\"\n",
    "    date = datetime.strptime('01/01/2020', date_format)\n",
    "    data=data[[date<=dates for dates in data.index]]\n",
    "    return data\n",
    "\n",
    "\n",
    "def getColumns(TT):\n",
    "    df=pd.DataFrame([TT.columns,TT.columns]).T.set_axis(['id', 'name'], axis=1, inplace=False)\n",
    "    L=[0]*(len(df))\n",
    "    for i in (range(len(df))):\n",
    "        L[i]={'id':df[\"id\"][i],'name':df[\"name\"][i]}\n",
    "    return L\n",
    " \n",
    "def listToDropDown(l):\n",
    "    df=pd.DataFrame([l,l]).T.set_axis(['Value', 'Label'], axis=1, inplace=False)\n",
    "    df=df.sort_values(\"Value\").reset_index()\n",
    "    L=[0]*len(df)\n",
    "    for i in range(len(df)):\n",
    "        L[i]={'label':df[\"Label\"][i],'value':df[\"Value\"][i]}\n",
    "    return L\n",
    "\n",
    "\n",
    "\n",
    "\n",
    "def TableBaseFromSymbol():\n",
    "    URL=\"https://api.cryptowat.ch/pairs\"\n",
    "    res = requests.get(URL + cw)\n",
    "    T=json_normalize(json.loads(res.content.decode('utf-8'))[\"result\"])\n",
    "    T=T.loc[:,[\"symbol\",\"base.symbol\",\"quote.symbol\"]]\n",
    "    return T\n",
    "T = TableBaseFromSymbol()\n",
    "def BaseFromSymbol(T,sym):\n",
    "    if(sym in list(T.symbol)):\n",
    "        return T[\"base.symbol\"][T.symbol==sym].iloc[0]\n",
    "\n",
    "def QuoteFromSymbol(T,sym):\n",
    "    if(sym in list(T.symbol)):\n",
    "        return T[\"quote.symbol\"][T.symbol==sym].iloc[0]\n",
    "\n",
    "def getAllAssetCloseByTime(t):\n",
    "    cbp=myclient[\"Spot\"]\n",
    "    bn=cbp.collection_names()\n",
    "    bn=[word for word in bn if(word.split(\"_\")[1]== market and word.split(\"_\")[0]==t)]\n",
    "    df=pd.DataFrame()\n",
    "    l2=[]\n",
    "    l=list(set([word.split(\"_\")[2] for word in bn]))\n",
    "    TT=list(set([BaseFromSymbol(T,i) for i in l if(QuoteFromSymbol(T,i)) == quote]))\n",
    "    for asset in TT:\n",
    "        l1=[word for word in bn if(BaseFromSymbol(T,word.split(\"_\")[2])==asset and QuoteFromSymbol(T,word.split(\"_\")[2]) == quote)]\n",
    "        rr=[pd.DataFrame(list(cbp[i].find({},{ \"_id\": 1, \"close\": 1})),index=pd.DataFrame(list(cbp[i].find({},{ \"_id\": 1})))._id) for i in l1]\n",
    "        data = pd.concat([i[\"close\"] for i in rr],join='outer',axis=1,sort=False)\n",
    "        l2.append(data.mean(axis=1))\n",
    "\n",
    "    df=pd.concat(l2,axis=1)\n",
    "    df.columns=(TT)\n",
    "    df.index=[(datetime.fromtimestamp(i)) for i in df.index]\n",
    "    df = df.fillna(method = \"ffill\")\n",
    "    \n",
    "    return df\n",
    "\n",
    "def getAllAssetVolumeByTime(t):\n",
    "    cbp=myclient[\"Spot\"]\n",
    "    bn=cbp.collection_names()\n",
    "    bn=[word for word in bn if(word.split(\"_\")[1]== market and word.split(\"_\")[0]==t)]\n",
    "    df=pd.DataFrame()\n",
    "    l2=[]\n",
    "    l=list(set([word.split(\"_\")[2] for word in bn]))\n",
    "    TT=list(set([BaseFromSymbol(T,i) for i in l if(QuoteFromSymbol(T,i)) == quote]))\n",
    "    for asset in TT:\n",
    "        l1=[word for word in bn if(BaseFromSymbol(T,word.split(\"_\")[2])==asset and QuoteFromSymbol(T,word.split(\"_\")[2]) == quote)]\n",
    "        rr=[pd.DataFrame(list(cbp[i].find({},{ \"_id\": 1, \"volume_quote\": 1})),index=pd.DataFrame(list(cbp[i].find({},{ \"_id\": 1})))._id) for i in l1]\n",
    "        data = pd.concat([i[\"volume_quote\"] for i in rr],join='outer',axis=1,sort=False)\n",
    "        l2.append(data.mean(axis=1))\n",
    "\n",
    "    df=pd.concat(l2,axis=1)\n",
    "    df.columns=(TT)\n",
    "    df.index=[(datetime.fromtimestamp(i)) for i in df.index]\n",
    "    df = df.fillna(0)\n",
    "    \n",
    "    return df\n"
   ]
  },
  {
   "cell_type": "code",
   "execution_count": 5,
   "metadata": {
    "colab": {
     "base_uri": "https://localhost:8080/",
     "height": 214
    },
    "colab_type": "code",
    "id": "2J6Rxh0PpzUX",
    "outputId": "38074ebd-2c2e-49a1-9e18-49a1505cdf4d"
   },
   "outputs": [],
   "source": [
    "market='coinbase-pro' #'kraken'\n",
    "quote='usd' #'btc'\n",
    "ts='1d' # '5m' '2h' '6h' '12h' '1d'\n",
    "prices=getAllAssetCloseByTime(ts)\n",
    "df1=getAllAssetVolumeByTime('1d') "
   ]
  },
  {
   "cell_type": "code",
   "execution_count": 6,
   "metadata": {
    "colab": {},
    "colab_type": "code",
    "id": "fuJ4-Zljp9dd"
   },
   "outputs": [],
   "source": [
    "prices= prices.fillna(prices.mean())\n",
    "df1=df1.fillna(df1.mean())"
   ]
  },
  {
   "cell_type": "code",
   "execution_count": 7,
   "metadata": {
    "colab": {},
    "colab_type": "code",
    "id": "mUAVPMQKqIAU"
   },
   "outputs": [],
   "source": [
    "data=prices\n"
   ]
  },
  {
   "cell_type": "code",
   "execution_count": 8,
   "metadata": {},
   "outputs": [],
   "source": [
    "def get_Close_data(df1,ch):\n",
    "    df=df1[[ch]]\n",
    "    x=len(df)%7 \n",
    "    df=df.drop(df.index[0:x])\n",
    "    return df"
   ]
  },
  {
   "cell_type": "code",
   "execution_count": 9,
   "metadata": {},
   "outputs": [],
   "source": [
    "df= get_Close_data(prices,'btc')"
   ]
  },
  {
   "cell_type": "code",
   "execution_count": 10,
   "metadata": {},
   "outputs": [],
   "source": [
    "# Unix-time to \n",
    "df.Timestamp = pd.to_datetime(df.index, unit='s')\n",
    "\n",
    "# Resampling to daily frequency\n",
    "df.index = df.Timestamp\n",
    "df = df.resample('D').mean()\n",
    "\n",
    "# Resampling to monthly frequency\n",
    "df_month = df.resample('M').mean()\n",
    "\n",
    "# Resampling to annual frequency\n",
    "df_year = df.resample('A-DEC').mean()\n",
    "\n",
    "# Resampling to quarterly frequency\n",
    "df_Q = df.resample('Q-DEC').mean()"
   ]
  },
  {
   "cell_type": "code",
   "execution_count": 11,
   "metadata": {},
   "outputs": [
    {
     "data": {
      "text/html": [
       "<div>\n",
       "<style scoped>\n",
       "    .dataframe tbody tr th:only-of-type {\n",
       "        vertical-align: middle;\n",
       "    }\n",
       "\n",
       "    .dataframe tbody tr th {\n",
       "        vertical-align: top;\n",
       "    }\n",
       "\n",
       "    .dataframe thead th {\n",
       "        text-align: right;\n",
       "    }\n",
       "</style>\n",
       "<table border=\"1\" class=\"dataframe\">\n",
       "  <thead>\n",
       "    <tr style=\"text-align: right;\">\n",
       "      <th></th>\n",
       "      <th>btc</th>\n",
       "    </tr>\n",
       "  </thead>\n",
       "  <tbody>\n",
       "    <tr>\n",
       "      <th>2015-01-29</th>\n",
       "      <td>236.089996</td>\n",
       "    </tr>\n",
       "    <tr>\n",
       "      <th>2015-01-30</th>\n",
       "      <td>235.029999</td>\n",
       "    </tr>\n",
       "    <tr>\n",
       "      <th>2015-01-31</th>\n",
       "      <td>229.070007</td>\n",
       "    </tr>\n",
       "    <tr>\n",
       "      <th>2015-02-01</th>\n",
       "      <td>218.449997</td>\n",
       "    </tr>\n",
       "    <tr>\n",
       "      <th>2015-02-02</th>\n",
       "      <td>228.990005</td>\n",
       "    </tr>\n",
       "  </tbody>\n",
       "</table>\n",
       "</div>"
      ],
      "text/plain": [
       "                   btc\n",
       "2015-01-29  236.089996\n",
       "2015-01-30  235.029999\n",
       "2015-01-31  229.070007\n",
       "2015-02-01  218.449997\n",
       "2015-02-02  228.990005"
      ]
     },
     "execution_count": 11,
     "metadata": {},
     "output_type": "execute_result"
    }
   ],
   "source": [
    "df.head()"
   ]
  },
  {
   "cell_type": "code",
   "execution_count": 12,
   "metadata": {},
   "outputs": [
    {
     "data": {
      "image/png": "[encoded data removed]",
      "text/plain": [
       "<Figure size 1080x504 with 4 Axes>"
      ]
     },
     "metadata": {
      "needs_background": "light"
     },
     "output_type": "display_data"
    }
   ],
   "source": [
    "fig = plt.figure(figsize=[15, 7])\n",
    "plt.suptitle('Bitcoin exchanges, mean USD', fontsize=22)\n",
    "\n",
    "plt.subplot(221)\n",
    "plt.plot(df.btc, '-', label='By Days')\n",
    "plt.legend()\n",
    "\n",
    "plt.subplot(222)\n",
    "plt.plot(df_month.btc, '-', label='By Months')\n",
    "plt.legend()\n",
    "\n",
    "plt.subplot(223)\n",
    "plt.plot(df_Q.btc, '-', label='By Quarters')\n",
    "plt.legend()\n",
    "\n",
    "plt.subplot(224)\n",
    "plt.plot(df_year.btc, '-', label='By Years')\n",
    "plt.legend()\n",
    "\n",
    "# plt.tight_layout()\n",
    "plt.show()\n"
   ]
  },
  {
   "cell_type": "code",
   "execution_count": 16,
   "metadata": {},
   "outputs": [
    {
     "data": {
      "text/html": [
       "<div>\n",
       "<style scoped>\n",
       "    .dataframe tbody tr th:only-of-type {\n",
       "        vertical-align: middle;\n",
       "    }\n",
       "\n",
       "    .dataframe tbody tr th {\n",
       "        vertical-align: top;\n",
       "    }\n",
       "\n",
       "    .dataframe thead th {\n",
       "        text-align: right;\n",
       "    }\n",
       "</style>\n",
       "<table border=\"1\" class=\"dataframe\">\n",
       "  <thead>\n",
       "    <tr style=\"text-align: right;\">\n",
       "      <th></th>\n",
       "      <th>nmr</th>\n",
       "      <th>etc</th>\n",
       "      <th>dai</th>\n",
       "      <th>xrp</th>\n",
       "      <th>bch</th>\n",
       "      <th>comp</th>\n",
       "      <th>link</th>\n",
       "      <th>eth</th>\n",
       "      <th>eos</th>\n",
       "      <th>omg</th>\n",
       "      <th>...</th>\n",
       "      <th>ltc</th>\n",
       "      <th>algo</th>\n",
       "      <th>xtz</th>\n",
       "      <th>atom</th>\n",
       "      <th>xlm</th>\n",
       "      <th>knc</th>\n",
       "      <th>dash</th>\n",
       "      <th>mkr</th>\n",
       "      <th>oxt</th>\n",
       "      <th>zrx</th>\n",
       "    </tr>\n",
       "  </thead>\n",
       "  <tbody>\n",
       "    <tr>\n",
       "      <th>2015-01-27 01:00:00</th>\n",
       "      <td>45.062795</td>\n",
       "      <td>6.685603</td>\n",
       "      <td>1.010408</td>\n",
       "      <td>0.267916</td>\n",
       "      <td>514.481348</td>\n",
       "      <td>179.503462</td>\n",
       "      <td>4.110315</td>\n",
       "      <td>244.102313</td>\n",
       "      <td>3.65715</td>\n",
       "      <td>2.219902</td>\n",
       "      <td>...</td>\n",
       "      <td>64.568152</td>\n",
       "      <td>0.288303</td>\n",
       "      <td>2.019177</td>\n",
       "      <td>3.631205</td>\n",
       "      <td>0.078584</td>\n",
       "      <td>1.011281</td>\n",
       "      <td>76.236003</td>\n",
       "      <td>554.653932</td>\n",
       "      <td>0.218465</td>\n",
       "      <td>0.312238</td>\n",
       "    </tr>\n",
       "    <tr>\n",
       "      <th>2015-01-28 01:00:00</th>\n",
       "      <td>45.062795</td>\n",
       "      <td>6.685603</td>\n",
       "      <td>1.010408</td>\n",
       "      <td>0.267916</td>\n",
       "      <td>514.481348</td>\n",
       "      <td>179.503462</td>\n",
       "      <td>4.110315</td>\n",
       "      <td>244.102313</td>\n",
       "      <td>3.65715</td>\n",
       "      <td>2.219902</td>\n",
       "      <td>...</td>\n",
       "      <td>64.568152</td>\n",
       "      <td>0.288303</td>\n",
       "      <td>2.019177</td>\n",
       "      <td>3.631205</td>\n",
       "      <td>0.078584</td>\n",
       "      <td>1.011281</td>\n",
       "      <td>76.236003</td>\n",
       "      <td>554.653932</td>\n",
       "      <td>0.218465</td>\n",
       "      <td>0.312238</td>\n",
       "    </tr>\n",
       "    <tr>\n",
       "      <th>2015-01-29 01:00:00</th>\n",
       "      <td>45.062795</td>\n",
       "      <td>6.685603</td>\n",
       "      <td>1.010408</td>\n",
       "      <td>0.267916</td>\n",
       "      <td>514.481348</td>\n",
       "      <td>179.503462</td>\n",
       "      <td>4.110315</td>\n",
       "      <td>244.102313</td>\n",
       "      <td>3.65715</td>\n",
       "      <td>2.219902</td>\n",
       "      <td>...</td>\n",
       "      <td>64.568152</td>\n",
       "      <td>0.288303</td>\n",
       "      <td>2.019177</td>\n",
       "      <td>3.631205</td>\n",
       "      <td>0.078584</td>\n",
       "      <td>1.011281</td>\n",
       "      <td>76.236003</td>\n",
       "      <td>554.653932</td>\n",
       "      <td>0.218465</td>\n",
       "      <td>0.312238</td>\n",
       "    </tr>\n",
       "    <tr>\n",
       "      <th>2015-01-30 01:00:00</th>\n",
       "      <td>45.062795</td>\n",
       "      <td>6.685603</td>\n",
       "      <td>1.010408</td>\n",
       "      <td>0.267916</td>\n",
       "      <td>514.481348</td>\n",
       "      <td>179.503462</td>\n",
       "      <td>4.110315</td>\n",
       "      <td>244.102313</td>\n",
       "      <td>3.65715</td>\n",
       "      <td>2.219902</td>\n",
       "      <td>...</td>\n",
       "      <td>64.568152</td>\n",
       "      <td>0.288303</td>\n",
       "      <td>2.019177</td>\n",
       "      <td>3.631205</td>\n",
       "      <td>0.078584</td>\n",
       "      <td>1.011281</td>\n",
       "      <td>76.236003</td>\n",
       "      <td>554.653932</td>\n",
       "      <td>0.218465</td>\n",
       "      <td>0.312238</td>\n",
       "    </tr>\n",
       "    <tr>\n",
       "      <th>2015-01-31 01:00:00</th>\n",
       "      <td>45.062795</td>\n",
       "      <td>6.685603</td>\n",
       "      <td>1.010408</td>\n",
       "      <td>0.267916</td>\n",
       "      <td>514.481348</td>\n",
       "      <td>179.503462</td>\n",
       "      <td>4.110315</td>\n",
       "      <td>244.102313</td>\n",
       "      <td>3.65715</td>\n",
       "      <td>2.219902</td>\n",
       "      <td>...</td>\n",
       "      <td>64.568152</td>\n",
       "      <td>0.288303</td>\n",
       "      <td>2.019177</td>\n",
       "      <td>3.631205</td>\n",
       "      <td>0.078584</td>\n",
       "      <td>1.011281</td>\n",
       "      <td>76.236003</td>\n",
       "      <td>554.653932</td>\n",
       "      <td>0.218465</td>\n",
       "      <td>0.312238</td>\n",
       "    </tr>\n",
       "    <tr>\n",
       "      <th>...</th>\n",
       "      <td>...</td>\n",
       "      <td>...</td>\n",
       "      <td>...</td>\n",
       "      <td>...</td>\n",
       "      <td>...</td>\n",
       "      <td>...</td>\n",
       "      <td>...</td>\n",
       "      <td>...</td>\n",
       "      <td>...</td>\n",
       "      <td>...</td>\n",
       "      <td>...</td>\n",
       "      <td>...</td>\n",
       "      <td>...</td>\n",
       "      <td>...</td>\n",
       "      <td>...</td>\n",
       "      <td>...</td>\n",
       "      <td>...</td>\n",
       "      <td>...</td>\n",
       "      <td>...</td>\n",
       "      <td>...</td>\n",
       "      <td>...</td>\n",
       "    </tr>\n",
       "    <tr>\n",
       "      <th>2020-09-05 01:00:00</th>\n",
       "      <td>41.205900</td>\n",
       "      <td>6.053000</td>\n",
       "      <td>1.012866</td>\n",
       "      <td>0.250500</td>\n",
       "      <td>229.960000</td>\n",
       "      <td>193.200000</td>\n",
       "      <td>12.082120</td>\n",
       "      <td>388.720000</td>\n",
       "      <td>2.70200</td>\n",
       "      <td>3.540200</td>\n",
       "      <td>...</td>\n",
       "      <td>49.530000</td>\n",
       "      <td>0.365800</td>\n",
       "      <td>2.644500</td>\n",
       "      <td>5.065000</td>\n",
       "      <td>0.077685</td>\n",
       "      <td>1.328900</td>\n",
       "      <td>69.818000</td>\n",
       "      <td>571.157600</td>\n",
       "      <td>0.334700</td>\n",
       "      <td>0.461000</td>\n",
       "    </tr>\n",
       "    <tr>\n",
       "      <th>2020-09-06 01:00:00</th>\n",
       "      <td>42.851800</td>\n",
       "      <td>5.911000</td>\n",
       "      <td>1.020554</td>\n",
       "      <td>0.253200</td>\n",
       "      <td>230.580000</td>\n",
       "      <td>192.350000</td>\n",
       "      <td>12.565680</td>\n",
       "      <td>387.140000</td>\n",
       "      <td>3.12400</td>\n",
       "      <td>4.426700</td>\n",
       "      <td>...</td>\n",
       "      <td>50.070000</td>\n",
       "      <td>0.385900</td>\n",
       "      <td>2.795700</td>\n",
       "      <td>5.553000</td>\n",
       "      <td>0.082213</td>\n",
       "      <td>1.345100</td>\n",
       "      <td>72.862000</td>\n",
       "      <td>597.801600</td>\n",
       "      <td>0.378200</td>\n",
       "      <td>0.503029</td>\n",
       "    </tr>\n",
       "    <tr>\n",
       "      <th>2020-09-07 01:00:00</th>\n",
       "      <td>37.659400</td>\n",
       "      <td>5.727000</td>\n",
       "      <td>1.015076</td>\n",
       "      <td>0.234900</td>\n",
       "      <td>225.560000</td>\n",
       "      <td>157.500000</td>\n",
       "      <td>10.389410</td>\n",
       "      <td>328.270000</td>\n",
       "      <td>2.87700</td>\n",
       "      <td>3.742900</td>\n",
       "      <td>...</td>\n",
       "      <td>47.350000</td>\n",
       "      <td>0.342500</td>\n",
       "      <td>2.418700</td>\n",
       "      <td>4.913000</td>\n",
       "      <td>0.073542</td>\n",
       "      <td>1.178500</td>\n",
       "      <td>67.502000</td>\n",
       "      <td>513.049900</td>\n",
       "      <td>0.328900</td>\n",
       "      <td>0.425781</td>\n",
       "    </tr>\n",
       "    <tr>\n",
       "      <th>2020-09-08 01:00:00</th>\n",
       "      <td>38.291500</td>\n",
       "      <td>5.740000</td>\n",
       "      <td>1.019672</td>\n",
       "      <td>0.238800</td>\n",
       "      <td>228.610000</td>\n",
       "      <td>171.400000</td>\n",
       "      <td>12.593190</td>\n",
       "      <td>349.130000</td>\n",
       "      <td>2.88700</td>\n",
       "      <td>3.824100</td>\n",
       "      <td>...</td>\n",
       "      <td>47.830000</td>\n",
       "      <td>0.372800</td>\n",
       "      <td>2.512000</td>\n",
       "      <td>5.086000</td>\n",
       "      <td>0.077316</td>\n",
       "      <td>1.294900</td>\n",
       "      <td>69.607000</td>\n",
       "      <td>529.599700</td>\n",
       "      <td>0.337300</td>\n",
       "      <td>0.479448</td>\n",
       "    </tr>\n",
       "    <tr>\n",
       "      <th>2020-09-09 01:00:00</th>\n",
       "      <td>36.850800</td>\n",
       "      <td>5.793000</td>\n",
       "      <td>1.025348</td>\n",
       "      <td>0.241700</td>\n",
       "      <td>227.670000</td>\n",
       "      <td>179.240000</td>\n",
       "      <td>12.510140</td>\n",
       "      <td>349.630000</td>\n",
       "      <td>2.84100</td>\n",
       "      <td>3.616200</td>\n",
       "      <td>...</td>\n",
       "      <td>48.540000</td>\n",
       "      <td>0.367200</td>\n",
       "      <td>2.520100</td>\n",
       "      <td>4.955000</td>\n",
       "      <td>0.078106</td>\n",
       "      <td>1.226500</td>\n",
       "      <td>75.470000</td>\n",
       "      <td>523.135800</td>\n",
       "      <td>0.335200</td>\n",
       "      <td>0.454064</td>\n",
       "    </tr>\n",
       "  </tbody>\n",
       "</table>\n",
       "<p>2053 rows × 23 columns</p>\n",
       "</div>"
      ],
      "text/plain": [
       "                           nmr       etc       dai       xrp         bch  \\\n",
       "2015-01-27 01:00:00  45.062795  6.685603  1.010408  0.267916  514.481348   \n",
       "2015-01-28 01:00:00  45.062795  6.685603  1.010408  0.267916  514.481348   \n",
       "2015-01-29 01:00:00  45.062795  6.685603  1.010408  0.267916  514.481348   \n",
       "2015-01-30 01:00:00  45.062795  6.685603  1.010408  0.267916  514.481348   \n",
       "2015-01-31 01:00:00  45.062795  6.685603  1.010408  0.267916  514.481348   \n",
       "...                        ...       ...       ...       ...         ...   \n",
       "2020-09-05 01:00:00  41.205900  6.053000  1.012866  0.250500  229.960000   \n",
       "2020-09-06 01:00:00  42.851800  5.911000  1.020554  0.253200  230.580000   \n",
       "2020-09-07 01:00:00  37.659400  5.727000  1.015076  0.234900  225.560000   \n",
       "2020-09-08 01:00:00  38.291500  5.740000  1.019672  0.238800  228.610000   \n",
       "2020-09-09 01:00:00  36.850800  5.793000  1.025348  0.241700  227.670000   \n",
       "\n",
       "                           comp       link         eth      eos       omg  \\\n",
       "2015-01-27 01:00:00  179.503462   4.110315  244.102313  3.65715  2.219902   \n",
       "2015-01-28 01:00:00  179.503462   4.110315  244.102313  3.65715  2.219902   \n",
       "2015-01-29 01:00:00  179.503462   4.110315  244.102313  3.65715  2.219902   \n",
       "2015-01-30 01:00:00  179.503462   4.110315  244.102313  3.65715  2.219902   \n",
       "2015-01-31 01:00:00  179.503462   4.110315  244.102313  3.65715  2.219902   \n",
       "...                         ...        ...         ...      ...       ...   \n",
       "2020-09-05 01:00:00  193.200000  12.082120  388.720000  2.70200  3.540200   \n",
       "2020-09-06 01:00:00  192.350000  12.565680  387.140000  3.12400  4.426700   \n",
       "2020-09-07 01:00:00  157.500000  10.389410  328.270000  2.87700  3.742900   \n",
       "2020-09-08 01:00:00  171.400000  12.593190  349.130000  2.88700  3.824100   \n",
       "2020-09-09 01:00:00  179.240000  12.510140  349.630000  2.84100  3.616200   \n",
       "\n",
       "                     ...        ltc      algo       xtz      atom       xlm  \\\n",
       "2015-01-27 01:00:00  ...  64.568152  0.288303  2.019177  3.631205  0.078584   \n",
       "2015-01-28 01:00:00  ...  64.568152  0.288303  2.019177  3.631205  0.078584   \n",
       "2015-01-29 01:00:00  ...  64.568152  0.288303  2.019177  3.631205  0.078584   \n",
       "2015-01-30 01:00:00  ...  64.568152  0.288303  2.019177  3.631205  0.078584   \n",
       "2015-01-31 01:00:00  ...  64.568152  0.288303  2.019177  3.631205  0.078584   \n",
       "...                  ...        ...       ...       ...       ...       ...   \n",
       "2020-09-05 01:00:00  ...  49.530000  0.365800  2.644500  5.065000  0.077685   \n",
       "2020-09-06 01:00:00  ...  50.070000  0.385900  2.795700  5.553000  0.082213   \n",
       "2020-09-07 01:00:00  ...  47.350000  0.342500  2.418700  4.913000  0.073542   \n",
       "2020-09-08 01:00:00  ...  47.830000  0.372800  2.512000  5.086000  0.077316   \n",
       "2020-09-09 01:00:00  ...  48.540000  0.367200  2.520100  4.955000  0.078106   \n",
       "\n",
       "                          knc       dash         mkr       oxt       zrx  \n",
       "2015-01-27 01:00:00  1.011281  76.236003  554.653932  0.218465  0.312238  \n",
       "2015-01-28 01:00:00  1.011281  76.236003  554.653932  0.218465  0.312238  \n",
       "2015-01-29 01:00:00  1.011281  76.236003  554.653932  0.218465  0.312238  \n",
       "2015-01-30 01:00:00  1.011281  76.236003  554.653932  0.218465  0.312238  \n",
       "2015-01-31 01:00:00  1.011281  76.236003  554.653932  0.218465  0.312238  \n",
       "...                       ...        ...         ...       ...       ...  \n",
       "2020-09-05 01:00:00  1.328900  69.818000  571.157600  0.334700  0.461000  \n",
       "2020-09-06 01:00:00  1.345100  72.862000  597.801600  0.378200  0.503029  \n",
       "2020-09-07 01:00:00  1.178500  67.502000  513.049900  0.328900  0.425781  \n",
       "2020-09-08 01:00:00  1.294900  69.607000  529.599700  0.337300  0.479448  \n",
       "2020-09-09 01:00:00  1.226500  75.470000  523.135800  0.335200  0.454064  \n",
       "\n",
       "[2053 rows x 23 columns]"
      ]
     },
     "execution_count": 16,
     "metadata": {},
     "output_type": "execute_result"
    }
   ],
   "source": [
    "data"
   ]
  },
  {
   "cell_type": "markdown",
   "metadata": {},
   "source": [
    "## Modern Portfolio ##"
   ]
  },
  {
   "cell_type": "code",
   "execution_count": 14,
   "metadata": {
    "colab": {},
    "colab_type": "code",
    "id": "a8zlWJZyqOJx"
   },
   "outputs": [
    {
     "data": {
      "text/plain": [
       "<matplotlib.collections.PathCollection at 0x1ed2ef434c8>"
      ]
     },
     "execution_count": 14,
     "metadata": {},
     "output_type": "execute_result"
    },
    {
     "data": {
      "image/png": "[encoded data removed]",
      "text/plain": [
       "<Figure size 432x288 with 2 Axes>"
      ]
     },
     "metadata": {
      "needs_background": "light"
     },
     "output_type": "display_data"
    }
   ],
   "source": [
    "\n",
    "\n",
    "\n",
    "#list of stocks in portfolio\n",
    "stocks = ['nmr', 'zrx', 'link', 'bch', 'etc', 'btc', 'dai', 'dash', 'xrp', 'band',\n",
    "       'comp', 'rep', 'knc', 'omg', 'algo', 'mkr', 'atom', 'xlm', 'oxt', 'ltc',\n",
    "       'xtz', 'eth', 'eos']\n",
    "\n",
    "#download daily price data for each of the stocks in the portfolio\n",
    "#data = web.DataReader(stocks,data_source='yahoo',start='01/01/2010')['Adj Close']\n",
    "\n",
    "data.sort_index(inplace=True)\n",
    "\n",
    "#convert daily stock prices into daily returns\n",
    "returns = data.pct_change()\n",
    "returns.replace([np.inf, -np.inf], np.nan, inplace=True)\n",
    "returns= returns.fillna(returns.mean())\n",
    "\n",
    "#calculate mean daily return and covariance of daily returns\n",
    "mean_daily_returns = returns.mean()\n",
    "cov_matrix = returns.cov()\n",
    "\n",
    "#set number of runs of random portfolio weights\n",
    "num_portfolios = 25000\n",
    "\n",
    "#set up array to hold results\n",
    "#We have increased the size of the array to hold the weight values for each stock\n",
    "results = np.zeros((4+len(stocks)-1,num_portfolios))\n",
    "\n",
    "for i in range(num_portfolios):\n",
    "    #select random weights for portfolio holdings\n",
    "    weights = np.array(np.random.random(23))\n",
    "    #rebalance weights to sum to 1\n",
    "    weights /= np.sum(weights)\n",
    "    \n",
    "    #calculate portfolio return and volatility\n",
    "    portfolio_return = np.sum(mean_daily_returns * weights) * 252\n",
    "    portfolio_std_dev = np.sqrt(np.dot(weights.T,np.dot(cov_matrix, weights))) * np.sqrt(252)\n",
    "    \n",
    "    #store results in results array\n",
    "    results[0,i] = portfolio_return\n",
    "    results[1,i] = portfolio_std_dev\n",
    "    #store Sharpe Ratio (return / volatility) - risk free rate element excluded for simplicity\n",
    "    results[2,i] = results[0,i] / results[1,i]\n",
    "    #iterate through the weight vector and add data to results array\n",
    "    for j in range(len(weights)):\n",
    "        results[j+3,i] = weights[j]\n",
    "\n",
    "#convert results array to Pandas DataFrame\n",
    "results_frame = pd.DataFrame(results.T,columns=['ret','stdev','sharpe',stocks[0],stocks[1],stocks[2],stocks[3],stocks[4],stocks[5],stocks[6],stocks[7],\n",
    "                                                stocks[8],stocks[9],stocks[10],stocks[11],stocks[12],stocks[13],stocks[14],stocks[15],stocks[16],stocks[17],stocks[18],stocks[19],stocks[20],stocks[21],\n",
    "                                                stocks[22]])\n",
    "\n",
    "#locate position of portfolio with highest Sharpe Ratio\n",
    "max_sharpe_port = results_frame.iloc[results_frame['sharpe'].idxmax()]\n",
    "#locate positon of portfolio with minimum standard deviation\n",
    "min_vol_port = results_frame.iloc[results_frame['stdev'].idxmin()]\n",
    "\n",
    "#create scatter plot coloured by Sharpe Ratio\n",
    "plt.scatter(results_frame.stdev,results_frame.ret,c=results_frame.sharpe,cmap='RdYlBu')\n",
    "plt.xlabel('Volatility')\n",
    "plt.ylabel('Returns')\n",
    "plt.colorbar()\n",
    "#plot red star to highlight position of portfolio with highest Sharpe Ratio\n",
    "plt.scatter(max_sharpe_port[1],max_sharpe_port[0],marker=(5,1,0),color='r',s=1000)\n",
    "#plot green star to highlight position of minimum variance portfolio\n",
    "plt.scatter(min_vol_port[1],min_vol_port[0],marker=(5,1,0),color='g',s=1000)"
   ]
  },
  {
   "cell_type": "code",
   "execution_count": 15,
   "metadata": {
    "colab": {},
    "colab_type": "code",
    "id": "Pb0rLzKbqRiI"
   },
   "outputs": [],
   "source": [
    "import plotly.offline as pyo\n",
    "import plotly.graph_objs as go"
   ]
  },
  {
   "cell_type": "code",
   "execution_count": 15,
   "metadata": {
    "colab": {},
    "colab_type": "code",
    "id": "7cnB9ttVuejM"
   },
   "outputs": [],
   "source": [
    "p0=go.Scatter(x=results_frame.stdev,y=results_frame.ret)\n",
    "#p1=go.Scatter(x=max_sharpe_port[1],y=max_sharpe_port[0])\n",
    "#p2=go.Scatter(x=min_vol_port[1],y=min_vol_port[0])\n"
   ]
  },
  {
   "cell_type": "code",
   "execution_count": 16,
   "metadata": {
    "colab": {
     "base_uri": "https://localhost:8080/",
     "height": 163
    },
    "colab_type": "code",
    "id": "2ApPemV-trQF",
    "outputId": "61127c37-f788-4f54-f985-d5914d739c1a"
   },
   "outputs": [],
   "source": [
    "dt=[p0]"
   ]
  },
  {
   "cell_type": "code",
   "execution_count": 17,
   "metadata": {
    "colab": {
     "base_uri": "https://localhost:8080/",
     "height": 163
    },
    "colab_type": "code",
    "id": "Ie1tj6J3uMrn",
    "outputId": "54e33d18-41bb-48af-9064-1c13e1829954"
   },
   "outputs": [],
   "source": [
    "layout = go.Layout(title = \"Modern Portfolio\")"
   ]
  },
  {
   "cell_type": "code",
   "execution_count": 18,
   "metadata": {
    "colab": {
     "base_uri": "https://localhost:8080/",
     "height": 163
    },
    "colab_type": "code",
    "id": "I1Xf3pQzuS8T",
    "outputId": "f3f7c679-3594-4cc1-a022-2ff294c3d7d2"
   },
   "outputs": [],
   "source": [
    "fig = go.Figure(data=dt , layout=layout)\n"
   ]
  },
  {
   "cell_type": "code",
   "execution_count": 19,
   "metadata": {
    "colab": {
     "base_uri": "https://localhost:8080/",
     "height": 35
    },
    "colab_type": "code",
    "id": "x8N__fEtuWbk",
    "outputId": "7cb827fb-b9d9-4292-c871-fd1d6f1c3856"
   },
   "outputs": [
    {
     "data": {
      "text/plain": [
       "'page2.html'"
      ]
     },
     "execution_count": 19,
     "metadata": {},
     "output_type": "execute_result"
    }
   ],
   "source": [
    "pyo.plot(fig,filename=\"page2.html\")"
   ]
  },
  {
   "cell_type": "code",
   "execution_count": 20,
   "metadata": {},
   "outputs": [],
   "source": [
    "#pip install dash"
   ]
  },
  {
   "cell_type": "code",
   "execution_count": 21,
   "metadata": {
    "colab": {},
    "colab_type": "code",
    "id": "dnW4qcxkvk85"
   },
   "outputs": [],
   "source": [
    "import dash\n",
    "import dash_core_components as dcc\n",
    "import dash_html_components as html"
   ]
  },
  {
   "cell_type": "code",
   "execution_count": 22,
   "metadata": {
    "colab": {},
    "colab_type": "code",
    "id": "O47JGIMzvsqn"
   },
   "outputs": [],
   "source": [
    "#pip install dash"
   ]
  },
  {
   "cell_type": "code",
   "execution_count": 23,
   "metadata": {
    "colab": {},
    "colab_type": "code",
    "id": "7TPIKAFPvxD3"
   },
   "outputs": [],
   "source": [
    "app = dash.Dash()"
   ]
  },
  {
   "cell_type": "code",
   "execution_count": 24,
   "metadata": {
    "colab": {},
    "colab_type": "code",
    "id": "Z5_7WtDAvzyN"
   },
   "outputs": [],
   "source": [
    "app.layout = html.Div(children = [html.H1(\"Modern Portfolio\"),\n",
    "                                  dcc.Graph(figure = fig )])"
   ]
  },
  {
   "cell_type": "code",
   "execution_count": 25,
   "metadata": {
    "colab": {
     "base_uri": "https://localhost:8080/",
     "height": 221
    },
    "colab_type": "code",
    "id": "wYNHuxBmwCWR",
    "outputId": "1de6f650-1591-43c5-bb82-53bcc08a5bfe"
   },
   "outputs": [
    {
     "name": "stdout",
     "output_type": "stream",
     "text": [
      "Dash is running on http://127.0.0.1:8050/\n",
      "\n",
      "Dash is running on http://127.0.0.1:8050/\n",
      "\n",
      " * Serving Flask app \"__main__\" (lazy loading)\n",
      " * Environment: production\n",
      "   WARNING: This is a development server. Do not use it in a production deployment.\n",
      "   Use a production WSGI server instead.\n",
      " * Debug mode: off\n"
     ]
    },
    {
     "name": "stderr",
     "output_type": "stream",
     "text": [
      " * Running on http://127.0.0.1:8050/ (Press CTRL+C to quit)\n",
      "127.0.0.1 - - [01/Sep/2020 20:30:34] \"\u001b[37mGET / HTTP/1.1\u001b[0m\" 200 -\n",
      "127.0.0.1 - - [01/Sep/2020 20:30:35] \"\u001b[37mGET / HTTP/1.1\u001b[0m\" 200 -\n",
      "127.0.0.1 - - [01/Sep/2020 20:30:35] \"\u001b[37mGET /_dash-dependencies HTTP/1.1\u001b[0m\" 200 -\n",
      "127.0.0.1 - - [01/Sep/2020 20:30:35] \"\u001b[37mGET /_favicon.ico?v=1.15.0 HTTP/1.1\u001b[0m\" 200 -\n",
      "127.0.0.1 - - [01/Sep/2020 20:30:35] \"\u001b[37mGET /_dash-layout HTTP/1.1\u001b[0m\" 200 -\n"
     ]
    }
   ],
   "source": [
    "app.run_server(debug=False)"
   ]
  },
  {
   "cell_type": "code",
   "execution_count": null,
   "metadata": {},
   "outputs": [],
   "source": []
  },
  {
   "cell_type": "code",
   "execution_count": null,
   "metadata": {},
   "outputs": [],
   "source": []
  },
  {
   "cell_type": "code",
   "execution_count": null,
   "metadata": {},
   "outputs": [],
   "source": []
  }
 ],
 "metadata": {
  "colab": {
   "name": "Modern Portfolio.ipynb",
   "provenance": []
  },
  "kernelspec": {
   "display_name": "Python 3",
   "language": "python",
   "name": "python3"
  },
  "language_info": {
   "codemirror_mode": {
    "name": "ipython",
    "version": 3
   },
   "file_extension": ".py",
   "mimetype": "text/x-python",
   "name": "python",
   "nbconvert_exporter": "python",
   "pygments_lexer": "ipython3",
   "version": "3.7.1"
  }
 },
 "nbformat": 4,
 "nbformat_minor": 4
}
